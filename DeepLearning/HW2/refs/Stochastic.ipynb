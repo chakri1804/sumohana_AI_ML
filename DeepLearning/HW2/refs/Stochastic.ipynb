{
 "cells": [
  {
   "cell_type": "code",
   "execution_count": 1,
   "metadata": {},
   "outputs": [
    {
     "name": "stderr",
     "output_type": "stream",
     "text": [
      "/home/grumptitan/.local/lib/python3.5/site-packages/sklearn/preprocessing/_encoders.py:368: FutureWarning: The handling of integer data will change in version 0.22. Currently, the categories are determined based on the range [0, max(values)], while in the future they will be determined based on the unique values.\n",
      "If you want the future behaviour and silence this warning, you can specify \"categories='auto'\".\n",
      "In case you used a LabelEncoder before this OneHotEncoder to convert the categories to integers, then you can now use the OneHotEncoder directly.\n",
      "  warnings.warn(msg, FutureWarning)\n"
     ]
    }
   ],
   "source": [
    "import numpy as np\n",
    "import matplotlib.pyplot as plt\n",
    "from sklearn import datasets\n",
    "from sklearn.model_selection import train_test_split\n",
    "from sklearn.metrics import accuracy_score\n",
    "from sklearn.utils import shuffle\n",
    "from sklearn.datasets import load_iris\n",
    "from sklearn.preprocessing import OneHotEncoder\n",
    "\n",
    "iris_data = load_iris() \n",
    "x = iris_data.data\n",
    "y_ = iris_data.target.reshape(-1, 1)\n",
    "\n",
    "encoder = OneHotEncoder(sparse=False)\n",
    "\n",
    "x_train, x_test, y_train, y_test = train_test_split(x,y_,test_size=0.2)\n",
    "y_train = encoder.fit_transform(y_train)"
   ]
  },
  {
   "cell_type": "code",
   "execution_count": 7,
   "metadata": {},
   "outputs": [],
   "source": [
    "hidden_1 = 10\n",
    "hidden_2 = 10\n",
    "input_size = 4\n",
    "output_size = 3\n",
    "np.random.seed(40)\n",
    "\n",
    "def relu(x):\n",
    "    x[x<0]=0.0\n",
    "    return x\n",
    "\n",
    "def diff_relu(x):\n",
    "    x[x>0]=1.0\n",
    "    x[x<=0]=0.0\n",
    "    return x\n",
    "\n",
    "def softmax(x):\n",
    "    x = x/np.max(x)\n",
    "    return np.exp(x)/np.sum(np.exp(x))\n",
    "\n",
    "# Glorot initialization\n",
    "\n",
    "lim1 = (6.0 / (4.0 + 10.0))**0.5\n",
    "lim2 = (6.0 / (10.0 + 10.0))**0.5\n",
    "lim3 = (6.0 / (10.0 + 3.0))**0.5\n",
    "\n",
    "blim1 = (6.0 / (1.0 + 10.0))**0.5\n",
    "blim2 = (6.0 / (1.0 + 10.0))**0.5\n",
    "blim3 = (6.0 / (1.0 + 3.0))**0.5"
   ]
  },
  {
   "cell_type": "code",
   "execution_count": 15,
   "metadata": {
    "scrolled": true
   },
   "outputs": [
    {
     "name": "stdout",
     "output_type": "stream",
     "text": [
      "0 [159.8321768]\n"
     ]
    }
   ],
   "source": [
    "np.random.seed(42)\n",
    "W1 = np.random.uniform(-lim1,lim1,(hidden_1,input_size))\n",
    "Bi1 = np.random.uniform(-blim1,blim1,(hidden_1,1))\n",
    "W2 = np.random.uniform(-lim2,lim2,(hidden_2,hidden_1))\n",
    "Bi2 = np.random.uniform(-blim2,blim2,(hidden_2,1))\n",
    "W3 = np.random.uniform(-lim3,lim3,(output_size,hidden_2))\n",
    "Bi3 = np.random.uniform(-blim3,blim3,(output_size,1))\n",
    "\n",
    "epochs = 1\n",
    "lr = 1e-9\n",
    "for i in range(epochs):\n",
    "    x,y_train = shuffle(x_train,y_train,random_state = 42)\n",
    "    loss = 0\n",
    "    for j in range(len(x)):\n",
    "        w1 = w2 = w3 = 0\n",
    "        b1 = b2 = b3 = 0\n",
    "        #forward pass\n",
    "        t = x[j]\n",
    "        t = t[..., np.newaxis]\n",
    "        hid1 = layer(t,W1,Bi1)\n",
    "        rel_hid1 = relu(hid1.reshape(-1,1))\n",
    "        hid2 = layer(rel_hid1,W2,Bi2)\n",
    "        rel_hid2  = relu(hid2.reshape(-1,1))\n",
    "        out = layer(rel_hid2,W3,Bi3)\n",
    "        y = softmax(out.reshape(-1,1))\n",
    "        #BACKPROPAGATION\n",
    "        del1 = y - y_train[j].reshape(y.shape)\n",
    "        del1 = del1.reshape(y.shape)\n",
    "        s1 = np.matmul(W3.T,del1) * diff_relu(hid2)\n",
    "        s2 = np.matmul(W2.T,s1) * diff_relu(hid1)\n",
    "        \n",
    "        b3 = del1.reshape(Bi3.shape)\n",
    "        w3 = np.matmul(del1,rel_hid2.T)\n",
    "        b2 = s1.reshape(Bi2.shape)\n",
    "        w2 = np.matmul(s1,rel_hid1.T)\n",
    "        b1 = s2.reshape(Bi1.shape)\n",
    "        w1 = np.matmul(s2,(t.reshape(-1,1)).T)\n",
    "        \n",
    "        loss -= np.log(y[np.argmax(y_train[j])])\n",
    "        \n",
    "        W1 -= lr*w1\n",
    "        W2 -= lr*w2\n",
    "        W3 -= lr*w3\n",
    "        Bi1 -= lr*b1\n",
    "        Bi2 -= lr*b2\n",
    "        Bi3 -= lr*b3\n",
    "        \n",
    "    if i%50 == 0:\n",
    "        print(i,loss)\n",
    "    loss = 0"
   ]
  },
  {
   "cell_type": "code",
   "execution_count": 10,
   "metadata": {},
   "outputs": [],
   "source": [
    "y_pred = []\n",
    "for j in range(len(x_test)):\n",
    "    hid1 = layer(x_test[j],W1,Bi1)\n",
    "    rel_hid1 = relu(hid1)\n",
    "    hid2 = layer(rel_hid1,W2,Bi2)\n",
    "    rel_hid2  = relu(hid2)\n",
    "    out = layer(rel_hid2,W3,Bi3)\n",
    "    y = softmax(out)\n",
    "    y_pred.append(y)"
   ]
  },
  {
   "cell_type": "code",
   "execution_count": 13,
   "metadata": {},
   "outputs": [
    {
     "name": "stdout",
     "output_type": "stream",
     "text": [
      "[10, 10, 10, 10, 10, 10, 10, 10, 10, 10, 10, 10, 10, 10, 10, 10, 10, 10, 10, 10, 10, 10, 10, 10, 10, 10, 10, 10, 10, 10]\n",
      "(30, 3, 10)\n",
      "[[0. 1. 0.]\n",
      " [1. 0. 0.]\n",
      " [0. 0. 1.]\n",
      " [1. 0. 0.]\n",
      " [0. 1. 0.]\n",
      " [0. 0. 1.]\n",
      " [1. 0. 0.]\n",
      " [1. 0. 0.]\n",
      " [0. 1. 0.]\n",
      " [1. 0. 0.]\n",
      " [0. 0. 1.]\n",
      " [0. 1. 0.]\n",
      " [0. 0. 1.]\n",
      " [0. 0. 1.]\n",
      " [1. 0. 0.]\n",
      " [0. 0. 1.]\n",
      " [0. 1. 0.]\n",
      " [0. 1. 0.]\n",
      " [0. 1. 0.]\n",
      " [1. 0. 0.]\n",
      " [0. 0. 1.]\n",
      " [1. 0. 0.]\n",
      " [0. 1. 0.]\n",
      " [0. 1. 0.]\n",
      " [1. 0. 0.]\n",
      " [1. 0. 0.]\n",
      " [1. 0. 0.]\n",
      " [0. 0. 1.]\n",
      " [0. 1. 0.]\n",
      " [0. 0. 1.]]\n"
     ]
    },
    {
     "ename": "ValueError",
     "evalue": "Classification metrics can't handle a mix of multilabel-indicator and binary targets",
     "output_type": "error",
     "traceback": [
      "\u001b[0;31m---------------------------------------------------------------------------\u001b[0m",
      "\u001b[0;31mValueError\u001b[0m                                Traceback (most recent call last)",
      "\u001b[0;32m<ipython-input-13-b0a60e95a928>\u001b[0m in \u001b[0;36m<module>\u001b[0;34m\u001b[0m\n\u001b[1;32m      7\u001b[0m \u001b[0mprint\u001b[0m\u001b[0;34m(\u001b[0m\u001b[0ma\u001b[0m\u001b[0;34m.\u001b[0m\u001b[0mshape\u001b[0m\u001b[0;34m)\u001b[0m\u001b[0;34m\u001b[0m\u001b[0m\n\u001b[1;32m      8\u001b[0m \u001b[0mprint\u001b[0m\u001b[0;34m(\u001b[0m\u001b[0my_test\u001b[0m\u001b[0;34m)\u001b[0m\u001b[0;34m\u001b[0m\u001b[0m\n\u001b[0;32m----> 9\u001b[0;31m \u001b[0mprint\u001b[0m\u001b[0;34m(\u001b[0m\u001b[0maccuracy_score\u001b[0m\u001b[0;34m(\u001b[0m\u001b[0my_test\u001b[0m\u001b[0;34m,\u001b[0m \u001b[0meww\u001b[0m\u001b[0;34m)\u001b[0m\u001b[0;34m)\u001b[0m\u001b[0;34m\u001b[0m\u001b[0m\n\u001b[0m",
      "\u001b[0;32m~/.local/lib/python3.5/site-packages/sklearn/metrics/classification.py\u001b[0m in \u001b[0;36maccuracy_score\u001b[0;34m(y_true, y_pred, normalize, sample_weight)\u001b[0m\n\u001b[1;32m    174\u001b[0m \u001b[0;34m\u001b[0m\u001b[0m\n\u001b[1;32m    175\u001b[0m     \u001b[0;31m# Compute accuracy for each possible representation\u001b[0m\u001b[0;34m\u001b[0m\u001b[0;34m\u001b[0m\u001b[0m\n\u001b[0;32m--> 176\u001b[0;31m     \u001b[0my_type\u001b[0m\u001b[0;34m,\u001b[0m \u001b[0my_true\u001b[0m\u001b[0;34m,\u001b[0m \u001b[0my_pred\u001b[0m \u001b[0;34m=\u001b[0m \u001b[0m_check_targets\u001b[0m\u001b[0;34m(\u001b[0m\u001b[0my_true\u001b[0m\u001b[0;34m,\u001b[0m \u001b[0my_pred\u001b[0m\u001b[0;34m)\u001b[0m\u001b[0;34m\u001b[0m\u001b[0m\n\u001b[0m\u001b[1;32m    177\u001b[0m     \u001b[0mcheck_consistent_length\u001b[0m\u001b[0;34m(\u001b[0m\u001b[0my_true\u001b[0m\u001b[0;34m,\u001b[0m \u001b[0my_pred\u001b[0m\u001b[0;34m,\u001b[0m \u001b[0msample_weight\u001b[0m\u001b[0;34m)\u001b[0m\u001b[0;34m\u001b[0m\u001b[0m\n\u001b[1;32m    178\u001b[0m     \u001b[0;32mif\u001b[0m \u001b[0my_type\u001b[0m\u001b[0;34m.\u001b[0m\u001b[0mstartswith\u001b[0m\u001b[0;34m(\u001b[0m\u001b[0;34m'multilabel'\u001b[0m\u001b[0;34m)\u001b[0m\u001b[0;34m:\u001b[0m\u001b[0;34m\u001b[0m\u001b[0m\n",
      "\u001b[0;32m~/.local/lib/python3.5/site-packages/sklearn/metrics/classification.py\u001b[0m in \u001b[0;36m_check_targets\u001b[0;34m(y_true, y_pred)\u001b[0m\n\u001b[1;32m     79\u001b[0m     \u001b[0;32mif\u001b[0m \u001b[0mlen\u001b[0m\u001b[0;34m(\u001b[0m\u001b[0my_type\u001b[0m\u001b[0;34m)\u001b[0m \u001b[0;34m>\u001b[0m \u001b[0;36m1\u001b[0m\u001b[0;34m:\u001b[0m\u001b[0;34m\u001b[0m\u001b[0m\n\u001b[1;32m     80\u001b[0m         raise ValueError(\"Classification metrics can't handle a mix of {0} \"\n\u001b[0;32m---> 81\u001b[0;31m                          \"and {1} targets\".format(type_true, type_pred))\n\u001b[0m\u001b[1;32m     82\u001b[0m \u001b[0;34m\u001b[0m\u001b[0m\n\u001b[1;32m     83\u001b[0m     \u001b[0;31m# We can't have more than one value on y_type => The set is no more needed\u001b[0m\u001b[0;34m\u001b[0m\u001b[0;34m\u001b[0m\u001b[0m\n",
      "\u001b[0;31mValueError\u001b[0m: Classification metrics can't handle a mix of multilabel-indicator and binary targets"
     ]
    }
   ],
   "source": [
    "a = np.array(y_pred)\n",
    "a = np.squeeze(a)\n",
    "eww = []\n",
    "for i in a:\n",
    "    eww.append(np.argmax(i))\n",
    "print(eww)\n",
    "print(y_test)\n",
    "print(accuracy_score(y_test, eww))"
   ]
  }
 ],
 "metadata": {
  "kernelspec": {
   "display_name": "Python 3",
   "language": "python",
   "name": "python3"
  },
  "language_info": {
   "codemirror_mode": {
    "name": "ipython",
    "version": 3
   },
   "file_extension": ".py",
   "mimetype": "text/x-python",
   "name": "python",
   "nbconvert_exporter": "python",
   "pygments_lexer": "ipython3",
   "version": "3.5.2"
  }
 },
 "nbformat": 4,
 "nbformat_minor": 2
}
