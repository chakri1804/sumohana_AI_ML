{
 "cells": [
  {
   "cell_type": "code",
   "execution_count": 1,
   "metadata": {},
   "outputs": [],
   "source": [
    "import tensorflow as tf\n",
    "import numpy as np\n",
    "import matplotlib.pyplot as plt \n",
    "import math\n",
    "mnist = tf.keras.datasets.mnist\n",
    "\n",
    "(x_train, y_train),(x_test, y_test) = mnist.load_data()\n",
    "x_train, x_test = x_train / 255.0, x_test / 255.0\n"
   ]
  },
  {
   "cell_type": "code",
   "execution_count": 2,
   "metadata": {},
   "outputs": [
    {
     "name": "stdout",
     "output_type": "stream",
     "text": [
      "(28, 28, 1)\n"
     ]
    }
   ],
   "source": [
    "x_train = x_train.reshape(60000,28,28,1)\n",
    "print(x_train[0].shape)"
   ]
  },
  {
   "cell_type": "code",
   "execution_count": 3,
   "metadata": {},
   "outputs": [
    {
     "data": {
      "image/png": "[encoded data removed]",
      "text/plain": [
       "<Figure size 432x288 with 1 Axes>"
      ]
     },
     "metadata": {
      "needs_background": "light"
     },
     "output_type": "display_data"
    }
   ],
   "source": [
    "def one_hot(a,num_classes):\n",
    "    return np.squeeze(np.eye(num_classes)[a.reshape(-1)])\n",
    "y_train = one_hot(y_train,10)\n",
    "y_test = one_hot(y_test,10)\n",
    "img = x_train[0]\n",
    "img = np.array(img)\n",
    "plt.imshow(img[:,:,0],cmap=\"gray\")\n",
    "plt.show()"
   ]
  },
  {
   "cell_type": "code",
   "execution_count": 4,
   "metadata": {},
   "outputs": [],
   "source": [
    "def padding(arr,ker_rows,ker_cols,stride):\n",
    "    row_pad_size = int(math.ceil((arr.shape[0]*(stride[0]-1)+ker_rows-stride[0])/2))  \n",
    "    col_pad_size = int(math.ceil((arr.shape[1]*(stride[1]-1)+ker_rows-stride[1])/2))\n",
    "    tmp1 = np.zeros((row_pad_size,arr.shape[1],arr.shape[2]))\n",
    "    arr = np.vstack((tmp1,arr,tmp1))\n",
    "    tmp2 = np.zeros((arr.shape[0],col_pad_size,arr.shape[2]))\n",
    "    arr = np.hstack((tmp2,arr,tmp2))\n",
    "    return arr\n",
    "\n",
    "def conv_function(arr,ker,stride,activation):\n",
    "    ker_rows = ker.shape[0]\n",
    "    ker_cols = ker.shape[1]\n",
    "    i=0\n",
    "    j=0\n",
    "    k=0\n",
    "    l=0\n",
    "    new_shape = (int((arr.shape[0]-ker_rows)/stride[0])+1,int((arr.shape[1]-ker_cols)/stride[1])+1,1)\n",
    "    out = np.zeros(new_shape)\n",
    "#     bias = np.random.normal(0,1,new_shape)\n",
    "    while(1):\n",
    "        if ker_rows+i > arr.shape[0]:\n",
    "            break\n",
    "        else:\n",
    "            while(1):\n",
    "                if ker_cols+j > arr.shape[1]: ### we reached the end of set corresponding to the current row\n",
    "                    j=0\n",
    "                    l=0\n",
    "                    i=i+stride[0]\n",
    "                    k=k+1\n",
    "                    break\n",
    "                else:\n",
    "                    temp = arr[i:ker_rows+i,j:ker_cols+j,:]\n",
    "                    out[k][l][0] = np.sum(temp*ker)\n",
    "                    if activation == \"relu\":\n",
    "                        out[k][l][0] = max(0,out[k][l][0])\n",
    "                    j=j+stride[1]\n",
    "                    l=l+1\n",
    "    return out\n",
    "\n",
    "\n",
    "# ### Q2 (The pooling function)\n",
    "\n",
    "# In[5]:\n",
    "\n",
    "\n",
    "def pool(arr,ker_shape,stride):\n",
    "    ker_rows = ker_shape[0]\n",
    "    ker_cols = ker_shape[1]\n",
    "    i=0\n",
    "    j=0\n",
    "    k=0\n",
    "    l=0\n",
    "    mask = np.zeros(arr.shape)\n",
    "    new_shape = (int((arr.shape[0]-ker_rows)/stride[0])+1,int((arr.shape[1]-ker_cols)/stride[1])+1)\n",
    "    out = np.zeros(new_shape)\n",
    "    while(1):\n",
    "        if ker_rows+i > arr.shape[0]:\n",
    "            break\n",
    "        else:\n",
    "            while(1):\n",
    "                if ker_cols+j > arr.shape[1]: ### we reached the end of set corresponding to the current row\n",
    "                    j=0\n",
    "                    l=0\n",
    "                    i=i+stride[0]\n",
    "                    k=k+1\n",
    "                    break\n",
    "                else:\n",
    "                    temp = arr[i:ker_rows+i,j:ker_cols+j]\n",
    "                    temp1 = temp.reshape(-1,1)\n",
    "                    temp2 = mask[i:ker_rows+i,j:ker_cols+j]\n",
    "                    temp2 = temp2.reshape(-1,1)\n",
    "                    temp2[np.argmax(temp1)] = 1\n",
    "                    mask[i:ker_rows+i,j:ker_cols+j] = temp2.reshape((ker_rows,ker_cols))\n",
    "                    out[k][l] = np.max(temp)\n",
    "                    j=j+stride[1]\n",
    "                    l=l+1\n",
    "    return (out,mask)\n",
    "\n",
    "def conv_volume(arr,kernel,stride,activation):\n",
    "    depth  = kernel.shape[0]\n",
    "    temp1  = []\n",
    "    i=0\n",
    "    while(i<depth):\n",
    "        temp = conv_function(arr,kernel[i],stride,activation)\n",
    "        temp1.append(temp)\n",
    "        i=i+1\n",
    "    temp1 = np.array(temp1)\n",
    "    shape = temp1.shape\n",
    "    temp1 = temp1.reshape(shape[0],shape[1],shape[2])\n",
    "    output_volume = np.zeros((shape[1],shape[2],shape[0]))\n",
    "    for i in range(depth):\n",
    "        output_volume[:,:,i] = temp1[i,:,:]\n",
    "    return output_volume\n",
    "\n",
    "def pool_volume(arr,ker_shape,stride):\n",
    "    depth = arr.shape[2]\n",
    "    temp1 = []\n",
    "    masks = []\n",
    "    i=0\n",
    "    while(i<depth):\n",
    "        temp,mask = pool(arr[:,:,i],ker_shape,stride)\n",
    "        temp1.append(temp)\n",
    "        masks.append(mask)\n",
    "        i=i+1\n",
    "    temp1 = np.array(temp1)\n",
    "    masks = np.array(masks)\n",
    "    shape = temp1.shape\n",
    "    shape1 = masks.shape\n",
    "    temp1 = temp1.reshape(shape[0],shape[1],shape[2])\n",
    "    masks = masks.reshape(shape1[0],shape1[1],shape1[2])\n",
    "    output_volume = np.zeros((shape[1],shape[2],shape[0]))\n",
    "    masks_volume = np.zeros((shape1[1],shape1[2],shape1[0]))\n",
    "    for i in range(depth):\n",
    "        output_volume[:,:,i] = temp1[i,:,:]\n",
    "        masks_volume[:,:,i] = masks[i,:,:] \n",
    "    return (output_volume,masks_volume)\n",
    "\n",
    "\n",
    "def unravel_fun(arr,weights):\n",
    "    output = np.matmul(weights,arr)\n",
    "    return output\n",
    "\n",
    "def softmax(arr):\n",
    "    arr = arr/np.max(arr)\n",
    "    return np.exp(arr)/(np.sum(np.exp(arr),axis=0))\n",
    "\n",
    "def fcn_layer(arr,weights,bias,num_nodes,activation):\n",
    "    output = np.matmul(weights,arr) + bias\n",
    "    if activation == \"softmax\":\n",
    "        output = softmax(output)\n",
    "    return output\n"
   ]
  },
  {
   "cell_type": "code",
   "execution_count": 5,
   "metadata": {},
   "outputs": [],
   "source": [
    "def conv_backprop(arr,ker):\n",
    "    ker_rows = ker.shape[0]\n",
    "    ker_cols = ker.shape[1]\n",
    "    ker = ker.reshape(ker_rows,ker_cols,1)\n",
    "    i=0\n",
    "    j=0\n",
    "    k=0\n",
    "    l=0\n",
    "    new_shape = (int((arr.shape[0]-ker_rows))+1,int((arr.shape[1]-ker_cols))+1,arr.shape[2])\n",
    "    out = np.zeros(new_shape)\n",
    "    while(1):\n",
    "        if ker_rows+i > arr.shape[0]:\n",
    "            break\n",
    "        else:\n",
    "            while(1):\n",
    "                if ker_cols+j > arr.shape[1]: ### we reached the end of set corresponding to the current row\n",
    "                    j=0\n",
    "                    l=0\n",
    "                    i=i+1\n",
    "                    k=k+1\n",
    "                    break\n",
    "                else:\n",
    "                    temp = arr[i:ker_rows+i,j:ker_cols+j,:]\n",
    "                    tmp = np.sum(temp*ker,axis=1)\n",
    "                    out[k][l] = np.sum(tmp,axis=0)\n",
    "                    j=j+1\n",
    "                    l=l+1\n",
    "    return out\n",
    "\n",
    "def conv_backprop_volume(arr,kernel):\n",
    "    depth  = kernel.shape[2]\n",
    "    temp1  = []\n",
    "    i=0\n",
    "    while(i<depth):\n",
    "        temp = conv_backprop(arr,kernel[:,:,i])\n",
    "        temp1.append(temp)\n",
    "        i=i+1\n",
    "    temp1 = np.array(temp1)\n",
    "    return temp1\n"
   ]
  },
  {
   "cell_type": "code",
   "execution_count": 13,
   "metadata": {},
   "outputs": [],
   "source": [
    "### initialisations\n",
    "W_conv1 = np.random.normal(0,1,(32,5,5,1))\n",
    "W_conv2 = np.random.normal(0,1,(64,5,5,32))\n",
    "W1 = np.random.uniform(0,1e-3,(1024,7*7*64))\n",
    "W2 = np.random.uniform(0,1e-3,(10,1024))\n",
    "b2 = np.random.uniform(0,1e-3,(10,1))"
   ]
  },
  {
   "cell_type": "code",
   "execution_count": 14,
   "metadata": {},
   "outputs": [
    {
     "name": "stdout",
     "output_type": "stream",
     "text": [
      "[2.3088575]\n",
      "[1.48568469]\n",
      "[1.43865281]\n",
      "[1.41977134]\n",
      "[1.40933197]\n",
      "[1.40258882]\n",
      "[1.3978134]\n",
      "[1.39422439]\n",
      "[1.39141647]\n",
      "[1.38915764]\n",
      "[1.38730463]\n",
      "[1.38576327]\n",
      "[1.38446834]\n",
      "[1.38337258]\n",
      "[1.38244042]\n",
      "[1.38164424]\n",
      "[1.38096203]\n",
      "[1.38037588]\n",
      "[1.37987098]\n",
      "[1.37943494]\n",
      "[1.37905727]\n",
      "[1.37872903]\n",
      "[1.37844255]\n",
      "[1.3781912]\n",
      "[1.37796931]\n",
      "[1.37777199]\n",
      "[1.37759508]\n",
      "[1.37743535]\n",
      "[1.37729094]\n",
      "[1.37716231]\n"
     ]
    }
   ],
   "source": [
    "for i in range(30):\n",
    "### forward pass\n",
    "    padd_inp1 = padding(img,5,5,(1,1))\n",
    "    conv_out1 = conv_volume(padd_inp1,W_conv1,(1,1),\"relu\")\n",
    "    pool_out1,mask_inp1 = pool_volume(conv_out1,(2,2),(2,2))\n",
    "    padd_inp2 = padding(pool_out1,5,5,(1,1))\n",
    "    conv_out2 = conv_volume(padd_inp2,W_conv2,(1,1),\"relu\")\n",
    "    pool_out2,mask_inp2 = pool_volume(conv_out2,(2,2),(2,2))\n",
    "    x = pool_out2.reshape(-1,1)\n",
    "    z = unravel_fun(x,W1)\n",
    "    y = fcn_layer(z,W2,b2,10,\"softmax\")\n",
    "    loss = -np.log(y[np.argmax(y_train[0])])\n",
    "    print(loss)\n",
    "\n",
    "    ### backprop starts here\n",
    "    delta = y-y_train[0].reshape(-1,1)\n",
    "\n",
    "    grad_W2 = np.matmul(delta,z.T)\n",
    "    grad_b2 = delta\n",
    "\n",
    "    s = np.matmul(W2.T,delta)\n",
    "    grad_W1 = np.matmul(s,x.T)\n",
    "    s1 = np.matmul(W1.T,s)\n",
    "    s11 = s1.reshape((7,7,64))\n",
    "    s11_rep = np.repeat(s11,2,axis=0)\n",
    "    s11_rep = np.repeat(s11_rep,2,axis=1)\n",
    "    s11_rep = s11_rep*mask_inp2\n",
    "    labrat = conv_backprop_volume(padd_inp2,s11_rep)\n",
    "    \n",
    "    W_conv2 = W_conv2 - 0.0001*labrat\n",
    "    W2 = W2 - 0.0001*grad_W2\n",
    "    b2 = b2 - 0.0001*grad_b2\n",
    "    W1 = W1 - 0.0001*grad_W1\n",
    "    \n"
   ]
  },
  {
   "cell_type": "code",
   "execution_count": 8,
   "metadata": {},
   "outputs": [
    {
     "name": "stdout",
     "output_type": "stream",
     "text": [
      "(2, 2, 2)\n"
     ]
    }
   ],
   "source": [
    "lol = np.array([[[1,2],[3,4]],[[4,5],[6,7]]])\n",
    "print(lol.shape)"
   ]
  },
  {
   "cell_type": "code",
   "execution_count": 9,
   "metadata": {},
   "outputs": [
    {
     "name": "stdout",
     "output_type": "stream",
     "text": [
      "[10 22]\n"
     ]
    }
   ],
   "source": [
    "tmp = np.sum(lol,axis=2)\n",
    "tmp1 = np.sum(tmp,axis=1)\n",
    "print(tmp1)"
   ]
  }
 ],
 "metadata": {
  "kernelspec": {
   "display_name": "Python 2",
   "language": "python",
   "name": "python2"
  },
  "language_info": {
   "codemirror_mode": {
    "name": "ipython",
    "version": 3
   },
   "file_extension": ".py",
   "mimetype": "text/x-python",
   "name": "python",
   "nbconvert_exporter": "python",
   "pygments_lexer": "ipython3",
   "version": "3.5.2"
  }
 },
 "nbformat": 4,
 "nbformat_minor": 2
}
