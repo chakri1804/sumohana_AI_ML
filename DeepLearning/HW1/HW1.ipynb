{
 "cells": [
  {
   "cell_type": "code",
   "execution_count": 1,
   "metadata": {},
   "outputs": [],
   "source": [
    "import numpy as np\n",
    "import matplotlib.pyplot as plt\n",
    "import matplotlib.image as mpimg\n",
    "# Importing Sklearn utils for quick shuffle and accuracy score calculations\n",
    "from sklearn.utils import shuffle\n",
    "from sklearn.metrics import accuracy_score\n",
    "\n",
    "import tensorflow as tf\n",
    "mnist = tf.keras.datasets.mnist\n",
    "\n",
    "(x_train, y_train),(x_test, y_test) = mnist.load_data()\n",
    "x_train, x_test = x_train, x_test"
   ]
  },
  {
   "cell_type": "markdown",
   "metadata": {},
   "source": [
    "# Some required fuctions"
   ]
  },
  {
   "cell_type": "code",
   "execution_count": 2,
   "metadata": {},
   "outputs": [],
   "source": [
    "img = mpimg.imread('smug_cat.jpg')\n",
    "\n",
    "def rgb2gray(rgb):\n",
    "    temp = np.dot(rgb[...,:3], [0.299, 0.587, 0.114])\n",
    "    temp = temp[..., np.newaxis]\n",
    "    return temp\n",
    "\n",
    "def newaxis(a):\n",
    "    return a[..., np.newaxis]\n",
    "\n",
    "def one_hot(a, num_classes):\n",
    "    return np.squeeze(np.eye(num_classes)[a.reshape(-1)])\n",
    "\n",
    "y_train_hot = one_hot(y_train, 10)\n",
    "y_test_hot  = one_hot(y_test, 10)\n",
    "x_train = x_train[..., np.newaxis]\n",
    "x_test = x_test[..., np.newaxis]\n"
   ]
  },
  {
   "cell_type": "code",
   "execution_count": 3,
   "metadata": {},
   "outputs": [],
   "source": [
    "def relu(x):\n",
    "    x[x<0]=0\n",
    "    return x"
   ]
  },
  {
   "cell_type": "markdown",
   "metadata": {},
   "source": [
    "## Initializations and general overview of architecture"
   ]
  },
  {
   "cell_type": "code",
   "execution_count": 4,
   "metadata": {},
   "outputs": [],
   "source": [
    "\n",
    "stride_conv = 1\n",
    "stride_pool = 2\n",
    "padding = 'True'\n",
    "ker_dim_c = (5,5)\n",
    "ker_dim_pool = (2,2)\n",
    "\n",
    "# Conv1\n",
    "ker_dim_c1 = (5,5,1)\n",
    "filt_c1 = 8\n",
    "ker_volume_c1 = (5,5,filt_c1) #Self terminology for simplicity\n",
    "out_vol_c1 = (28,28,filt_c1)\n",
    "ker_val_c1 = np.random.uniform(1e-2,1e-1,ker_volume_c1)\n",
    "ker_bias_c1 = np.full(out_vol_c1,1e-2)\n",
    "# Conv2\n",
    "filt_c2 = 16\n",
    "ker_dim_c2 = (5,5,filt_c2)\n",
    "ker_vol_c2 = (5,5,filt_c1,filt_c2)\n",
    "out_vol_c2 = (14,14,filt_c2)\n",
    "ker_val_c2 = np.random.uniform(1e-2,1e-1,ker_vol_c2)\n",
    "ker_bias_c2 = np.full(out_vol_c2,1e-2)\n",
    "# MLP\n",
    "input_nodes = 7*7*filt_c2\n",
    "hidden_nodes = 64\n",
    "\n",
    "weights_h = np.random.uniform(1e-2,1e-1,(input_nodes,hidden_nodes))\n",
    "bias_h = np.zeros(hidden_nodes)\n",
    "# Output\n",
    "classes = 10\n",
    "weights_o = np.random.uniform(1e-2,1e-1,(hidden_nodes,classes))\n",
    "bias_o = np.random.uniform(1e-2,1e-1,classes)\n",
    "\n",
    "cache_ini = [ker_val_c1, ker_bias_c1, ker_val_c2, ker_bias_c2,\n",
    "             weights_h, bias_h, weights_o, bias_o]"
   ]
  },
  {
   "cell_type": "code",
   "execution_count": 5,
   "metadata": {},
   "outputs": [],
   "source": [
    "def conv2D(inp, ker_dim=ker_dim_c, stride=stride_conv,\n",
    "           padding=padding, ker_val = ker_val_c1, ker_bias = ker_bias_c1):\n",
    "    \n",
    "    h,w,d = np.shape(inp)\n",
    "    ker_list = list(ker_dim)\n",
    "    ker_list.append(d)\n",
    "    ker_dim = tuple(ker_list)\n",
    "    ini_w = 0\n",
    "    ini_h = 0\n",
    "    \n",
    "    pad_w = (((stride-1)*w) + ker_list[1] - stride)/2\n",
    "    pad_w = int(pad_w)\n",
    "        \n",
    "    pad_h = (((stride-1)*h) + ker_list[0] - stride)/2\n",
    "    pad_h = int(pad_h)\n",
    "    \n",
    "    if padding == \"True\":\n",
    "        pad_inp = np.zeros(((h+2*pad_h),(w+2*pad_w),d))\n",
    "        for i in range(d):\n",
    "            pad_inp[:,:,i] = np.pad(inp[:,:,i], ((pad_h,pad_h),(pad_w,pad_w)), 'constant')\n",
    "        out_w = int(((w + 2*pad_w - ker_list[1])/stride) + 1)\n",
    "        out_h = int(((h + 2*pad_h - ker_list[0])/stride) + 1)\n",
    "    \n",
    "    else :\n",
    "        pad_inp = inp\n",
    "        out_w = int(((w - ker_list[1])/stride) + 1)\n",
    "        out_h = int(((h - ker_list[0])/stride) + 1)\n",
    "\n",
    "    conv_out = np.zeros((out_h,out_w))\n",
    "    for i in range(1,out_h+1):\n",
    "        for j in range(1,out_w+1):\n",
    "            temp = pad_inp[ini_h:ini_h + ker_list[0] , ini_w:ini_w + ker_list[1]]\n",
    "            temp = temp.astype(float)\n",
    "            ker_val = ker_val.astype(float)\n",
    "            if temp.shape == ker_val.shape :\n",
    "                conv_out[i-1][j-1] = np.sum(temp*ker_val)\n",
    "            ini_w += stride\n",
    "        ini_h += stride\n",
    "        ini_w = 0\n",
    "    \n",
    "    conv_out += ker_bias\n",
    "    \n",
    "#     conv_out = relu(conv_out)\n",
    "    \n",
    "    return conv_out,pad_inp"
   ]
  },
  {
   "cell_type": "code",
   "execution_count": 6,
   "metadata": {},
   "outputs": [],
   "source": [
    "def pool2D(inp, ker_dim=ker_dim_pool, stride=stride_pool):\n",
    "    h,w = np.shape(inp)\n",
    "    ker_list = list(ker_dim)\n",
    "    ker_val = np.ones(ker_dim)\n",
    "\n",
    "    ini_w = 0\n",
    "    ini_h = 0\n",
    "    \n",
    "    pad_w = (((stride-1)*w) + ker_list[1] - stride)/2\n",
    "    pad_w = int(pad_w)\n",
    "        \n",
    "    pad_h = (((stride-1)*h) + ker_list[0] - stride)/2\n",
    "    pad_h = int(pad_h)\n",
    "    \n",
    "    pad_inp = inp\n",
    "    out_w = int(((w - ker_list[1])/stride) + 1)\n",
    "    out_h = int(((h - ker_list[0])/stride) + 1)\n",
    "    \n",
    "    pool_out = np.zeros((out_h,out_w))\n",
    "    mask = np.zeros_like(pad_inp)\n",
    "    for i in range(1,out_h+1):\n",
    "        for j in range(1,out_w+1):\n",
    "            temp = pad_inp[ini_h:ini_h + ker_list[0] , ini_w:ini_w + ker_list[1]]\n",
    "            temp = temp.astype(float)\n",
    "            temp1 = mask[ini_h:ini_h + ker_list[0] , ini_w:ini_w + ker_list[1]]\n",
    "            if temp.shape == ker_val.shape :\n",
    "                pool_out[i-1][j-1] = np.max(temp)\n",
    "                lel = temp.flatten()\n",
    "                lel2 = temp1.flatten()\n",
    "                lel2[np.argmax(lel)] = 1\n",
    "            mask[ini_h:ini_h+ker_list[0],ini_w:ini_w+ker_list[1]] = lel2.reshape(temp1.shape)\n",
    "            ini_w += stride\n",
    "        ini_h += stride\n",
    "        ini_w = 0\n",
    "    \n",
    "    pool_out = relu(pool_out)\n",
    "#     print(type(pool_out))\n",
    "    return pool_out, mask"
   ]
  },
  {
   "cell_type": "code",
   "execution_count": 7,
   "metadata": {},
   "outputs": [],
   "source": [
    "def Conv2DLayer(inp, ker_dim=ker_dim_c, stride=stride_conv,\n",
    "           padding=padding, ker_val = ker_val_c1, ker_bias = ker_bias_c1, no_filts=filt_c1) :\n",
    "    #Bait variable for storing shapes\n",
    "#     print(ker_val.shape)\n",
    "    kirby = ker_bias[...,0]\n",
    "    temp, temp1 = conv2D(inp, ker_dim, ker_bias=kirby)\n",
    "    no_filts = int(no_filts)\n",
    "    # Fixing output shape according to number of filters\n",
    "    out_shape = list(temp.shape)\n",
    "    out_shape.append(no_filts)\n",
    "    out_shape = tuple(out_shape)\n",
    "    # A zeros matrix to store multiple 2d conv outputs\n",
    "    output = np.zeros(out_shape)\n",
    "    kernels = []\n",
    "    for i in range(no_filts):\n",
    "        ker_val_t = ker_val[...,i]\n",
    "        ker_val_t = ker_val_t[..., np.newaxis]\n",
    "        ker_bias_t = ker_bias[...,i]\n",
    "        output[:,:,i], meh = conv2D(inp, ker_dim, stride, padding, \n",
    "                                  ker_val=ker_val_t, ker_bias=ker_bias_t)\n",
    "    \n",
    "    pad_inpt = meh\n",
    "    return output, pad_inpt"
   ]
  },
  {
   "cell_type": "code",
   "execution_count": 8,
   "metadata": {},
   "outputs": [],
   "source": [
    "def Pool2DLayer(inp, ker_dim, stride) :\n",
    "    #Bait variable for storing shapes\n",
    "    shape = list(inp.shape)\n",
    "    temp,_ = pool2D(inp[:,:,0], ker_dim, stride)\n",
    "    # Fixing output shape according to number of filters\n",
    "    out_shape = temp.shape\n",
    "    out_shape = list(out_shape)\n",
    "    out_shape.append(shape[2])\n",
    "    out_shape = tuple(out_shape)\n",
    "    # A zeros matrix to store multiple 2d conv outputs\n",
    "    output = np.zeros(out_shape)\n",
    "    indices = []\n",
    "    for i in range(shape[2]):\n",
    "        output[:,:,i] , ind = pool2D(inp[:,:,i], ker_dim, stride)\n",
    "        indices.append(ind)\n",
    "#     print(output.shape)\n",
    "    indices = np.array(indices)\n",
    "    indices = np.moveaxis(indices, 0, -1)\n",
    "    return np.array(output), indices"
   ]
  },
  {
   "cell_type": "code",
   "execution_count": 9,
   "metadata": {},
   "outputs": [],
   "source": [
    "def FClayer(x,W,b):\n",
    "    return (np.matmul(W.T,x) + b)\n",
    "\n",
    "def softmax(x):\n",
    "    return np.exp(x)/np.sum(np.exp(x))\n",
    "\n",
    "def FCNet(inp, no_hidden_layers, output_size, no_hidden_nodes, activations):\n",
    "    x = inp\n",
    "    Weights_layers = []\n",
    "    biases_layers = []\n",
    "    outputs_layers = []\n",
    "    k = len(x)\n",
    "    for i in range(no_hidden_layers):\n",
    "        l = no_hidden_nodes[i]\n",
    "        size = (k,l)\n",
    "        W = np.random.uniform(0,1e-3,size)\n",
    "        b = np.random.uniform(0,1e-3,l)\n",
    "        Weights_layers.append(W)\n",
    "        biases_layers.append(b)\n",
    "        x = FClayer(x,W,b)\n",
    "        x = relu(x)\n",
    "        outputs_layers.append(x)\n",
    "        k = l\n",
    "    \n",
    "    size_new = list(x.shape)\n",
    "    size_new.append(output_size)\n",
    "    size_new = tuple(size_new)\n",
    "    W = np.random.uniform(0,1e-3,size_new)\n",
    "    b = np.random.uniform(0,1e-3,output_size)\n",
    "    Weights_layers.append(W)\n",
    "    biases_layers.append(b)\n",
    "    x = FClayer(x,W,b)\n",
    "    outputs_layers.append(x)\n",
    "    soft_x = softmax(x)\n",
    "    outputs_layers.append(soft_x)\n",
    "    \n",
    "    return Weights_layers, biases_layers, outputs_layers"
   ]
  },
  {
   "cell_type": "markdown",
   "metadata": {},
   "source": [
    "### Entire model in a flow"
   ]
  },
  {
   "cell_type": "code",
   "execution_count": 10,
   "metadata": {},
   "outputs": [],
   "source": [
    "\n",
    "def forward_pass(inp, cache_ini):\n",
    "    [ker_val_c1, ker_bias_c1, ker_val_c2, ker_bias_c2,\n",
    "             weights_h, bias_h, weights_o, bias_o] = cache_ini\n",
    "    conv1, pad_inp1 = Conv2DLayer(inp, ker_dim=ker_dim_c, stride=stride_conv,\n",
    "                    padding=padding, ker_val = ker_val_c1, \n",
    "                    ker_bias = ker_bias_c1, no_filts=filt_c1)\n",
    "    conv1_rel = relu(conv1)\n",
    "    pool1, ind_1 = Pool2DLayer(conv1_rel, ker_dim=ker_dim_pool, stride=stride_pool)\n",
    "    conv2, pad_inp2 = Conv2DLayer(pool1, ker_dim=ker_dim_c2, stride=stride_conv,\n",
    "                   padding=padding, ker_val = ker_val_c2, \n",
    "                    ker_bias = ker_bias_c2, no_filts=filt_c2)\n",
    "    conv2_rel = relu(conv2)\n",
    "    pool2, ind_2 = Pool2DLayer(conv2_rel, ker_dim=ker_dim_pool, stride=stride_pool)\n",
    "    flat = pool2.flatten()\n",
    "    hid = FClayer(flat, weights_h, bias_h)\n",
    "    hid_rel = hid\n",
    "    out = FClayer(hid_rel, weights_o, bias_o)\n",
    "    probs = softmax(out)\n",
    "    return [conv1, pad_inp1, conv1_rel, pool1, ind_1, conv2, pad_inp2, conv2_rel, pool2, ind_2, flat, hid_rel, out, probs]"
   ]
  },
  {
   "cell_type": "code",
   "execution_count": 11,
   "metadata": {},
   "outputs": [],
   "source": [
    "def categ_cross_ent(y,y1):\n",
    "    return -np.sum(y*np.log(y1))\n",
    "\n",
    "def diff_relu(x):\n",
    "    x[x>0]=1\n",
    "    x[x<=0]=0\n",
    "    return x"
   ]
  },
  {
   "cell_type": "code",
   "execution_count": 12,
   "metadata": {},
   "outputs": [],
   "source": [
    "# inp = x_train[0]\n",
    "# gt = y_train[0]\n",
    "# cache = forward_pass(inp, cache_ini)\n",
    "# probs = cache[-1]\n",
    "# loss = categ_cross_ent(gt,probs)\n",
    "# print(loss)"
   ]
  },
  {
   "cell_type": "markdown",
   "metadata": {},
   "source": [
    "### Simplified Conv fuction for simpler handling of code"
   ]
  },
  {
   "cell_type": "code",
   "execution_count": 13,
   "metadata": {},
   "outputs": [],
   "source": [
    "def conv(inp, ker, padding):\n",
    "    h,w,d = np.shape(inp)\n",
    "    ker_dim = ker.shape\n",
    "    ker_list = list(ker_dim)\n",
    "    ini_w = 0\n",
    "    ini_h = 0\n",
    "    \n",
    "    pad_w = ker_list[1]/2\n",
    "    pad_w = int(pad_w)\n",
    "        \n",
    "    pad_h = ker_list[0]/2\n",
    "    pad_h = int(pad_h)\n",
    "    \n",
    "    if padding == \"True\":\n",
    "        pad_inp = np.zeros(((h+2*pad_h),(w+2*pad_w),d))\n",
    "        for i in range(d):\n",
    "            pad_inp[:,:,i] = np.pad(inp[:,:,i], ((pad_h,pad_h),(pad_w,pad_w)), 'constant')\n",
    "        out_w = int(w + 2*pad_w - ker_list[1]+ 1)\n",
    "        out_h = int(h + 2*pad_h - ker_list[0]+ 1)\n",
    "    \n",
    "    else :\n",
    "        pad_inp = inp\n",
    "        out_w = int(((w - ker_list[1])/stride) + 1)\n",
    "        out_h = int(((h - ker_list[0])/stride) + 1)\n",
    "\n",
    "    conv_out = np.zeros((out_h,out_w))\n",
    "    ker_val = ker\n",
    "    for i in range(1,out_h+1):\n",
    "        for j in range(1,out_w+1):\n",
    "            temp = pad_inp[ini_h:ini_h + ker_list[0] , ini_w:ini_w + ker_list[1]]\n",
    "            temp = temp.astype(float)\n",
    "            ker_val = ker_val.astype(float)\n",
    "            if temp.shape == ker_val.shape :\n",
    "                conv_out[i-1][j-1] = np.sum(temp*ker_val)\n",
    "            ini_w += 1\n",
    "        ini_h += 1\n",
    "        ini_w = 0\n",
    "    \n",
    "    return conv_out"
   ]
  },
  {
   "cell_type": "code",
   "execution_count": 14,
   "metadata": {},
   "outputs": [],
   "source": [
    "def conv_backprop(arr,ker):\n",
    "    pad_inp = arr\n",
    "    ker_list = list(ker.shape)\n",
    "    h,w,d = np.shape(arr)\n",
    "    out_w = int(((w - ker_list[1])) + 1)\n",
    "    out_h = int(((h - ker_list[0])) + 1)\n",
    "    out_d = d\n",
    "    ini_w = 0\n",
    "    ini_h = 0\n",
    "    ini_d = 0\n",
    "    \n",
    "    ker_val = ker\n",
    "    \n",
    "    conv_out = np.zeros((out_h,out_w,out_d))\n",
    "    for i in range(1,out_h+1):\n",
    "        for j in range(1,out_w+1):\n",
    "            for k in range(1, out_d+1):\n",
    "                temp = pad_inp[ini_h:ini_h + ker_list[0], ini_w:ini_w + ker_list[1], ini_d]\n",
    "                temp = temp.astype(float)\n",
    "                ker_val = ker_val.astype(float)\n",
    "                if temp.shape == ker_val.shape :\n",
    "                    temp = np.sum(temp*ker_val, axis=0)\n",
    "                    conv_out[i-1][j-1][k-1] = np.sum(temp*ker_val)\n",
    "                ini_d += 1\n",
    "            ini_w += 1\n",
    "            ini_d = 0\n",
    "        ini_h += 1\n",
    "        ini_w = 0\n",
    "    return conv_out\n",
    "    \n",
    "def conv_backprop_volume(arr,kernel):\n",
    "    depth  = kernel.shape[2]\n",
    "    temp1  = []\n",
    "    for i in range(depth):\n",
    "        temp = conv_backprop(arr,kernel[...,i])\n",
    "        temp1.append(temp)\n",
    "    temp1 = np.array(temp1)\n",
    "    temp1 = np.moveaxis(temp1, 0, -1)\n",
    "    return temp1"
   ]
  },
  {
   "cell_type": "markdown",
   "metadata": {},
   "source": [
    "### Stochastic Gradient Descent for Categorical cross entropy mentioned below"
   ]
  },
  {
   "cell_type": "code",
   "execution_count": 15,
   "metadata": {},
   "outputs": [],
   "source": [
    "def backprop(cache_ini, cache, inp, gt, lr):\n",
    "    [conv1, pad_inp1, conv1_rel, pool1,\n",
    "     ind_1, conv2, pad_inp2, conv2_rel, \n",
    "     pool2, ind_2, flat, hid_rel, out, probs] = cache\n",
    "    \n",
    "    [ker_val_c1, ker_bias_c1, ker_val_c2,\n",
    "     ker_bias_c2, weights_h, bias_h,\n",
    "     weights_o, bias_o] = cache_ini\n",
    "    \n",
    "    delta = probs - gt\n",
    "    grad_bias_o = delta\n",
    "    delta = delta[..., np.newaxis]\n",
    "    hid_rel = hid_rel[..., np.newaxis]\n",
    "    grad_weights_o = np.matmul(hid_rel, delta.T)\n",
    "        \n",
    "    grad_bias_h = bias_h\n",
    "    S = np.matmul(weights_o,delta)\n",
    "    flat = flat[..., np.newaxis]\n",
    "    grad_weights_h = np.matmul(flat,S.T)\n",
    "    \n",
    "    S1 = np.matmul(weights_h, S)\n",
    "    Sm1 = S1.reshape(pool2.shape)\n",
    "    \n",
    "    Sm1_bloat = np.repeat(np.repeat(Sm1,2,axis=0),2,axis=1)\n",
    "    grad_bloat_2 = Sm1_bloat * ind_2\n",
    "    grad_bloat_2 = grad_bloat_2 * diff_relu(conv2)\n",
    "    grad_ker_val_c2 = conv_backprop_volume(pad_inp2,grad_bloat_2)\n",
    "    ker_bias_c1\n",
    "    lul = np.swapaxes(ker_val_c2, -1, -2)\n",
    "    lul = np.rollaxis(lul, -1, 0)\n",
    "    lul2 = []\n",
    "    for i in range(len(lul)):\n",
    "        lul2.append(conv(grad_bloat_2,lul[i], padding=\"True\"))\n",
    "    lul2 = np.array(lul2)\n",
    "    Sm2 = np.moveaxis(lul2,0,-1)\n",
    "    Sm2_bloat = np.repeat(np.repeat(Sm2,2,axis=0),2,axis=1)\n",
    "    grad_bloat_1 = Sm2_bloat * ind_1\n",
    "    grad_bloat_1 = grad_bloat_1 * diff_relu(conv1)\n",
    "    grad_ker_val_c1 = conv_backprop_volume(pad_inp1, grad_bloat_1)\n",
    "    grad_ker_val_c1 = grad_ker_val_c1.reshape(ker_val_c1.shape)\n",
    "    \n",
    "    ker_val_c2 -= lr*grad_ker_val_c2\n",
    "    ker_val_c1 -= lr*grad_ker_val_c1\n",
    "    \n",
    "    ker_bias_c1 -= lr*grad_bloat_1\n",
    "    ker_bias_c2 -= lr*grad_bloat_2\n",
    "    \n",
    "    bias_o    -= lr*grad_bias_o\n",
    "    weights_o -= lr*grad_weights_o\n",
    "    \n",
    "    bias_h    -= lr*grad_bias_h\n",
    "    weights_h -= lr*grad_weights_h\n",
    "    \n",
    "    return cache_ini"
   ]
  },
  {
   "cell_type": "markdown",
   "metadata": {},
   "source": [
    "### Choosing a very small subset of MNIST because of time constraints"
   ]
  },
  {
   "cell_type": "code",
   "execution_count": 16,
   "metadata": {},
   "outputs": [],
   "source": [
    "x_train_smol = []\n",
    "y_train_smol = []\n",
    "\n",
    "x_test_smol = []\n",
    "y_test_smol = []\n",
    "for i in range(10):\n",
    "    t = np.argwhere(y_train == i)\n",
    "    x_train_smol.append(x_train[t[:10]])\n",
    "    y_train_smol.append(y_train[t[:10]])\n",
    "    x_test_smol.append(x_train[t[200:205]])\n",
    "    y_test_smol.append(y_train[t[200:205]])"
   ]
  },
  {
   "cell_type": "code",
   "execution_count": 17,
   "metadata": {},
   "outputs": [],
   "source": [
    "x_train_smol = np.array(x_train_smol)\n",
    "y_train_smol = np.array(y_train_smol)\n",
    "x_test_smol  = np.array(x_test_smol)\n",
    "y_test_smol  = np.array(y_test_smol)"
   ]
  },
  {
   "cell_type": "code",
   "execution_count": 18,
   "metadata": {},
   "outputs": [],
   "source": [
    "x_train_smol = x_train_smol.reshape(100,28,28,1)\n",
    "y_train_smol = y_train_smol.reshape(100,1)\n",
    "y_test_smol  = y_test_smol.reshape(50,1)\n",
    "x_test_smol  = x_test_smol.reshape(50,28,28,1)"
   ]
  },
  {
   "cell_type": "code",
   "execution_count": 19,
   "metadata": {
    "scrolled": true
   },
   "outputs": [
    {
     "name": "stdout",
     "output_type": "stream",
     "text": [
      "Epoch : 0\n",
      "1 /100\n",
      "21 /100\n",
      "41 /100\n",
      "61 /100\n",
      "81 /100\n",
      "2.3261518461426554\n"
     ]
    },
    {
     "data": {
      "image/png": "[encoded data removed]",
      "text/plain": [
       "<Figure size 432x288 with 1 Axes>"
      ]
     },
     "metadata": {
      "needs_background": "light"
     },
     "output_type": "display_data"
    },
    {
     "data": {
      "image/png": "[encoded data removed]",
      "text/plain": [
       "<Figure size 432x288 with 1 Axes>"
      ]
     },
     "metadata": {
      "needs_background": "light"
     },
     "output_type": "display_data"
    },
    {
     "name": "stdout",
     "output_type": "stream",
     "text": [
      "Epoch : 1\n",
      "1 /100\n",
      "21 /100\n",
      "41 /100\n",
      "61 /100\n",
      "81 /100\n",
      "2.312774713957051\n",
      "Epoch : 2\n",
      "1 /100\n",
      "21 /100\n",
      "41 /100\n",
      "61 /100\n",
      "81 /100\n",
      "2.304605354705677\n",
      "Epoch : 3\n",
      "1 /100\n",
      "21 /100\n",
      "41 /100\n",
      "61 /100\n",
      "81 /100\n",
      "2.298367956604465\n",
      "Epoch : 4\n",
      "1 /100\n",
      "21 /100\n",
      "41 /100\n",
      "61 /100\n",
      "81 /100\n",
      "2.2944311332669782\n",
      "Epoch : 5\n",
      "1 /100\n",
      "21 /100\n",
      "41 /100\n",
      "61 /100\n",
      "81 /100\n",
      "2.2913164695332586\n",
      "Epoch : 6\n",
      "1 /100\n",
      "21 /100\n",
      "41 /100\n",
      "61 /100\n",
      "81 /100\n",
      "2.2888855246037036\n",
      "Epoch : 7\n",
      "1 /100\n",
      "21 /100\n",
      "41 /100\n",
      "61 /100\n",
      "81 /100\n",
      "2.2880096294169623\n",
      "Epoch : 8\n",
      "1 /100\n",
      "21 /100\n",
      "41 /100\n",
      "61 /100\n",
      "81 /100\n",
      "2.2867246787953857\n",
      "Epoch : 9\n",
      "1 /100\n",
      "21 /100\n",
      "41 /100\n",
      "61 /100\n",
      "81 /100\n",
      "2.2858482363043513\n",
      "Epoch : 10\n",
      "1 /100\n",
      "21 /100\n",
      "41 /100\n",
      "61 /100\n",
      "81 /100\n",
      "2.2854669020929284\n"
     ]
    },
    {
     "data": {
      "image/png": "[encoded data removed]",
      "text/plain": [
       "<Figure size 432x288 with 1 Axes>"
      ]
     },
     "metadata": {
      "needs_background": "light"
     },
     "output_type": "display_data"
    },
    {
     "data": {
      "image/png": "[encoded data removed]",
      "text/plain": [
       "<Figure size 432x288 with 1 Axes>"
      ]
     },
     "metadata": {
      "needs_background": "light"
     },
     "output_type": "display_data"
    },
    {
     "name": "stdout",
     "output_type": "stream",
     "text": [
      "Epoch : 11\n",
      "1 /100\n",
      "21 /100\n",
      "41 /100\n",
      "61 /100\n",
      "81 /100\n",
      "2.285026584833616\n",
      "Epoch : 12\n",
      "1 /100\n",
      "21 /100\n",
      "41 /100\n",
      "61 /100\n",
      "81 /100\n",
      "2.284713426085995\n",
      "Epoch : 13\n",
      "1 /100\n",
      "21 /100\n",
      "41 /100\n",
      "61 /100\n",
      "81 /100\n",
      "2.2847535492725046\n",
      "Epoch : 14\n",
      "1 /100\n",
      "21 /100\n",
      "41 /100\n",
      "61 /100\n",
      "81 /100\n",
      "2.2841893567869302\n",
      "Epoch : 15\n",
      "1 /100\n",
      "21 /100\n",
      "41 /100\n",
      "61 /100\n",
      "81 /100\n",
      "2.28422809329806\n",
      "Epoch : 16\n",
      "1 /100\n",
      "21 /100\n",
      "41 /100\n",
      "61 /100\n",
      "81 /100\n",
      "2.284307820212743\n",
      "Epoch : 17\n",
      "1 /100\n",
      "21 /100\n",
      "41 /100\n",
      "61 /100\n",
      "81 /100\n",
      "2.284196022626705\n",
      "Epoch : 18\n",
      "1 /100\n",
      "21 /100\n",
      "41 /100\n",
      "61 /100\n",
      "81 /100\n",
      "2.2842411344831346\n",
      "Epoch : 19\n",
      "1 /100\n",
      "21 /100\n",
      "41 /100\n",
      "61 /100\n",
      "81 /100\n",
      "2.2840858713830077\n",
      "Epoch : 20\n",
      "1 /100\n",
      "21 /100\n",
      "41 /100\n",
      "61 /100\n",
      "81 /100\n",
      "2.28398534454473\n"
     ]
    },
    {
     "data": {
      "image/png": "[encoded data removed]",
      "text/plain": [
       "<Figure size 432x288 with 1 Axes>"
      ]
     },
     "metadata": {
      "needs_background": "light"
     },
     "output_type": "display_data"
    },
    {
     "data": {
      "image/png": "[encoded data removed]",
      "text/plain": [
       "<Figure size 432x288 with 1 Axes>"
      ]
     },
     "metadata": {
      "needs_background": "light"
     },
     "output_type": "display_data"
    },
    {
     "name": "stdout",
     "output_type": "stream",
     "text": [
      "Epoch : 21\n",
      "1 /100\n",
      "21 /100\n",
      "41 /100\n",
      "61 /100\n",
      "81 /100\n",
      "2.284114369306006\n",
      "Epoch : 22\n",
      "1 /100\n",
      "21 /100\n",
      "41 /100\n",
      "61 /100\n",
      "81 /100\n",
      "2.2838939379796552\n",
      "Epoch : 23\n",
      "1 /100\n",
      "21 /100\n",
      "41 /100\n",
      "61 /100\n",
      "81 /100\n",
      "2.284032997668476\n",
      "Epoch : 24\n",
      "1 /100\n",
      "21 /100\n",
      "41 /100\n",
      "61 /100\n",
      "81 /100\n",
      "2.284033566400939\n",
      "Epoch : 25\n",
      "1 /100\n",
      "21 /100\n",
      "41 /100\n",
      "61 /100\n",
      "81 /100\n",
      "2.2840647546550557\n",
      "Epoch : 26\n",
      "1 /100\n",
      "21 /100\n",
      "41 /100\n",
      "61 /100\n",
      "81 /100\n",
      "2.283964853541527\n",
      "Epoch : 27\n",
      "1 /100\n",
      "21 /100\n",
      "41 /100\n",
      "61 /100\n",
      "81 /100\n",
      "2.2838606895438094\n",
      "Epoch : 28\n",
      "1 /100\n",
      "21 /100\n",
      "41 /100\n",
      "61 /100\n",
      "81 /100\n",
      "2.2840658443184867\n",
      "Epoch : 29\n",
      "1 /100\n",
      "21 /100\n",
      "41 /100\n",
      "61 /100\n",
      "81 /100\n",
      "2.2840193348257896\n"
     ]
    },
    {
     "data": {
      "image/png": "[encoded data removed]",
      "text/plain": [
       "<Figure size 432x288 with 1 Axes>"
      ]
     },
     "metadata": {
      "needs_background": "light"
     },
     "output_type": "display_data"
    },
    {
     "data": {
      "image/png": "[encoded data removed]",
      "text/plain": [
       "<Figure size 432x288 with 1 Axes>"
      ]
     },
     "metadata": {
      "needs_background": "light"
     },
     "output_type": "display_data"
    },
    {
     "data": {
      "image/png": "[encoded data removed]",
      "text/plain": [
       "<Figure size 432x288 with 1 Axes>"
      ]
     },
     "metadata": {
      "needs_background": "light"
     },
     "output_type": "display_data"
    }
   ],
   "source": [
    "epoch = 30\n",
    "train_loss = []\n",
    "train_loss_epoch_avg = []\n",
    "\n",
    "x_test_smol, y_test_smol = shuffle(x_test_smol, y_test_smol, random_state=0)\n",
    "y_test_smol_hot = one_hot(y_test_smol, 10)\n",
    "test_loss = []\n",
    "for j in range(epoch):\n",
    "    x_train_smol, y_train_smol = shuffle(x_train_smol, y_train_smol, random_state=0)\n",
    "    y_train_smol_hot = one_hot(y_train_smol, 10)\n",
    "    print(\"Epoch :\",j)\n",
    "    for (inp,gt,count) in zip(x_train_smol,y_train_smol_hot,range(len(y_train_smol))) :\n",
    "        cache = forward_pass(inp, cache_ini)\n",
    "        probs = cache[-1]\n",
    "        loss = categ_cross_ent(gt,probs)\n",
    "        train_loss.append(loss)\n",
    "        if count%20 == 1:\n",
    "            print(count,\"/100\")\n",
    "        cache_ini = backprop(cache_ini, cache, inp, gt, 1e-2)\n",
    "\n",
    "    train_loss_epoch_avg.append(sum(train_loss[-100:-1])/100.0)\n",
    "    print(sum(train_loss[-100:-1])/100.0)\n",
    "    \n",
    "    if j%10 == 0:\n",
    "        #plottin post relu activation maps for convolutions\n",
    "        plt.imshow(cache[2][...,0], cmap='gray')\n",
    "        plt.show()\n",
    "        plt.imshow(cache[7][...,0], cmap='gray')\n",
    "        plt.show()\n",
    "    \n",
    "    for (inp,gt) in zip(x_test_smol,y_test_smol_hot) :\n",
    "        cache_test = forward_pass(inp, cache_ini)\n",
    "        probs = cache_test[-1]\n",
    "        loss = categ_cross_ent(gt,probs)\n",
    "        test_loss.append(loss)\n",
    "\n",
    "plt.plot(train_loss)\n",
    "plt.show()\n",
    "plt.plot(train_loss_epoch_avg)\n",
    "plt.show()\n",
    "plt.plot(test_loss)\n",
    "plt.show()"
   ]
  },
  {
   "cell_type": "code",
   "execution_count": null,
   "metadata": {},
   "outputs": [],
   "source": [
    "plt.imshow()"
   ]
  },
  {
   "cell_type": "markdown",
   "metadata": {},
   "source": [
    "Accuracy calculation takes a lot of headroom, so calculating it after all the epochs. This cell of code can be copy pasted in the above while loop to report accuracies after every epoch"
   ]
  },
  {
   "cell_type": "code",
   "execution_count": 20,
   "metadata": {},
   "outputs": [],
   "source": [
    "x_test_smol, y_test_smol = shuffle(x_test_smol, y_test_smol, random_state=0)\n",
    "y_test_smol_hot = one_hot(y_test_smol, 10)\n",
    "y_pred = []\n",
    "for (inp,gt) in zip(x_test_smol,y_test_smol_hot) :\n",
    "    cache = forward_pass(inp, cache_ini)\n",
    "    probs = cache[-1]\n",
    "    y_pred.append(probs)\n",
    "    loss = categ_cross_ent(gt,probs)"
   ]
  },
  {
   "cell_type": "code",
   "execution_count": 21,
   "metadata": {},
   "outputs": [],
   "source": [
    "y_pred_a = np.array(y_pred)\n",
    "y_pred_hot = np.zeros_like(y_pred_a)\n",
    "for i in range(len(y_pred_a)):\n",
    "    y_pred_hot[:,np.argmax(y_pred[i])] = 1\n",
    "y_preds = [np.where(r==1)[0][0] for r in y_pred_hot]\n",
    "y_preds = np.array(y_preds)"
   ]
  },
  {
   "cell_type": "code",
   "execution_count": 22,
   "metadata": {},
   "outputs": [
    {
     "data": {
      "text/plain": [
       "0.1"
      ]
     },
     "execution_count": 22,
     "metadata": {},
     "output_type": "execute_result"
    }
   ],
   "source": [
    "accuracy_score(np.squeeze(y_test_smol), y_preds)"
   ]
  },
  {
   "cell_type": "markdown",
   "metadata": {},
   "source": [
    "### Batchwise backprop.\n",
    "Same as previous backprop but slight changes as follows:\n",
    "1. Forward pass has been moved into this and iteratively samples are forwarded till we get enuf gradients to satisfy batch GD (gradient descent)\n",
    "2. These gradients have been summed up and updates are made."
   ]
  },
  {
   "cell_type": "code",
   "execution_count": 23,
   "metadata": {},
   "outputs": [],
   "source": [
    "def backprop_batch(cache_ini, inp, gt, batch, lr):\n",
    "    [ker_val_c1, ker_bias_c1, ker_val_c2,\n",
    "     ker_bias_c2, weights_h, bias_h,\n",
    "     weights_o, bias_o] = cache_ini\n",
    "    \n",
    "    t_grad_ker_val_c1 = 0 \n",
    "    t_grad_ker_bias_c1 = 0 \n",
    "    t_grad_ker_val_c2 = 0 \n",
    "    t_grad_ker_bias_c2 = 0\n",
    "    \n",
    "    t_grad_weights_h = 0 \n",
    "    t_grad_bias_h = 0\n",
    "    t_grad_weights_o = 0\n",
    "    t_grad_bias_o = 0\n",
    "    \n",
    "    loss = []\n",
    "    \n",
    "    for i in range(batch):\n",
    "        cache = forward_pass(inp[i],cache_ini)\n",
    "        [conv1, pad_inp1, conv1_rel, pool1,\n",
    "         ind_1, conv2, pad_inp2, conv2_rel, \n",
    "         pool2, ind_2, flat, hid_rel, out, probs] = cache\n",
    "        loss.append(categ_cross_ent(gt[i],cache[-1]))\n",
    "        delta = probs - gt[i]\n",
    "        grad_bias_o = delta\n",
    "        delta = delta[..., np.newaxis]\n",
    "        hid_rel = hid_rel[..., np.newaxis]\n",
    "        grad_weights_o = np.matmul(hid_rel, delta.T)\n",
    "        t_grad_weights_o += grad_weights_o\n",
    "        grad_bias_h = np.zeros_like(bias_h)\n",
    "        t_grad_bias_h += grad_bias_h\n",
    "        S = np.matmul(weights_o,delta)\n",
    "        flat = flat[..., np.newaxis]\n",
    "        grad_weights_h = np.matmul(flat,S.T)\n",
    "        t_grad_weights_h += grad_weights_h\n",
    "\n",
    "        S1 = np.matmul(weights_h, S)\n",
    "        Sm1 = S1.reshape(pool2.shape)\n",
    "\n",
    "        Sm1_bloat = np.repeat(np.repeat(Sm1,2,axis=0),2,axis=1)\n",
    "        grad_bloat_2 = Sm1_bloat * ind_2\n",
    "        grad_bloat_2 = grad_bloat_2 * diff_relu(conv2)\n",
    "        grad_ker_val_c2 = conv_backprop_volume(pad_inp2,grad_bloat_2)\n",
    "        \n",
    "        t_grad_ker_val_c2 += grad_ker_val_c2\n",
    "        t_grad_ker_bias_c2 += grad_bloat_2\n",
    "        \n",
    "        lul = np.swapaxes(ker_val_c2, -1, -2)\n",
    "        lul = np.rollaxis(lul, -1, 0)\n",
    "        lul2 = []\n",
    "        for i in range(len(lul)):\n",
    "            lul2.append(conv(grad_bloat_2,lul[i], padding=\"True\"))\n",
    "        lul2 = np.array(lul2)\n",
    "        Sm2 = np.moveaxis(lul2,0,-1)\n",
    "        Sm2_bloat = np.repeat(np.repeat(Sm2,2,axis=0),2,axis=1)\n",
    "        grad_bloat_1 = Sm2_bloat * ind_1\n",
    "        grad_bloat_1 = grad_bloat_1 * diff_relu(conv1)\n",
    "        grad_ker_val_c1 = conv_backprop_volume(pad_inp1, grad_bloat_1)\n",
    "        grad_ker_val_c1 = grad_ker_val_c1.reshape(ker_val_c1.shape)\n",
    "        \n",
    "        t_grad_ker_val_c1 += grad_ker_val_c1\n",
    "        t_grad_ker_bias_c1 += grad_bloat_1\n",
    "    \n",
    "    loss_avg = sum(loss)/batch\n",
    "    \n",
    "    ker_val_c1 -= lr*t_grad_ker_val_c1\n",
    "    ker_bias_c1 -= lr*t_grad_ker_bias_c1\n",
    "    ker_val_c2 -= lr*t_grad_ker_val_c2\n",
    "    ker_bias_c2 -= lr*t_grad_ker_bias_c2\n",
    "    weights_h -= lr*t_grad_weights_h\n",
    "    weights_o -= lr*t_grad_weights_o\n",
    "    bias_o -= lr*t_grad_bias_o\n",
    "    \n",
    "    cache_ini = [ker_val_c1, ker_bias_c1, ker_val_c2,\n",
    "    ker_bias_c2, weights_h, bias_h,\n",
    "    weights_o, bias_o]\n",
    "    \n",
    "    return cache_ini, cache, loss_avg"
   ]
  },
  {
   "cell_type": "code",
   "execution_count": 24,
   "metadata": {
    "scrolled": true
   },
   "outputs": [
    {
     "name": "stdout",
     "output_type": "stream",
     "text": [
      "Epoch : 0\n",
      "2.3021825130948894\n",
      "2.3015952410971856\n",
      "2.303135404621753\n",
      "2.303579657769952\n"
     ]
    },
    {
     "data": {
      "image/png": "[encoded data removed]",
      "text/plain": [
       "<Figure size 432x288 with 1 Axes>"
      ]
     },
     "metadata": {
      "needs_background": "light"
     },
     "output_type": "display_data"
    },
    {
     "data": {
      "image/png": "[encoded data removed]",
      "text/plain": [
       "<Figure size 432x288 with 1 Axes>"
      ]
     },
     "metadata": {
      "needs_background": "light"
     },
     "output_type": "display_data"
    },
    {
     "name": "stdout",
     "output_type": "stream",
     "text": [
      "[1.726728289703457]\n",
      "Epoch : 1\n",
      "2.3034799546290996\n",
      "2.3029591006381303\n",
      "2.301601640287491\n",
      "2.3024731108224983\n",
      "[1.726728289703457, 1.7270101738886803]\n",
      "Epoch : 2\n",
      "2.3026446143930372\n",
      "2.3046642315441033\n",
      "2.30171941197069\n",
      "2.301624310138393\n",
      "[1.726728289703457, 1.7270101738886803, 1.7272570644769576]\n",
      "Epoch : 3\n",
      "2.302100996041878\n",
      "2.3012631507802834\n",
      "2.3032104322617695\n",
      "2.303963560004148\n",
      "[1.726728289703457, 1.7270101738886803, 1.7272570644769576, 1.7266436447709828]\n",
      "Epoch : 4\n",
      "2.3021002124511973\n",
      "2.3025977787863208\n",
      "2.3008989188822544\n",
      "2.3049211374389476\n",
      "[1.726728289703457, 1.7270101738886803, 1.7272570644769576, 1.7266436447709828, 1.7263992275299431]\n",
      "Epoch : 5\n",
      "2.3035429315341567\n",
      "2.3042340566820707\n",
      "2.300396946975862\n",
      "2.3025290353840258\n",
      "[1.726728289703457, 1.7270101738886803, 1.7272570644769576, 1.7266436447709828, 1.7263992275299431, 1.7270434837980222]\n",
      "Epoch : 6\n",
      "2.3035590582991974\n",
      "2.3015453208269587\n",
      "2.3026836183412547\n",
      "2.3027735560087526\n",
      "[1.726728289703457, 1.7270101738886803, 1.7272570644769576, 1.7266436447709828, 1.7263992275299431, 1.7270434837980222, 1.7269469993668527]\n",
      "Epoch : 7\n",
      "2.3034275546194865\n",
      "2.303401223457413\n",
      "2.302240103671011\n",
      "2.3014334493977695\n",
      "[1.726728289703457, 1.7270101738886803, 1.7272570644769576, 1.7266436447709828, 1.7263992275299431, 1.7270434837980222, 1.7269469993668527, 1.7272672204369774]\n",
      "Epoch : 8\n",
      "2.3022043186918673\n",
      "2.301491452261281\n",
      "2.3040764715909985\n",
      "2.302734852304053\n",
      "[1.726728289703457, 1.7270101738886803, 1.7272570644769576, 1.7266436447709828, 1.7263992275299431, 1.7270434837980222, 1.7269469993668527, 1.7272672204369774, 1.7269430606360368]\n",
      "Epoch : 9\n",
      "2.303320920549592\n",
      "2.3027201114189877\n",
      "2.302356274915659\n",
      "2.3021604791543107\n",
      "[1.726728289703457, 1.7270101738886803, 1.7272570644769576, 1.7266436447709828, 1.7263992275299431, 1.7270434837980222, 1.7269469993668527, 1.7272672204369774, 1.7269430606360368, 1.72709932672106]\n",
      "Epoch : 10\n",
      "2.3034271566048203\n",
      "2.3016183573168867\n",
      "2.3021956293710075\n",
      "2.303262374704112\n"
     ]
    },
    {
     "data": {
      "image/png": "[encoded data removed]",
      "text/plain": [
       "<Figure size 432x288 with 1 Axes>"
      ]
     },
     "metadata": {
      "needs_background": "light"
     },
     "output_type": "display_data"
    },
    {
     "data": {
      "image/png": "[encoded data removed]",
      "text/plain": [
       "<Figure size 432x288 with 1 Axes>"
      ]
     },
     "metadata": {
      "needs_background": "light"
     },
     "output_type": "display_data"
    },
    {
     "name": "stdout",
     "output_type": "stream",
     "text": [
      "[1.726728289703457, 1.7270101738886803, 1.7272570644769576, 1.7266436447709828, 1.7263992275299431, 1.7270434837980222, 1.7269469993668527, 1.7272672204369774, 1.7269430606360368, 1.72709932672106, 1.7268102858231789]\n",
      "Epoch : 11\n",
      "2.301375107796698\n",
      "2.3020404328804425\n",
      "2.3028113319572143\n",
      "2.3042780477191234\n",
      "[1.726728289703457, 1.7270101738886803, 1.7272570644769576, 1.7266436447709828, 1.7263992275299431, 1.7270434837980222, 1.7269469993668527, 1.7272672204369774, 1.7269430606360368, 1.72709932672106, 1.7268102858231789, 1.7265567181585886]\n",
      "Epoch : 12\n",
      "2.3028843368780545\n",
      "2.3025756411101703\n",
      "2.301141020918155\n",
      "2.3039112609407506\n",
      "[1.726728289703457, 1.7270101738886803, 1.7272570644769576, 1.7266436447709828, 1.7263992275299431, 1.7270434837980222, 1.7269469993668527, 1.7272672204369774, 1.7269430606360368, 1.72709932672106, 1.7268102858231789, 1.7265567181585886, 1.7266502497265952]\n",
      "Epoch : 13\n",
      "2.3039755762367538\n",
      "2.3022576189930843\n",
      "2.3024418627376737\n",
      "2.3018551206063744\n",
      "[1.726728289703457, 1.7270101738886803, 1.7272570644769576, 1.7266436447709828, 1.7263992275299431, 1.7270434837980222, 1.7269469993668527, 1.7272672204369774, 1.7269430606360368, 1.72709932672106, 1.7268102858231789, 1.7265567181585886, 1.7266502497265952, 1.727168764491878]\n",
      "Epoch : 14\n",
      "2.3024432310196246\n",
      "2.302694630387229\n",
      "2.30193490764867\n",
      "2.3034028316058333\n",
      "[1.726728289703457, 1.7270101738886803, 1.7272570644769576, 1.7266436447709828, 1.7263992275299431, 1.7270434837980222, 1.7269469993668527, 1.7272672204369774, 1.7269430606360368, 1.72709932672106, 1.7268102858231789, 1.7265567181585886, 1.7266502497265952, 1.727168764491878, 1.726768192263881]\n",
      "Epoch : 15\n",
      "2.3028854250727075\n",
      "2.3031495182265544\n",
      "2.3019164731224415\n",
      "2.3025437382038008\n",
      "[1.726728289703457, 1.7270101738886803, 1.7272570644769576, 1.7266436447709828, 1.7263992275299431, 1.7270434837980222, 1.7269469993668527, 1.7272672204369774, 1.7269430606360368, 1.72709932672106, 1.7268102858231789, 1.7265567181585886, 1.7266502497265952, 1.727168764491878, 1.726768192263881, 1.7269878541054258]\n",
      "Epoch : 16\n",
      "2.302513001366026\n",
      "2.3003881795291297\n",
      "2.3048734348531292\n",
      "2.302728364667516\n",
      "[1.726728289703457, 1.7270101738886803, 1.7272570644769576, 1.7266436447709828, 1.7263992275299431, 1.7270434837980222, 1.7269469993668527, 1.7272672204369774, 1.7269430606360368, 1.72709932672106, 1.7268102858231789, 1.7265567181585886, 1.7266502497265952, 1.727168764491878, 1.726768192263881, 1.7269878541054258, 1.7269436539370713]\n",
      "Epoch : 17\n",
      "2.3041674639527345\n",
      "2.302240994055437\n",
      "2.3010869904698517\n",
      "2.303077241466152\n",
      "[1.726728289703457, 1.7270101738886803, 1.7272570644769576, 1.7266436447709828, 1.7263992275299431, 1.7270434837980222, 1.7269469993668527, 1.7272672204369774, 1.7269430606360368, 1.72709932672106, 1.7268102858231789, 1.7265567181585886, 1.7266502497265952, 1.727168764491878, 1.726768192263881, 1.7269878541054258, 1.7269436539370713, 1.7268738621195059]\n",
      "Epoch : 18\n",
      "2.303434659532158\n",
      "2.3019345890787397\n",
      "2.303153021945035\n",
      "2.3020247670582132\n",
      "[1.726728289703457, 1.7270101738886803, 1.7272570644769576, 1.7266436447709828, 1.7263992275299431, 1.7270434837980222, 1.7269469993668527, 1.7272672204369774, 1.7269430606360368, 1.72709932672106, 1.7268102858231789, 1.7265567181585886, 1.7266502497265952, 1.727168764491878, 1.726768192263881, 1.7269878541054258, 1.7269436539370713, 1.7268738621195059, 1.7271305676389832]\n",
      "Epoch : 19\n",
      "2.301969578745724\n",
      "2.302456287336143\n",
      "2.3023470565906736\n",
      "2.3037193933058138\n",
      "[1.726728289703457, 1.7270101738886803, 1.7272570644769576, 1.7266436447709828, 1.7263992275299431, 1.7270434837980222, 1.7269469993668527, 1.7272672204369774, 1.7269430606360368, 1.72709932672106, 1.7268102858231789, 1.7265567181585886, 1.7266502497265952, 1.727168764491878, 1.726768192263881, 1.7269878541054258, 1.7269436539370713, 1.7268738621195059, 1.7271305676389832, 1.726693230668135]\n",
      "Epoch : 20\n",
      "2.3042944730843544\n",
      "2.300081075835245\n",
      "2.3020233971739525\n",
      "2.304132918727182\n"
     ]
    },
    {
     "data": {
      "image/png": "[encoded data removed]",
      "text/plain": [
       "<Figure size 432x288 with 1 Axes>"
      ]
     },
     "metadata": {
      "needs_background": "light"
     },
     "output_type": "display_data"
    },
    {
     "data": {
      "image/png": "[encoded data removed]",
      "text/plain": [
       "<Figure size 432x288 with 1 Axes>"
      ]
     },
     "metadata": {
      "needs_background": "light"
     },
     "output_type": "display_data"
    },
    {
     "name": "stdout",
     "output_type": "stream",
     "text": [
      "[1.726728289703457, 1.7270101738886803, 1.7272570644769576, 1.7266436447709828, 1.7263992275299431, 1.7270434837980222, 1.7269469993668527, 1.7272672204369774, 1.7269430606360368, 1.72709932672106, 1.7268102858231789, 1.7265567181585886, 1.7266502497265952, 1.727168764491878, 1.726768192263881, 1.7269878541054258, 1.7269436539370713, 1.7268738621195059, 1.7271305676389832, 1.726693230668135, 1.7265997365233878]\n",
      "Epoch : 21\n",
      "2.3017230732150136\n",
      "2.302951468637295\n",
      "2.3044293238277205\n",
      "2.3014466034064482\n",
      "[1.726728289703457, 1.7270101738886803, 1.7272570644769576, 1.7266436447709828, 1.7263992275299431, 1.7270434837980222, 1.7269469993668527, 1.7272672204369774, 1.7269430606360368, 1.72709932672106, 1.7268102858231789, 1.7265567181585886, 1.7266502497265952, 1.727168764491878, 1.726768192263881, 1.7269878541054258, 1.7269436539370713, 1.7268738621195059, 1.7271305676389832, 1.726693230668135, 1.7265997365233878, 1.7272759664200072]\n",
      "Epoch : 22\n",
      "2.3030080435659954\n",
      "2.3021066707104363\n",
      "2.3015259309983795\n",
      "2.3038505867881467\n",
      "[1.726728289703457, 1.7270101738886803, 1.7272570644769576, 1.7266436447709828, 1.7263992275299431, 1.7270434837980222, 1.7269469993668527, 1.7272672204369774, 1.7269430606360368, 1.72709932672106, 1.7268102858231789, 1.7265567181585886, 1.7266502497265952, 1.727168764491878, 1.726768192263881, 1.7269878541054258, 1.7269436539370713, 1.7268738621195059, 1.7271305676389832, 1.726693230668135, 1.7265997365233878, 1.7272759664200072, 1.726660161318703]\n",
      "Epoch : 23\n",
      "2.304015908349372\n",
      "2.301384077497935\n",
      "2.301538290040555\n",
      "2.303588611925745\n",
      "[1.726728289703457, 1.7270101738886803, 1.7272570644769576, 1.7266436447709828, 1.7263992275299431, 1.7270434837980222, 1.7269469993668527, 1.7272672204369774, 1.7269430606360368, 1.72709932672106, 1.7268102858231789, 1.7265567181585886, 1.7266502497265952, 1.727168764491878, 1.726768192263881, 1.7269878541054258, 1.7269436539370713, 1.7268738621195059, 1.7271305676389832, 1.726693230668135, 1.7265997365233878, 1.7272759664200072, 1.726660161318703, 1.7267345689719653]\n",
      "Epoch : 24\n",
      "2.301972224805595\n",
      "2.302874841868883\n",
      "2.304500261032099\n",
      "2.301155107127832\n",
      "[1.726728289703457, 1.7270101738886803, 1.7272570644769576, 1.7266436447709828, 1.7263992275299431, 1.7270434837980222, 1.7269469993668527, 1.7272672204369774, 1.7269430606360368, 1.72709932672106, 1.7268102858231789, 1.7265567181585886, 1.7266502497265952, 1.727168764491878, 1.726768192263881, 1.7269878541054258, 1.7269436539370713, 1.7268738621195059, 1.7271305676389832, 1.726693230668135, 1.7265997365233878, 1.7272759664200072, 1.726660161318703, 1.7267345689719653, 1.7273368319266444]\n",
      "Epoch : 25\n",
      "2.303032923682784\n",
      "2.3014941372019697\n",
      "2.3023817817582843\n",
      "2.3035597909654055\n",
      "[1.726728289703457, 1.7270101738886803, 1.7272570644769576, 1.7266436447709828, 1.7263992275299431, 1.7270434837980222, 1.7269469993668527, 1.7272672204369774, 1.7269430606360368, 1.72709932672106, 1.7268102858231789, 1.7265567181585886, 1.7266502497265952, 1.727168764491878, 1.726768192263881, 1.7269878541054258, 1.7269436539370713, 1.7268738621195059, 1.7271305676389832, 1.726693230668135, 1.7265997365233878, 1.7272759664200072, 1.726660161318703, 1.7267345689719653, 1.7273368319266444, 1.7267272106607596]\n",
      "Epoch : 26\n",
      "2.3037149066839993\n",
      "2.3030840058496582\n",
      "2.3021375114620906\n",
      "2.3015235547069093\n",
      "[1.726728289703457, 1.7270101738886803, 1.7272570644769576, 1.7266436447709828, 1.7263992275299431, 1.7270434837980222, 1.7269469993668527, 1.7272672204369774, 1.7269430606360368, 1.72709932672106, 1.7268102858231789, 1.7265567181585886, 1.7266502497265952, 1.727168764491878, 1.726768192263881, 1.7269878541054258, 1.7269436539370713, 1.7268738621195059, 1.7271305676389832, 1.726693230668135, 1.7265997365233878, 1.7272759664200072, 1.726660161318703, 1.7267345689719653, 1.7273368319266444, 1.7267272106607596, 1.727234105998937]\n",
      "Epoch : 27\n",
      "2.3025529703217065\n",
      "2.3041437930451543\n",
      "2.301751354750068\n",
      "2.302034478530845\n",
      "[1.726728289703457, 1.7270101738886803, 1.7272570644769576, 1.7266436447709828, 1.7263992275299431, 1.7270434837980222, 1.7269469993668527, 1.7272672204369774, 1.7269430606360368, 1.72709932672106, 1.7268102858231789, 1.7265567181585886, 1.7266502497265952, 1.727168764491878, 1.726768192263881, 1.7269878541054258, 1.7269436539370713, 1.7268738621195059, 1.7271305676389832, 1.726693230668135, 1.7265997365233878, 1.7272759664200072, 1.726660161318703, 1.7267345689719653, 1.7273368319266444, 1.7267272106607596, 1.727234105998937, 1.7271120295292322]\n",
      "Epoch : 28\n",
      "2.3023383575480025\n",
      "2.3021487024922958\n",
      "2.302709555535705\n",
      "2.3032807218832607\n",
      "[1.726728289703457, 1.7270101738886803, 1.7272570644769576, 1.7266436447709828, 1.7263992275299431, 1.7270434837980222, 1.7269469993668527, 1.7272672204369774, 1.7269430606360368, 1.72709932672106, 1.7268102858231789, 1.7265567181585886, 1.7266502497265952, 1.727168764491878, 1.726768192263881, 1.7269878541054258, 1.7269436539370713, 1.7268738621195059, 1.7271305676389832, 1.726693230668135, 1.7265997365233878, 1.7272759664200072, 1.726660161318703, 1.7267345689719653, 1.7273368319266444, 1.7267272106607596, 1.727234105998937, 1.7271120295292322, 1.7267991538940008]\n",
      "Epoch : 29\n",
      "2.3009396289611797\n",
      "2.3019379748730917\n",
      "2.3042271538743058\n",
      "2.303348536668564\n",
      "[1.726728289703457, 1.7270101738886803, 1.7272570644769576, 1.7266436447709828, 1.7263992275299431, 1.7270434837980222, 1.7269469993668527, 1.7272672204369774, 1.7269430606360368, 1.72709932672106, 1.7268102858231789, 1.7265567181585886, 1.7266502497265952, 1.727168764491878, 1.726768192263881, 1.7269878541054258, 1.7269436539370713, 1.7268738621195059, 1.7271305676389832, 1.726693230668135, 1.7265997365233878, 1.7272759664200072, 1.726660161318703, 1.7267345689719653, 1.7273368319266444, 1.7267272106607596, 1.727234105998937, 1.7271120295292322, 1.7267991538940008, 1.7267761894271443]\n"
     ]
    }
   ],
   "source": [
    "### Batch training\n",
    "epoch = 30\n",
    "batch = 25\n",
    "train_loss_batch = []\n",
    "train_loss_epoch_avg = []\n",
    "test_loss = []\n",
    "\n",
    "x_test_smol, y_test_smol = shuffle(x_test_smol, y_test_smol, random_state=0)\n",
    "y_test_smol_hot = one_hot(y_test_smol, 10)\n",
    "\n",
    "for j in range(epoch):\n",
    "    x_train_smol, y_train_smol = shuffle(x_train_smol, y_train_smol, random_state=0)\n",
    "    y_train_smol_hot = one_hot(y_train_smol, 10)\n",
    "    print(\"Epoch :\",j)\n",
    "    count = 0\n",
    "    while(count<len(y_train_smol_hot)):\n",
    "        (inp,gt) = (x_train_smol[count:count+batch],y_train_smol_hot[count:count+batch])\n",
    "        cache_init, cache_bat, loss_avg_batch = backprop_batch(cache_ini, inp, gt, batch, 1e-2)\n",
    "        train_loss_batch.append(loss_avg_batch)\n",
    "        print(loss_avg_batch)\n",
    "        count = count+batch\n",
    "    train_loss_epoch_avg.append(sum(train_loss_batch[-4:-1])/4)\n",
    "    \n",
    "    if j%10 == 0:\n",
    "        #plottin post relu activation maps for convolutions\n",
    "        plt.imshow(cache_bat[2][...,0], cmap='gray')\n",
    "        plt.show()\n",
    "        plt.imshow(cache_bat[7][...,0], cmap='gray')\n",
    "        plt.show()\n",
    "    \n",
    "    for (inp,gt) in zip(x_test_smol,y_test_smol_hot) :\n",
    "        cache_test = forward_pass(inp, cache_ini)\n",
    "        probs = cache_test[-1]\n",
    "        loss = categ_cross_ent(gt,probs)\n",
    "        test_loss.append(loss)\n",
    "    print(train_loss_epoch_avg)"
   ]
  },
  {
   "cell_type": "code",
   "execution_count": 25,
   "metadata": {},
   "outputs": [
    {
     "data": {
      "image/png": "[encoded data removed]",
      "text/plain": [
       "<Figure size 432x288 with 1 Axes>"
      ]
     },
     "metadata": {
      "needs_background": "light"
     },
     "output_type": "display_data"
    },
    {
     "data": {
      "image/png": "[encoded data removed]",
      "text/plain": [
       "<Figure size 432x288 with 1 Axes>"
      ]
     },
     "metadata": {
      "needs_background": "light"
     },
     "output_type": "display_data"
    },
    {
     "data": {
      "image/png": "[encoded data removed]",
      "text/plain": [
       "<Figure size 432x288 with 1 Axes>"
      ]
     },
     "metadata": {
      "needs_background": "light"
     },
     "output_type": "display_data"
    }
   ],
   "source": [
    "plt.plot(train_loss_batch)\n",
    "plt.show()\n",
    "plt.plot(train_loss_epoch_avg)\n",
    "plt.show()\n",
    "plt.plot(test_loss)\n",
    "plt.show()"
   ]
  },
  {
   "cell_type": "code",
   "execution_count": 26,
   "metadata": {},
   "outputs": [],
   "source": [
    "x_test_smol, y_test_smol = shuffle(x_test_smol, y_test_smol, random_state=0)\n",
    "y_test_smol_hot = one_hot(y_test_smol, 10)\n",
    "y_pred = []\n",
    "for (inp,gt) in zip(x_test_smol,y_test_smol_hot) :\n",
    "    cache = forward_pass(inp, cache_ini)\n",
    "    probs = cache[-1]\n",
    "    y_pred.append(probs)\n",
    "    loss = categ_cross_ent(gt,probs)"
   ]
  },
  {
   "cell_type": "code",
   "execution_count": 27,
   "metadata": {},
   "outputs": [],
   "source": [
    "y_pred_a = np.array(y_pred)\n",
    "y_pred_hot = np.zeros_like(y_pred_a)\n",
    "for i in range(len(y_pred_a)):\n",
    "    y_pred_hot[:,np.argmax(y_pred[i])] = 1\n",
    "y_preds = [np.where(r==1)[0][0] for r in y_pred_hot]\n",
    "y_preds = np.array(y_preds)"
   ]
  },
  {
   "cell_type": "code",
   "execution_count": 28,
   "metadata": {},
   "outputs": [
    {
     "data": {
      "text/plain": [
       "0.1"
      ]
     },
     "execution_count": 28,
     "metadata": {},
     "output_type": "execute_result"
    }
   ],
   "source": [
    "accuracy_score(np.squeeze(y_test_smol), y_preds)"
   ]
  },
  {
   "cell_type": "markdown",
   "metadata": {},
   "source": [
    "# Conclusions and Potential issues with this approach\n",
    "\n",
    "Hard-coding differentiation functions as we did in this assignment can lead to many issues\n",
    "1. Say one of the expressions is wrong, none of the losses converge\n",
    "\n",
    "Tensorflow and Keras build a computational graph where all the trainable parameters can be nudged by a small value and hence partial derivative wrt any variable is computed within some margin of error. In hardcoding scenario, it's very difficult to backtrack where the issue is occuring\n",
    "\n",
    "Also, initialisation plays a huge roll in backprop. Initialising weights as too high can lead to NaN error during backprop\n",
    "\n",
    "In the following code, kernels seemed to be learning some maps but the loss and results say otherwise. Have tested this code with multiple initialisations, learning rates, shuffle seeds, no shuffles, batch GD, SGD but nothing worked and accuracy never crossed 0.1"
   ]
  }
 ],
 "metadata": {
  "kernelspec": {
   "display_name": "Python 3",
   "language": "python",
   "name": "python3"
  },
  "language_info": {
   "codemirror_mode": {
    "name": "ipython",
    "version": 3
   },
   "file_extension": ".py",
   "mimetype": "text/x-python",
   "name": "python",
   "nbconvert_exporter": "python",
   "pygments_lexer": "ipython3",
   "version": "3.5.2"
  }
 },
 "nbformat": 4,
 "nbformat_minor": 2
}
