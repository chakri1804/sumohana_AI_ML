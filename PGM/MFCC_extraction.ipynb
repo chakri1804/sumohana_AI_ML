{
 "cells": [
  {
   "cell_type": "code",
   "execution_count": 6,
   "metadata": {},
   "outputs": [],
   "source": [
    "import librosa as ls\n",
    "import numpy as np\n",
    "import os\n",
    "from sklearn.model_selection import train_test_split"
   ]
  },
  {
   "cell_type": "code",
   "execution_count": 7,
   "metadata": {},
   "outputs": [],
   "source": [
    "### Audio pre-processing \n",
    "\n",
    "chi_mfcc = []\n",
    "bhi_mfcc = []\n",
    "for i in os.listdir('./chi'):\n",
    "    if i.startswith('chi'):\n",
    "        path = os.path.join('./chi',i)\n",
    "        wav,sr = ls.load(path, duration=0.5, sr=None)\n",
    "        mfccs = ls.feature.mfcc(y=wav, sr=sr, n_mfcc=13, hop_length=int(0.015*sr), n_fft=int(0.025*sr))\n",
    "        chi_mfcc.append(mfccs)\n",
    "\n",
    "for i in os.listdir('./bhi'):\n",
    "    if i.startswith('bhi'):\n",
    "        path = os.path.join('./bhi',i)\n",
    "        wav,sr = ls.load(path, duration=0.5, sr=None)\n",
    "        mfccs = ls.feature.mfcc(y=wav, sr=sr, n_mfcc=13, hop_length=int(0.015*sr), n_fft=int(0.025*sr))\n",
    "        bhi_mfcc.append(mfccs)\n",
    "        \n",
    "#Train-test split. Sklearn modules have been used for simplicity.\n",
    "\n",
    "chi_train,chi_test = train_test_split(chi_mfcc, test_size=0.2)\n",
    "bhi_train,bhi_test = train_test_split(bhi_mfcc, test_size=0.2)"
   ]
  },
  {
   "cell_type": "code",
   "execution_count": null,
   "metadata": {},
   "outputs": [],
   "source": [
    "### HMM Building\n",
    "\n"
   ]
  }
 ],
 "metadata": {
  "kernelspec": {
   "display_name": "Python 3",
   "language": "python",
   "name": "python3"
  },
  "language_info": {
   "codemirror_mode": {
    "name": "ipython",
    "version": 2
   },
   "file_extension": ".py",
   "mimetype": "text/x-python",
   "name": "python",
   "nbconvert_exporter": "python",
   "pygments_lexer": "ipython2",
   "version": "2.7.15rc1"
  }
 },
 "nbformat": 4,
 "nbformat_minor": 2
}
