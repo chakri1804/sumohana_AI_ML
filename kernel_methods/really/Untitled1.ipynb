{
 "cells": [
  {
   "cell_type": "code",
   "execution_count": 1,
   "metadata": {},
   "outputs": [],
   "source": [
    "import numpy as np \n",
    "import cvxopt\n",
    "import cvxopt.solvers"
   ]
  },
  {
   "cell_type": "code",
   "execution_count": 2,
   "metadata": {},
   "outputs": [
    {
     "name": "stdout",
     "output_type": "stream",
     "text": [
      "(500, 2)\n",
      "[-1. -1. -1. -1. -1. -1. -1. -1. -1. -1. -1. -1. -1. -1. -1. -1. -1. -1.\n",
      " -1. -1. -1. -1. -1. -1. -1. -1. -1. -1. -1. -1. -1. -1. -1. -1. -1. -1.\n",
      " -1. -1. -1. -1. -1. -1. -1. -1. -1. -1. -1. -1. -1. -1. -1. -1. -1. -1.\n",
      " -1. -1. -1. -1. -1. -1. -1. -1. -1. -1. -1. -1. -1. -1. -1. -1. -1. -1.\n",
      " -1. -1. -1. -1. -1. -1. -1. -1. -1. -1. -1. -1. -1. -1. -1. -1. -1. -1.\n",
      " -1. -1. -1. -1. -1. -1. -1. -1. -1. -1. -1. -1. -1. -1. -1. -1. -1. -1.\n",
      " -1. -1. -1. -1. -1. -1. -1. -1. -1. -1. -1. -1. -1. -1. -1. -1. -1.  1.\n",
      "  1.  1.  1.  1.  1.  1.  1.  1.  1.  1.  1.  1.  1.  1.  1.  1.  1.  1.\n",
      "  1.  1.  1.  1.  1.  1.  1.  1.  1.  1.  1.  1.  1.  1.  1.  1.  1.  1.\n",
      "  1.  1.  1.  1.  1.  1.  1.  1.  1.  1.  1.  1.  1.  1.  1.  1.  1.  1.\n",
      "  1.  1.  1.  1.  1.  1.  1.  1.  1.  1.  1.  1.  1.  1.  1.  1.  1.  1.\n",
      "  1.  1.  1.  1.  1.  1.  1.  1.  1.  1.  1.  1.  1.  1.  1.  1.  1.  1.\n",
      "  1.  1.  1.  1.  1.  1.  1.  1.  1.  1.  1.  1.  1.  1.  1.  1.  1.  1.\n",
      "  1.  1.  1.  1.  1.  1.  1.  1.  1.  1.  1.  1.  1.  1.  1.  1.  1.  1.\n",
      "  1.  1.  1.  1.  1.  1.  1.  1.  1.  1.  1.  1.  1.  1.  1.  1.  1.  1.\n",
      "  1.  1.  1.  1.  1.  1.  1.  1.  1.  1.  1.  1.  1.  1.  1.  1.  1.  1.\n",
      "  1.  1.  1.  1.  1.  1.  1.  1.  1.  1.  1.  1.  1.  1.  1.  1.  1.  1.\n",
      "  1.  1.  1.  1.  1.  1.  1.  1.  1.  1.  1.  1.  1.  1.  1.  1.  1.  1.\n",
      "  1.  1.  1.  1.  1.  1.  1.  1.  1.  1.  1.  1.  1.  1.  1.  1.  1.  1.\n",
      "  1.  1.  1.  1.  1.  1.  1.  1.  1.  1.  1.  1.  1.  1.  1.  1.  1.  1.\n",
      "  1.  1.  1.  1.  1.  1.  1.  1.  1.  1.  1.  1.  1.  1.  1. -1. -1. -1.\n",
      " -1. -1. -1. -1. -1. -1. -1. -1. -1. -1. -1. -1. -1. -1. -1. -1. -1. -1.\n",
      " -1. -1. -1. -1. -1. -1. -1. -1. -1. -1. -1. -1. -1. -1. -1. -1. -1. -1.\n",
      " -1. -1. -1. -1. -1. -1. -1. -1. -1. -1. -1. -1. -1. -1. -1. -1. -1. -1.\n",
      " -1. -1. -1. -1. -1. -1. -1. -1. -1. -1. -1. -1. -1. -1. -1. -1. -1. -1.\n",
      " -1. -1. -1. -1. -1. -1. -1. -1. -1. -1. -1. -1. -1. -1. -1. -1. -1. -1.\n",
      " -1. -1. -1. -1. -1. -1. -1. -1. -1. -1. -1. -1. -1. -1. -1. -1. -1. -1.\n",
      " -1. -1. -1. -1. -1. -1. -1. -1. -1. -1. -1. -1. -1. -1.]\n"
     ]
    }
   ],
   "source": [
    "variance = 0.1\n",
    "n = int(500/2**2)\n",
    "x_00 = np.hstack((np.random.normal(0,variance,(n,1)) , np.random.normal(0,variance,(n,1)) ))\n",
    "x_01 = np.hstack((np.random.normal(0,variance,(n,1)) , np.random.normal(1,variance,(n,1)) ))\n",
    "x_10 = np.hstack((np.random.normal(1,variance,(n,1)) , np.random.normal(0,variance,(n,1)) ))\n",
    "x_11 = np.hstack((np.random.normal(1,variance,(n,1)) , np.random.normal(1,variance,(n,1)) ))\n",
    "x = np.asarray(np.concatenate((x_00,x_01,x_10,x_11)))\n",
    "print(x.shape)\n",
    "# y_train = np.asmatrix(np.append(np.zeros((3*n,1)),np.ones((n,1)))).T\n",
    "y = np.asarray(np.concatenate((-1 * np.ones((n,1)),np.ones((2*n,1)),(-1 * np.ones((n,1)))))).reshape(-1)\n",
    "\n",
    "### Trying to solve classification problem , so commenting the below noise\n",
    "# y_train_and += np.random.normal(1,variance,(4*n,1))\n",
    "# y_train_or += np.random.normal(1,variance,(4*n,1))\n",
    "# y_train_xor += np.random.normal(1,variance,(4*n,1))\n",
    "print(y)"
   ]
  },
  {
   "cell_type": "code",
   "execution_count": 40,
   "metadata": {},
   "outputs": [],
   "source": [
    "def rbf_kernel(x,y, gamma = 0.1):\n",
    "        return np.exp(-1.0*gamma*np.dot(np.subtract(x,y).T,np.subtract(x,y)))\n",
    "\n",
    "def linear(x,y):\n",
    "    return np.dot(x.T,y)\n",
    "\n",
    "def apply_kernel(X, gamma = 0.1):\n",
    "    K = np.zeros([X.shape[0],X.shape[0]])\n",
    "    for i in range(X.shape[0]):\n",
    "        for j in range(X.shape[0]):\n",
    "            if(kernel == 'rbf'):\n",
    "                K[i,j] = rbf_kernel(X[i],X[j], gamma)\n",
    "            else:\n",
    "                K[i,j] = linear(X[i],X[j])\n",
    "    return K"
   ]
  },
  {
   "cell_type": "code",
   "execution_count": 41,
   "metadata": {},
   "outputs": [
    {
     "name": "stdout",
     "output_type": "stream",
     "text": [
      "     pcost       dcost       gap    pres   dres\n",
      " 0: -1.9233e+02 -5.1043e+02  3e+02  2e-15  2e+00\n",
      " 1: -2.4938e+02 -3.7131e+02  1e+02  1e-13  7e-01\n",
      " 2: -3.1664e+02 -4.4297e+02  1e+02  1e-13  7e-01\n",
      " 3: -3.8058e+02 -5.1286e+02  1e+02  7e-14  7e-01\n",
      " 4: -6.4998e+02 -8.2530e+02  2e+02  7e-14  7e-01\n",
      " 5: -1.1139e+03 -1.4050e+03  3e+02  1e-13  4e-01\n",
      " 6: -1.2983e+03 -1.3900e+03  9e+01  2e-13  7e-02\n",
      " 7: -1.3076e+03 -1.3190e+03  1e+01  4e-13  6e-03\n",
      " 8: -1.3044e+03 -1.3124e+03  8e+00  2e-13  1e-03\n",
      " 9: -1.3106e+03 -1.3108e+03  2e-01  1e-13  3e-05\n",
      "10: -1.3107e+03 -1.3107e+03  3e-03  7e-13  3e-07\n",
      "11: -1.3107e+03 -1.3107e+03  3e-05  3e-13  3e-09\n",
      "Optimal solution found.\n"
     ]
    }
   ],
   "source": [
    "num_data, num_features = x.shape\n",
    "labels = y.astype(np.double)\n",
    "K = apply_kernel(x)\n",
    "P = cvxopt.matrix(np.outer(labels,labels)*K)\n",
    "q = cvxopt.matrix(np.ones(num_data)*-1)\n",
    "A = cvxopt.matrix(labels,(1,num_data))\n",
    "b = cvxopt.matrix(0.0)\n",
    "G = cvxopt.matrix(np.diag(np.ones(num_data) * -1))\n",
    "h = cvxopt.matrix(np.zeros(num_data))\n",
    "\n",
    "alphas = np.ravel(cvxopt.solvers.qp(P, q, G, h, A, b)['x'])\n",
    "is_sv = alphas>1e-5"
   ]
  },
  {
   "cell_type": "code",
   "execution_count": 42,
   "metadata": {},
   "outputs": [],
   "source": [
    "support_vectors = x[is_sv]\n",
    "n_support = np.sum(is_sv)\n",
    "alphas = alphas[is_sv]\n",
    "support_labels = labels[is_sv]\n",
    "indices = np.arange(num_data)[is_sv]\n",
    "intercept = 0\n",
    "for i in range(alphas.shape[0]):\n",
    "    intercept += support_labels[i] \n",
    "    intercept -= np.sum(alphas*support_labels*K[indices[i],is_sv])\n",
    "intercept /= alphas.shape[0]\n"
   ]
  },
  {
   "cell_type": "code",
   "execution_count": 44,
   "metadata": {},
   "outputs": [
    {
     "name": "stdout",
     "output_type": "stream",
     "text": [
      "(500, 2)\n",
      "(500,)\n"
     ]
    }
   ],
   "source": [
    "variance = 0.1\n",
    "n = int(500/2**2)\n",
    "x_00 = np.hstack((np.random.normal(0,variance,(n,1)) , np.random.normal(0,variance,(n,1)) ))\n",
    "x_01 = np.hstack((np.random.normal(0,variance,(n,1)) , np.random.normal(1,variance,(n,1)) ))\n",
    "x_10 = np.hstack((np.random.normal(1,variance,(n,1)) , np.random.normal(0,variance,(n,1)) ))\n",
    "x_11 = np.hstack((np.random.normal(1,variance,(n,1)) , np.random.normal(1,variance,(n,1)) ))\n",
    "x_test = np.asarray(np.concatenate((x_00,x_01,x_10,x_11)))\n",
    "print(x.shape)\n",
    "# y_train = np.asmatrix(np.append(np.zeros((3*n,1)),np.ones((n,1)))).T\n",
    "y_test = np.asarray(np.concatenate((-1 * np.ones((n,1)),np.ones((2*n,1)),(-1 * np.ones((n,1)))))).reshape(-1)\n",
    "\n",
    "### Trying to solve classification problem , so commenting the below noise\n",
    "print(y_test.shape)"
   ]
  },
  {
   "cell_type": "code",
   "execution_count": 47,
   "metadata": {},
   "outputs": [
    {
     "name": "stdout",
     "output_type": "stream",
     "text": [
      "[-1 -1 -1 -1 -1 -1 -1 -1 -1 -1 -1 -1 -1 -1 -1 -1 -1 -1 -1 -1 -1 -1 -1 -1\n",
      " -1 -1 -1 -1 -1 -1 -1 -1 -1 -1 -1 -1 -1 -1 -1 -1 -1 -1 -1 -1 -1 -1 -1 -1\n",
      " -1 -1 -1 -1 -1 -1 -1 -1 -1 -1 -1 -1 -1 -1 -1 -1 -1 -1 -1 -1 -1 -1 -1 -1\n",
      " -1 -1 -1 -1 -1 -1 -1 -1 -1 -1 -1 -1 -1 -1 -1 -1 -1 -1 -1 -1 -1 -1 -1 -1\n",
      " -1 -1 -1 -1 -1 -1 -1 -1 -1 -1 -1 -1 -1 -1 -1 -1 -1 -1 -1 -1 -1 -1 -1 -1\n",
      " -1 -1 -1 -1 -1  1  1  1  1  1  1  1  1  1  1  1  1  1  1  1  1  1  1  1\n",
      "  1  1  1  1  1  1  1  1  1  1  1  1  1  1  1  1  1  1  1  1  1  1  1  1\n",
      "  1  1  1  1  1  1  1  1  1  1  1  1  1  1  1  1  1  1  1  1  1  1  1  1\n",
      "  1  1  1  1  1  1  1  1  1  1  1  1  1  1  1  1  1  1  1  1  1  1  1  1\n",
      "  1  1  1  1  1  1  1  1  1  1  1  1  1  1  1  1  1  1  1  1  1  1  1  1\n",
      "  1  1  1  1  1  1  1  1  1  1  1  1  1  1  1  1  1  1  1  1  1  1  1  1\n",
      "  1  1  1  1  1  1  1  1  1  1  1  1  1  1  1  1  1  1  1  1  1  1  1  1\n",
      "  1  1  1  1  1  1  1  1  1  1  1  1  1  1  1  1  1  1  1  1  1  1  1  1\n",
      "  1  1  1  1  1  1  1  1  1  1  1  1  1  1  1  1  1  1  1  1  1  1  1  1\n",
      "  1  1  1  1  1  1  1  1  1  1  1  1  1  1  1  1  1  1  1  1  1  1  1  1\n",
      "  1  1  1  1  1  1  1  1  1  1  1  1  1  1  1 -1 -1 -1 -1 -1 -1 -1 -1 -1\n",
      " -1 -1 -1 -1 -1 -1 -1 -1 -1 -1 -1 -1 -1 -1 -1 -1 -1 -1 -1 -1 -1 -1 -1 -1\n",
      " -1 -1 -1 -1 -1 -1 -1 -1 -1 -1 -1 -1 -1 -1 -1 -1 -1 -1 -1 -1 -1 -1 -1 -1\n",
      " -1 -1 -1 -1 -1 -1 -1 -1 -1 -1 -1 -1 -1 -1 -1 -1 -1 -1 -1 -1 -1 -1 -1 -1\n",
      " -1 -1 -1 -1 -1 -1 -1 -1 -1 -1 -1 -1 -1 -1 -1 -1 -1 -1 -1 -1 -1 -1 -1 -1\n",
      " -1 -1 -1 -1 -1 -1 -1 -1 -1 -1 -1 -1 -1 -1 -1 -1 -1 -1 -1 -1]\n"
     ]
    }
   ],
   "source": [
    "score = np.zeros(x_test.shape[0])\n",
    "for i in range(x_test.shape[0]):\n",
    "    s = 0\n",
    "    for alpha,label,sv in zip(alphas,support_labels,support_vectors):\n",
    "        s += alpha*label*rbf_kernel(x_test[i],sv)\n",
    "    score[i] = s\n",
    "score = score + intercept\n",
    "\n",
    "res = np.where(score>0,1,-1)\n",
    "print(res)"
   ]
  },
  {
   "cell_type": "code",
   "execution_count": 46,
   "metadata": {},
   "outputs": [
    {
     "name": "stdout",
     "output_type": "stream",
     "text": [
      "[ True  True  True  True  True  True  True  True  True  True  True  True\n",
      "  True  True  True  True  True  True  True  True  True  True  True  True\n",
      "  True  True  True  True  True  True  True  True  True  True  True  True\n",
      "  True  True  True  True  True  True  True  True  True  True  True  True\n",
      "  True  True  True  True  True  True  True  True  True  True  True  True\n",
      "  True  True  True  True  True  True  True  True  True  True  True  True\n",
      "  True  True  True  True  True  True  True  True  True  True  True  True\n",
      "  True  True  True  True  True  True  True  True  True  True  True  True\n",
      "  True  True  True  True  True  True  True  True  True  True  True  True\n",
      "  True  True  True  True  True  True  True  True  True  True  True  True\n",
      "  True  True  True  True  True  True  True  True  True  True  True  True\n",
      "  True  True  True  True  True  True  True  True  True  True  True  True\n",
      "  True  True  True  True  True  True  True  True  True  True  True  True\n",
      "  True  True  True  True  True  True  True  True  True  True  True  True\n",
      "  True  True  True  True  True  True  True  True  True  True  True  True\n",
      "  True  True  True  True  True  True  True  True  True  True  True  True\n",
      "  True  True  True  True  True  True  True  True  True  True  True  True\n",
      "  True  True  True  True  True  True  True  True  True  True  True  True\n",
      "  True  True  True  True  True  True  True  True  True  True  True  True\n",
      "  True  True  True  True  True  True  True  True  True  True  True  True\n",
      "  True  True  True  True  True  True  True  True  True  True  True  True\n",
      "  True  True  True  True  True  True  True  True  True  True  True  True\n",
      "  True  True  True  True  True  True  True  True  True  True  True  True\n",
      "  True  True  True  True  True  True  True  True  True  True  True  True\n",
      "  True  True  True  True  True  True  True  True  True  True  True  True\n",
      "  True  True  True  True  True  True  True  True  True  True  True  True\n",
      "  True  True  True  True  True  True  True  True  True  True  True  True\n",
      "  True  True  True  True  True  True  True  True  True  True  True  True\n",
      "  True  True  True  True  True  True  True  True  True  True  True  True\n",
      "  True  True  True  True  True  True  True  True  True  True  True  True\n",
      "  True  True  True  True  True  True  True  True  True  True  True  True\n",
      "  True  True  True  True  True  True  True  True  True  True  True  True\n",
      "  True  True  True  True  True  True  True  True  True  True  True  True\n",
      "  True  True  True  True  True  True  True  True  True  True  True  True\n",
      "  True  True  True  True  True  True  True  True  True  True  True  True\n",
      "  True  True  True  True  True  True  True  True  True  True  True  True\n",
      "  True  True  True  True  True  True  True  True  True  True  True  True\n",
      "  True  True  True  True  True  True  True  True  True  True  True  True\n",
      "  True  True  True  True  True  True  True  True  True  True  True  True\n",
      "  True  True  True  True  True  True  True  True  True  True  True  True\n",
      "  True  True  True  True  True  True  True  True  True  True  True  True\n",
      "  True  True  True  True  True  True  True  True]\n"
     ]
    }
   ],
   "source": [
    "print(res == y_test)"
   ]
  }
 ],
 "metadata": {
  "kernelspec": {
   "display_name": "Python 3",
   "language": "python",
   "name": "python3"
  },
  "language_info": {
   "codemirror_mode": {
    "name": "ipython",
    "version": 3
   },
   "file_extension": ".py",
   "mimetype": "text/x-python",
   "name": "python",
   "nbconvert_exporter": "python",
   "pygments_lexer": "ipython3",
   "version": "3.5.2"
  }
 },
 "nbformat": 4,
 "nbformat_minor": 2
}
