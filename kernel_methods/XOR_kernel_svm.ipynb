{
 "cells": [
  {
   "cell_type": "code",
   "execution_count": 1,
   "metadata": {},
   "outputs": [
    {
     "name": "stdout",
     "output_type": "stream",
     "text": [
      "(1000, 2)\n"
     ]
    }
   ],
   "source": [
    "import numpy as np\n",
    "import cvxopt\n",
    "from sklearn.model_selection import train_test_split\n",
    "\n",
    "var = 0.1\n",
    "n = 250\n",
    "\n",
    "x00 = np.hstack((np.random.normal(0,var,(n,1)) , np.random.normal(0,var,(n,1)) ))\n",
    "x01 = np.hstack((np.random.normal(0,var,(n,1)) , np.random.normal(1,var,(n,1)) ))\n",
    "x10 = np.hstack((np.random.normal(1,var,(n,1)) , np.random.normal(0,var,(n,1)) ))\n",
    "x11 = np.hstack((np.random.normal(1,var,(n,1)) , np.random.normal(1,var,(n,1)) ))\n",
    "x = np.asarray(np.concatenate((x00,x01,x10,x11)))\n",
    "print(x.shape)\n",
    "y = np.asarray(np.concatenate((-1 * np.ones((n,1)),np.ones((2*n,1)),(-1 * np.ones((n,1)))))).reshape(-1)\n",
    "\n",
    "data = x\n",
    "labels = y\n",
    "labels = labels.astype(np.double)\n",
    "data_train, data_test, labels_train, labels_test = train_test_split(data, labels, test_size=0.2, stratify=labels)\n",
    "\n",
    "# print(data_train[0:10])\n",
    "# print(labels_train[0:10])"
   ]
  },
  {
   "cell_type": "code",
   "execution_count": 2,
   "metadata": {},
   "outputs": [],
   "source": [
    "def rbf_kernel(x,y, gamma = 0.1):\n",
    "        return np.exp(-1.0*gamma*np.dot(np.subtract(x,y).T,np.subtract(x,y)))"
   ]
  },
  {
   "cell_type": "code",
   "execution_count": 3,
   "metadata": {},
   "outputs": [
    {
     "name": "stdout",
     "output_type": "stream",
     "text": [
      "(800, 800)\n"
     ]
    }
   ],
   "source": [
    "data_RBF = np.zeros((len(data_train),len(data_train)))\n",
    "gamma = 0.1\n",
    "for i in range(len(data_train)):\n",
    "    for j in range(len(data_train)):\n",
    "        temp = -np.linalg.norm(data_train[i]-data_train[j])**2\n",
    "        data_RBF[i][j] = np.exp(temp*gamma)\n",
    "\n",
    "# data_RBF = cp.Constant(data_RBF)\n",
    "print(data_RBF.shape)"
   ]
  },
  {
   "cell_type": "code",
   "execution_count": 4,
   "metadata": {},
   "outputs": [
    {
     "name": "stdout",
     "output_type": "stream",
     "text": [
      "(800, 800)\n"
     ]
    }
   ],
   "source": [
    "n_samples = len(labels_train)\n",
    "temp = np.outer(labels_train,labels_train)\n",
    "print(temp.shape)\n",
    "P = cvxopt.matrix(temp* data_RBF)\n",
    "q = cvxopt.matrix(np.ones(n_samples) * -1.0)\n",
    "A = cvxopt.matrix(labels_train, (1,n_samples))\n",
    "b = cvxopt.matrix(0.0)\n",
    "G = cvxopt.matrix(np.diag(np.ones(n_samples) * -1))\n",
    "h = cvxopt.matrix(np.zeros(n_samples))"
   ]
  },
  {
   "cell_type": "code",
   "execution_count": 5,
   "metadata": {
    "scrolled": true
   },
   "outputs": [
    {
     "name": "stdout",
     "output_type": "stream",
     "text": [
      "(800, 800) (800, 1) (1, 800) (1, 1) (800, 800) (800, 1)\n",
      "     pcost       dcost       gap    pres   dres\n",
      " 0: -2.2481e+02 -6.3037e+02  2e+03  4e+01  2e+00\n",
      " 1: -3.1582e+02 -7.0486e+02  7e+02  1e+01  6e-01\n",
      " 2: -4.6208e+02 -8.4033e+02  7e+02  1e+01  5e-01\n",
      " 3: -9.2679e+02 -1.3033e+03  7e+02  1e+01  5e-01\n",
      " 4: -1.4208e+03 -1.7065e+03  4e+02  4e+00  2e-01\n",
      " 5: -1.4772e+03 -1.5092e+03  5e+01  4e-01  2e-02\n",
      " 6: -1.4821e+03 -1.4842e+03  2e+00  4e-03  2e-04\n",
      " 7: -1.4838e+03 -1.4838e+03  2e-02  4e-05  2e-06\n",
      " 8: -1.4838e+03 -1.4838e+03  2e-04  4e-07  2e-08\n",
      " 9: -1.4838e+03 -1.4838e+03  2e-06  4e-09  2e-10\n",
      "Optimal solution found.\n"
     ]
    }
   ],
   "source": [
    "print(np.array(P).shape, np.array(q).shape, np.array(A).shape, np.array(b).shape, np.array(G).shape, np.array(h).shape)\n",
    "solution = cvxopt.solvers.qp(P, q, G, h, A, b)"
   ]
  },
  {
   "cell_type": "code",
   "execution_count": 6,
   "metadata": {
    "scrolled": true
   },
   "outputs": [
    {
     "name": "stdout",
     "output_type": "stream",
     "text": [
      "(800,)\n"
     ]
    }
   ],
   "source": [
    "a = np.ravel(solution['x'])\n",
    "print(a.shape)\n",
    "\n",
    "S = a>1e-5"
   ]
  },
  {
   "cell_type": "code",
   "execution_count": 7,
   "metadata": {},
   "outputs": [],
   "source": [
    "SVs = data_train[S]\n",
    "n_support = np.sum(S)\n",
    "a = a[a>1e-5]\n",
    "SL = labels_train[S]\n",
    "indices = np.arange(n_samples)[S]\n",
    "intercept = 0\n",
    "for i in range(a.shape[0]):\n",
    "    intercept += SL[i] \n",
    "    intercept -= np.sum(a*SL*data_RBF[indices[i],S])\n",
    "intercept /= a.shape[0]"
   ]
  },
  {
   "cell_type": "code",
   "execution_count": 8,
   "metadata": {},
   "outputs": [
    {
     "name": "stdout",
     "output_type": "stream",
     "text": [
      "[-1  1  1 -1 -1  1 -1  1  1 -1  1 -1 -1 -1 -1  1  1  1 -1  1 -1 -1  1 -1\n",
      "  1 -1  1 -1 -1 -1  1 -1 -1 -1  1 -1 -1  1  1  1 -1  1  1  1  1 -1 -1 -1\n",
      " -1  1  1  1 -1 -1 -1  1  1 -1 -1 -1 -1 -1  1  1  1  1 -1  1  1  1  1 -1\n",
      "  1  1 -1  1 -1 -1 -1  1 -1  1 -1 -1 -1  1  1 -1  1  1 -1  1  1  1  1  1\n",
      "  1  1 -1  1  1 -1 -1 -1 -1 -1 -1 -1  1 -1 -1 -1  1  1 -1  1  1  1  1  1\n",
      "  1 -1 -1 -1 -1  1 -1  1  1 -1 -1 -1 -1 -1  1  1 -1 -1 -1 -1  1 -1 -1  1\n",
      "  1  1  1 -1  1  1 -1  1 -1 -1  1 -1  1  1  1 -1  1 -1 -1  1  1 -1 -1 -1\n",
      " -1 -1  1 -1  1  1  1 -1  1 -1 -1  1  1 -1  1 -1  1 -1 -1  1  1  1 -1  1\n",
      "  1  1 -1  1  1  1 -1 -1]\n"
     ]
    }
   ],
   "source": [
    "score = np.zeros(data_test.shape[0])\n",
    "for i in range(data_test.shape[0]):\n",
    "    s = 0\n",
    "    for alpha,label,sv in zip(a,SL,SVs):\n",
    "        s += alpha*label*rbf_kernel(data_test[i],sv)\n",
    "    score[i] = s\n",
    "score = score + intercept\n",
    "\n",
    "res = np.where(score>0,1,-1)\n",
    "print(res)"
   ]
  },
  {
   "cell_type": "code",
   "execution_count": 9,
   "metadata": {},
   "outputs": [
    {
     "name": "stdout",
     "output_type": "stream",
     "text": [
      "[-1.  1.  1. -1. -1.  1. -1.  1.  1. -1.  1. -1. -1. -1. -1.  1.  1.  1.\n",
      " -1.  1. -1. -1.  1. -1.  1. -1.  1. -1. -1. -1.  1. -1. -1. -1.  1. -1.\n",
      " -1.  1.  1.  1. -1.  1.  1.  1.  1. -1. -1. -1. -1.  1.  1.  1. -1. -1.\n",
      " -1.  1.  1. -1. -1. -1. -1. -1.  1.  1.  1.  1. -1.  1.  1.  1.  1. -1.\n",
      "  1.  1. -1.  1. -1. -1. -1.  1. -1.  1. -1. -1. -1.  1.  1. -1.  1.  1.\n",
      " -1.  1.  1.  1.  1.  1.  1.  1. -1.  1.  1. -1. -1. -1. -1. -1. -1. -1.\n",
      "  1. -1. -1. -1.  1.  1. -1.  1.  1.  1.  1.  1.  1. -1. -1. -1. -1.  1.\n",
      " -1.  1.  1. -1. -1. -1. -1. -1.  1.  1. -1. -1. -1. -1.  1. -1. -1.  1.\n",
      "  1.  1.  1. -1.  1.  1. -1.  1. -1. -1.  1. -1.  1.  1.  1. -1.  1. -1.\n",
      " -1.  1.  1. -1. -1. -1. -1. -1.  1. -1.  1.  1.  1. -1.  1. -1. -1.  1.\n",
      "  1. -1.  1. -1.  1. -1. -1.  1.  1.  1. -1.  1.  1.  1. -1.  1.  1.  1.\n",
      " -1. -1.]\n"
     ]
    }
   ],
   "source": [
    "print(labels_test.flatten())"
   ]
  },
  {
   "cell_type": "code",
   "execution_count": 10,
   "metadata": {},
   "outputs": [
    {
     "data": {
      "text/plain": [
       "1.0"
      ]
     },
     "execution_count": 10,
     "metadata": {},
     "output_type": "execute_result"
    }
   ],
   "source": [
    "from sklearn.metrics import accuracy_score\n",
    "\n",
    "accuracy_score(res, labels_test.flatten())"
   ]
  },
  {
   "cell_type": "code",
   "execution_count": 13,
   "metadata": {},
   "outputs": [
    {
     "name": "stdout",
     "output_type": "stream",
     "text": [
      "\n",
      "ECOS 2.0.7 - (C) embotech GmbH, Zurich Switzerland, 2012-15. Web: www.embotech.com/ECOS\n",
      "\n",
      "It     pcost       dcost      gap   pres   dres    k/t    mu     step   sigma     IR    |   BT\n",
      " 0  +0.000e+00  -5.970e-01  +9e+02  1e+00  1e+00  1e+00  1e+00    ---    ---    1  1  - |  -  - \n",
      " 1  -2.809e+02  -9.000e+01  +4e+02  9e+01  5e+01  3e+02  6e-01  0.5588  1e-01   1  1  1 |  0  0\n",
      " 2  -3.860e+02  -4.012e-01  +3e+02  7e-01  1e+00  4e+02  5e-01  0.0412  1e+00   1  1  1 |  0  0\n",
      " 3  -3.230e+03  -3.380e+00  +7e+01  1e+00  2e+00  3e+03  1e-01  0.7735  3e-02   1  1  1 |  0  0\n",
      " 4  -4.276e+03  -2.558e+00  +7e+01  1e+00  3e+00  4e+03  1e-01  0.3027  7e-01   2  2  2 |  0  0\n",
      " 5  -1.779e+04  -1.290e+01  +2e+01  1e+00  3e+00  2e+04  3e-02  0.7395  2e-02   2  1  1 |  0  0\n",
      " 6  -3.594e+05  -3.358e+02  +1e+00  2e+00  4e+00  4e+05  2e-03  0.9504  2e-02   1  1  1 |  0  0\n",
      " 7  -3.107e+07  -5.863e+04  +1e-01  1e+01  2e+01  3e+07  2e-04  0.9890  7e-02   1  1  1 |  0  0\n",
      " 8  -4.300e+08  -7.059e+05  +1e-02  1e+01  3e+01  4e+08  1e-05  0.9282  1e-02   1  1  1 |  0  0\n",
      " 9  -1.072e+10  -6.050e+06  +2e-03  5e+01  1e+02  1e+10  2e-06  0.9645  1e-01   2  1  2 |  0  0\n",
      "10  -2.038e+11  -1.476e+08  +1e-04  5e+01  1e+02  2e+11  1e-07  0.9478  3e-03   2  2  2 |  0  0\n",
      "11  -1.631e+12  -1.704e+09  +1e-05  6e+01  1e+02  2e+12  2e-08  0.8791  3e-02   4  4  3 |  0  0\n",
      "12  -7.637e+13  -7.885e+10  +1e-06  2e+02  4e+02  8e+13  1e-09  0.9890  6e-02   5  2  4 |  0  0\n",
      "\n",
      "UNBOUNDED (within feastol=1.1e-09).\n",
      "Runtime: 0.004681 seconds.\n",
      "\n",
      "-1.0\n",
      "0.5\n"
     ]
    }
   ],
   "source": [
    "import numpy as np\n",
    "import cvxpy as cp\n",
    "import pandas as pd\n",
    "\n",
    "X = data_train\n",
    "Y = labels_train\n",
    "\n",
    "# Convex Optimization\n",
    "a = cp.Variable(len(Y))\n",
    "R1 = cp.matmul(cp.diag(a),Y)\n",
    "R2 = cp.matmul(X.T,R1)\n",
    "R4 = cp.norm(R2)**2\n",
    "R4.shape\n",
    "\n",
    "P1 = cp.sum(a)\n",
    "Const1 = P1 - 0.5*R4\n",
    "# Const1 = np.reshape(Const1,(1,))\n",
    "\n",
    "Const2 = cp.matmul(a.T,Y)\n",
    "Const3 = [0<=a,Const2 == 0]\n",
    "obj = cp.Maximize(Const1)\n",
    "prob = cp.Problem(obj, Const3)\n",
    "prob.solve(verbose=True)\n",
    "\n",
    "W = np.zeros((2,))\n",
    "# for i in range(len(Y)):\n",
    "#     W += A[i]*Y[i]*(X[i].T)\n",
    "#     if(A[i]>1e-4):\n",
    "# #         print(i)\n",
    "A = (np.array(a.value)).reshape(-1,1)\n",
    "W0 = (1/Y[327]) - np.dot(W,X[327])\n",
    "# print(W0)\n",
    "\n",
    "Test = data_test\n",
    "preds_lin = []\n",
    "for i in range(len(Test)):\n",
    "    est = np.sign(np.dot(W,Test[i])+W0)\n",
    "    preds_lin.append(est)\n",
    "    \n",
    "linals = accuracy_score(preds_lin, labels_test)\n",
    "print(linals)"
   ]
  },
  {
   "cell_type": "markdown",
   "metadata": {},
   "source": [
    "As we can observe, RBF kernel outperform linear kernel as XOR is a non linear function by nature"
   ]
  }
 ],
 "metadata": {
  "kernelspec": {
   "display_name": "Python 3",
   "language": "python",
   "name": "python3"
  },
  "language_info": {
   "codemirror_mode": {
    "name": "ipython",
    "version": 3
   },
   "file_extension": ".py",
   "mimetype": "text/x-python",
   "name": "python",
   "nbconvert_exporter": "python",
   "pygments_lexer": "ipython3",
   "version": "3.5.2"
  }
 },
 "nbformat": 4,
 "nbformat_minor": 2
}
