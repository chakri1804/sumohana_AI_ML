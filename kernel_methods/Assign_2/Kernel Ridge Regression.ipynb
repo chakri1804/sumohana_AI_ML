{
 "cells": [
  {
   "cell_type": "code",
   "execution_count": 1,
   "metadata": {},
   "outputs": [
    {
     "name": "stdout",
     "output_type": "stream",
     "text": [
      "(50,)\n"
     ]
    },
    {
     "data": {
      "text/plain": [
       "<Figure size 640x480 with 1 Axes>"
      ]
     },
     "metadata": {},
     "output_type": "display_data"
    }
   ],
   "source": [
    "import numpy as np\n",
    "import matplotlib.pyplot as plt\n",
    "\n",
    "N = 50\n",
    "x = np.linspace(0, 2*np.pi, N)\n",
    "mean = 0\n",
    "std = 0.06\n",
    "y = np.sin(x)\n",
    "y += np.random.normal(mean, std, N)\n",
    "x = np.transpose(x)\n",
    "print(x.shape)\n",
    "\n",
    "#Plotting for visualisation\n",
    "plt.scatter(x,y)\n",
    "plt.show()\n",
    "\n",
    "gamma = 10"
   ]
  },
  {
   "cell_type": "code",
   "execution_count": 2,
   "metadata": {},
   "outputs": [],
   "source": [
    "def rbf_kernel(x, y, gamma=gamma):\n",
    "    lel = np.exp(-gamma * np.linalg.norm(x-y)**2)\n",
    "    return lel"
   ]
  },
  {
   "cell_type": "code",
   "execution_count": 3,
   "metadata": {},
   "outputs": [],
   "source": [
    "K = np.zeros((N,N))\n",
    "for i in range(N):\n",
    "    for j in range(N):\n",
    "        K[i,j] = rbf_kernel(x[i], x[j], gamma=gamma)"
   ]
  },
  {
   "cell_type": "code",
   "execution_count": 4,
   "metadata": {},
   "outputs": [],
   "source": [
    "Alp = np.linalg.inv(K + N*1*np.identity(N))@y"
   ]
  },
  {
   "cell_type": "code",
   "execution_count": 5,
   "metadata": {},
   "outputs": [
    {
     "name": "stdout",
     "output_type": "stream",
     "text": [
      "[-0.00174764  0.00574226  0.0039845   0.00754398  0.00752495  0.01119626\n",
      "  0.01216296  0.01429024  0.01361122  0.01714894  0.01911355  0.0176844\n",
      "  0.01782781  0.0170541   0.02061412  0.01705745  0.01458748  0.01719545\n",
      "  0.01238429  0.01323768  0.00934121  0.00712989  0.00573079  0.00158572\n",
      "  0.00011734  0.00080649 -0.00404415 -0.00573982 -0.00754242 -0.00917578\n",
      " -0.01178611 -0.012273   -0.01470854 -0.01672428 -0.01690779 -0.02000643\n",
      " -0.0179716  -0.01779409 -0.0180156  -0.01858125 -0.01733172 -0.01497049\n",
      " -0.01156681 -0.01431362 -0.00900734 -0.00929864 -0.0058881  -0.00490825\n",
      " -0.00363222  0.00043222]\n"
     ]
    }
   ],
   "source": [
    "print(Alp)"
   ]
  },
  {
   "cell_type": "code",
   "execution_count": 6,
   "metadata": {},
   "outputs": [
    {
     "data": {
      "image/png": "[encoded data removed]",
      "text/plain": [
       "<Figure size 432x288 with 1 Axes>"
      ]
     },
     "metadata": {
      "needs_background": "light"
     },
     "output_type": "display_data"
    }
   ],
   "source": [
    "X = np.linspace(0,2*np.pi,1000)\n",
    "\n",
    "K1 = np.zeros((N))\n",
    "y1 = np.zeros(1000)\n",
    "\n",
    "for i in range(len(X)):\n",
    "    for j in range(N):\n",
    "        K1[j] = rbf_kernel(X[i], x[j], gamma=gamma)\n",
    "    y1[i] = np.sum(Alp * K1)\n",
    "    \n",
    "plt.scatter(X,y1)\n",
    "plt.show()0.5"
   ]
  },
  {
   "cell_type": "markdown",
   "metadata": {},
   "source": [
    "As  we can see here, even though the model is trained on only on 50 points, its able to predict the y- axis values for another 1000 points accurately"
   ]
  }
 ],
 "metadata": {
  "kernelspec": {
   "display_name": "Python 3",
   "language": "python",
   "name": "python3"
  },
  "language_info": {
   "codemirror_mode": {
    "name": "ipython",
    "version": 3
   },
   "file_extension": ".py",
   "mimetype": "text/x-python",
   "name": "python",
   "nbconvert_exporter": "python",
   "pygments_lexer": "ipython3",
   "version": "3.5.2"
  }
 },
 "nbformat": 4,
 "nbformat_minor": 2
}
