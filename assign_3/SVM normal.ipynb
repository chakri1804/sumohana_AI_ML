{
 "cells": [
  {
   "cell_type": "code",
   "execution_count": 2,
   "metadata": {},
   "outputs": [
    {
     "name": "stdout",
     "output_type": "stream",
     "text": [
      "(500, 2) (500, 1)\n"
     ]
    }
   ],
   "source": [
    "import numpy as np\n",
    "import cvxpy as cp\n",
    "import pandas as pd\n",
    "\n",
    "df_X = pd.read_csv('Xsvm.csv',header=None)\n",
    "df_Y = pd.read_csv('ysvm.csv',header=None)\n",
    "X = np.array(df_X,dtype=np.float64)\n",
    "Y = np.array(df_Y,dtype=np.float64)\n",
    "print(X.shape,Y.shape)"
   ]
  },
  {
   "cell_type": "code",
   "execution_count": 52,
   "metadata": {},
   "outputs": [
    {
     "data": {
      "text/plain": [
       "()"
      ]
     },
     "execution_count": 52,
     "metadata": {},
     "output_type": "execute_result"
    }
   ],
   "source": [
    "# Convex Optimization\n",
    "a = cp.Variable(len(Y))\n",
    "R1 = cp.matmul(cp.diag(a),Y)\n",
    "R2 = cp.matmul(X.T,R1)\n",
    "R4 = cp.norm(R2)**2\n",
    "R4.shape"
   ]
  },
  {
   "cell_type": "code",
   "execution_count": 53,
   "metadata": {},
   "outputs": [],
   "source": [
    "P1 = cp.sum(a)\n",
    "Const1 = P1 - 0.5*R4\n",
    "# Const1 = np.reshape(Const1,(1,))"
   ]
  },
  {
   "cell_type": "code",
   "execution_count": null,
   "metadata": {},
   "outputs": [
    {
     "name": "stdout",
     "output_type": "stream",
     "text": [
      "----------------------------------------------------------------------------\n",
      "\tSCS v2.0.2 - Splitting Conic Solver\n",
      "\t(c) Brendan O'Donoghue, Stanford University, 2012-2017\n",
      "----------------------------------------------------------------------------\n",
      "Lin-sys: sparse-indirect, nnz in A = 2019, CG tol ~ 1/iter^(2.00)\n",
      "eps = 1.00e-05, alpha = 1.50, max_iters = 5000, normalize = 1, scale = 1.00\n",
      "acceleration_lookback = 20, rho_x = 1.00e-03\n",
      "Variables n = 508, constraints m = 517\n",
      "Cones:\tprimal zero / dual free vars: 8\n",
      "\tlinear vars: 500\n",
      "\tsoc vars: 3, soc blks: 1\n",
      "\tsd vars: 6, sd blks: 1\n",
      "Setup time: 2.70e-03s\n",
      "----------------------------------------------------------------------------\n",
      " Iter | pri res | dua res | rel gap | pri obj | dua obj | kap/tau | time (s)\n",
      "----------------------------------------------------------------------------\n",
      "     0| 9.05e+20  1.11e+20  1.00e+00 -2.50e+21 -0.00e+00  1.88e+21  3.16e-02 \n",
      "   100| 1.61e-01  9.62e-02  1.18e-02 -5.53e+01 -5.66e+01  5.56e-15  6.67e+00 \n",
      "   200| 7.27e-01  3.93e-01  1.39e-02 -1.32e+02 -1.28e+02  2.62e-14  1.34e+01 \n",
      "   300| 1.28e-01  5.99e-02  4.96e-04 -6.04e+01 -6.04e+01  5.08e-15  2.02e+01 \n",
      "   400| 2.55e+00  8.09e-01  1.02e-02 -4.25e+01 -4.34e+01  2.35e-02  2.61e+01 \n",
      "   500| 1.81e-01  1.35e-01  2.48e-03 -6.22e+01 -6.25e+01  1.12e-15  3.08e+01 \n",
      "   600| 1.10e-01  4.89e-02  2.98e-03 -6.05e+01 -6.02e+01  4.86e-16  3.72e+01 \n",
      "   700| 1.39e-01  5.83e-02  9.38e-04 -5.69e+01 -5.70e+01  1.94e-15  4.40e+01 \n",
      "   800| 8.35e-01  1.81e-01  1.16e-02 -4.13e+01 -4.03e+01  1.02e-01  5.06e+01 \n",
      "   900| 5.12e-01  1.60e-01  2.27e-02 -6.28e+01 -6.00e+01  1.74e-14  5.66e+01 \n",
      "  1000| 2.08e-01  1.04e-01  9.97e-04 -6.65e+01 -6.63e+01  7.02e-15  6.24e+01 \n",
      "  1100| 7.04e-02  7.26e-02  4.36e-04 -6.38e+01 -6.38e+01  6.55e-16  6.83e+01 \n",
      "  1200| 5.37e-02  1.92e-02  7.67e-05 -6.63e+01 -6.63e+01  1.35e-15  7.45e+01 \n",
      "  1300| 1.03e-02  1.90e-03  2.36e-05 -6.53e+01 -6.53e+01  1.37e-15  8.04e+01 \n",
      "  1400| 6.98e-02  2.83e-02  8.79e-04 -6.51e+01 -6.50e+01  1.98e-03  8.68e+01 \n",
      "  1500| 9.14e-02  3.38e-02  1.90e-04 -6.88e+01 -6.88e+01  2.41e-15  9.38e+01 \n",
      "  1600| 1.28e-01  2.57e-02  1.45e-04 -6.82e+01 -6.81e+01  2.17e-16  1.01e+02 \n"
     ]
    }
   ],
   "source": [
    "Const2 = cp.matmul(a.T,Y)\n",
    "Const3 = [0<=a,Const2 == 0]\n",
    "obj = cp.Maximize(Const1)\n",
    "prob = cp.Problem(obj, Const3)\n",
    "prob.solve(verbose=True)"
   ]
  },
  {
   "cell_type": "code",
   "execution_count": 32,
   "metadata": {},
   "outputs": [
    {
     "name": "stdout",
     "output_type": "stream",
     "text": [
      "None\n"
     ]
    }
   ],
   "source": [
    "print(a.value)"
   ]
  }
 ],
 "metadata": {
  "kernelspec": {
   "display_name": "Python 3",
   "language": "python",
   "name": "python3"
  },
  "language_info": {
   "codemirror_mode": {
    "name": "ipython",
    "version": 3
   },
   "file_extension": ".py",
   "mimetype": "text/x-python",
   "name": "python",
   "nbconvert_exporter": "python",
   "pygments_lexer": "ipython3",
   "version": "3.6.5"
  }
 },
 "nbformat": 4,
 "nbformat_minor": 2
}
