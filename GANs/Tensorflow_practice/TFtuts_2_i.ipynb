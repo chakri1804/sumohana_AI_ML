{
 "cells": [
  {
   "cell_type": "code",
   "execution_count": 1,
   "metadata": {},
   "outputs": [
    {
     "name": "stdout",
     "output_type": "stream",
     "text": [
      "WARNING:tensorflow:From <ipython-input-1-9abcab6278a4>:3: read_data_sets (from tensorflow.contrib.learn.python.learn.datasets.mnist) is deprecated and will be removed in a future version.\n",
      "Instructions for updating:\n",
      "Please use alternatives such as official/mnist/dataset.py from tensorflow/models.\n",
      "WARNING:tensorflow:From /home/legion/.local/lib/python3.6/site-packages/tensorflow/contrib/learn/python/learn/datasets/mnist.py:260: maybe_download (from tensorflow.contrib.learn.python.learn.datasets.base) is deprecated and will be removed in a future version.\n",
      "Instructions for updating:\n",
      "Please write your own downloading logic.\n",
      "WARNING:tensorflow:From /home/legion/.local/lib/python3.6/site-packages/tensorflow/contrib/learn/python/learn/datasets/mnist.py:262: extract_images (from tensorflow.contrib.learn.python.learn.datasets.mnist) is deprecated and will be removed in a future version.\n",
      "Instructions for updating:\n",
      "Please use tf.data to implement this functionality.\n",
      "Extracting /tmp/data/train-images-idx3-ubyte.gz\n",
      "WARNING:tensorflow:From /home/legion/.local/lib/python3.6/site-packages/tensorflow/contrib/learn/python/learn/datasets/mnist.py:267: extract_labels (from tensorflow.contrib.learn.python.learn.datasets.mnist) is deprecated and will be removed in a future version.\n",
      "Instructions for updating:\n",
      "Please use tf.data to implement this functionality.\n",
      "Extracting /tmp/data/train-labels-idx1-ubyte.gz\n",
      "WARNING:tensorflow:From /home/legion/.local/lib/python3.6/site-packages/tensorflow/contrib/learn/python/learn/datasets/mnist.py:110: dense_to_one_hot (from tensorflow.contrib.learn.python.learn.datasets.mnist) is deprecated and will be removed in a future version.\n",
      "Instructions for updating:\n",
      "Please use tf.one_hot on tensors.\n",
      "Extracting /tmp/data/t10k-images-idx3-ubyte.gz\n",
      "Extracting /tmp/data/t10k-labels-idx1-ubyte.gz\n",
      "WARNING:tensorflow:From /home/legion/.local/lib/python3.6/site-packages/tensorflow/contrib/learn/python/learn/datasets/mnist.py:290: DataSet.__init__ (from tensorflow.contrib.learn.python.learn.datasets.mnist) is deprecated and will be removed in a future version.\n",
      "Instructions for updating:\n",
      "Please use alternatives such as official/mnist/dataset.py from tensorflow/models.\n"
     ]
    }
   ],
   "source": [
    "import tensorflow as tf\n",
    "from tensorflow.examples.tutorials.mnist import input_data\n",
    "mnist= input_data.read_data_sets(\"/tmp/data/\", one_hot=True)\n",
    "#10 clasees, 0-9\n",
    "n_nodes_hl1=500\n",
    "n_nodes_hl2=500\n",
    "n_nodes_hl3=500\n",
    "\n",
    "n_classes=10\n",
    "batch_size=100\n",
    "x=tf.placeholder('float',[None,784])\n",
    "y=tf.placeholder('float')"
   ]
  },
  {
   "cell_type": "code",
   "execution_count": 2,
   "metadata": {},
   "outputs": [],
   "source": [
    "def neural(data):\n",
    "    hidden_1_layer={'weights':tf.Variable(tf.random_normal([784, n_nodes_hl1])),\n",
    "    'biases':tf.Variable(tf.random_normal([n_nodes_hl1]))}\n",
    "    hidden_2_layer={'weights':tf.Variable(tf.random_normal([n_nodes_hl1, n_nodes_hl2])),\n",
    "    'biases':tf.Variable(tf.random_normal([n_nodes_hl2]))}\n",
    "    hidden_3_layer={'weights':tf.Variable(tf.random_normal([n_nodes_hl2, n_nodes_hl3])),\n",
    "    'biases':tf.Variable(tf.random_normal([n_nodes_hl3]))}\n",
    "    output_layer={'weights':tf.Variable(tf.random_normal([n_nodes_hl3, n_classes])),\n",
    "    'biases':tf.Variable(tf.random_normal([n_classes]))}\n",
    "\n",
    "    l1=tf.add(tf.matmul(data, hidden_1_layer['weights']), hidden_1_layer['biases'])\n",
    "    li= tf.nn.relu(l1)\n",
    "    l2=tf.add(tf.matmul(l1, hidden_2_layer['weights']), hidden_2_layer['biases'])\n",
    "    l2= tf.nn.relu(l2)\n",
    "    l3=tf.add(tf.matmul(l2, hidden_3_layer['weights']), hidden_3_layer['biases'])\n",
    "    l3= tf.nn.relu(l3)\n",
    "    output= tf.matmul(l3, output_layer['weights'])+ output_layer['biases']\n",
    "    return output"
   ]
  },
  {
   "cell_type": "code",
   "execution_count": 5,
   "metadata": {},
   "outputs": [],
   "source": [
    "def train(x):\n",
    "    prediction=neural(x)\n",
    "    cost= tf.reduce_mean(tf.nn.softmax_cross_entropy_with_logits(logits=prediction,labels=y))\n",
    "    optimizer=tf.train.AdamOptimizer().minimize(cost)\n",
    "    hm_epochs=50\n",
    "\n",
    "    with tf.Session() as sess:\n",
    "        sess.run(tf.global_variables_initializer())\n",
    "\n",
    "        for epoch in range(hm_epochs):\n",
    "            epoch_loss=0\n",
    "            for _ in range(int(mnist.train.num_examples/batch_size)):\n",
    "                epoch_x,epoch_y = mnist.train.next_batch(batch_size)\n",
    "                _,c=sess.run([optimizer,cost],feed_dict={x: epoch_x, y: epoch_y})\n",
    "                epoch_loss += c\n",
    "            print('Epoch', epoch, 'completed out of', hm_epochs, 'loss:',epoch_loss)\n",
    "\n",
    "        correct= tf.equal(tf.argmax(prediction,1), tf.argmax(y,1))\n",
    "        accuracy= tf.reduce_mean(tf.cast(correct,'float'))\n",
    "        print('Accuracy:',accuracy.eval({x:mnist.test.images, y:mnist.test.labels}))"
   ]
  },
  {
   "cell_type": "code",
   "execution_count": 6,
   "metadata": {},
   "outputs": [
    {
     "name": "stdout",
     "output_type": "stream",
     "text": [
      "Epoch 0 completed out of 50 loss: 2318658.819152832\n",
      "Epoch 1 completed out of 50 loss: 579885.5308990479\n",
      "Epoch 2 completed out of 50 loss: 320950.7810907364\n",
      "Epoch 3 completed out of 50 loss: 195517.0343194008\n",
      "Epoch 4 completed out of 50 loss: 129982.21020185947\n",
      "Epoch 5 completed out of 50 loss: 80533.07156169415\n",
      "Epoch 6 completed out of 50 loss: 60053.38787231445\n",
      "Epoch 7 completed out of 50 loss: 45708.303064988926\n",
      "Epoch 8 completed out of 50 loss: 40541.77483456582\n",
      "Epoch 9 completed out of 50 loss: 34532.638695761416\n",
      "Epoch 10 completed out of 50 loss: 34461.831516355276\n",
      "Epoch 11 completed out of 50 loss: 28026.192106068134\n",
      "Epoch 12 completed out of 50 loss: 29820.177575046953\n",
      "Epoch 13 completed out of 50 loss: 25028.819352701306\n",
      "Epoch 14 completed out of 50 loss: 26103.682010208355\n",
      "Epoch 15 completed out of 50 loss: 21391.315327107906\n",
      "Epoch 16 completed out of 50 loss: 22106.398255601525\n",
      "Epoch 17 completed out of 50 loss: 18773.8538030833\n",
      "Epoch 18 completed out of 50 loss: 17685.489833138883\n",
      "Epoch 19 completed out of 50 loss: 18289.874158043414\n",
      "Epoch 20 completed out of 50 loss: 19340.23972625373\n",
      "Epoch 21 completed out of 50 loss: 12939.84221406758\n",
      "Epoch 22 completed out of 50 loss: 15016.485906779766\n",
      "Epoch 23 completed out of 50 loss: 16428.662721244094\n",
      "Epoch 24 completed out of 50 loss: 14345.596372187138\n",
      "Epoch 25 completed out of 50 loss: 13377.689703404903\n",
      "Epoch 26 completed out of 50 loss: 15228.783090421452\n",
      "Epoch 27 completed out of 50 loss: 12848.388943344355\n",
      "Epoch 28 completed out of 50 loss: 13786.847220361233\n",
      "Epoch 29 completed out of 50 loss: 13117.074813008308\n",
      "Epoch 30 completed out of 50 loss: 11831.934224903584\n",
      "Epoch 31 completed out of 50 loss: 10018.506059276482\n",
      "Epoch 32 completed out of 50 loss: 11748.224231481552\n",
      "Epoch 33 completed out of 50 loss: 10415.603207290173\n",
      "Epoch 34 completed out of 50 loss: 9336.76715029031\n",
      "Epoch 35 completed out of 50 loss: 10587.395824622363\n",
      "Epoch 36 completed out of 50 loss: 9852.859532952309\n",
      "Epoch 37 completed out of 50 loss: 10108.778171017766\n",
      "Epoch 38 completed out of 50 loss: 11065.675346450049\n",
      "Epoch 39 completed out of 50 loss: 10562.139254538342\n",
      "Epoch 40 completed out of 50 loss: 9401.328167617321\n",
      "Epoch 41 completed out of 50 loss: 8981.449433214962\n",
      "Epoch 42 completed out of 50 loss: 9605.56387999533\n",
      "Epoch 43 completed out of 50 loss: 8944.348097781185\n",
      "Epoch 44 completed out of 50 loss: 9501.041956037283\n",
      "Epoch 45 completed out of 50 loss: 6212.028598666191\n",
      "Epoch 46 completed out of 50 loss: 7381.064555734396\n",
      "Epoch 47 completed out of 50 loss: 8031.065844974517\n",
      "Epoch 48 completed out of 50 loss: 10041.44968149066\n",
      "Epoch 49 completed out of 50 loss: 7446.547454357147\n",
      "Accuracy: 0.9737\n"
     ]
    }
   ],
   "source": [
    "train(x)"
   ]
  },
  {
   "cell_type": "code",
   "execution_count": null,
   "metadata": {},
   "outputs": [],
   "source": []
  }
 ],
 "metadata": {
  "kernelspec": {
   "display_name": "Python 3",
   "language": "python",
   "name": "python3"
  },
  "language_info": {
   "codemirror_mode": {
    "name": "ipython",
    "version": 3
   },
   "file_extension": ".py",
   "mimetype": "text/x-python",
   "name": "python",
   "nbconvert_exporter": "python",
   "pygments_lexer": "ipython3",
   "version": "3.6.5"
  }
 },
 "nbformat": 4,
 "nbformat_minor": 2
}
