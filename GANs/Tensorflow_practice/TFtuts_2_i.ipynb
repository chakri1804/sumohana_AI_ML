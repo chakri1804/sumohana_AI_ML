{
 "cells": [
  {
   "cell_type": "code",
   "execution_count": 2,
   "metadata": {},
   "outputs": [
    {
     "name": "stdout",
     "output_type": "stream",
     "text": [
      "WARNING:tensorflow:From <ipython-input-2-9abcab6278a4>:3: read_data_sets (from tensorflow.contrib.learn.python.learn.datasets.mnist) is deprecated and will be removed in a future version.\n",
      "Instructions for updating:\n",
      "Please use alternatives such as official/mnist/dataset.py from tensorflow/models.\n",
      "WARNING:tensorflow:From /home/legion/.local/lib/python3.6/site-packages/tensorflow/contrib/learn/python/learn/datasets/mnist.py:260: maybe_download (from tensorflow.contrib.learn.python.learn.datasets.base) is deprecated and will be removed in a future version.\n",
      "Instructions for updating:\n",
      "Please write your own downloading logic.\n",
      "WARNING:tensorflow:From /home/legion/.local/lib/python3.6/site-packages/tensorflow/contrib/learn/python/learn/datasets/mnist.py:262: extract_images (from tensorflow.contrib.learn.python.learn.datasets.mnist) is deprecated and will be removed in a future version.\n",
      "Instructions for updating:\n",
      "Please use tf.data to implement this functionality.\n",
      "Extracting /tmp/data/train-images-idx3-ubyte.gz\n",
      "WARNING:tensorflow:From /home/legion/.local/lib/python3.6/site-packages/tensorflow/contrib/learn/python/learn/datasets/mnist.py:267: extract_labels (from tensorflow.contrib.learn.python.learn.datasets.mnist) is deprecated and will be removed in a future version.\n",
      "Instructions for updating:\n",
      "Please use tf.data to implement this functionality.\n",
      "Extracting /tmp/data/train-labels-idx1-ubyte.gz\n",
      "WARNING:tensorflow:From /home/legion/.local/lib/python3.6/site-packages/tensorflow/contrib/learn/python/learn/datasets/mnist.py:110: dense_to_one_hot (from tensorflow.contrib.learn.python.learn.datasets.mnist) is deprecated and will be removed in a future version.\n",
      "Instructions for updating:\n",
      "Please use tf.one_hot on tensors.\n",
      "Extracting /tmp/data/t10k-images-idx3-ubyte.gz\n",
      "Extracting /tmp/data/t10k-labels-idx1-ubyte.gz\n",
      "WARNING:tensorflow:From /home/legion/.local/lib/python3.6/site-packages/tensorflow/contrib/learn/python/learn/datasets/mnist.py:290: DataSet.__init__ (from tensorflow.contrib.learn.python.learn.datasets.mnist) is deprecated and will be removed in a future version.\n",
      "Instructions for updating:\n",
      "Please use alternatives such as official/mnist/dataset.py from tensorflow/models.\n"
     ]
    }
   ],
   "source": [
    "import tensorflow as tf\n",
    "from tensorflow.examples.tutorials.mnist import input_data\n",
    "mnist= input_data.read_data_sets(\"/tmp/data/\", one_hot=True)\n",
    "#10 clasees, 0-9\n",
    "n_nodes_hl1=500\n",
    "n_nodes_hl2=500\n",
    "n_nodes_hl3=500\n",
    "\n",
    "n_classes=10\n",
    "batch_size=100\n",
    "x=tf.placeholder('float',[None,784])\n",
    "y=tf.placeholder('float')"
   ]
  },
  {
   "cell_type": "code",
   "execution_count": 6,
   "metadata": {},
   "outputs": [],
   "source": [
    "def neural(data):\n",
    "    hidden_1_layer={'weights':tf.Variable(tf.random_normal([784, n_nodes_hl1])),\n",
    "    'biases':tf.Variable(tf.random_normal([n_nodes_hl1]))}\n",
    "    hidden_2_layer={'weights':tf.Variable(tf.random_normal([n_nodes_hl1, n_nodes_hl2])),\n",
    "    'biases':tf.Variable(tf.random_normal([n_nodes_hl2]))}\n",
    "    hidden_3_layer={'weights':tf.Variable(tf.random_normal([n_nodes_hl2, n_nodes_hl3])),\n",
    "    'biases':tf.Variable(tf.random_normal([n_nodes_hl3]))}\n",
    "    output_layer={'weights':tf.Variable(tf.random_normal([n_nodes_hl3, n_classes])),\n",
    "    'biases':tf.Variable(tf.random_normal([n_classes]))}\n",
    "\n",
    "    l1=tf.add(tf.matmul(data, hidden_1_layer['weights']), hidden_1_layer['biases'])\n",
    "    l1= tf.nn.leaky_relu(l1)\n",
    "    l2=tf.add(tf.matmul(l1, hidden_2_layer['weights']), hidden_2_layer['biases'])\n",
    "    l2= tf.nn.leaky_relu(l2)\n",
    "    l3=tf.add(tf.matmul(l2, hidden_3_layer['weights']), hidden_3_layer['biases'])\n",
    "    l3= tf.nn.leaky_relu(l3)\n",
    "    output= tf.matmul(l3, output_layer['weights'])+ output_layer['biases']\n",
    "    return output"
   ]
  },
  {
   "cell_type": "code",
   "execution_count": 7,
   "metadata": {},
   "outputs": [],
   "source": [
    "def train(x):\n",
    "    prediction=neural(x)\n",
    "    cost= tf.reduce_mean(tf.nn.softmax_cross_entropy_with_logits(logits=prediction,labels=y))\n",
    "    optimizer=tf.train.AdamOptimizer().minimize(cost)\n",
    "    hm_epochs=50\n",
    "\n",
    "    with tf.Session() as sess:\n",
    "        sess.run(tf.global_variables_initializer())\n",
    "\n",
    "        for epoch in range(hm_epochs):\n",
    "            epoch_loss=0\n",
    "            for _ in range(int(mnist.train.num_examples/batch_size)):\n",
    "                epoch_x,epoch_y = mnist.train.next_batch(batch_size)\n",
    "                _,c=sess.run([optimizer,cost],feed_dict={x: epoch_x, y: epoch_y})\n",
    "                epoch_loss += c\n",
    "            print('Epoch', epoch, 'completed out of', hm_epochs, 'loss:',epoch_loss)\n",
    "\n",
    "        correct= tf.equal(tf.argmax(prediction,1), tf.argmax(y,1))\n",
    "        accuracy= tf.reduce_mean(tf.cast(correct,'float'))\n",
    "        print('Accuracy:',accuracy.eval({x:mnist.test.images, y:mnist.test.labels}))"
   ]
  },
  {
   "cell_type": "code",
   "execution_count": 8,
   "metadata": {},
   "outputs": [
    {
     "name": "stdout",
     "output_type": "stream",
     "text": [
      "Epoch 0 completed out of 50 loss: 1748276.4680175781\n",
      "Epoch 1 completed out of 50 loss: 435878.31213378906\n",
      "Epoch 2 completed out of 50 loss: 248695.08458566666\n",
      "Epoch 3 completed out of 50 loss: 152832.7996761799\n",
      "Epoch 4 completed out of 50 loss: 104076.93942854166\n",
      "Epoch 5 completed out of 50 loss: 71190.28503251076\n",
      "Epoch 6 completed out of 50 loss: 47562.44122415781\n",
      "Epoch 7 completed out of 50 loss: 41396.26034221053\n",
      "Epoch 8 completed out of 50 loss: 31450.676046572626\n",
      "Epoch 9 completed out of 50 loss: 29209.884188822587\n",
      "Epoch 10 completed out of 50 loss: 25492.053621143103\n",
      "Epoch 11 completed out of 50 loss: 20782.79594596848\n",
      "Epoch 12 completed out of 50 loss: 19902.206366680562\n",
      "Epoch 13 completed out of 50 loss: 23056.16729040444\n",
      "Epoch 14 completed out of 50 loss: 15686.343929931521\n",
      "Epoch 15 completed out of 50 loss: 15585.736722548492\n",
      "Epoch 16 completed out of 50 loss: 20972.59441164136\n",
      "Epoch 17 completed out of 50 loss: 14267.610065887216\n",
      "Epoch 18 completed out of 50 loss: 12154.430475763977\n",
      "Epoch 19 completed out of 50 loss: 11851.178927987814\n",
      "Epoch 20 completed out of 50 loss: 11979.254617399043\n",
      "Epoch 21 completed out of 50 loss: 13263.602958697826\n",
      "Epoch 22 completed out of 50 loss: 10946.93346944265\n",
      "Epoch 23 completed out of 50 loss: 10360.61743051201\n",
      "Epoch 24 completed out of 50 loss: 10661.642313943765\n",
      "Epoch 25 completed out of 50 loss: 9427.265901400708\n",
      "Epoch 26 completed out of 50 loss: 9411.101621359587\n",
      "Epoch 27 completed out of 50 loss: 9729.974946094037\n",
      "Epoch 28 completed out of 50 loss: 8677.038777776062\n",
      "Epoch 29 completed out of 50 loss: 8050.744795355833\n",
      "Epoch 30 completed out of 50 loss: 9883.273425675929\n",
      "Epoch 31 completed out of 50 loss: 8831.517289032228\n",
      "Epoch 32 completed out of 50 loss: 10430.894670453967\n",
      "Epoch 33 completed out of 50 loss: 5820.675363478298\n",
      "Epoch 34 completed out of 50 loss: 5273.897279161192\n",
      "Epoch 35 completed out of 50 loss: 8643.820226550102\n",
      "Epoch 36 completed out of 50 loss: 7941.292808160186\n",
      "Epoch 37 completed out of 50 loss: 5458.061387576461\n",
      "Epoch 38 completed out of 50 loss: 10691.010905532825\n",
      "Epoch 39 completed out of 50 loss: 5683.067966580391\n",
      "Epoch 40 completed out of 50 loss: 6169.7557323228575\n",
      "Epoch 41 completed out of 50 loss: 7458.734992444515\n",
      "Epoch 42 completed out of 50 loss: 5453.3950399744435\n",
      "Epoch 43 completed out of 50 loss: 6036.100060045719\n",
      "Epoch 44 completed out of 50 loss: 6195.89079114981\n",
      "Epoch 45 completed out of 50 loss: 5547.7520717080915\n",
      "Epoch 46 completed out of 50 loss: 6631.630649447441\n",
      "Epoch 47 completed out of 50 loss: 4559.321142181754\n",
      "Epoch 48 completed out of 50 loss: 6211.395083665848\n",
      "Epoch 49 completed out of 50 loss: 4865.253199652433\n",
      "Accuracy: 0.9705\n"
     ]
    }
   ],
   "source": [
    "train(x)"
   ]
  },
  {
   "cell_type": "code",
   "execution_count": null,
   "metadata": {},
   "outputs": [],
   "source": []
  }
 ],
 "metadata": {
  "kernelspec": {
   "display_name": "Python 3",
   "language": "python",
   "name": "python3"
  },
  "language_info": {
   "codemirror_mode": {
    "name": "ipython",
    "version": 2
   },
   "file_extension": ".py",
   "mimetype": "text/x-python",
   "name": "python",
   "nbconvert_exporter": "python",
   "pygments_lexer": "ipython2",
   "version": "2.7.15rc1"
  }
 },
 "nbformat": 4,
 "nbformat_minor": 2
}
