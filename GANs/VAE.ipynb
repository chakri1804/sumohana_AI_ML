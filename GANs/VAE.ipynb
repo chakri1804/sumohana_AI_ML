{
 "cells": [
  {
   "cell_type": "code",
   "execution_count": 1,
   "metadata": {},
   "outputs": [],
   "source": [
    "import tensorflow as tf\n",
    "import numpy as np\n",
    "import matplotlib.pyplot as plt"
   ]
  },
  {
   "cell_type": "code",
   "execution_count": 2,
   "metadata": {},
   "outputs": [
    {
     "name": "stdout",
     "output_type": "stream",
     "text": [
      "WARNING:tensorflow:From <ipython-input-2-59504d62b3b8>:2: read_data_sets (from tensorflow.contrib.learn.python.learn.datasets.mnist) is deprecated and will be removed in a future version.\n",
      "Instructions for updating:\n",
      "Please use alternatives such as official/mnist/dataset.py from tensorflow/models.\n",
      "WARNING:tensorflow:From /usr/lib/python3.7/site-packages/tensorflow/contrib/learn/python/learn/datasets/mnist.py:260: maybe_download (from tensorflow.contrib.learn.python.learn.datasets.base) is deprecated and will be removed in a future version.\n",
      "Instructions for updating:\n",
      "Please write your own downloading logic.\n",
      "WARNING:tensorflow:From /usr/lib/python3.7/site-packages/tensorflow/contrib/learn/python/learn/datasets/base.py:252: _internal_retry.<locals>.wrap.<locals>.wrapped_fn (from tensorflow.contrib.learn.python.learn.datasets.base) is deprecated and will be removed in a future version.\n",
      "Instructions for updating:\n",
      "Please use urllib or similar directly.\n",
      "Successfully downloaded train-images-idx3-ubyte.gz 9912422 bytes.\n",
      "WARNING:tensorflow:From /usr/lib/python3.7/site-packages/tensorflow/contrib/learn/python/learn/datasets/mnist.py:262: extract_images (from tensorflow.contrib.learn.python.learn.datasets.mnist) is deprecated and will be removed in a future version.\n",
      "Instructions for updating:\n",
      "Please use tf.data to implement this functionality.\n",
      "Extracting /tmp/data/train-images-idx3-ubyte.gz\n",
      "Successfully downloaded train-labels-idx1-ubyte.gz 28881 bytes.\n",
      "WARNING:tensorflow:From /usr/lib/python3.7/site-packages/tensorflow/contrib/learn/python/learn/datasets/mnist.py:267: extract_labels (from tensorflow.contrib.learn.python.learn.datasets.mnist) is deprecated and will be removed in a future version.\n",
      "Instructions for updating:\n",
      "Please use tf.data to implement this functionality.\n",
      "Extracting /tmp/data/train-labels-idx1-ubyte.gz\n",
      "WARNING:tensorflow:From /usr/lib/python3.7/site-packages/tensorflow/contrib/learn/python/learn/datasets/mnist.py:110: dense_to_one_hot (from tensorflow.contrib.learn.python.learn.datasets.mnist) is deprecated and will be removed in a future version.\n",
      "Instructions for updating:\n",
      "Please use tf.one_hot on tensors.\n",
      "Successfully downloaded t10k-images-idx3-ubyte.gz 1648877 bytes.\n",
      "Extracting /tmp/data/t10k-images-idx3-ubyte.gz\n",
      "Successfully downloaded t10k-labels-idx1-ubyte.gz 4542 bytes.\n",
      "Extracting /tmp/data/t10k-labels-idx1-ubyte.gz\n",
      "WARNING:tensorflow:From /usr/lib/python3.7/site-packages/tensorflow/contrib/learn/python/learn/datasets/mnist.py:290: DataSet.__init__ (from tensorflow.contrib.learn.python.learn.datasets.mnist) is deprecated and will be removed in a future version.\n",
      "Instructions for updating:\n",
      "Please use alternatives such as official/mnist/dataset.py from tensorflow/models.\n"
     ]
    }
   ],
   "source": [
    "from tensorflow.examples.tutorials.mnist import input_data\n",
    "mnist= input_data.read_data_sets(\"/tmp/data/\", one_hot=True)"
   ]
  },
  {
   "cell_type": "code",
   "execution_count": 3,
   "metadata": {},
   "outputs": [],
   "source": [
    "n_nodes_hl_mean=784\n",
    "n_nodes_hl_log_cov=784\n",
    "n_nodes_out = 784"
   ]
  },
  {
   "cell_type": "code",
   "execution_count": 4,
   "metadata": {},
   "outputs": [],
   "source": [
    "x=tf.placeholder('float',[None,784])\n",
    "y=tf.placeholder('float')"
   ]
  },
  {
   "cell_type": "code",
   "execution_count": 5,
   "metadata": {},
   "outputs": [],
   "source": [
    "def neural(data):\n",
    "    hidden_1_mean={'weights':tf.Variable(tf.random_normal([784, n_nodes_hl_mean])),\n",
    "    'biases':tf.Variable(tf.random_normal([n_nodes_hl_mean]))}\n",
    "    hidden_1_log_cov={'weights':tf.Variable(tf.random_normal([784, n_nodes_hl_log_cov])),\n",
    "    'biases':tf.Variable(tf.random_normal([n_nodes_hl_log_cov]))}\n",
    "    \n",
    "    output_layer={'weights':tf.Variable(tf.random_normal([n_nodes_out, 784])),\n",
    "    'biases':tf.Variable(tf.random_normal([784]))}\n",
    "\n",
    "    l1= tf.add(tf.matmul(data, hidden_1_mean['weights']), hidden_1_mean['biases'])\n",
    "    l1= tf.nn.leaky_relu(l1)\n",
    "    l2= tf.add(tf.matmul(data, hidden_1_log_cov['weights']), hidden_1_log_cov['biases'])\n",
    "    l2= tf.nn.leaky_relu(l2)\n",
    "    l3= l1 + (tf.sqrt(tf.exp(l2)) * np.random.normal(0,1))\n",
    "    l3= tf.nn.leaky_relu(l3)\n",
    "    output= tf.matmul(l3, output_layer['weights'])+output_layer['biases']\n",
    "    return [output,l2,l1]"
   ]
  },
  {
   "cell_type": "code",
   "execution_count": 8,
   "metadata": {},
   "outputs": [],
   "source": [
    "batch_size = 10\n",
    "def train(x):\n",
    "    [prediction,l2,l1]=neural(x)\n",
    "    img_loss = tf.reduce_sum(tf.squared_difference(x, prediction), 1)\n",
    "    latent_loss = -0.5 * tf.reduce_sum((1.0 + l2 - tf.square(l1) - tf.exp(l2)), 1)\n",
    "    cost = tf.reduce_mean(img_loss + latent_loss)\n",
    "    optimizer=tf.train.AdamOptimizer().minimize(cost)\n",
    "    hm_epochs=50\n",
    "\n",
    "    with tf.Session() as sess:\n",
    "        sess.run(tf.global_variables_initializer())\n",
    "\n",
    "        for epoch in range(hm_epochs):\n",
    "            epoch_loss=0\n",
    "            for _ in range(int(mnist.train.num_examples/batch_size)):\n",
    "                epoch_x,epoch_y = mnist.train.next_batch(batch_size, shuffle=True)\n",
    "                _,c=sess.run([optimizer,cost],feed_dict={x: epoch_x, y: epoch_y})\n",
    "                epoch_loss += c\n",
    "            print('Epoch', epoch, 'completed out of', hm_epochs, 'loss:',epoch_loss)\n",
    "        "
   ]
  },
  {
   "cell_type": "code",
   "execution_count": 9,
   "metadata": {},
   "outputs": [
    {
     "name": "stdout",
     "output_type": "stream",
     "text": [
      "Epoch 0 completed out of 50 loss: nan\n",
      "Epoch 1 completed out of 50 loss: nan\n",
      "Epoch 2 completed out of 50 loss: nan\n",
      "Epoch 3 completed out of 50 loss: nan\n",
      "Epoch 4 completed out of 50 loss: nan\n",
      "Epoch 5 completed out of 50 loss: nan\n",
      "Epoch 6 completed out of 50 loss: nan\n",
      "Epoch 7 completed out of 50 loss: nan\n",
      "Epoch 8 completed out of 50 loss: nan\n",
      "Epoch 9 completed out of 50 loss: nan\n",
      "Epoch 10 completed out of 50 loss: nan\n",
      "Epoch 11 completed out of 50 loss: nan\n",
      "Epoch 12 completed out of 50 loss: nan\n",
      "Epoch 13 completed out of 50 loss: nan\n",
      "Epoch 14 completed out of 50 loss: nan\n",
      "Epoch 15 completed out of 50 loss: nan\n",
      "Epoch 16 completed out of 50 loss: nan\n",
      "Epoch 17 completed out of 50 loss: nan\n",
      "Epoch 18 completed out of 50 loss: nan\n",
      "Epoch 19 completed out of 50 loss: nan\n",
      "Epoch 20 completed out of 50 loss: nan\n",
      "Epoch 21 completed out of 50 loss: nan\n",
      "Epoch 22 completed out of 50 loss: nan\n",
      "Epoch 23 completed out of 50 loss: nan\n",
      "Epoch 24 completed out of 50 loss: nan\n",
      "Epoch 25 completed out of 50 loss: nan\n",
      "Epoch 26 completed out of 50 loss: nan\n",
      "Epoch 27 completed out of 50 loss: nan\n",
      "Epoch 28 completed out of 50 loss: nan\n",
      "Epoch 29 completed out of 50 loss: nan\n",
      "Epoch 30 completed out of 50 loss: nan\n",
      "Epoch 31 completed out of 50 loss: nan\n",
      "Epoch 32 completed out of 50 loss: nan\n",
      "Epoch 33 completed out of 50 loss: nan\n",
      "Epoch 34 completed out of 50 loss: nan\n",
      "Epoch 35 completed out of 50 loss: nan\n",
      "Epoch 36 completed out of 50 loss: nan\n",
      "Epoch 37 completed out of 50 loss: nan\n",
      "Epoch 38 completed out of 50 loss: nan\n",
      "Epoch 39 completed out of 50 loss: nan\n",
      "Epoch 40 completed out of 50 loss: nan\n",
      "Epoch 41 completed out of 50 loss: nan\n",
      "Epoch 42 completed out of 50 loss: nan\n",
      "Epoch 43 completed out of 50 loss: nan\n",
      "Epoch 44 completed out of 50 loss: nan\n",
      "Epoch 45 completed out of 50 loss: nan\n",
      "Epoch 46 completed out of 50 loss: nan\n",
      "Epoch 47 completed out of 50 loss: nan\n",
      "Epoch 48 completed out of 50 loss: nan\n",
      "Epoch 49 completed out of 50 loss: nan\n"
     ]
    }
   ],
   "source": [
    "train(x)"
   ]
  }
 ],
 "metadata": {
  "kernelspec": {
   "display_name": "Python 3",
   "language": "python",
   "name": "python3"
  },
  "language_info": {
   "codemirror_mode": {
    "name": "ipython",
    "version": 3
   },
   "file_extension": ".py",
   "mimetype": "text/x-python",
   "name": "python",
   "nbconvert_exporter": "python",
   "pygments_lexer": "ipython3",
   "version": "3.7.0"
  }
 },
 "nbformat": 4,
 "nbformat_minor": 2
}
