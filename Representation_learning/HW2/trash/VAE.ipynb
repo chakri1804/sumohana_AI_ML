{
 "cells": [
  {
   "cell_type": "code",
   "execution_count": 1,
   "metadata": {},
   "outputs": [],
   "source": [
    "import numpy as np\n",
    "import matplotlib.pyplot as plt\n",
    "X_train = np.load(\"reshaped_14.npy\")"
   ]
  },
  {
   "cell_type": "code",
   "execution_count": null,
   "metadata": {},
   "outputs": [],
   "source": [
    "mean = 10\n",
    "cov  = 10\n",
    "samples = 60000\n",
    "# input_size = 784\n",
    "input_size = 196\n",
    "# input_size = 100\n",
    "Xf = X_train.reshape(samples,input_size)\n",
    "Xf = Xf/255.0\n",
    "# defining functions\n",
    "\n",
    "np.random.seed(420)\n",
    "\n",
    "def sigm(x):\n",
    "    return 1/(1+np.exp(-x))\n",
    "\n",
    "def diff_sigm(x):\n",
    "    return (sigm(x)-(sigm(x)**2))\n",
    "\n",
    "def relu(x):\n",
    "    x[x<0]=0\n",
    "    return x\n",
    "\n",
    "def diff_relu(x):\n",
    "    res = x\n",
    "    return res * (res > 1)\n",
    "\n",
    "def tanha(x):\n",
    "    return (2*sigm(2*x) - 1)\n",
    "\n",
    "def diff_tanh(x):\n",
    "    return (1 - tanha(x)**2)\n",
    "\n",
    "def diff_SSE(y,x):\n",
    "    return (2*(y-x))\n",
    "\n",
    "def layer(x,W,b):\n",
    "    return np.matmul(x,W)+b\n",
    "\n",
    "def backprop_layer_relu(prev_delta,out_prev,weights_prev):\n",
    "    sn = (diff_relu(out_prev)*np.matmul(prev_delta,weights_prev.T))\n",
    "    return sn\n",
    "\n",
    "def backprop_layer_sigm(prev_delta,out_prev,weights_prev):\n",
    "    sn = (diff_sigm(out_prev)*np.matmul(prev_delta,weights_prev.T))\n",
    "    return sn\n",
    "\n",
    "Wc = np.random.normal(0,1e-6,(input_size,mean))\n",
    "Bc = np.random.normal(0,1e-6,(1,mean))\n",
    "\n",
    "Wm = np.random.normal(0,1e-6,(input_size,mean))\n",
    "Bm = np.random.normal(0,1e-6,(1,mean))\n",
    "\n",
    "Wd = np.random.normal(0,1e-6,(mean,input_size))\n",
    "Bd = np.random.normal(0,1e-6,(1,input_size))"
   ]
  },
  {
   "cell_type": "code",
   "execution_count": null,
   "metadata": {},
   "outputs": [
    {
     "name": "stdout",
     "output_type": "stream",
     "text": [
      "2526879.8648727266 epoch =  0 batch = 99\n"
     ]
    },
    {
     "data": {
      "image/png": "[encoded data removed]",
      "text/plain": [
       "<Figure size 432x288 with 1 Axes>"
      ]
     },
     "metadata": {
      "needs_background": "light"
     },
     "output_type": "display_data"
    },
    {
     "name": "stdout",
     "output_type": "stream",
     "text": [
      "2296340.9115992906 epoch =  1 batch = 99\n",
      "2794271.3336318596 epoch =  2 batch = 99\n",
      "2335959.834556709 epoch =  3 batch = 99\n",
      "1793857.974844461 epoch =  4 batch = 99\n",
      "1736258.4432221488 epoch =  5 batch = 99\n",
      "1593095.7970195133 epoch =  6 batch = 99\n",
      "1668335.8062748786 epoch =  7 batch = 99\n",
      "1565418.376597199 epoch =  8 batch = 99\n",
      "1548171.8132247638 epoch =  9 batch = 99\n",
      "1493666.569254497 epoch =  10 batch = 99\n",
      "1599137.4053051893 epoch =  11 batch = 99\n",
      "1530362.419764598 epoch =  12 batch = 99\n",
      "1476965.1724956587 epoch =  13 batch = 99\n",
      "1630753.8553172427 epoch =  14 batch = 99\n",
      "1549165.848918897 epoch =  15 batch = 99\n",
      "1543934.077390286 epoch =  16 batch = 99\n",
      "1551454.972685127 epoch =  17 batch = 99\n",
      "1477329.0740972538 epoch =  18 batch = 99\n",
      "1551559.2919121282 epoch =  19 batch = 99\n",
      "1532671.188119644 epoch =  20 batch = 99\n",
      "1579223.4010967198 epoch =  21 batch = 99\n",
      "1521096.3837255263 epoch =  22 batch = 99\n",
      "1530500.6912582098 epoch =  23 batch = 99\n"
     ]
    }
   ],
   "source": [
    "#Here the covariance is log coavriance but named as coavriance for peace of mind while coding\n",
    "lr = 1e-5\n",
    "epochs = 500\n",
    "batch_size = 600\n",
    "number_of_batches = samples//batch_size\n",
    "X_t = Xf\n",
    "# plt.imshow(X[1][10].reshape(14,14), cmap='gray')\n",
    "for i in range(epochs):\n",
    "    wm = np.zeros(Wm.shape)\n",
    "    bm = np.zeros(Bm.shape)\n",
    "    wc = np.zeros(Wc.shape)\n",
    "    bc = np.zeros(Bc.shape)\n",
    "    wd = np.zeros(Wd.shape)\n",
    "    bd = np.zeros(Bd.shape)\n",
    "    loss = 0\n",
    "    for j in range(number_of_batches):\n",
    "        X = (X_t[j*batch_size:(j+1)*batch_size])\n",
    "        indices = np.arange(len(X)).astype(int)\n",
    "        np.random.shuffle(indices)\n",
    "        X = X[indices]\n",
    "        #forward pass\n",
    "        outm = layer(X,Wm,Bm)\n",
    "        mean  = tanha(outm)\n",
    "        outc = layer(X,Wc,Bc)\n",
    "        cova  = tanha(outc)\n",
    "        gaus = np.random.normal(0,1)\n",
    "        Z    = mean + (np.exp(0.5*cova)*gaus)\n",
    "        outy = layer(Z,Wd,Bd)\n",
    "        y    = sigm(outy)\n",
    "        # Backprop decoder part \n",
    "        temp = diff_SSE(y,X)*diff_sigm(outy)\n",
    "#         temp = diff_CCE(X,y)*diff_sigm(outy)\n",
    "        bd   += np.sum(temp,axis=0)\n",
    "        wd   += np.matmul(Z.T,temp)\n",
    "    \n",
    "        ### Backprop Encoder part\n",
    "        ## Tanh activation, so directly writing derivatives\n",
    "        diffm = 1 - mean**2\n",
    "        diffc = 1 - cova**2\n",
    "        sct = 0.5*gaus*np.exp(0.5*cova)*np.matmul(temp,Wd.T)*diffc\n",
    "        smt = np.matmul(temp,Wd.T)*diffm\n",
    "        sm = smt + 2*(mean)*diffm\n",
    "        sc = sct + 0.5*(np.exp(cova)-1)*diffc \n",
    "        ### \n",
    "    \n",
    "        bm += np.sum(sm, axis=0).reshape(bm.shape)\n",
    "        wm += np.matmul(X.T,sm)\n",
    "    \n",
    "        bc += np.sum(sc, axis=0).reshape(bc.shape)\n",
    "        wc += np.matmul(X.T,sc)\n",
    "    \n",
    "        loss += np.sum(np.linalg.norm(X-y)**2) + np.sum(np.exp(cova)-1-cova + mean*mean)\n",
    "        \n",
    "    Wm -= lr*wm\n",
    "    Bm -= lr*bm\n",
    "    Wc -= lr*wc\n",
    "    Bc -= lr*bc\n",
    "    Bd -= lr*bd\n",
    "    Wd -= lr*wd\n",
    "\n",
    "    print(loss, \"epoch = \", i, \"batch =\", j)\n",
    "    if(i%50 == 0):\n",
    "        img = y[1].reshape(14,14)*255.0\n",
    "        plt.imshow(img, cmap='gray')\n",
    "        plt.show()"
   ]
  },
  {
   "cell_type": "code",
   "execution_count": null,
   "metadata": {},
   "outputs": [],
   "source": [
    "w=14\n",
    "h=14\n",
    "fig=plt.figure(figsize=(w/2,h/2))\n",
    "columns = 4\n",
    "rows = 4\n",
    "for i in range(1, columns*rows +1):\n",
    "    Z = np.random.normal(0,1,(Bc.shape))\n",
    "    Z    = mean + np.multiply((np.exp(0.5*cova)),gaus)\n",
    "    outy = layer(Z,Wd,Bd)\n",
    "    y    = sigm(outy)\n",
    "    img = y[i].reshape(w,h)\n",
    "    fig.add_subplot(rows, columns, i)\n",
    "    plt.imshow(img, cmap='gray')\n",
    "plt.show()"
   ]
  },
  {
   "cell_type": "code",
   "execution_count": null,
   "metadata": {},
   "outputs": [],
   "source": [
    "print(np.sum(np.exp(cova)-1-cova + mean*mean))"
   ]
  }
 ],
 "metadata": {
  "kernelspec": {
   "display_name": "Python 3",
   "language": "python",
   "name": "python3"
  },
  "language_info": {
   "codemirror_mode": {
    "name": "ipython",
    "version": 3
   },
   "file_extension": ".py",
   "mimetype": "text/x-python",
   "name": "python",
   "nbconvert_exporter": "python",
   "pygments_lexer": "ipython3",
   "version": "3.7.0"
  }
 },
 "nbformat": 4,
 "nbformat_minor": 2
}
