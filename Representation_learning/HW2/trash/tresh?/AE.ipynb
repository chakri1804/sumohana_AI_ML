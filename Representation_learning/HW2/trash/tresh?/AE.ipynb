{
 "cells": [
  {
   "cell_type": "code",
   "execution_count": 1,
   "metadata": {},
   "outputs": [],
   "source": [
    "import numpy as np\n",
    "import matplotlib.pyplot as plt\n",
    "X_train = np.load(\"reshaped_14.npy\")"
   ]
  },
  {
   "cell_type": "code",
   "execution_count": 2,
   "metadata": {},
   "outputs": [],
   "source": [
    "hidden_nodes = 225\n",
    "epochs = 1\n",
    "lr = 1e-4\n",
    "samples = 60000\n",
    "input_size = 196\n",
    "X = X_train.reshape(samples,input_size)\n",
    "X = X/255.0\n",
    "Lambda = 1\n",
    "s = 0.1\n",
    "# defining functions\n",
    "\n",
    "def sigm(x):\n",
    "    return 1/(1+np.exp(-x))\n",
    "\n",
    "def diff_sigm(x):\n",
    "    return (sigm(x)-(sigm(x)**2))\n",
    "\n",
    "def layer(x,W,b):\n",
    "    return np.matmul(x,W)+b\n",
    "\n",
    "W1 = np.random.normal(0,1,(input_size,hidden_nodes))\n",
    "Bi1 = np.random.normal(0,1,(1,hidden_nodes))\n",
    "W2 = np.random.normal(0,1,(hidden_nodes,input_size))\n",
    "Bi2 = np.random.normal(0,1,(1,input_size))"
   ]
  },
  {
   "cell_type": "code",
   "execution_count": 3,
   "metadata": {},
   "outputs": [
    {
     "name": "stdout",
     "output_type": "stream",
     "text": [
      "(0, 5458532.883979287)\n",
      "(1, 2604511.9914914398)\n",
      "(2, 1581322.5294926732)\n",
      "(3, 1323461.1843534175)\n",
      "(4, 1069981.9319761302)\n",
      "(5, 1024444.7045422911)\n",
      "(6, 909432.1976240358)\n",
      "(7, 853888.5826121948)\n",
      "(8, 826073.1809969274)\n",
      "(9, 763035.5296672074)\n",
      "(10, 747735.0479583815)\n",
      "(11, 699094.7539423386)\n",
      "(12, 704595.023796729)\n",
      "(13, 652669.7904566198)\n",
      "(14, 668689.989731941)\n",
      "(15, 612222.8977387238)\n",
      "(16, 626486.3672102724)\n",
      "(17, 578181.3825282342)\n",
      "(18, 589788.8154212255)\n",
      "(19, 549846.6811016975)\n",
      "(20, 558909.7367053854)\n",
      "(21, 526447.8438364313)\n",
      "(22, 529283.3345263565)\n",
      "(23, 502361.6794383895)\n",
      "(24, 501236.65500017424)\n",
      "(25, 481445.80208271014)\n",
      "(26, 477295.6293118304)\n",
      "(27, 462644.2269777023)\n",
      "(28, 457255.3125908197)\n",
      "(29, 446166.0694123694)\n",
      "(30, 440114.0573603701)\n",
      "(31, 431575.41795986664)\n",
      "(32, 425242.28810943046)\n",
      "(33, 419083.50820182863)\n",
      "(34, 412683.8395312651)\n",
      "(35, 409823.3049406851)\n",
      "(36, 403557.8873063409)\n",
      "(37, 403733.19933141174)\n",
      "(38, 396081.20095558604)\n",
      "(39, 394336.91737797874)\n",
      "(40, 389448.84592948)\n",
      "(41, 388580.97897810885)\n",
      "(42, 382233.22337487293)\n",
      "(43, 378874.4557680612)\n",
      "(44, 374024.5275338311)\n",
      "(45, 371039.28335423936)\n",
      "(46, 364861.1394174759)\n",
      "(47, 360691.19367156166)\n",
      "(48, 355505.34889117297)\n",
      "(49, 351824.70098700817)\n"
     ]
    }
   ],
   "source": [
    "epochs = 50\n",
    "for i in range(epochs):\n",
    "    loss = 0\n",
    "    w1 = np.zeros(W1.shape)\n",
    "    b1 = np.zeros(Bi1.shape)\n",
    "    w2 = np.zeros(W2.shape)\n",
    "    b2 = np.zeros(Bi2.shape)\n",
    "    S  = np.zeros(W1.shape)\n",
    "    #forward pass\n",
    "    out1 = layer(X,W1,Bi1)\n",
    "    z = sigm(out1)\n",
    "    out2 = layer(z,W2,Bi2)\n",
    "    y = sigm(out2)\n",
    "    #BACKPROPAGATION\n",
    "    del1 = 2*(y-X)*diff_sigm(out2)\n",
    "    b2 = np.sum(del1, axis = 0).reshape(np.shape(Bi2))\n",
    "    w2 = np.matmul(z.T,del1)\n",
    "    zm = np.mean(z,axis = 0)\n",
    "#     print(z.shape,zm.shape)\n",
    "    ge = (Lambda)*(-s/zm + (1-s)/(1-zm))*diff_sigm(out1)\n",
    "#     print(ge.shape)\n",
    "    s1 = ge+(diff_sigm(out1)*np.matmul(del1,W2.T))\n",
    "#     print(s1.shape, Bi1.shape,del1.shape, W2.shape,ge.shape)\n",
    "    b1 = np.sum(s1,axis=0).reshape(np.shape(Bi1))\n",
    "    w1 = np.matmul(X.T,s1)\n",
    "    loss = np.sum(np.linalg.norm(y-X)**2)\n",
    "    print(i,loss)\n",
    "    W1 -= lr*w1\n",
    "    W2 -= lr*w2\n",
    "    Bi1 -= lr*b1\n",
    "    Bi2 -= lr*b2"
   ]
  },
  {
   "cell_type": "code",
   "execution_count": 4,
   "metadata": {},
   "outputs": [],
   "source": [
    "out1 = layer(X,W1,Bi1)\n",
    "z = sigm(out1)\n",
    "out2 = layer(z,W2,Bi2)\n",
    "y = sigm(out2)\n",
    "y = y*255.0"
   ]
  },
  {
   "cell_type": "code",
   "execution_count": 13,
   "metadata": {},
   "outputs": [
    {
     "data": {
      "text/plain": [
       "<matplotlib.image.AxesImage at 0x7fd0b3f34a90>"
      ]
     },
     "execution_count": 13,
     "metadata": {},
     "output_type": "execute_result"
    },
    {
     "data": {
      "image/png": "[encoded data removed]",
      "text/plain": [
       "<Figure size 432x288 with 1 Axes>"
      ]
     },
     "metadata": {
      "needs_background": "light"
     },
     "output_type": "display_data"
    }
   ],
   "source": [
    "plt.imshow(X[3].reshape(14,14) , cmap='gray')"
   ]
  },
  {
   "cell_type": "code",
   "execution_count": 14,
   "metadata": {},
   "outputs": [
    {
     "data": {
      "text/plain": [
       "<matplotlib.image.AxesImage at 0x7fd0b3eb3150>"
      ]
     },
     "execution_count": 14,
     "metadata": {},
     "output_type": "execute_result"
    },
    {
     "data": {
      "image/png": "[encoded data removed]",
      "text/plain": [
       "<Figure size 432x288 with 1 Axes>"
      ]
     },
     "metadata": {
      "needs_background": "light"
     },
     "output_type": "display_data"
    }
   ],
   "source": [
    "plt.imshow(y[3].reshape(14,14) , cmap='gray' )"
   ]
  },
  {
   "cell_type": "code",
   "execution_count": 12,
   "metadata": {},
   "outputs": [
    {
     "name": "stdout",
     "output_type": "stream",
     "text": [
      "(82, 225)\n",
      "0.10368805539723742\n"
     ]
    }
   ],
   "source": [
    "count = 0\n",
    "for i in range(len(z[1])):\n",
    "    if(z[1][i] > 0.01):\n",
    "        count += 1\n",
    "print(count,len(z[1]))\n",
    "\n",
    "print(np.mean(z[1]))\n"
   ]
  }
 ],
 "metadata": {
  "kernelspec": {
   "display_name": "Python 3",
   "language": "python",
   "name": "python3"
  },
  "language_info": {
   "codemirror_mode": {
    "name": "ipython",
    "version": 2
   },
   "file_extension": ".py",
   "mimetype": "text/x-python",
   "name": "python",
   "nbconvert_exporter": "python",
   "pygments_lexer": "ipython2",
   "version": "2.7.15rc1"
  }
 },
 "nbformat": 4,
 "nbformat_minor": 2
}
