{
 "cells": [
  {
   "cell_type": "code",
   "execution_count": 1,
   "metadata": {},
   "outputs": [
    {
     "name": "stderr",
     "output_type": "stream",
     "text": [
      "Using TensorFlow backend.\n"
     ]
    },
    {
     "name": "stdout",
     "output_type": "stream",
     "text": [
      "Downloading data from https://s3.amazonaws.com/img-datasets/mnist.npz\n",
      "11493376/11490434 [==============================] - 4s 0us/step\n"
     ]
    }
   ],
   "source": [
    "import numpy as np\n",
    "from keras.datasets import mnist\n",
    "from keras.datasets import mnist\n",
    "import matplotlib.pyplot as plt\n",
    "(X_train, y_train), (X_test, y_test) = mnist.load_data()"
   ]
  },
  {
   "cell_type": "code",
   "execution_count": 14,
   "metadata": {},
   "outputs": [],
   "source": [
    "hidden_nodes = 10\n",
    "epochs = 10\n",
    "lr = 1e-4\n",
    "\n",
    "X = X_train.reshape(60000,784)\n",
    "Y = y_train\n",
    "# defining functions\n",
    "\n",
    "def sigm(x):\n",
    "    return 1/(1+np.exp(-x))\n",
    "\n",
    "def diff_sigm(x):\n",
    "    return (sigm(x)-(sigm(x)**2))\n",
    "\n",
    "def layer(x,W,b):\n",
    "    return (np.matmul(W.T,x.reshape(len(x),1)) + b)\n",
    "\n",
    "# def sq_err(y,Y):\n",
    "#     return (y-Y)**2\n",
    "# Initializing weights\n",
    "\n",
    "W1 = np.random.normal(0,1,(784,hidden_nodes))\n",
    "Bi1 = np.random.normal(0,1,(hidden_nodes,1))\n",
    "W2 = np.random.normal(0,1,(hidden_nodes,784))\n",
    "Bi2 = np.random.normal(0,1,(784,1))"
   ]
  },
  {
   "cell_type": "code",
   "execution_count": null,
   "metadata": {},
   "outputs": [
    {
     "name": "stderr",
     "output_type": "stream",
     "text": [
      "/usr/lib/python3.7/site-packages/ipykernel_launcher.py:10: RuntimeWarning: overflow encountered in exp\n",
      "  # Remove the CWD from sys.path while we load stuff.\n"
     ]
    },
    {
     "name": "stdout",
     "output_type": "stream",
     "text": [
      "3227947478.3764443\n",
      "3220288691.199133\n",
      "3221650073.73213\n",
      "3221650844.638783\n",
      "3221681468.2042747\n",
      "3221710577.45984\n",
      "3221711984.7412243\n"
     ]
    }
   ],
   "source": [
    "for i in range(epochs):\n",
    "    w1 = np.zeros(W1.shape)\n",
    "    b1 = np.zeros(Bi1.shape)\n",
    "    w2 = np.zeros(W2.shape)\n",
    "    b2 = np.zeros(Bi2.shape)\n",
    "    for j in range(len(Y)):\n",
    "        #forward path\n",
    "        out1 = layer(X[j],W1,Bi1)\n",
    "        z = sigm(out1)\n",
    "        out2 = layer(z,W2,Bi2)\n",
    "        y = sigm(out2)\n",
    "        #backpropagation\n",
    "        temp = 2*(y-X[j].reshape(np.shape(y)))*diff_sigm(out2)\n",
    "        b2 += temp\n",
    "        w2 += np.matmul(z,temp.T)\n",
    "        loss = np.linalg.norm(y-X[j])**2\n",
    "        b1 += np.multiply(np.matmul(W2,temp),diff_sigm(out1))\n",
    "        w1 += np.matmul(X[j].reshape(784,1),b1.T)\n",
    "    print(loss)\n",
    "    W1 -= lr*w1\n",
    "    W2 -= lr*w2\n",
    "    Bi1 -= lr*b1\n",
    "    Bi2 -= lr*b2\n"
   ]
  },
  {
   "cell_type": "code",
   "execution_count": null,
   "metadata": {},
   "outputs": [],
   "source": []
  }
 ],
 "metadata": {
  "kernelspec": {
   "display_name": "Python 3",
   "language": "python",
   "name": "python3"
  },
  "language_info": {
   "codemirror_mode": {
    "name": "ipython",
    "version": 3
   },
   "file_extension": ".py",
   "mimetype": "text/x-python",
   "name": "python",
   "nbconvert_exporter": "python",
   "pygments_lexer": "ipython3",
   "version": "3.7.0"
  }
 },
 "nbformat": 4,
 "nbformat_minor": 2
}
