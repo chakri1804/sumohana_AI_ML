{
 "cells": [
  {
   "cell_type": "code",
   "execution_count": 1,
   "metadata": {},
   "outputs": [
    {
     "name": "stderr",
     "output_type": "stream",
     "text": [
      "Using TensorFlow backend.\n"
     ]
    },
    {
     "name": "stdout",
     "output_type": "stream",
     "text": [
      "Couldn't import dot_parser, loading of dot files will not be possible.\n"
     ]
    }
   ],
   "source": [
    "import numpy as np\n",
    "from keras.datasets import mnist\n",
    "from keras.datasets import mnist\n",
    "import matplotlib.pyplot as plt\n",
    "(X_train, y_train), (X_test, y_test) = mnist.load_data()"
   ]
  },
  {
   "cell_type": "code",
   "execution_count": 29,
   "metadata": {},
   "outputs": [],
   "source": [
    "hidden_nodes = 1000\n",
    "epochs = 10\n",
    "lr = 1e-4\n",
    "\n",
    "X = X_train.reshape(60000,784)\n",
    "Y = y_train\n",
    "# defining functions\n",
    "\n",
    "def sigm(x):\n",
    "    return 1/(1+np.exp(-x))\n",
    "\n",
    "def diff_sigm(x):\n",
    "    return (sigm(x)-(sigm(x)**2))\n",
    "\n",
    "def layer(x,W,b):\n",
    "    return (np.matmul(W.T,x.reshape(len(x),1)) + b)\n",
    "\n",
    "def sq_err(y,Y):\n",
    "    return (y-Y)**2\n",
    "# Initializing weights\n",
    "\n",
    "W1 = np.random.normal(0,1,(784,hidden_nodes))\n",
    "Bi1 = np.random.normal(0,1,(hidden_nodes,1))\n",
    "W2 = np.random.normal(0,1,(hidden_nodes,784))\n",
    "Bi2 = np.random.normal(0,1,(784,1))"
   ]
  },
  {
   "cell_type": "code",
   "execution_count": 35,
   "metadata": {},
   "outputs": [
    {
     "name": "stdout",
     "output_type": "stream",
     "text": [
      "(784, 1)\n"
     ]
    },
    {
     "name": "stderr",
     "output_type": "stream",
     "text": [
      "/home/legion/.local/lib/python2.7/site-packages/ipykernel_launcher.py:10: RuntimeWarning: overflow encountered in exp\n",
      "  # Remove the CWD from sys.path while we load stuff.\n"
     ]
    },
    {
     "ename": "ValueError",
     "evalue": "operands could not be broadcast together with shapes (784,1) (1000,1) ",
     "output_type": "error",
     "traceback": [
      "\u001b[0;31m---------------------------------------------------------------------------\u001b[0m",
      "\u001b[0;31mValueError\u001b[0m                                Traceback (most recent call last)",
      "\u001b[0;32m<ipython-input-35-79745f894d4b>\u001b[0m in \u001b[0;36m<module>\u001b[0;34m()\u001b[0m\n\u001b[1;32m     21\u001b[0m         \u001b[0mb2\u001b[0m \u001b[0;34m+=\u001b[0m \u001b[0;36m2\u001b[0m\u001b[0;34m*\u001b[0m\u001b[0;34m(\u001b[0m\u001b[0my\u001b[0m\u001b[0;34m-\u001b[0m\u001b[0mX\u001b[0m\u001b[0;34m[\u001b[0m\u001b[0mj\u001b[0m\u001b[0;34m]\u001b[0m\u001b[0;34m.\u001b[0m\u001b[0mreshape\u001b[0m\u001b[0;34m(\u001b[0m\u001b[0mnp\u001b[0m\u001b[0;34m.\u001b[0m\u001b[0mshape\u001b[0m\u001b[0;34m(\u001b[0m\u001b[0my\u001b[0m\u001b[0;34m)\u001b[0m\u001b[0;34m)\u001b[0m\u001b[0;34m)\u001b[0m\u001b[0;34m*\u001b[0m\u001b[0mdiff_sigm\u001b[0m\u001b[0;34m(\u001b[0m\u001b[0mout2\u001b[0m\u001b[0;34m)\u001b[0m\u001b[0;34m\u001b[0m\u001b[0m\n\u001b[1;32m     22\u001b[0m         \u001b[0;32mprint\u001b[0m\u001b[0;34m(\u001b[0m\u001b[0mnp\u001b[0m\u001b[0;34m.\u001b[0m\u001b[0mshape\u001b[0m\u001b[0;34m(\u001b[0m\u001b[0mdiff_sigm\u001b[0m\u001b[0;34m(\u001b[0m\u001b[0mout2\u001b[0m\u001b[0;34m)\u001b[0m\u001b[0;34m)\u001b[0m\u001b[0;34m)\u001b[0m\u001b[0;34m\u001b[0m\u001b[0m\n\u001b[0;32m---> 23\u001b[0;31m         \u001b[0mw2\u001b[0m \u001b[0;34m+=\u001b[0m \u001b[0;36m2\u001b[0m\u001b[0;34m*\u001b[0m\u001b[0;34m(\u001b[0m\u001b[0my\u001b[0m\u001b[0;34m-\u001b[0m\u001b[0mX\u001b[0m\u001b[0;34m[\u001b[0m\u001b[0mj\u001b[0m\u001b[0;34m]\u001b[0m\u001b[0;34m.\u001b[0m\u001b[0mreshape\u001b[0m\u001b[0;34m(\u001b[0m\u001b[0mnp\u001b[0m\u001b[0;34m.\u001b[0m\u001b[0mshape\u001b[0m\u001b[0;34m(\u001b[0m\u001b[0my\u001b[0m\u001b[0;34m)\u001b[0m\u001b[0;34m)\u001b[0m\u001b[0;34m)\u001b[0m\u001b[0;34m*\u001b[0m\u001b[0mdiff_sigm\u001b[0m\u001b[0;34m(\u001b[0m\u001b[0mout2\u001b[0m\u001b[0;34m)\u001b[0m\u001b[0;34m*\u001b[0m\u001b[0mz\u001b[0m\u001b[0;34m\u001b[0m\u001b[0m\n\u001b[0m\u001b[1;32m     24\u001b[0m         \u001b[0mloss\u001b[0m \u001b[0;34m=\u001b[0m \u001b[0msq_err\u001b[0m\u001b[0;34m(\u001b[0m\u001b[0my\u001b[0m\u001b[0;34m,\u001b[0m\u001b[0mY\u001b[0m\u001b[0;34m[\u001b[0m\u001b[0mj\u001b[0m\u001b[0;34m]\u001b[0m\u001b[0;34m)\u001b[0m\u001b[0;34m\u001b[0m\u001b[0m\n\u001b[1;32m     25\u001b[0m         \u001b[0;32mfor\u001b[0m \u001b[0mk\u001b[0m \u001b[0;32min\u001b[0m \u001b[0mrange\u001b[0m\u001b[0;34m(\u001b[0m\u001b[0mM\u001b[0m\u001b[0;34m)\u001b[0m\u001b[0;34m:\u001b[0m\u001b[0;34m\u001b[0m\u001b[0m\n",
      "\u001b[0;31mValueError\u001b[0m: operands could not be broadcast together with shapes (784,1) (1000,1) "
     ]
    }
   ],
   "source": [
    "# In[2]:\n",
    "\n",
    "\n",
    "# training\n",
    "\n",
    "for i in range(epochs):\n",
    "    w1 = np.zeros(W1.shape)\n",
    "    b1 = np.zeros(Bi1.shape)\n",
    "    w2 = np.zeros(W2.shape)\n",
    "    b2 = np.zeros(Bi2.shape)\n",
    "    for j in range(len(Y)):\n",
    "        #forward path\n",
    "        out1 = layer(X[j],W1,Bi1)\n",
    "        z = sigm(out1)\n",
    "#         print(z.shape)\n",
    "        out2 = layer(z,W2,Bi2)\n",
    "        y = sigm(out2)\n",
    "#         print(y.shape)\n",
    "        #backpropagation\n",
    "#         print(y.shape, X[j].shape)\n",
    "        b2 += 2*(y-X[j].reshape(np.shape(y)))*diff_sigm(out2)\n",
    "        print(np.shape(diff_sigm(out2)))\n",
    "        w2 += 2*(y-X[j].reshape(np.shape(y)))*diff_sigm(out2)*z\n",
    "        loss = sq_err(y,Y[j])\n",
    "        for k in range(M):\n",
    "            b1[k] += (2*(y-X[j])*diff_sigm(out2)*diff_sigm(out1[k])*W2[k]).reshape(1,)\n",
    "            w1[:,k] += (2*(y-X[j])*diff_sigm(out2)*diff_sigm(out1[k])*W2[k]*X[j]).reshape(2,)\n",
    "    print(loss)\n",
    "    W1 -= lr*w1\n",
    "    W2 -= lr*w2\n",
    "    Bi1 -= lr*b1\n",
    "    Bi2 -= lr*b2\n",
    "\n",
    "\n",
    "while(1):\n",
    "    a=input(\"Enter test sample (comma seperated pair): \").split(',')\n",
    "    for i in range(0,2):\n",
    "        a[i]=float(a[i])\n",
    "    a=np.array(a)\n",
    "    out_1 = layer(a,W1,Bi1)\n",
    "    z = sigm(out_1)\n",
    "    out_2 = layer(z,W2,Bi2)\n",
    "    y_pred= sigm(out_2)\n",
    "    if(y_pred >= 0.5):\n",
    "        y_pred = 1\n",
    "    else :\n",
    "        y_pred = 0\n",
    "    print(option,':',y_pred)"
   ]
  },
  {
   "cell_type": "code",
   "execution_count": null,
   "metadata": {},
   "outputs": [],
   "source": []
  }
 ],
 "metadata": {
  "kernelspec": {
   "display_name": "Python 3",
   "language": "python",
   "name": "python3"
  },
  "language_info": {
   "codemirror_mode": {
    "name": "ipython",
    "version": 2
   },
   "file_extension": ".py",
   "mimetype": "text/x-python",
   "name": "python",
   "nbconvert_exporter": "python",
   "pygments_lexer": "ipython2",
   "version": "2.7.15rc1"
  }
 },
 "nbformat": 4,
 "nbformat_minor": 2
}
