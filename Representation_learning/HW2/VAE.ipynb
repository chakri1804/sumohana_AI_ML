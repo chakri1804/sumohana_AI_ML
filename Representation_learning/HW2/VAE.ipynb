{
 "cells": [
  {
   "cell_type": "markdown",
   "metadata": {},
   "source": [
    "# Variational Autoencoder"
   ]
  },
  {
   "cell_type": "code",
   "execution_count": 2,
   "metadata": {},
   "outputs": [],
   "source": [
    "import numpy as np\n",
    "import matplotlib.pyplot as plt\n",
    "X_train = np.load(\"reshaped_14.npy\")\n",
    "samples = 60000\n",
    "w=h=14\n",
    "input_size = w*h\n",
    "X_train = X_train[0:samples]\n",
    "Xf = X_train.reshape(samples,input_size)\n",
    "Xf = Xf/255.0"
   ]
  },
  {
   "cell_type": "code",
   "execution_count": 3,
   "metadata": {},
   "outputs": [],
   "source": [
    "np.random.seed(42)\n",
    "\n",
    "def sigm(x):\n",
    "    return 1/(1+np.exp(-x))\n",
    "\n",
    "def diff_sigm(x):\n",
    "    return (sigm(x)-(sigm(x)**2))\n",
    "\n",
    "def relu(x):\n",
    "    x[x<0]=0\n",
    "    return x\n",
    "\n",
    "def diff_relu(x):\n",
    "    res = x\n",
    "    return res * (res > 1)\n",
    "\n",
    "def tanha(x):\n",
    "    return (2*sigm(2*x) - 1)\n",
    "\n",
    "def diff_tanh(x):\n",
    "    return (1 - tanha(x)**2)\n",
    "\n",
    "def diff_SSE(y,x):\n",
    "    return (2*(y-x))\n",
    "\n",
    "def layer(x,W,b):\n",
    "    return np.matmul(x,W)+b\n",
    "\n",
    "def backprop_layer_relu(prev_delta,out_prev,weights_prev):\n",
    "    sn = (diff_relu(out_prev)*np.matmul(prev_delta,weights_prev.T))\n",
    "    return sn\n",
    "\n",
    "def backprop_layer_sigm(prev_delta,out_prev,weights_prev):\n",
    "    sn = (diff_sigm(out_prev)*np.matmul(prev_delta,weights_prev.T))\n",
    "    return sn\n",
    "\n",
    "mean = 4\n",
    "\n",
    "Wc = np.random.normal(0,0.5e-3,(input_size,mean))\n",
    "Bc = np.random.normal(0,0.5e-3,(1,mean))\n",
    "\n",
    "Wm = np.random.normal(0,0.5e-3,(input_size,mean))\n",
    "Bm = np.random.normal(0,0.5e-3,(1,mean))\n",
    "\n",
    "Wd = np.random.normal(0,0.5e-3,(mean,input_size))\n",
    "Bd = np.random.normal(0,0.5e-3,(1,input_size))\n"
   ]
  },
  {
   "cell_type": "code",
   "execution_count": 3,
   "metadata": {},
   "outputs": [
    {
     "name": "stdout",
     "output_type": "stream",
     "text": [
      "2526875.0961769535 epoch =  0 batch = 119\n"
     ]
    },
    {
     "data": {
      "image/png": "[encoded data removed]",
      "text/plain": [
       "<Figure size 432x288 with 1 Axes>"
      ]
     },
     "metadata": {
      "needs_background": "light"
     },
     "output_type": "display_data"
    },
    {
     "name": "stdout",
     "output_type": "stream",
     "text": [
      "930352.2147216138 epoch =  1 batch = 119\n",
      "1014009.5048776116 epoch =  2 batch = 119\n",
      "1003809.7731076548 epoch =  3 batch = 119\n",
      "1018395.1447945645 epoch =  4 batch = 119\n",
      "994095.6388477032 epoch =  5 batch = 119\n",
      "944166.07591173 epoch =  6 batch = 119\n",
      "956205.3786856981 epoch =  7 batch = 119\n",
      "936927.4325585653 epoch =  8 batch = 119\n",
      "917538.1715794248 epoch =  9 batch = 119\n",
      "942914.1691915675 epoch =  10 batch = 119\n",
      "938142.8538402535 epoch =  11 batch = 119\n",
      "945537.6538109315 epoch =  12 batch = 119\n",
      "916257.1170010996 epoch =  13 batch = 119\n",
      "929678.6998706008 epoch =  14 batch = 119\n",
      "926913.7390938964 epoch =  15 batch = 119\n",
      "955221.7852020835 epoch =  16 batch = 119\n",
      "957143.128758752 epoch =  17 batch = 119\n",
      "952391.4604351443 epoch =  18 batch = 119\n",
      "945632.4424622846 epoch =  19 batch = 119\n",
      "920581.9868134263 epoch =  20 batch = 119\n",
      "939904.9204054796 epoch =  21 batch = 119\n",
      "942357.0739910575 epoch =  22 batch = 119\n",
      "981728.684278146 epoch =  23 batch = 119\n",
      "943853.1688023993 epoch =  24 batch = 119\n",
      "977038.8413342023 epoch =  25 batch = 119\n",
      "926535.5865080573 epoch =  26 batch = 119\n",
      "979830.0099940172 epoch =  27 batch = 119\n",
      "940857.337938135 epoch =  28 batch = 119\n",
      "987857.6939832742 epoch =  29 batch = 119\n",
      "912496.0400746614 epoch =  30 batch = 119\n",
      "979690.4948579796 epoch =  31 batch = 119\n",
      "907897.1464650468 epoch =  32 batch = 119\n",
      "957148.7658876036 epoch =  33 batch = 119\n",
      "944443.849174808 epoch =  34 batch = 119\n",
      "929628.1410376404 epoch =  35 batch = 119\n",
      "922331.0554692964 epoch =  36 batch = 119\n",
      "947641.9953925672 epoch =  37 batch = 119\n",
      "933090.9093848789 epoch =  38 batch = 119\n",
      "947091.4930983805 epoch =  39 batch = 119\n",
      "937728.1827935881 epoch =  40 batch = 119\n",
      "959929.5298742377 epoch =  41 batch = 119\n",
      "930167.7221098855 epoch =  42 batch = 119\n",
      "984610.7266756253 epoch =  43 batch = 119\n",
      "899002.649620113 epoch =  44 batch = 119\n",
      "944929.126221601 epoch =  45 batch = 119\n",
      "965538.3926013127 epoch =  46 batch = 119\n",
      "925125.2722301115 epoch =  47 batch = 119\n",
      "931135.5298796592 epoch =  48 batch = 119\n",
      "965190.2002425739 epoch =  49 batch = 119\n",
      "943012.0176767018 epoch =  50 batch = 119\n"
     ]
    },
    {
     "data": {
      "image/png": "[encoded data removed]",
      "text/plain": [
       "<Figure size 432x288 with 1 Axes>"
      ]
     },
     "metadata": {
      "needs_background": "light"
     },
     "output_type": "display_data"
    },
    {
     "name": "stdout",
     "output_type": "stream",
     "text": [
      "970084.8811670453 epoch =  51 batch = 119\n",
      "978132.6492975308 epoch =  52 batch = 119\n",
      "916571.5507412724 epoch =  53 batch = 119\n",
      "951322.7340880291 epoch =  54 batch = 119\n",
      "941153.0548258543 epoch =  55 batch = 119\n",
      "926245.3976243485 epoch =  56 batch = 119\n",
      "957560.7237822501 epoch =  57 batch = 119\n",
      "974956.221541414 epoch =  58 batch = 119\n",
      "915046.6733691943 epoch =  59 batch = 119\n",
      "929123.4596217402 epoch =  60 batch = 119\n",
      "933575.8939031964 epoch =  61 batch = 119\n",
      "929057.7754374308 epoch =  62 batch = 119\n",
      "963135.0684150617 epoch =  63 batch = 119\n",
      "942704.4912525109 epoch =  64 batch = 119\n",
      "933970.1160672545 epoch =  65 batch = 119\n",
      "957497.046842938 epoch =  66 batch = 119\n",
      "900537.9304105225 epoch =  67 batch = 119\n",
      "956252.1128094003 epoch =  68 batch = 119\n",
      "942587.3054067013 epoch =  69 batch = 119\n",
      "944325.4439441637 epoch =  70 batch = 119\n",
      "961212.6818803481 epoch =  71 batch = 119\n",
      "931687.5861236289 epoch =  72 batch = 119\n",
      "916421.4518713206 epoch =  73 batch = 119\n",
      "940209.1212335565 epoch =  74 batch = 119\n",
      "985695.8125769285 epoch =  75 batch = 119\n",
      "947909.5617025946 epoch =  76 batch = 119\n",
      "951535.9688460473 epoch =  77 batch = 119\n",
      "937945.9324148586 epoch =  78 batch = 119\n",
      "941809.8889770133 epoch =  79 batch = 119\n",
      "939570.1867168595 epoch =  80 batch = 119\n",
      "958222.1209237557 epoch =  81 batch = 119\n",
      "937339.6744793158 epoch =  82 batch = 119\n",
      "929774.6655708022 epoch =  83 batch = 119\n",
      "889774.9603161477 epoch =  84 batch = 119\n",
      "968275.4140821897 epoch =  85 batch = 119\n",
      "908752.2182060219 epoch =  86 batch = 119\n",
      "964158.3985475565 epoch =  87 batch = 119\n",
      "927501.2765030052 epoch =  88 batch = 119\n",
      "959833.7231338187 epoch =  89 batch = 119\n",
      "945861.1153585482 epoch =  90 batch = 119\n",
      "974959.8865726657 epoch =  91 batch = 119\n",
      "939181.3756454989 epoch =  92 batch = 119\n",
      "944529.80990502 epoch =  93 batch = 119\n",
      "924443.1718291262 epoch =  94 batch = 119\n",
      "956055.7827417904 epoch =  95 batch = 119\n",
      "916273.186860233 epoch =  96 batch = 119\n",
      "965289.3098985081 epoch =  97 batch = 119\n",
      "935547.402124443 epoch =  98 batch = 119\n",
      "928247.1154002851 epoch =  99 batch = 119\n",
      "967396.6118729252 epoch =  100 batch = 119\n"
     ]
    },
    {
     "data": {
      "image/png": "[encoded data removed]",
      "text/plain": [
       "<Figure size 432x288 with 1 Axes>"
      ]
     },
     "metadata": {
      "needs_background": "light"
     },
     "output_type": "display_data"
    },
    {
     "name": "stdout",
     "output_type": "stream",
     "text": [
      "946934.2553985815 epoch =  101 batch = 119\n",
      "936429.2527018125 epoch =  102 batch = 119\n",
      "946844.3046626892 epoch =  103 batch = 119\n",
      "942310.3845974343 epoch =  104 batch = 119\n",
      "922795.3202546312 epoch =  105 batch = 119\n",
      "942758.706157001 epoch =  106 batch = 119\n",
      "925441.0780000896 epoch =  107 batch = 119\n",
      "904835.4326655614 epoch =  108 batch = 119\n",
      "921984.4208911732 epoch =  109 batch = 119\n",
      "925972.0150737744 epoch =  110 batch = 119\n",
      "920943.8592575841 epoch =  111 batch = 119\n",
      "927743.4211937822 epoch =  112 batch = 119\n",
      "909067.341245598 epoch =  113 batch = 119\n",
      "931618.0925829734 epoch =  114 batch = 119\n",
      "906639.2078079481 epoch =  115 batch = 119\n",
      "961250.865595079 epoch =  116 batch = 119\n",
      "920988.6404988396 epoch =  117 batch = 119\n",
      "928588.0815901081 epoch =  118 batch = 119\n",
      "906753.917323496 epoch =  119 batch = 119\n",
      "924842.7293007461 epoch =  120 batch = 119\n",
      "929561.4462982008 epoch =  121 batch = 119\n",
      "911108.672566002 epoch =  122 batch = 119\n",
      "920434.0906493521 epoch =  123 batch = 119\n",
      "926600.169468093 epoch =  124 batch = 119\n",
      "917812.080212587 epoch =  125 batch = 119\n",
      "936191.9546182721 epoch =  126 batch = 119\n",
      "920383.3496711405 epoch =  127 batch = 119\n",
      "945054.8183243348 epoch =  128 batch = 119\n",
      "932902.6079483021 epoch =  129 batch = 119\n",
      "977758.9756293414 epoch =  130 batch = 119\n",
      "948136.5955191394 epoch =  131 batch = 119\n",
      "925975.2751178063 epoch =  132 batch = 119\n",
      "965855.5432678849 epoch =  133 batch = 119\n",
      "981974.3071864734 epoch =  134 batch = 119\n",
      "968032.1855352633 epoch =  135 batch = 119\n",
      "949517.6266728945 epoch =  136 batch = 119\n",
      "927149.7179782833 epoch =  137 batch = 119\n",
      "931914.7499855533 epoch =  138 batch = 119\n",
      "930225.7835302405 epoch =  139 batch = 119\n",
      "922646.5884585563 epoch =  140 batch = 119\n",
      "937548.7926553182 epoch =  141 batch = 119\n",
      "930545.3525386495 epoch =  142 batch = 119\n",
      "945820.5460683051 epoch =  143 batch = 119\n",
      "935749.1865120291 epoch =  144 batch = 119\n",
      "923141.7252179497 epoch =  145 batch = 119\n",
      "945818.6775377302 epoch =  146 batch = 119\n",
      "916422.6975476742 epoch =  147 batch = 119\n",
      "918196.7747691871 epoch =  148 batch = 119\n",
      "907906.409839032 epoch =  149 batch = 119\n"
     ]
    }
   ],
   "source": [
    "lr = 1e-3\n",
    "epochs = 150\n",
    "batch_size = 500\n",
    "number_of_batches = samples//batch_size\n",
    "X_t = Xf\n",
    "\n",
    "for i in range(epochs):\n",
    "    wm = np.zeros(Wm.shape)\n",
    "    bm = np.zeros(Bm.shape)\n",
    "    wc = np.zeros(Wc.shape)\n",
    "    bc = np.zeros(Bc.shape)\n",
    "    wd = np.zeros(Wd.shape)\n",
    "    bd = np.zeros(Bd.shape)\n",
    "    loss = 0\n",
    "    for j in range(number_of_batches):\n",
    "        ## SHuffling data\n",
    "        X = (X_t[j*batch_size:(j+1)*batch_size])\n",
    "        indices = np.arange(len(X)).astype(int)\n",
    "        np.random.shuffle(indices)\n",
    "        X = X[indices]\n",
    "        #forward pass\n",
    "        outm = layer(X,Wm,Bm)\n",
    "        mean  = relu(outm)\n",
    "        outc = layer(X,Wc,Bc)\n",
    "        log_covar = relu(outc)\n",
    "        covar = np.exp(log_covar)\n",
    "        gaus = np.random.normal(0,1,mean.shape)\n",
    "        Z    = mean + (covar**0.5 *gaus)\n",
    "        outy = layer(Z,Wd,Bd)\n",
    "        Y    = sigm(outy)\n",
    "        ### Backprop Encoder part\n",
    "        ## Tanh activation, so directly writing derivatives\n",
    "        dY = Y * (1-Y)\n",
    "        # similarly, derivative of tanh = 1 - tanh**2\n",
    "#         dmean = 1 - mean**2\n",
    "#         dlog_covar = 1 - log_covar**2\n",
    "        loss += np.linalg.norm(Y-X)**2 + 0.5*np.sum((covar - mean**2 -1 - log_covar))\n",
    "        # y_delta.shape (N,d)\n",
    "        y_delta = 2*(Y-X)*dY\n",
    "        \n",
    "        # Backprop decoder part \n",
    "        bd   += np.sum(y_delta,axis=0)\n",
    "        wd   += np.matmul(Z.T,y_delta)\n",
    "        # Backprop encoder part\n",
    "        sct = 0.5*gaus*covar*np.matmul(y_delta,Wd.T)*diff_relu(log_covar)\n",
    "        smt = np.matmul(y_delta,Wd.T)*diff_relu(mean)\n",
    "        sm = smt + 2*(mean)*diff_relu(mean)\n",
    "        sc = sct + 0.5*(covar**2 - 1)*diff_relu(log_covar) \n",
    "        #\n",
    "        bm += np.sum(sm, axis=0).reshape(bm.shape)\n",
    "        wm += np.matmul(X.T,sm)\n",
    "        bc += np.sum(sc, axis=0).reshape(bc.shape)\n",
    "        wc += np.matmul(X.T,sc)\n",
    "        \n",
    "    Wm -= lr*wm\n",
    "    Bm -= lr*bm\n",
    "    Wc -= lr*wc\n",
    "    Bc -= lr*bc\n",
    "    Bd -= lr*bd\n",
    "    Wd -= lr*wd\n",
    "\n",
    "    print(loss, \"epoch = \", i, \"batch =\", j)\n",
    "    if(i%50 == 0):\n",
    "        img = Y[1].reshape(14,14)*255.0\n",
    "        plt.imshow(img, cmap='gray')\n",
    "        plt.show((14,14))"
   ]
  },
  {
   "cell_type": "code",
   "execution_count": 4,
   "metadata": {},
   "outputs": [
    {
     "data": {
      "image/png": "[encoded data removed]",
      "text/plain": [
       "<Figure size 504x504 with 16 Axes>"
      ]
     },
     "metadata": {
      "needs_background": "light"
     },
     "output_type": "display_data"
    }
   ],
   "source": [
    "fig=plt.figure(figsize=(w/2,h/2))\n",
    "columns = 4\n",
    "rows = 4\n",
    "for i in range(1, columns*rows +1):\n",
    "    Z = np.random.normal(0,1,(Bc.shape))\n",
    "    outy = layer(Z,Wd,Bd)\n",
    "    y    = sigm(outy)\n",
    "    img = y.reshape(w,h)\n",
    "    fig.add_subplot(rows, columns, i)\n",
    "    plt.imshow(img, cmap='gray')\n",
    "plt.show()"
   ]
  },
  {
   "cell_type": "markdown",
   "metadata": {},
   "source": [
    "Increasing the number if hidden nodes and increasing the complexity of the mean and covariance matrices can give better results\n",
    "\n",
    "Currently the network is trying to generate 3 and 8s\n",
    "But in one of the training runs, 2s were also generated\n",
    "\n",
    "Just giving 1s as input generates beautiful images."
   ]
  },
  {
   "cell_type": "code",
   "execution_count": 8,
   "metadata": {},
   "outputs": [],
   "source": [
    "Y_test = np.load(\"train_labels.npy\")"
   ]
  },
  {
   "cell_type": "code",
   "execution_count": 9,
   "metadata": {},
   "outputs": [],
   "source": [
    "index = np.argwhere(Y_test==3)"
   ]
  },
  {
   "cell_type": "code",
   "execution_count": 10,
   "metadata": {},
   "outputs": [],
   "source": [
    "X_1 = X_train[index]\n",
    "X_1 = X_1.reshape(6131*2,196)"
   ]
  },
  {
   "cell_type": "code",
   "execution_count": 11,
   "metadata": {},
   "outputs": [
    {
     "name": "stdout",
     "output_type": "stream",
     "text": [
      "505832.8275401024 epoch =  0 batch = 244\n"
     ]
    },
    {
     "data": {
      "image/png": "[encoded data removed]",
      "text/plain": [
       "<Figure size 432x288 with 1 Axes>"
      ]
     },
     "metadata": {
      "needs_background": "light"
     },
     "output_type": "display_data"
    },
    {
     "name": "stdout",
     "output_type": "stream",
     "text": [
      "385039.8020525091 epoch =  1 batch = 244\n",
      "302625.9810060967 epoch =  2 batch = 244\n",
      "247631.391088454 epoch =  3 batch = 244\n",
      "210453.44386788618 epoch =  4 batch = 244\n",
      "184465.24914162763 epoch =  5 batch = 244\n",
      "165697.37491425461 epoch =  6 batch = 244\n",
      "151735.85670240124 epoch =  7 batch = 244\n",
      "141068.97421207075 epoch =  8 batch = 244\n",
      "132707.042353903 epoch =  9 batch = 244\n",
      "126044.1760596045 epoch =  10 batch = 244\n",
      "120619.39807337632 epoch =  11 batch = 244\n",
      "116149.52080099838 epoch =  12 batch = 244\n",
      "112409.59732731612 epoch =  13 batch = 244\n",
      "109241.82297467339 epoch =  14 batch = 244\n",
      "106543.052728564 epoch =  15 batch = 244\n",
      "104199.16982949284 epoch =  16 batch = 244\n",
      "102173.99773001552 epoch =  17 batch = 244\n",
      "100383.34737661105 epoch =  18 batch = 244\n",
      "98807.89912613662 epoch =  19 batch = 244\n",
      "97410.89158893342 epoch =  20 batch = 244\n",
      "96158.14602274084 epoch =  21 batch = 244\n",
      "95035.24050512438 epoch =  22 batch = 244\n",
      "94020.82593868616 epoch =  23 batch = 244\n",
      "93100.38780483171 epoch =  24 batch = 244\n",
      "92267.49892814216 epoch =  25 batch = 244\n",
      "91502.8506086489 epoch =  26 batch = 244\n",
      "90797.24970786758 epoch =  27 batch = 244\n",
      "90155.37424687031 epoch =  28 batch = 244\n",
      "89561.58171730899 epoch =  29 batch = 244\n",
      "89013.72511502937 epoch =  30 batch = 244\n",
      "88503.40837823787 epoch =  31 batch = 244\n",
      "88028.89928475917 epoch =  32 batch = 244\n",
      "87585.45794197361 epoch =  33 batch = 244\n",
      "87175.13631979807 epoch =  34 batch = 244\n",
      "86790.78515028988 epoch =  35 batch = 244\n",
      "86424.37133530303 epoch =  36 batch = 244\n",
      "86085.74723373303 epoch =  37 batch = 244\n",
      "85767.80576243636 epoch =  38 batch = 244\n",
      "85465.35774496439 epoch =  39 batch = 244\n",
      "85180.07078894312 epoch =  40 batch = 244\n",
      "84910.89968789171 epoch =  41 batch = 244\n",
      "84657.33616941683 epoch =  42 batch = 244\n",
      "84415.92147289908 epoch =  43 batch = 244\n",
      "84185.72351942184 epoch =  44 batch = 244\n",
      "83969.76342666641 epoch =  45 batch = 244\n",
      "83766.8849586003 epoch =  46 batch = 244\n",
      "83563.68620819725 epoch =  47 batch = 244\n",
      "83375.44813077172 epoch =  48 batch = 244\n",
      "83197.23057635117 epoch =  49 batch = 244\n",
      "83024.51084418768 epoch =  50 batch = 244\n"
     ]
    },
    {
     "data": {
      "image/png": "[encoded data removed]",
      "text/plain": [
       "<Figure size 432x288 with 1 Axes>"
      ]
     },
     "metadata": {
      "needs_background": "light"
     },
     "output_type": "display_data"
    },
    {
     "name": "stdout",
     "output_type": "stream",
     "text": [
      "82865.4351226827 epoch =  51 batch = 244\n",
      "82707.82483106249 epoch =  52 batch = 244\n",
      "82558.2859152926 epoch =  53 batch = 244\n",
      "82413.22976145009 epoch =  54 batch = 244\n",
      "82273.01026678333 epoch =  55 batch = 244\n",
      "82139.62788291948 epoch =  56 batch = 244\n",
      "82013.59715629123 epoch =  57 batch = 244\n",
      "81888.60995287752 epoch =  58 batch = 244\n",
      "81772.43315532152 epoch =  59 batch = 244\n",
      "81659.20856792775 epoch =  60 batch = 244\n",
      "81548.0551078909 epoch =  61 batch = 244\n",
      "81441.9032153972 epoch =  62 batch = 244\n",
      "81340.27364250898 epoch =  63 batch = 244\n",
      "81241.11432361424 epoch =  64 batch = 244\n",
      "81146.79518430082 epoch =  65 batch = 244\n",
      "81052.80040745961 epoch =  66 batch = 244\n",
      "80967.37038477814 epoch =  67 batch = 244\n",
      "80884.62111140747 epoch =  68 batch = 244\n",
      "80794.58155475788 epoch =  69 batch = 244\n",
      "80715.4422424377 epoch =  70 batch = 244\n",
      "80637.94698378726 epoch =  71 batch = 244\n",
      "80563.07144487933 epoch =  72 batch = 244\n",
      "80490.21963220535 epoch =  73 batch = 244\n",
      "80419.7061595016 epoch =  74 batch = 244\n",
      "80350.35658395947 epoch =  75 batch = 244\n",
      "80283.16568590961 epoch =  76 batch = 244\n",
      "80219.08436969428 epoch =  77 batch = 244\n",
      "80153.88772223161 epoch =  78 batch = 244\n",
      "80092.40335862777 epoch =  79 batch = 244\n",
      "80032.23112149833 epoch =  80 batch = 244\n",
      "79975.1996895281 epoch =  81 batch = 244\n",
      "79920.65173251735 epoch =  82 batch = 244\n",
      "79859.57417062127 epoch =  83 batch = 244\n",
      "79806.70080253611 epoch =  84 batch = 244\n",
      "79759.57997487888 epoch =  85 batch = 244\n",
      "79706.53083064256 epoch =  86 batch = 244\n",
      "79660.29162549238 epoch =  87 batch = 244\n",
      "79609.57411948915 epoch =  88 batch = 244\n",
      "79560.86851623448 epoch =  89 batch = 244\n",
      "79514.71591970236 epoch =  90 batch = 244\n",
      "79468.67570067689 epoch =  91 batch = 244\n",
      "79427.44947844668 epoch =  92 batch = 244\n",
      "79383.09816539104 epoch =  93 batch = 244\n",
      "79340.556237597 epoch =  94 batch = 244\n",
      "79299.67266084261 epoch =  95 batch = 244\n",
      "79261.46065394125 epoch =  96 batch = 244\n",
      "79224.45128945864 epoch =  97 batch = 244\n",
      "79182.08779040135 epoch =  98 batch = 244\n",
      "79143.84495141107 epoch =  99 batch = 244\n",
      "79111.56378385422 epoch =  100 batch = 244\n"
     ]
    },
    {
     "data": {
      "image/png": "[encoded data removed]",
      "text/plain": [
       "<Figure size 432x288 with 1 Axes>"
      ]
     },
     "metadata": {
      "needs_background": "light"
     },
     "output_type": "display_data"
    },
    {
     "name": "stdout",
     "output_type": "stream",
     "text": [
      "79074.09763081 epoch =  101 batch = 244\n",
      "79042.01647613548 epoch =  102 batch = 244\n",
      "79002.95655687433 epoch =  103 batch = 244\n",
      "78971.53215256518 epoch =  104 batch = 244\n",
      "78940.05293913129 epoch =  105 batch = 244\n",
      "78906.0785055998 epoch =  106 batch = 244\n",
      "78876.94532426087 epoch =  107 batch = 244\n",
      "78842.64244110738 epoch =  108 batch = 244\n",
      "78813.91269657647 epoch =  109 batch = 244\n",
      "78783.04056426125 epoch =  110 batch = 244\n",
      "78758.59625092677 epoch =  111 batch = 244\n",
      "78728.4283973767 epoch =  112 batch = 244\n",
      "78698.94806978156 epoch =  113 batch = 244\n",
      "78672.59849175278 epoch =  114 batch = 244\n",
      "78643.95529049265 epoch =  115 batch = 244\n",
      "78622.04041964737 epoch =  116 batch = 244\n",
      "78594.3235183933 epoch =  117 batch = 244\n",
      "78568.94683453675 epoch =  118 batch = 244\n",
      "78545.76504686152 epoch =  119 batch = 244\n",
      "78517.60587099774 epoch =  120 batch = 244\n",
      "78496.65206856673 epoch =  121 batch = 244\n",
      "78471.73223777277 epoch =  122 batch = 244\n",
      "78448.64258456275 epoch =  123 batch = 244\n",
      "78425.70987344794 epoch =  124 batch = 244\n",
      "78403.60606095372 epoch =  125 batch = 244\n",
      "78381.27574206988 epoch =  126 batch = 244\n",
      "78360.20494149817 epoch =  127 batch = 244\n",
      "78337.46040672301 epoch =  128 batch = 244\n",
      "78318.88326788739 epoch =  129 batch = 244\n",
      "78298.28599429296 epoch =  130 batch = 244\n",
      "78280.18451868396 epoch =  131 batch = 244\n",
      "78257.93059590261 epoch =  132 batch = 244\n",
      "78238.39353931116 epoch =  133 batch = 244\n",
      "78218.37941916031 epoch =  134 batch = 244\n",
      "78198.39466575162 epoch =  135 batch = 244\n",
      "78180.58142024053 epoch =  136 batch = 244\n",
      "78161.51068607558 epoch =  137 batch = 244\n",
      "78143.5397599857 epoch =  138 batch = 244\n",
      "78125.82558064161 epoch =  139 batch = 244\n",
      "78113.09099746513 epoch =  140 batch = 244\n",
      "78090.99865645387 epoch =  141 batch = 244\n",
      "78070.92211908563 epoch =  142 batch = 244\n",
      "78057.64965602562 epoch =  143 batch = 244\n",
      "78045.5309776974 epoch =  144 batch = 244\n",
      "78024.28372653382 epoch =  145 batch = 244\n",
      "78015.97607665448 epoch =  146 batch = 244\n",
      "78001.47044438998 epoch =  147 batch = 244\n",
      "77981.76265789031 epoch =  148 batch = 244\n",
      "77963.8743083963 epoch =  149 batch = 244\n"
     ]
    }
   ],
   "source": [
    "lr = 1e-4\n",
    "epochs = 150\n",
    "batch_size = 50\n",
    "samples = 6131*2\n",
    "number_of_batches = samples//batch_size\n",
    "X_t = X_1/255.0\n",
    "\n",
    "for i in range(epochs):\n",
    "    wm = np.zeros(Wm.shape)\n",
    "    bm = np.zeros(Bm.shape)\n",
    "    wc = np.zeros(Wc.shape)\n",
    "    bc = np.zeros(Bc.shape)\n",
    "    wd = np.zeros(Wd.shape)\n",
    "    bd = np.zeros(Bd.shape)\n",
    "    loss = 0\n",
    "    for j in range(number_of_batches):\n",
    "        ## SHuffling data\n",
    "        X = (X_t[j*batch_size:(j+1)*batch_size])\n",
    "        indices = np.arange(len(X)).astype(int)\n",
    "        np.random.shuffle(indices)\n",
    "        X = X[indices]\n",
    "        #forward pass\n",
    "        outm = layer(X,Wm,Bm)\n",
    "        mean  = relu(outm)\n",
    "        outc = layer(X,Wc,Bc)\n",
    "        log_covar = relu(outc)\n",
    "        covar = np.exp(log_covar)\n",
    "        gaus = np.random.normal(0,1,mean.shape)\n",
    "        Z    = mean + (covar**0.5 *gaus)\n",
    "        outy = layer(Z,Wd,Bd)\n",
    "        Y    = sigm(outy)\n",
    "        ### Backprop Encoder part\n",
    "        ## Tanh activation, so directly writing derivatives\n",
    "        dY = Y * (1-Y)\n",
    "        # similarly, derivative of tanh = 1 - tanh**2\n",
    "#         dmean = 1 - mean**2\n",
    "#         dlog_covar = 1 - log_covar**2\n",
    "        loss += np.linalg.norm(Y-X)**2 + 0.5*np.sum((covar - mean**2 -1 - log_covar))\n",
    "        # y_delta.shape (N,d)\n",
    "        y_delta = 2*(Y-X)*dY\n",
    "        \n",
    "        # Backprop decoder part \n",
    "        bd   += np.sum(y_delta,axis=0)\n",
    "        wd   += np.matmul(Z.T,y_delta)\n",
    "        # Backprop encoder part\n",
    "        sct = 0.5*gaus*covar*np.matmul(y_delta,Wd.T)*diff_relu(log_covar)\n",
    "        smt = np.matmul(y_delta,Wd.T)*diff_relu(mean)\n",
    "        sm = smt + 2*(mean)*diff_relu(mean)\n",
    "        sc = sct + 0.5*(covar**2 - 1)*diff_relu(log_covar) \n",
    "        #\n",
    "        bm += np.sum(sm, axis=0).reshape(bm.shape)\n",
    "        wm += np.matmul(X.T,sm)\n",
    "        bc += np.sum(sc, axis=0).reshape(bc.shape)\n",
    "        wc += np.matmul(X.T,sc)\n",
    "        \n",
    "    Wm -= lr*wm\n",
    "    Bm -= lr*bm\n",
    "    Wc -= lr*wc\n",
    "    Bc -= lr*bc\n",
    "    Bd -= lr*bd\n",
    "    Wd -= lr*wd\n",
    "\n",
    "    print(loss, \"epoch = \", i, \"batch =\", j)\n",
    "    if(i%50 == 0):\n",
    "        img = Y[1].reshape(14,14)*255.0\n",
    "        plt.imshow(img, cmap='gray')\n",
    "        plt.show((14,14))"
   ]
  },
  {
   "cell_type": "code",
   "execution_count": 12,
   "metadata": {},
   "outputs": [
    {
     "data": {
      "image/png": "[encoded data removed]",
      "text/plain": [
       "<Figure size 504x504 with 16 Axes>"
      ]
     },
     "metadata": {
      "needs_background": "light"
     },
     "output_type": "display_data"
    }
   ],
   "source": [
    "fig=plt.figure(figsize=(w/2,h/2))\n",
    "columns = 4\n",
    "rows = 4\n",
    "for i in range(1, columns*rows +1):\n",
    "    Z = np.random.normal(0,1,(Bc.shape))\n",
    "    outy = layer(Z,Wd,Bd)\n",
    "    y    = sigm(outy)\n",
    "    img = y.reshape(w,h)\n",
    "    fig.add_subplot(rows, columns, i)\n",
    "    plt.imshow(img, cmap='gray')\n",
    "plt.show()"
   ]
  },
  {
   "cell_type": "markdown",
   "metadata": {},
   "source": [
    "As shown above, the network fits perfectly well on single modal data and generated them pretty faithfully"
   ]
  }
 ],
 "metadata": {
  "kernelspec": {
   "display_name": "Python 3",
   "language": "python",
   "name": "python3"
  },
  "language_info": {
   "codemirror_mode": {
    "name": "ipython",
    "version": 3
   },
   "file_extension": ".py",
   "mimetype": "text/x-python",
   "name": "python",
   "nbconvert_exporter": "python",
   "pygments_lexer": "ipython3",
   "version": "3.7.0"
  }
 },
 "nbformat": 4,
 "nbformat_minor": 2
}
