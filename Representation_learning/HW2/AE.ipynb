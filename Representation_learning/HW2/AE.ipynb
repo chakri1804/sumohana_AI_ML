{
 "cells": [
  {
   "cell_type": "code",
   "execution_count": 16,
   "metadata": {},
   "outputs": [],
   "source": [
    "import numpy as np\n",
    "X_train = np.load(\"reshaped_14.npy\")"
   ]
  },
  {
   "cell_type": "code",
   "execution_count": 19,
   "metadata": {},
   "outputs": [],
   "source": [
    "hidden_nodes = 225\n",
    "epochs = 10\n",
    "lr = 1e-4\n",
    "input_size = 196\n",
    "X = X_train.reshape(60000,input_size)\n",
    "X = X/255.0\n",
    "samples = 60000\n",
    "Lambda = 1\n",
    "s = 0.05\n",
    "# defining functions\n",
    "\n",
    "def sigm(x):\n",
    "    return 1/(1+np.exp(-x))\n",
    "\n",
    "def diff_sigm(x):\n",
    "    return (sigm(x)-(sigm(x)**2))\n",
    "\n",
    "def layer(x,W,b):\n",
    "    return (np.matmul(W.T,x.reshape(len(x),1)) + b)\n",
    "\n",
    "W1 = np.random.normal(1e-5,1,(input_size,hidden_nodes))\n",
    "Bi1 = np.random.normal(1e-5,1,(hidden_nodes,1))\n",
    "W2 = np.random.normal(1e-5,1,(hidden_nodes,input_size))\n",
    "Bi2 = np.random.normal(1e-5,1,(input_size,1))"
   ]
  },
  {
   "cell_type": "code",
   "execution_count": 20,
   "metadata": {
    "scrolled": true
   },
   "outputs": [
    {
     "name": "stdout",
     "output_type": "stream",
     "text": [
      "1010658213.0582439\n",
      "562767178.0556823\n",
      "551893438.154844\n",
      "541391152.6931992\n",
      "548395963.5440034\n",
      "556025877.8049797\n",
      "550242176.060832\n",
      "540825015.7457821\n",
      "541763833.6703991\n",
      "541629839.3795807\n"
     ]
    }
   ],
   "source": [
    "for i in range(epochs):\n",
    "    loss = 0\n",
    "    w1 = np.zeros(W1.shape)\n",
    "    b1 = np.zeros(Bi1.shape)\n",
    "    w2 = np.zeros(W2.shape)\n",
    "    b2 = np.zeros(Bi2.shape)\n",
    "    S  = np.zeros(W1.shape)\n",
    "    Zm = Zd = Zdb = 0\n",
    "    ZmM = np.zeros(W1.shape)\n",
    "    for j in range(samples):\n",
    "        #forward path\n",
    "        out1 = layer(X[j],W1,Bi1)\n",
    "        z = sigm(out1)\n",
    "        out2 = layer(z,W2,Bi2)\n",
    "        y = sigm(out2)\n",
    "        # Backprop\n",
    "        temp = 2*(y-X[j].reshape(np.shape(y)))*diff_sigm(out2)\n",
    "        b2 += temp\n",
    "        w2 += np.matmul(z,temp.T)\n",
    "        loss += np.linalg.norm(y-X[j])**2\n",
    "        S = np.random.binomial(1,s,(hidden_nodes,1))\n",
    "        Z = z/samples\n",
    "        ge = (-S/Z + (1-S)/(1-Z))\n",
    "#         print(out1.shape, ge.shape)\n",
    "        temp2 = np.multiply(diff_sigm(out1),((Lambda/samples)*(ge) - np.sum(temp)))\n",
    "        b1 += temp2\n",
    "        w1 += np.matmul(X[j].reshape(input_size,1),temp2.T)\n",
    "    print(loss)\n",
    "    W1 -= lr*w1\n",
    "    W2 -= lr*w2\n",
    "    Bi1 -= lr*b1\n",
    "    Bi2 -= lr*b2\n"
   ]
  },
  {
   "cell_type": "code",
   "execution_count": null,
   "metadata": {},
   "outputs": [],
   "source": [
    "import matplotlib.pyplot as plt"
   ]
  },
  {
   "cell_type": "code",
   "execution_count": null,
   "metadata": {},
   "outputs": [],
   "source": [
    "plt.imshow(X_train[100])"
   ]
  },
  {
   "cell_type": "code",
   "execution_count": null,
   "metadata": {},
   "outputs": [],
   "source": [
    "out1 = layer(X[j],W1,Bi1)\n",
    "z = sigm(out1)\n",
    "out2 = layer(z,W2,Bi2)\n",
    "y = sigm(out2)\n",
    "y = y.reshape(14,14)\n",
    "plt.imshow(y)"
   ]
  }
 ],
 "metadata": {
  "kernelspec": {
   "display_name": "Python 3",
   "language": "python",
   "name": "python3"
  },
  "language_info": {
   "codemirror_mode": {
    "name": "ipython",
    "version": 3
   },
   "file_extension": ".py",
   "mimetype": "text/x-python",
   "name": "python",
   "nbconvert_exporter": "python",
   "pygments_lexer": "ipython3",
   "version": "3.7.0"
  }
 },
 "nbformat": 4,
 "nbformat_minor": 2
}
