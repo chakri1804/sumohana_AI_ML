{
 "cells": [
  {
   "cell_type": "code",
   "execution_count": 46,
   "metadata": {},
   "outputs": [],
   "source": [
    "import numpy as np\n",
    "import matplotlib.pyplot as plt\n",
    "X_train = np.load(\"reshaped_14.npy\")"
   ]
  },
  {
   "cell_type": "code",
   "execution_count": 47,
   "metadata": {},
   "outputs": [],
   "source": [
    "hidden_nodes = 225\n",
    "epochs = 1\n",
    "lr = 1e-4\n",
    "samples = 60000\n",
    "input_size = 196\n",
    "X = X_train.reshape(samples,input_size)\n",
    "X = X/255.0\n",
    "Lambda = 1\n",
    "s = 0.1\n",
    "# defining functions\n",
    "\n",
    "def sigm(x):\n",
    "    return 1/(1+np.exp(-x))\n",
    "\n",
    "def diff_sigm(x):\n",
    "    return (sigm(x)-(sigm(x)**2))\n",
    "\n",
    "def layer(x,W,b):\n",
    "    return np.matmul(x,W)+b\n",
    "\n",
    "W1 = np.random.normal(0,1,(input_size,hidden_nodes))\n",
    "Bi1 = np.random.normal(0,1,(1,hidden_nodes))\n",
    "W2 = np.random.normal(0,1,(hidden_nodes,input_size))\n",
    "Bi2 = np.random.normal(0,1,(1,input_size))"
   ]
  },
  {
   "cell_type": "code",
   "execution_count": 48,
   "metadata": {},
   "outputs": [
    {
     "name": "stdout",
     "output_type": "stream",
     "text": [
      "(0, 4813170.083062036)\n",
      "(1, 2395348.841108337)\n",
      "(2, 2734987.830301474)\n",
      "(3, 1433664.1501533457)\n",
      "(4, 1235326.0200254824)\n",
      "(5, 1236980.3457530655)\n",
      "(6, 1161387.9618902588)\n",
      "(7, 1118430.9727626755)\n",
      "(8, 1035345.7364268553)\n",
      "(9, 1019369.2282899376)\n",
      "(10, 953372.9604842532)\n",
      "(11, 967989.3979141373)\n",
      "(12, 900396.6880502983)\n",
      "(13, 928740.0675324588)\n",
      "(14, 853193.4764544527)\n",
      "(15, 892929.8628927945)\n",
      "(16, 811622.8193832708)\n",
      "(17, 855429.4929592483)\n",
      "(18, 775244.6160700915)\n",
      "(19, 814691.6463272707)\n",
      "(20, 743403.5209758703)\n",
      "(21, 774737.9762914277)\n",
      "(22, 715894.7288734037)\n",
      "(23, 739926.7461971989)\n",
      "(24, 692033.261153235)\n",
      "(25, 710091.4182666203)\n",
      "(26, 671277.5592361818)\n",
      "(27, 683801.1100049716)\n",
      "(28, 652725.6025909471)\n",
      "(29, 660601.2260592821)\n",
      "(30, 635800.0203382691)\n",
      "(31, 639995.5567963247)\n",
      "(32, 620173.7499562227)\n",
      "(33, 621545.9890341787)\n",
      "(34, 605615.4751704369)\n",
      "(35, 604895.6599787865)\n",
      "(36, 591946.5667241755)\n",
      "(37, 589748.6695482905)\n",
      "(38, 579047.8951900165)\n",
      "(39, 575874.5699105135)\n",
      "(40, 566852.0537952762)\n",
      "(41, 563076.9440685353)\n",
      "(42, 555297.3103958777)\n",
      "(43, 551175.1665347543)\n",
      "(44, 544312.2195472526)\n",
      "(45, 540009.7277205678)\n",
      "(46, 533821.7001872568)\n",
      "(47, 529442.6235324196)\n",
      "(48, 523755.7215542431)\n",
      "(49, 519370.4652196508)\n"
     ]
    }
   ],
   "source": [
    "epochs = 50\n",
    "for i in range(epochs):\n",
    "    loss = 0\n",
    "    w1 = np.zeros(W1.shape)\n",
    "    b1 = np.zeros(Bi1.shape)\n",
    "    w2 = np.zeros(W2.shape)\n",
    "    b2 = np.zeros(Bi2.shape)\n",
    "    S  = np.zeros(W1.shape)\n",
    "    #forward pass\n",
    "    out1 = layer(X,W1,Bi1)\n",
    "    z = sigm(out1)\n",
    "    out2 = layer(z,W2,Bi2)\n",
    "    y = sigm(out2)\n",
    "    #BACKPROPAGATION\n",
    "    del1 = 2*(y-X)*diff_sigm(out2)\n",
    "    b2 = np.sum(del1, axis = 0).reshape(np.shape(Bi2))\n",
    "    w2 = np.matmul(z.T,del1)\n",
    "    zm = np.mean(z,axis = 0)\n",
    "#     print(z.shape,zm.shape)\n",
    "    ge = (Lambda)*(-s/zm + (1-s)/(1-zm))*diff_sigm(out1)\n",
    "#     print(ge.shape)\n",
    "    s1 = ge-np.multiply(diff_sigm(out1),np.sum(del1, axis=1).reshape(samples,1))\n",
    "    b1 = np.sum(s1,axis=0).reshape(np.shape(Bi1))\n",
    "    w1 = np.matmul(X.T,s1)\n",
    "    loss = np.sum(np.linalg.norm(y-X)**2)\n",
    "    print(i,loss)\n",
    "    W1 -= lr*w1\n",
    "    W2 -= lr*w2\n",
    "    Bi1 -= lr*b1\n",
    "    Bi2 -= lr*b2"
   ]
  },
  {
   "cell_type": "code",
   "execution_count": 49,
   "metadata": {},
   "outputs": [],
   "source": [
    "out1 = layer(X,W1,Bi1)\n",
    "z = sigm(out1)\n",
    "out2 = layer(z,W2,Bi2)\n",
    "y = sigm(out2)\n",
    "y = y*255.0"
   ]
  },
  {
   "cell_type": "code",
   "execution_count": 50,
   "metadata": {},
   "outputs": [
    {
     "data": {
      "text/plain": [
       "<matplotlib.image.AxesImage at 0x7f9a3aa56150>"
      ]
     },
     "execution_count": 50,
     "metadata": {},
     "output_type": "execute_result"
    },
    {
     "data": {
      "image/png": "[encoded data removed]",
      "text/plain": [
       "<Figure size 432x288 with 1 Axes>"
      ]
     },
     "metadata": {
      "needs_background": "light"
     },
     "output_type": "display_data"
    }
   ],
   "source": [
    "plt.imshow(X[7].reshape(14,14) , cmap='gray')"
   ]
  },
  {
   "cell_type": "code",
   "execution_count": 51,
   "metadata": {},
   "outputs": [
    {
     "data": {
      "text/plain": [
       "<matplotlib.image.AxesImage at 0x7f9a3aa147d0>"
      ]
     },
     "execution_count": 51,
     "metadata": {},
     "output_type": "execute_result"
    },
    {
     "data": {
      "image/png": "[encoded data removed]",
      "text/plain": [
       "<Figure size 432x288 with 1 Axes>"
      ]
     },
     "metadata": {
      "needs_background": "light"
     },
     "output_type": "display_data"
    }
   ],
   "source": [
    "plt.imshow(y[7].reshape(14,14) , cmap='gray' )"
   ]
  },
  {
   "cell_type": "code",
   "execution_count": 58,
   "metadata": {},
   "outputs": [
    {
     "name": "stdout",
     "output_type": "stream",
     "text": [
      "(54, 225)\n",
      "0.06825834755595714\n"
     ]
    }
   ],
   "source": [
    "count = 0\n",
    "for i in range(len(z[1])):\n",
    "    if(z[1][i] > 0.01):\n",
    "        count += 1\n",
    "print(count,len(z[1]))\n",
    "\n",
    "print(np.mean(z[1]))\n"
   ]
  }
 ],
 "metadata": {
  "kernelspec": {
   "display_name": "Python 3",
   "language": "python",
   "name": "python3"
  },
  "language_info": {
   "codemirror_mode": {
    "name": "ipython",
    "version": 3
   },
   "file_extension": ".py",
   "mimetype": "text/x-python",
   "name": "python",
   "nbconvert_exporter": "python",
   "pygments_lexer": "ipython3",
   "version": "3.7.0"
  }
 },
 "nbformat": 4,
 "nbformat_minor": 2
}
