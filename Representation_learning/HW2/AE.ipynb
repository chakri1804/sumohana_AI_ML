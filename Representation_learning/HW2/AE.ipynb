{
 "cells": [
  {
   "cell_type": "code",
   "execution_count": 1,
   "metadata": {},
   "outputs": [],
   "source": [
    "import numpy as np\n",
    "import matplotlib.pyplot as plt\n",
    "X_train = np.load(\"reshaped_14.npy\")"
   ]
  },
  {
   "cell_type": "code",
   "execution_count": 2,
   "metadata": {},
   "outputs": [],
   "source": [
    "hidden_nodes = 400\n",
    "epochs = 1\n",
    "lr = 1e-4\n",
    "samples = 60000\n",
    "input_size = 196\n",
    "X = X_train.reshape(samples,input_size)\n",
    "X = X/255.0\n",
    "Lambda = 1\n",
    "s = 0.1\n",
    "# defining functions\n",
    "\n",
    "def sigm(x):\n",
    "    return 1/(1+np.exp(-x))\n",
    "\n",
    "def diff_sigm(x):\n",
    "    return (sigm(x)-(sigm(x)**2))\n",
    "\n",
    "def layer(x,W,b):\n",
    "    return np.matmul(x,W)+b\n",
    "\n",
    "W1 = np.random.normal(0,1,(input_size,hidden_nodes))\n",
    "Bi1 = np.random.normal(0,1,(1,hidden_nodes))\n",
    "W2 = np.random.normal(0,1,(hidden_nodes,input_size))\n",
    "Bi2 = np.random.normal(0,1,(1,input_size))"
   ]
  },
  {
   "cell_type": "code",
   "execution_count": 3,
   "metadata": {},
   "outputs": [
    {
     "name": "stdout",
     "output_type": "stream",
     "text": [
      "(0, 5501149.781880232)\n",
      "(1, 2869474.1037492934)\n",
      "(2, 2848858.316435084)\n",
      "(3, 1672870.5141031437)\n",
      "(4, 1338051.413480503)\n",
      "(5, 1193895.6842234829)\n",
      "(6, 1139900.1740355934)\n",
      "(7, 1122589.4004060128)\n",
      "(8, 1077529.5543139798)\n",
      "(9, 1043756.4001065387)\n",
      "(10, 1018996.0394654939)\n",
      "(11, 994305.3137682991)\n",
      "(12, 973817.3088541075)\n",
      "(13, 954144.4734200145)\n",
      "(14, 936291.7103074153)\n",
      "(15, 918486.556606812)\n",
      "(16, 901451.5555229626)\n",
      "(17, 884306.9598815696)\n",
      "(18, 867812.3021517069)\n",
      "(19, 851565.8825936562)\n",
      "(20, 835832.3566928125)\n",
      "(21, 820374.5641500561)\n",
      "(22, 805367.2373637017)\n",
      "(23, 790855.3196548938)\n",
      "(24, 777059.5909136544)\n",
      "(25, 763890.0737772372)\n",
      "(26, 751210.5821669145)\n",
      "(27, 738625.0591027456)\n",
      "(28, 725533.7334555647)\n",
      "(29, 712605.6634916706)\n",
      "(30, 701254.0111719873)\n",
      "(31, 690740.1794952822)\n",
      "(32, 680891.7468569755)\n",
      "(33, 671671.5702001218)\n",
      "(34, 662879.6917399468)\n",
      "(35, 654517.1862808695)\n",
      "(36, 646603.5427828116)\n",
      "(37, 639057.5858321261)\n",
      "(38, 631795.9244485603)\n",
      "(39, 624804.9634872888)\n",
      "(40, 618052.0774502397)\n",
      "(41, 611520.64844371)\n",
      "(42, 605190.2288494176)\n",
      "(43, 599048.2425328232)\n",
      "(44, 593081.8855326409)\n",
      "(45, 587282.6890602331)\n",
      "(46, 581643.2078218627)\n",
      "(47, 576157.7473035946)\n",
      "(48, 570819.920103969)\n",
      "(49, 565622.7570164688)\n"
     ]
    }
   ],
   "source": [
    "epochs = 50\n",
    "for i in range(epochs):\n",
    "    loss = 0\n",
    "    w1 = np.zeros(W1.shape)\n",
    "    b1 = np.zeros(Bi1.shape)\n",
    "    w2 = np.zeros(W2.shape)\n",
    "    b2 = np.zeros(Bi2.shape)\n",
    "    S  = np.zeros(W1.shape)\n",
    "    #forward pass\n",
    "    out1 = layer(X,W1,Bi1)\n",
    "    z = sigm(out1)\n",
    "    out2 = layer(z,W2,Bi2)\n",
    "    y = sigm(out2)\n",
    "    #BACKPROPAGATION\n",
    "    del1 = 2*(y-X)*diff_sigm(out2)\n",
    "    b2 = np.sum(del1, axis = 0).reshape(np.shape(Bi2))\n",
    "    w2 = np.matmul(z.T,del1)\n",
    "    zm = np.mean(z,axis = 0)\n",
    "#     print(z.shape,zm.shape)\n",
    "    ge = (Lambda)*(-s/zm + (1-s)/(1-zm))*diff_sigm(out1)\n",
    "#     print(ge.shape)\n",
    "    s1 = ge-np.multiply(diff_sigm(out1),np.sum(del1, axis=1).reshape(samples,1))\n",
    "    b1 = np.sum(s1,axis=0).reshape(np.shape(Bi1))\n",
    "    w1 = np.matmul(X.T,s1)\n",
    "    loss = np.sum(np.linalg.norm(y-X)**2)\n",
    "    print(i,loss)\n",
    "    W1 -= lr*w1\n",
    "    W2 -= lr*w2\n",
    "    Bi1 -= lr*b1\n",
    "    Bi2 -= lr*b2"
   ]
  },
  {
   "cell_type": "code",
   "execution_count": 4,
   "metadata": {},
   "outputs": [],
   "source": [
    "out1 = layer(X,W1,Bi1)\n",
    "z = sigm(out1)\n",
    "out2 = layer(z,W2,Bi2)\n",
    "y = sigm(out2)\n",
    "y = y*255.0"
   ]
  },
  {
   "cell_type": "code",
   "execution_count": 10,
   "metadata": {},
   "outputs": [
    {
     "data": {
      "text/plain": [
       "<matplotlib.image.AxesImage at 0x7f78b5e85d10>"
      ]
     },
     "execution_count": 10,
     "metadata": {},
     "output_type": "execute_result"
    },
    {
     "data": {
      "image/png": "[encoded data removed]",
      "text/plain": [
       "<Figure size 432x288 with 1 Axes>"
      ]
     },
     "metadata": {
      "needs_background": "light"
     },
     "output_type": "display_data"
    }
   ],
   "source": [
    "plt.imshow(X[14].reshape(14,14) , cmap='gray')"
   ]
  },
  {
   "cell_type": "code",
   "execution_count": 11,
   "metadata": {},
   "outputs": [
    {
     "data": {
      "text/plain": [
       "<matplotlib.image.AxesImage at 0x7f78b5e023d0>"
      ]
     },
     "execution_count": 11,
     "metadata": {},
     "output_type": "execute_result"
    },
    {
     "data": {
      "image/png": "[encoded data removed]",
      "text/plain": [
       "<Figure size 432x288 with 1 Axes>"
      ]
     },
     "metadata": {
      "needs_background": "light"
     },
     "output_type": "display_data"
    }
   ],
   "source": [
    "plt.imshow(y[14].reshape(14,14) , cmap='gray' )"
   ]
  },
  {
   "cell_type": "code",
   "execution_count": 7,
   "metadata": {},
   "outputs": [
    {
     "name": "stdout",
     "output_type": "stream",
     "text": [
      "(96, 400)\n",
      "0.06784835059466941\n"
     ]
    }
   ],
   "source": [
    "count = 0\n",
    "for i in range(len(z[1])):\n",
    "    if(z[1][i] > 0.01):\n",
    "        count += 1\n",
    "print(count,len(z[1]))\n",
    "\n",
    "print(np.mean(z[1]))\n"
   ]
  }
 ],
 "metadata": {
  "kernelspec": {
   "display_name": "Python 3",
   "language": "python",
   "name": "python3"
  },
  "language_info": {
   "codemirror_mode": {
    "name": "ipython",
    "version": 2
   },
   "file_extension": ".py",
   "mimetype": "text/x-python",
   "name": "python",
   "nbconvert_exporter": "python",
   "pygments_lexer": "ipython2",
   "version": "2.7.15rc1"
  }
 },
 "nbformat": 4,
 "nbformat_minor": 2
}
