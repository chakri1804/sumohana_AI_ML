{
 "cells": [
  {
   "cell_type": "code",
   "execution_count": 13,
   "metadata": {},
   "outputs": [],
   "source": [
    "import numpy as np\n",
    "import matplotlib.pyplot as plt\n",
    "X_train = np.load(\"reshaped_14.npy\")"
   ]
  },
  {
   "cell_type": "code",
   "execution_count": 14,
   "metadata": {},
   "outputs": [],
   "source": [
    "hidden_nodes = 225\n",
    "epochs = 1\n",
    "lr = 1e-4\n",
    "samples = 60000\n",
    "input_size = 196\n",
    "X = X_train.reshape(samples,input_size)\n",
    "X = X/255.0\n",
    "Lambda = 1\n",
    "s = 0.1\n",
    "# defining functions\n",
    "\n",
    "def sigm(x):\n",
    "    return 1/(1+np.exp(-x))\n",
    "\n",
    "def diff_sigm(x):\n",
    "    return (sigm(x)-(sigm(x)**2))\n",
    "\n",
    "def layer(x,W,b):\n",
    "    return np.matmul(x,W)+b\n",
    "\n",
    "W1 = np.random.normal(0,1,(input_size,hidden_nodes))\n",
    "Bi1 = np.random.normal(0,1,(1,hidden_nodes))\n",
    "W2 = np.random.normal(0,1,(hidden_nodes,input_size))\n",
    "Bi2 = np.random.normal(0,1,(1,input_size))"
   ]
  },
  {
   "cell_type": "code",
   "execution_count": 15,
   "metadata": {},
   "outputs": [
    {
     "name": "stdout",
     "output_type": "stream",
     "text": [
      "(0, 4959775.942707532)\n",
      "(1, 3518283.1423144364)\n",
      "(2, 2212659.7419363274)\n",
      "(3, 1821387.3795106306)\n",
      "(4, 1717910.0238258706)\n",
      "(5, 1329375.2192145516)\n",
      "(6, 1181078.816165203)\n",
      "(7, 1073796.5874516352)\n",
      "(8, 1019193.5392536339)\n",
      "(9, 978479.4837130362)\n",
      "(10, 951528.1658912407)\n",
      "(11, 929369.5410260829)\n",
      "(12, 909541.167883895)\n",
      "(13, 891781.6672395752)\n",
      "(14, 876472.52291566)\n",
      "(15, 863247.7214360026)\n",
      "(16, 851603.9669210775)\n",
      "(17, 841091.9129762937)\n",
      "(18, 831406.987588887)\n",
      "(19, 822347.5323840735)\n",
      "(20, 813771.2185442543)\n",
      "(21, 805560.7316446652)\n",
      "(22, 797624.181144698)\n",
      "(23, 789902.6949412033)\n",
      "(24, 782382.0363015814)\n",
      "(25, 775098.8061149159)\n",
      "(26, 768110.3094841089)\n",
      "(27, 761447.8343140234)\n",
      "(28, 755108.0630944659)\n",
      "(29, 749067.4038865605)\n",
      "(30, 743297.2141865438)\n",
      "(31, 737770.4973342613)\n",
      "(32, 732461.5808086268)\n",
      "(33, 727343.3351173658)\n",
      "(34, 722384.2771576757)\n",
      "(35, 717549.6161797618)\n",
      "(36, 712808.0803438338)\n",
      "(37, 708134.8428005684)\n",
      "(38, 703506.111104267)\n",
      "(39, 698897.499219264)\n",
      "(40, 694288.8384291412)\n",
      "(41, 689666.996362607)\n",
      "(42, 685027.1988026944)\n",
      "(43, 680373.9850342748)\n",
      "(44, 675718.9185924757)\n",
      "(45, 671076.8302649405)\n",
      "(46, 666466.5336390929)\n",
      "(47, 661919.0530148932)\n",
      "(48, 657482.7417424559)\n",
      "(49, 653202.3207607217)\n"
     ]
    }
   ],
   "source": [
    "epochs = 50\n",
    "for i in range(epochs):\n",
    "    loss = 0\n",
    "    w1 = np.zeros(W1.shape)\n",
    "    b1 = np.zeros(Bi1.shape)\n",
    "    w2 = np.zeros(W2.shape)\n",
    "    b2 = np.zeros(Bi2.shape)\n",
    "    S  = np.zeros(W1.shape)\n",
    "    #forward pass\n",
    "    out1 = layer(X,W1,Bi1)\n",
    "    z = sigm(out1)\n",
    "    out2 = layer(z,W2,Bi2)\n",
    "    y = sigm(out2)\n",
    "    #BACKPROPAGATION\n",
    "    del1 = 2*(y-X)*diff_sigm(out2)\n",
    "    b2 = np.sum(del1, axis = 0).reshape(np.shape(Bi2))\n",
    "    w2 = np.matmul(z.T,del1)\n",
    "    zm = np.mean(z,axis = 0)\n",
    "#     print(z.shape,zm.shape)\n",
    "    ge = (Lambda)*(-s/zm + (1-s)/(1-zm))*diff_sigm(out1)\n",
    "#     print(ge.shape)\n",
    "    s1 = ge-(diff_sigm(out1)*np.matmul(del1,W2.T))\n",
    "#     print(s1.shape, Bi1.shape,del1.shape, W2.shape,ge.shape)\n",
    "    b1 = np.sum(s1,axis=0).reshape(np.shape(Bi1))\n",
    "    w1 = np.matmul(X.T,s1)\n",
    "    loss = np.sum(np.linalg.norm(y-X)**2)\n",
    "    print(i,loss)\n",
    "    W1 -= lr*w1\n",
    "    W2 -= lr*w2\n",
    "    Bi1 -= lr*b1\n",
    "    Bi2 -= lr*b2"
   ]
  },
  {
   "cell_type": "code",
   "execution_count": 16,
   "metadata": {},
   "outputs": [],
   "source": [
    "out1 = layer(X,W1,Bi1)\n",
    "z = sigm(out1)\n",
    "out2 = layer(z,W2,Bi2)\n",
    "y = sigm(out2)\n",
    "y = y*255.0"
   ]
  },
  {
   "cell_type": "code",
   "execution_count": 17,
   "metadata": {},
   "outputs": [
    {
     "data": {
      "text/plain": [
       "<matplotlib.image.AxesImage at 0x7fd0dc494450>"
      ]
     },
     "execution_count": 17,
     "metadata": {},
     "output_type": "execute_result"
    },
    {
     "data": {
      "image/png": "[encoded data removed]",
      "text/plain": [
       "<Figure size 432x288 with 1 Axes>"
      ]
     },
     "metadata": {
      "needs_background": "light"
     },
     "output_type": "display_data"
    }
   ],
   "source": [
    "plt.imshow(X[14].reshape(14,14) , cmap='gray')"
   ]
  },
  {
   "cell_type": "code",
   "execution_count": 18,
   "metadata": {},
   "outputs": [
    {
     "data": {
      "text/plain": [
       "<matplotlib.image.AxesImage at 0x7fd10c57b310>"
      ]
     },
     "execution_count": 18,
     "metadata": {},
     "output_type": "execute_result"
    },
    {
     "data": {
      "image/png": "[encoded data removed]",
      "text/plain": [
       "<Figure size 432x288 with 1 Axes>"
      ]
     },
     "metadata": {
      "needs_background": "light"
     },
     "output_type": "display_data"
    }
   ],
   "source": [
    "plt.imshow(y[14].reshape(14,14) , cmap='gray' )"
   ]
  },
  {
   "cell_type": "code",
   "execution_count": 19,
   "metadata": {},
   "outputs": [
    {
     "name": "stdout",
     "output_type": "stream",
     "text": [
      "(70, 225)\n",
      "0.11057718354333364\n"
     ]
    }
   ],
   "source": [
    "count = 0\n",
    "for i in range(len(z[1])):\n",
    "    if(z[1][i] > 0.01):\n",
    "        count += 1\n",
    "print(count,len(z[1]))\n",
    "\n",
    "print(np.mean(z[1]))\n"
   ]
  }
 ],
 "metadata": {
  "kernelspec": {
   "display_name": "Python 3",
   "language": "python",
   "name": "python3"
  },
  "language_info": {
   "codemirror_mode": {
    "name": "ipython",
    "version": 2
   },
   "file_extension": ".py",
   "mimetype": "text/x-python",
   "name": "python",
   "nbconvert_exporter": "python",
   "pygments_lexer": "ipython2",
   "version": "2.7.15rc1"
  }
 },
 "nbformat": 4,
 "nbformat_minor": 2
}
