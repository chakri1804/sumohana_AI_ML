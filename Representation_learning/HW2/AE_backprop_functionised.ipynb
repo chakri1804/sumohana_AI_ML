{
 "cells": [
  {
   "cell_type": "code",
   "execution_count": 53,
   "metadata": {},
   "outputs": [],
   "source": [
    "import numpy as np\n",
    "import matplotlib.pyplot as plt\n",
    "X_train = np.load(\"reshaped_14.npy\")"
   ]
  },
  {
   "cell_type": "code",
   "execution_count": 59,
   "metadata": {},
   "outputs": [],
   "source": [
    "hidden_nodes = 225\n",
    "middle = 50\n",
    "lr = 1e-3\n",
    "samples = 60000\n",
    "# input_size = 784\n",
    "input_size = 196\n",
    "X = X_train.reshape(samples,input_size)\n",
    "X = X/255.0\n",
    "Lambda = 1\n",
    "s = 0.05\n",
    "# defining functions\n",
    "\n",
    "def sigm(x):\n",
    "    return 1/(1+np.exp(-x))\n",
    "\n",
    "def diff_sigm(x):\n",
    "    return (sigm(x)-(sigm(x)**2))\n",
    "\n",
    "def layer(x,W,b):\n",
    "    return np.matmul(x,W)+b\n",
    "\n",
    "def backprop_last(output,label,out_penult):\n",
    "    del1 = 2*(output-label)*diff_sigm(out_penult)\n",
    "    return del1\n",
    "\n",
    "def backprop_layer(prev_delta,out_prev,prev_weights):\n",
    "    sn = (diff_sigm(out_prev)*np.matmul(prev_delta,prev_weights.T))\n",
    "    return sn\n",
    "\n",
    "W1 = np.random.normal(0,1,(input_size,middle))\n",
    "Bi1 = np.random.normal(0,1,(1,middle))\n",
    "W2 = np.random.normal(0,1,(middle,hidden_nodes))\n",
    "Bi2 = np.random.normal(0,1,(1,hidden_nodes))\n",
    "W3 = np.random.normal(0,1,(hidden_nodes,middle))\n",
    "Bi3 = np.random.normal(0,1,(1,middle))\n",
    "W4 = np.random.normal(0,1,(middle,input_size))\n",
    "Bi4 = np.random.normal(0,1,(1,input_size))\n"
   ]
  },
  {
   "cell_type": "code",
   "execution_count": 60,
   "metadata": {},
   "outputs": [
    {
     "name": "stdout",
     "output_type": "stream",
     "text": [
      "(0, 4214517.628341729)\n"
     ]
    },
    {
     "name": "stderr",
     "output_type": "stream",
     "text": [
      "/home/legion/.local/lib/python2.7/site-packages/ipykernel_launcher.py:14: RuntimeWarning: overflow encountered in exp\n",
      "  \n"
     ]
    },
    {
     "name": "stdout",
     "output_type": "stream",
     "text": [
      "(1, 1790786.264734628)\n",
      "(2, 1581415.6728111547)\n"
     ]
    },
    {
     "name": "stderr",
     "output_type": "stream",
     "text": [
      "/home/legion/.local/lib/python2.7/site-packages/ipykernel_launcher.py:25: RuntimeWarning: divide by zero encountered in divide\n",
      "/home/legion/.local/lib/python2.7/site-packages/ipykernel_launcher.py:25: RuntimeWarning: invalid value encountered in multiply\n"
     ]
    },
    {
     "name": "stdout",
     "output_type": "stream",
     "text": [
      "(3, 1382035.6015931258)\n",
      "(4, nan)\n",
      "(5, nan)\n",
      "(6, nan)\n",
      "(7, nan)\n",
      "(8, nan)\n",
      "(9, nan)\n",
      "(10, nan)\n",
      "(11, nan)\n",
      "(12, nan)\n",
      "(13, nan)\n",
      "(14, nan)\n",
      "(15, nan)\n",
      "(16, nan)\n",
      "(17, nan)\n",
      "(18, nan)\n",
      "(19, nan)\n",
      "(20, nan)\n",
      "(21, nan)\n",
      "(22, nan)\n",
      "(23, nan)\n",
      "(24, nan)\n",
      "(25, nan)\n",
      "(26, nan)\n",
      "(27, nan)\n",
      "(28, nan)\n",
      "(29, nan)\n",
      "(30, nan)\n",
      "(31, nan)\n",
      "(32, nan)\n",
      "(33, nan)\n",
      "(34, nan)\n",
      "(35, nan)\n",
      "(36, nan)\n",
      "(37, nan)\n",
      "(38, nan)\n",
      "(39, nan)\n",
      "(40, nan)\n",
      "(41, nan)\n",
      "(42, nan)\n",
      "(43, nan)\n",
      "(44, nan)\n",
      "(45, nan)\n",
      "(46, nan)\n",
      "(47, nan)\n",
      "(48, nan)\n",
      "(49, nan)\n"
     ]
    }
   ],
   "source": [
    "epochs = 50\n",
    "for i in range(epochs):\n",
    "    loss = 0\n",
    "    w1 = w2 = w3 = w4 = 0\n",
    "    b1 = b2 = b3 = b4 = 0\n",
    "    #forward pass\n",
    "    out1 = layer(X,W1,Bi1)\n",
    "    m1 = sigm(out1)\n",
    "    out2 = layer(m1,W2,Bi2)\n",
    "    z  = sigm(out2)\n",
    "    out3 = layer(z,W3,Bi3)\n",
    "    m2 = sigm(out3)\n",
    "    out4 = layer(m2,W4,Bi4)\n",
    "    y = sigm(out4)\n",
    "    #BACKPROPAGATION\n",
    "    del1 = backprop_last(y,X,out4)\n",
    "    b4 = np.sum(del1, axis = 0).reshape(np.shape(Bi4))\n",
    "    w4 = np.matmul(m2.T,del1)\n",
    "#     print(del1.shape, out3.shape, W4.shape)\n",
    "    s3 = backprop_layer(del1,out3,W4)\n",
    "    w3 = np.matmul(z.T,s3)\n",
    "    b3 = np.sum(s3,axis=0).reshape(np.shape(Bi3))\n",
    "    ################ sparsity conditioning\n",
    "    zm = np.mean(z,axis = 0)\n",
    "    ge = (Lambda)*(-s/zm + (1-s)/(1-zm))*diff_sigm(out2)\n",
    "    ################\n",
    "    s2 = ge+backprop_layer(s3,out2,W3)\n",
    "    b2 = np.sum(s2,axis=0).reshape(np.shape(Bi2))\n",
    "    w2 = np.matmul(m1.T,s2)\n",
    "    \n",
    "    s1 = backprop_layer(s2,out1,W2)\n",
    "    w1 = np.matmul(X.T,s1)\n",
    "    b1 = np.sum(s1,axis=0).reshape(np.shape(Bi1))\n",
    "    \n",
    "    loss = np.sum(np.linalg.norm(y-X)**2)\n",
    "    print(i,loss)\n",
    "    W1 -= lr*w1\n",
    "    W2 -= lr*w2\n",
    "    W3 -= lr*w3\n",
    "    W4 -= lr*w4\n",
    "    Bi1 -= lr*b1\n",
    "    Bi2 -= lr*b2\n",
    "    Bi3 -= lr*b3\n",
    "    Bi4 -= lr*b4\n",
    "    "
   ]
  },
  {
   "cell_type": "code",
   "execution_count": 61,
   "metadata": {},
   "outputs": [
    {
     "data": {
      "text/plain": [
       "<matplotlib.image.AxesImage at 0x7f00997ef8d0>"
      ]
     },
     "execution_count": 61,
     "metadata": {},
     "output_type": "execute_result"
    },
    {
     "data": {
      "image/png": "[encoded data removed]",
      "text/plain": [
       "<Figure size 432x288 with 1 Axes>"
      ]
     },
     "metadata": {
      "needs_background": "light"
     },
     "output_type": "display_data"
    }
   ],
   "source": [
    "plt.imshow(X[7].reshape(14,14) , cmap='gray')"
   ]
  },
  {
   "cell_type": "code",
   "execution_count": 62,
   "metadata": {},
   "outputs": [
    {
     "data": {
      "text/plain": [
       "<matplotlib.image.AxesImage at 0x7f00997690d0>"
      ]
     },
     "execution_count": 62,
     "metadata": {},
     "output_type": "execute_result"
    },
    {
     "name": "stderr",
     "output_type": "stream",
     "text": [
      "/home/legion/.local/lib/python2.7/site-packages/matplotlib/image.py:405: UserWarning: Warning: converting a masked element to nan.\n",
      "  dv = (np.float64(self.norm.vmax) -\n",
      "/home/legion/.local/lib/python2.7/site-packages/matplotlib/image.py:406: UserWarning: Warning: converting a masked element to nan.\n",
      "  np.float64(self.norm.vmin))\n",
      "/home/legion/.local/lib/python2.7/site-packages/matplotlib/image.py:413: UserWarning: Warning: converting a masked element to nan.\n",
      "  a_min = np.float64(newmin)\n",
      "/home/legion/.local/lib/python2.7/site-packages/matplotlib/image.py:418: UserWarning: Warning: converting a masked element to nan.\n",
      "  a_max = np.float64(newmax)\n",
      "/home/legion/.local/lib/python2.7/site-packages/matplotlib/colors.py:916: UserWarning: Warning: converting a masked element to nan.\n",
      "  dtype = np.min_scalar_type(value)\n",
      "/home/legion/.local/lib/python2.7/site-packages/numpy/ma/core.py:715: UserWarning: Warning: converting a masked element to nan.\n",
      "  data = np.array(a, copy=False, subok=subok)\n"
     ]
    },
    {
     "data": {
      "image/png": "[encoded data removed]",
      "text/plain": [
       "<Figure size 432x288 with 1 Axes>"
      ]
     },
     "metadata": {
      "needs_background": "light"
     },
     "output_type": "display_data"
    }
   ],
   "source": [
    "y = y*255.0\n",
    "plt.imshow(y[7].reshape(14,14) , cmap='gray' )"
   ]
  },
  {
   "cell_type": "code",
   "execution_count": 63,
   "metadata": {},
   "outputs": [
    {
     "name": "stdout",
     "output_type": "stream",
     "text": [
      "(0, 225)\n",
      "nan\n"
     ]
    }
   ],
   "source": [
    "count = 0\n",
    "for i in range(len(z[1])):\n",
    "    if(z[1][i] > 0.01):\n",
    "        count += 1\n",
    "print(count,len(z[1]))\n",
    "print(np.mean(z[1]))"
   ]
  }
 ],
 "metadata": {
  "kernelspec": {
   "display_name": "Python 3",
   "language": "python",
   "name": "python3"
  },
  "language_info": {
   "codemirror_mode": {
    "name": "ipython",
    "version": 2
   },
   "file_extension": ".py",
   "mimetype": "text/x-python",
   "name": "python",
   "nbconvert_exporter": "python",
   "pygments_lexer": "ipython2",
   "version": "2.7.15rc1"
  }
 },
 "nbformat": 4,
 "nbformat_minor": 2
}
