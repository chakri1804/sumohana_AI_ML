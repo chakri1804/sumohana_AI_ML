{
 "cells": [
  {
   "cell_type": "code",
   "execution_count": 41,
   "metadata": {},
   "outputs": [],
   "source": [
    "import numpy as np\n",
    "import matplotlib.pyplot as plt\n",
    "X_train = np.load(\"reshaped_14.npy\")"
   ]
  },
  {
   "cell_type": "code",
   "execution_count": 42,
   "metadata": {},
   "outputs": [],
   "source": [
    "hidden_nodes = 225\n",
    "middle = 100\n",
    "epochs = 1\n",
    "lr = 1e-6\n",
    "samples = 60000\n",
    "input_size = 196\n",
    "X = X_train.reshape(samples,input_size)\n",
    "X = X/255.0\n",
    "Lambda = 0.7\n",
    "s = 0.1\n",
    "# defining functions\n",
    "\n",
    "def sigm(x):\n",
    "    return 1/(1+np.exp(-x))\n",
    "\n",
    "def diff_sigm(x):\n",
    "    return (sigm(x)-(sigm(x)**2))\n",
    "\n",
    "def layer(x,W,b):\n",
    "    return np.matmul(x,W)+b\n",
    "\n",
    "def backprop_last(output,label,out_penult):\n",
    "    del1 = 2*(output-label)*diff_sigm(out_penult)\n",
    "    return del1\n",
    "\n",
    "def backprop_layer(prev_delta,out_prev):\n",
    "    sn = -np.multiply(diff_sigm(out_prev),np.sum(prev_delta, axis=1).reshape(samples,1))\n",
    "    return sn\n",
    "\n",
    "W1 = np.random.normal(0,1,(input_size,middle))\n",
    "Bi1 = np.random.normal(0,1,(1,middle))\n",
    "W2 = np.random.normal(0,1,(middle,hidden_nodes))\n",
    "Bi2 = np.random.normal(0,1,(1,hidden_nodes))\n",
    "W3 = np.random.normal(0,1,(hidden_nodes,middle))\n",
    "Bi3 = np.random.normal(0,1,(1,middle))\n",
    "W4 = np.random.normal(0,1,(middle,input_size))\n",
    "Bi4 = np.random.normal(0,1,(1,input_size))\n"
   ]
  },
  {
   "cell_type": "code",
   "execution_count": 43,
   "metadata": {},
   "outputs": [
    {
     "name": "stdout",
     "output_type": "stream",
     "text": [
      "0 4231795.656239914\n",
      "1 4151861.9011051194\n",
      "2 4023483.7771919086\n",
      "3 3843774.3940715417\n",
      "4 3843572.6409001\n",
      "5 3553186.497740605\n",
      "6 3668418.3122388623\n",
      "7 3533748.5453322707\n",
      "8 3320889.8089594203\n",
      "9 3133391.8849903094\n",
      "10 2979322.2441122946\n",
      "11 2844451.67348039\n",
      "12 2720390.3101004115\n",
      "13 2605519.315601246\n",
      "14 2517759.155350193\n",
      "15 2466611.596852338\n",
      "16 2432736.522545599\n",
      "17 2401514.3014266994\n",
      "18 2366615.7006513667\n",
      "19 2335104.39328813\n",
      "20 2317360.4245106205\n",
      "21 2306208.786400849\n",
      "22 2294617.1310666846\n",
      "23 2280588.690874615\n",
      "24 2265834.963154288\n",
      "25 2250440.453711168\n",
      "26 2231462.1254039938\n",
      "27 2217034.746657293\n",
      "28 2210516.981142969\n",
      "29 2206027.4387302613\n",
      "30 2201871.735873268\n",
      "31 2197760.0122636035\n",
      "32 2193701.903337167\n",
      "33 2189583.4977510637\n",
      "34 2185028.078426257\n",
      "35 2179393.0340454536\n",
      "36 2171578.1380223786\n",
      "37 2159483.1465329183\n",
      "38 2139933.674214161\n",
      "39 2114912.8530801167\n",
      "40 2092333.3275528206\n",
      "41 2072331.8177392706\n",
      "42 2061555.699615583\n",
      "43 2053533.9092270702\n",
      "44 2042025.2419331097\n",
      "45 2024987.6494296368\n",
      "46 2012335.3973196123\n",
      "47 2008321.529461908\n",
      "48 2007218.987296335\n",
      "49 2007092.2696061383\n"
     ]
    }
   ],
   "source": [
    "epochs = 50\n",
    "for i in range(epochs):\n",
    "    loss = 0\n",
    "    w1 = w2 = w3 = w4 = 0\n",
    "    b1 = b2 = b3 = b4 = 0\n",
    "    #forward pass\n",
    "    out1 = layer(X,W1,Bi1)\n",
    "    m1 = sigm(out1)\n",
    "    out2 = layer(m1,W2,Bi2)\n",
    "    z  = sigm(out2)\n",
    "    out3 = layer(z,W3,Bi3)\n",
    "    m2 = sigm(out3)\n",
    "    out4 = layer(m2,W4,Bi4)\n",
    "    y = sigm(out4)\n",
    "    #BACKPROPAGATION\n",
    "    del1 = backprop_last(y,X,out4)\n",
    "    b4 = np.sum(del1, axis = 0).reshape(np.shape(Bi4))\n",
    "    w4 = np.matmul(m2.T,del1)\n",
    "    \n",
    "    s3 = backprop_layer(del1,out3)\n",
    "    w3 = np.matmul(z.T,s3)\n",
    "    b3 = np.sum(s3,axis=0).reshape(np.shape(Bi3))\n",
    "    #sparsity conditioning\n",
    "    zm = np.mean(z,axis = 0)\n",
    "    ge = (Lambda)*(-s/zm + (1-s)/(1-zm))*diff_sigm(out2)\n",
    "    s2 = ge+backprop_layer(s3,out2)\n",
    "    b2 = np.sum(s2,axis=0).reshape(np.shape(Bi2))\n",
    "    w2 = np.matmul(m1.T,s2)\n",
    "    \n",
    "    s1 = backprop_layer(s2,out1)\n",
    "    w1 = np.matmul(X.T,s1)\n",
    "    b1 = np.sum(s1,axis=0).reshape(np.shape(Bi1))\n",
    "    \n",
    "    loss = np.sum(np.linalg.norm(y-X)**2)\n",
    "    print(i,loss)\n",
    "    W1 -= lr*w1\n",
    "    W2 -= lr*w2\n",
    "    W3 -= lr*w3\n",
    "    W4 -= lr*w4\n",
    "    Bi1 -= lr*b1\n",
    "    Bi2 -= lr*b2\n",
    "    Bi3 -= lr*b3\n",
    "    Bi4 -= lr*b4\n",
    "    "
   ]
  },
  {
   "cell_type": "code",
   "execution_count": 47,
   "metadata": {},
   "outputs": [],
   "source": [
    "out1 = layer(X,W1,Bi1)\n",
    "m1 = sigm(out1)\n",
    "out2 = layer(m1,W2,Bi2)\n",
    "z  = sigm(out2)\n",
    "out3 = layer(z,W3,Bi3)\n",
    "m2 = sigm(out3)\n",
    "out4 = layer(m2,W4,Bi4)\n",
    "y = sigm(out4)"
   ]
  },
  {
   "cell_type": "code",
   "execution_count": 48,
   "metadata": {},
   "outputs": [
    {
     "data": {
      "text/plain": [
       "<matplotlib.image.AxesImage at 0x7fa7505525c0>"
      ]
     },
     "execution_count": 48,
     "metadata": {},
     "output_type": "execute_result"
    },
    {
     "data": {
      "image/png": "[encoded data removed]",
      "text/plain": [
       "<Figure size 432x288 with 1 Axes>"
      ]
     },
     "metadata": {
      "needs_background": "light"
     },
     "output_type": "display_data"
    }
   ],
   "source": [
    "plt.imshow(X[7].reshape(14,14) , cmap='gray')"
   ]
  },
  {
   "cell_type": "code",
   "execution_count": 49,
   "metadata": {},
   "outputs": [
    {
     "data": {
      "text/plain": [
       "<matplotlib.image.AxesImage at 0x7fa7278af908>"
      ]
     },
     "execution_count": 49,
     "metadata": {},
     "output_type": "execute_result"
    },
    {
     "data": {
      "image/png": "[encoded data removed]",
      "text/plain": [
       "<Figure size 432x288 with 1 Axes>"
      ]
     },
     "metadata": {
      "needs_background": "light"
     },
     "output_type": "display_data"
    }
   ],
   "source": [
    "plt.imshow(y[7].reshape(14,14) , cmap='gray' )"
   ]
  },
  {
   "cell_type": "code",
   "execution_count": 50,
   "metadata": {},
   "outputs": [
    {
     "name": "stdout",
     "output_type": "stream",
     "text": [
      "73 225\n",
      "0.010010944662473013\n"
     ]
    }
   ],
   "source": [
    "count = 0\n",
    "for i in range(len(z[1])):\n",
    "    if(z[1][i] > 0.01):\n",
    "        count += 1\n",
    "print(count,len(z[1]))\n",
    "\n",
    "print(np.mean(z[1]))\n"
   ]
  }
 ],
 "metadata": {
  "kernelspec": {
   "display_name": "Python 3",
   "language": "python",
   "name": "python3"
  },
  "language_info": {
   "codemirror_mode": {
    "name": "ipython",
    "version": 3
   },
   "file_extension": ".py",
   "mimetype": "text/x-python",
   "name": "python",
   "nbconvert_exporter": "python",
   "pygments_lexer": "ipython3",
   "version": "3.7.0"
  }
 },
 "nbformat": 4,
 "nbformat_minor": 2
}
