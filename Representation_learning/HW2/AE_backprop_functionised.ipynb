{
 "cells": [
  {
   "cell_type": "code",
   "execution_count": 1,
   "metadata": {},
   "outputs": [],
   "source": [
    "import numpy as np\n",
    "import matplotlib.pyplot as plt\n",
    "X_train = np.load(\"reshaped_14.npy\")"
   ]
  },
  {
   "cell_type": "code",
   "execution_count": 2,
   "metadata": {},
   "outputs": [],
   "source": [
    "hidden_nodes = 225\n",
    "middle = 50\n",
    "lr = 1e-3\n",
    "samples = 60000\n",
    "# input_size = 784\n",
    "input_size = 196\n",
    "X = X_train.reshape(samples,input_size)\n",
    "X = X/255.0\n",
    "Lambda = 1\n",
    "s = 0.05\n",
    "# defining functions\n",
    "\n",
    "def sigm(x):\n",
    "    return 1/(1+np.exp(-x))\n",
    "\n",
    "def diff_sigm(x):\n",
    "    return (sigm(x)-(sigm(x)**2))\n",
    "\n",
    "def layer(x,W,b):\n",
    "    return np.matmul(x,W)+b\n",
    "\n",
    "def backprop_last(output,label,out_penult):\n",
    "    del1 = 2*(output-label)*diff_sigm(out_penult)\n",
    "    return del1\n",
    "\n",
    "def backprop_layer(prev_delta,out_prev,prev_weights):\n",
    "    sn = (diff_sigm(out_prev)*np.matmul(prev_delta,prev_weights.T))\n",
    "    return sn\n",
    "\n",
    "W1 = np.random.normal(0,1e-3,(input_size,middle))\n",
    "Bi1 = np.random.normal(0,1e-3,(1,middle))\n",
    "W2 = np.random.normal(0,1e-3,(middle,hidden_nodes))\n",
    "Bi2 = np.random.normal(0,1e-3,(1,hidden_nodes))\n",
    "W3 = np.random.normal(0,1e-3,(hidden_nodes,middle))\n",
    "Bi3 = np.random.normal(0,1e-3,(1,middle))\n",
    "W4 = np.random.normal(0,1e-3,(middle,input_size))\n",
    "Bi4 = np.random.normal(0,1e-3,(1,input_size))\n"
   ]
  },
  {
   "cell_type": "code",
   "execution_count": 3,
   "metadata": {},
   "outputs": [
    {
     "name": "stdout",
     "output_type": "stream",
     "text": [
      "(0, 2526192.7411691793)\n",
      "(1, 1092175.2980134233)\n"
     ]
    },
    {
     "name": "stderr",
     "output_type": "stream",
     "text": [
      "/home/legion/.local/lib/python2.7/site-packages/ipykernel_launcher.py:14: RuntimeWarning: overflow encountered in exp\n",
      "  \n"
     ]
    },
    {
     "name": "stdout",
     "output_type": "stream",
     "text": [
      "(2, 1120285.7971837812)\n",
      "(3, 1122517.8073344266)\n",
      "(4, 1107226.3683719917)\n",
      "(5, 1120934.0348408422)\n",
      "(6, 1119719.3255738788)\n",
      "(7, 1123769.8592388378)\n",
      "(8, 1123768.9290089377)\n",
      "(9, 1123768.9438055411)\n",
      "(10, 1123768.6342780553)\n",
      "(11, 1123765.4201256179)\n",
      "(12, 1123766.4387167578)\n",
      "(13, 1123759.9500636223)\n",
      "(14, 1123758.3145825793)\n",
      "(15, 1123750.7646033117)\n",
      "(16, 1123743.6043625716)\n",
      "(17, 1123721.7132021494)\n",
      "(18, 1123677.403072312)\n",
      "(19, 1123471.4123798828)\n",
      "(20, 1117630.8473269334)\n",
      "(21, 1127025.7719667286)\n",
      "(22, 1127022.0047895329)\n",
      "(23, 1127024.605227539)\n",
      "(24, 1127020.8828810328)\n",
      "(25, 1127023.46893983)\n",
      "(26, 1127019.4591977643)\n",
      "(27, 1127022.1710622152)\n",
      "(28, 1127017.2765107818)\n",
      "(29, 1127020.8721453045)\n",
      "(30, 1127014.2240216115)\n",
      "(31, 1127018.8012821162)\n",
      "(32, 1127011.1441950148)\n",
      "(33, 1127014.926312063)\n",
      "(34, 1127005.8164075695)\n",
      "(35, 1127009.285849013)\n",
      "(36, 1126995.894142487)\n",
      "(37, 1126999.0521277534)\n",
      "(38, 1126974.9863826905)\n",
      "(39, 1126970.9610760761)\n",
      "(40, 1126900.31965157)\n",
      "(41, 1126779.3641361573)\n",
      "(42, 1124752.967710288)\n",
      "(43, 1124357.4442527117)\n",
      "(44, 1124332.1899269249)\n",
      "(45, 1124347.6395627346)\n",
      "(46, 1124307.6195144143)\n",
      "(47, 1124323.2930031049)\n",
      "(48, 1124236.667241766)\n",
      "(49, 1124185.6204374977)\n"
     ]
    }
   ],
   "source": [
    "epochs = 50\n",
    "for i in range(epochs):\n",
    "    loss = 0\n",
    "    w1 = w2 = w3 = w4 = 0\n",
    "    b1 = b2 = b3 = b4 = 0\n",
    "    #forward pass\n",
    "    out1 = layer(X,W1,Bi1)\n",
    "    m1 = sigm(out1)\n",
    "    out2 = layer(m1,W2,Bi2)\n",
    "    z  = sigm(out2)\n",
    "    out3 = layer(z,W3,Bi3)\n",
    "    m2 = sigm(out3)\n",
    "    out4 = layer(m2,W4,Bi4)\n",
    "    y = sigm(out4)\n",
    "    #BACKPROPAGATION\n",
    "    del1 = backprop_last(y,X,out4)\n",
    "    b4 = np.sum(del1, axis = 0).reshape(np.shape(Bi4))\n",
    "    w4 = np.matmul(m2.T,del1)\n",
    "#     print(del1.shape, out3.shape, W4.shape)\n",
    "    s3 = backprop_layer(del1,out3,W4)\n",
    "    w3 = np.matmul(z.T,s3)\n",
    "    b3 = np.sum(s3,axis=0).reshape(np.shape(Bi3))\n",
    "    ################ sparsity conditioning\n",
    "    zm = np.mean(z,axis = 0)\n",
    "    ge = (Lambda)*(-s/zm + (1-s)/(1-zm))*diff_sigm(out2)\n",
    "    ################\n",
    "    s2 = ge+backprop_layer(s3,out2,W3)\n",
    "    b2 = np.sum(s2,axis=0).reshape(np.shape(Bi2))\n",
    "    w2 = np.matmul(m1.T,s2)\n",
    "    \n",
    "    s1 = backprop_layer(s2,out1,W2)\n",
    "    w1 = np.matmul(X.T,s1)\n",
    "    b1 = np.sum(s1,axis=0).reshape(np.shape(Bi1))\n",
    "    \n",
    "    loss = np.sum(np.linalg.norm(y-X)**2)\n",
    "    print(i,loss)\n",
    "    W1 -= lr*w1\n",
    "    W2 -= lr*w2\n",
    "    W3 -= lr*w3\n",
    "    W4 -= lr*w4\n",
    "    Bi1 -= lr*b1\n",
    "    Bi2 -= lr*b2\n",
    "    Bi3 -= lr*b3\n",
    "    Bi4 -= lr*b4\n",
    "    "
   ]
  },
  {
   "cell_type": "code",
   "execution_count": 4,
   "metadata": {},
   "outputs": [
    {
     "data": {
      "text/plain": [
       "<matplotlib.image.AxesImage at 0x7f0f29aa0690>"
      ]
     },
     "execution_count": 4,
     "metadata": {},
     "output_type": "execute_result"
    },
    {
     "data": {
      "image/png": "[encoded data removed]",
      "text/plain": [
       "<Figure size 432x288 with 1 Axes>"
      ]
     },
     "metadata": {
      "needs_background": "light"
     },
     "output_type": "display_data"
    }
   ],
   "source": [
    "plt.imshow(X[7].reshape(14,14) , cmap='gray')"
   ]
  },
  {
   "cell_type": "code",
   "execution_count": 5,
   "metadata": {},
   "outputs": [
    {
     "data": {
      "text/plain": [
       "<matplotlib.image.AxesImage at 0x7f0f299d5710>"
      ]
     },
     "execution_count": 5,
     "metadata": {},
     "output_type": "execute_result"
    },
    {
     "data": {
      "image/png": "[encoded data removed]",
      "text/plain": [
       "<Figure size 432x288 with 1 Axes>"
      ]
     },
     "metadata": {
      "needs_background": "light"
     },
     "output_type": "display_data"
    }
   ],
   "source": [
    "y = y*255.0\n",
    "plt.imshow(y[7].reshape(14,14) , cmap='gray' )"
   ]
  },
  {
   "cell_type": "code",
   "execution_count": 6,
   "metadata": {},
   "outputs": [
    {
     "name": "stdout",
     "output_type": "stream",
     "text": [
      "(163, 225)\n",
      "0.032234457934461766\n"
     ]
    }
   ],
   "source": [
    "count = 0\n",
    "for i in range(len(z[1])):\n",
    "    if(z[1][i] > 0.01):\n",
    "        count += 1\n",
    "print(count,len(z[1]))\n",
    "print(np.mean(z[1]))"
   ]
  }
 ],
 "metadata": {
  "kernelspec": {
   "display_name": "Python 3",
   "language": "python",
   "name": "python3"
  },
  "language_info": {
   "codemirror_mode": {
    "name": "ipython",
    "version": 2
   },
   "file_extension": ".py",
   "mimetype": "text/x-python",
   "name": "python",
   "nbconvert_exporter": "python",
   "pygments_lexer": "ipython2",
   "version": "2.7.15rc1"
  }
 },
 "nbformat": 4,
 "nbformat_minor": 2
}
