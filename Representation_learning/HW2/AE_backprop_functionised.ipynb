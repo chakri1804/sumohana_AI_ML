{
 "cells": [
  {
   "cell_type": "code",
   "execution_count": 50,
   "metadata": {},
   "outputs": [],
   "source": [
    "import numpy as np\n",
    "import matplotlib.pyplot as plt\n",
    "X_train = np.load(\"reshaped_28.npy\")"
   ]
  },
  {
   "cell_type": "code",
   "execution_count": 55,
   "metadata": {},
   "outputs": [],
   "source": [
    "hidden_nodes = 225\n",
    "middle = 100\n",
    "lr = 1e-5\n",
    "samples = 60000\n",
    "input_size = 784\n",
    "X = X_train.reshape(samples,input_size)\n",
    "X = X/255.0\n",
    "Lambda = 1\n",
    "s = 0.05\n",
    "# defining functions\n",
    "\n",
    "def sigm(x):\n",
    "    return 1/(1+np.exp(-x))\n",
    "\n",
    "def diff_sigm(x):\n",
    "    return (sigm(x)-(sigm(x)**2))\n",
    "\n",
    "def layer(x,W,b):\n",
    "    return np.matmul(x,W)+b\n",
    "\n",
    "def backprop_last(output,label,out_penult):\n",
    "    del1 = 2*(output-label)*diff_sigm(out_penult)\n",
    "    return del1\n",
    "\n",
    "def backprop_layer(prev_delta,out_prev):\n",
    "    sn = -np.multiply(diff_sigm(out_prev),np.sum(prev_delta, axis=1).reshape(samples,1))\n",
    "    return sn\n",
    "\n",
    "W1 = np.random.normal(0,1,(input_size,hidden_nodes))\n",
    "Bi1 = np.random.normal(0,1,(1,hidden_nodes))\n",
    "# W2 = np.random.normal(0,1,(middle,hidden_nodes))\n",
    "# Bi2 = np.random.normal(0,1,(1,hidden_nodes))\n",
    "W3 = np.random.normal(0,1,(hidden_nodes,middle))\n",
    "Bi3 = np.random.normal(0,1,(1,middle))\n",
    "W4 = np.random.normal(0,1,(middle,input_size))\n",
    "Bi4 = np.random.normal(0,1,(1,input_size))\n"
   ]
  },
  {
   "cell_type": "code",
   "execution_count": 56,
   "metadata": {},
   "outputs": [
    {
     "name": "stdout",
     "output_type": "stream",
     "text": [
      "(0, 21602476.54052036)\n"
     ]
    },
    {
     "name": "stderr",
     "output_type": "stream",
     "text": [
      "/home/legion/.local/lib/python2.7/site-packages/ipykernel_launcher.py:13: RuntimeWarning: overflow encountered in exp\n",
      "  del sys.path[0]\n"
     ]
    },
    {
     "name": "stdout",
     "output_type": "stream",
     "text": [
      "(1, 10837092.230582858)\n",
      "(2, 9971512.622532142)\n",
      "(3, 9449156.872405859)\n",
      "(4, 9216352.02390193)\n",
      "(5, 9071119.544553155)\n",
      "(6, 9093109.52566703)\n",
      "(7, 9006753.67719454)\n",
      "(8, 9027665.545040106)\n",
      "(9, 8976207.373593666)\n",
      "(10, 8877912.311813954)\n",
      "(11, 8844200.281147847)\n",
      "(12, 8815662.031069828)\n",
      "(13, 8793080.859156309)\n",
      "(14, 8726114.238896424)\n",
      "(15, 8733848.13257623)\n",
      "(16, 8755553.82875853)\n",
      "(17, 8745740.81133008)\n",
      "(18, 8673266.65325048)\n",
      "(19, 8616765.08512823)\n",
      "(20, 8556584.891695613)\n",
      "(21, 8553052.939476708)\n",
      "(22, 8573931.353423182)\n",
      "(23, 8573283.50597465)\n",
      "(24, 8568381.3332624)\n",
      "(25, 8592487.826495282)\n",
      "(26, 8542825.997050425)\n",
      "(27, 8540118.211050566)\n",
      "(28, 8502218.735009465)\n",
      "(29, 8474404.601176234)\n",
      "(30, 8435651.740812337)\n",
      "(31, 8434329.731250515)\n",
      "(32, 8458931.866498517)\n",
      "(33, 8448817.424396332)\n",
      "(34, 8470175.18431128)\n",
      "(35, 8386180.566491799)\n",
      "(36, 8421514.925196642)\n",
      "(37, 8446945.389447432)\n",
      "(38, 8445408.786205422)\n",
      "(39, 8447308.08447428)\n",
      "(40, 8446380.165007968)\n",
      "(41, 8473504.097993279)\n",
      "(42, 8388478.923580998)\n",
      "(43, 8388249.167357617)\n",
      "(44, 8387885.35888332)\n",
      "(45, 8393139.546526358)\n",
      "(46, 8388040.7697915435)\n",
      "(47, 8387701.832406275)\n",
      "(48, 8385792.208487245)\n",
      "(49, 8393269.399397362)\n"
     ]
    }
   ],
   "source": [
    "epochs = 50\n",
    "for i in range(epochs):\n",
    "    loss = 0\n",
    "    w1 = w2 = w3 = w4 = 0\n",
    "    b1 = b2 = b3 = b4 = 0\n",
    "    #forward pass\n",
    "    out1 = layer(X,W1,Bi1)\n",
    "    z = sigm(out1)\n",
    "#     out2 = layer(m1,W2,Bi2)\n",
    "#     z  = sigm(out2)\n",
    "    out3 = layer(z,W3,Bi3)\n",
    "    m2 = sigm(out3)\n",
    "    out4 = layer(m2,W4,Bi4)\n",
    "    y = sigm(out4)\n",
    "    #BACKPROPAGATION\n",
    "    del1 = backprop_last(y,X,out4)\n",
    "    b4 = np.sum(del1, axis = 0).reshape(np.shape(Bi4))\n",
    "    w4 = np.matmul(m2.T,del1)\n",
    "    \n",
    "    s3 = backprop_layer(del1,out3)\n",
    "    w3 = np.matmul(z.T,s3)\n",
    "    b3 = np.sum(s3,axis=0).reshape(np.shape(Bi3))\n",
    "    #sparsity conditioning\n",
    "    zm = np.mean(z,axis = 0)\n",
    "    ge = (Lambda)*(-s/zm + (1-s)/(1-zm))*diff_sigm(out1)\n",
    "    s1 = ge+backprop_layer(s3,out1)\n",
    "    b1 = np.sum(s2,axis=0).reshape(np.shape(Bi1))\n",
    "    w1 = np.matmul(X.T,s1)\n",
    "    \n",
    "#     s1 = backprop_layer(s2,out1)\n",
    "#     w1 = np.matmul(X.T,s1)\n",
    "#     b1 = np.sum(s1,axis=0).reshape(np.shape(Bi1))\n",
    "    \n",
    "    loss = np.sum(np.linalg.norm(y-X)**2)\n",
    "    print(i,loss)\n",
    "    W1 -= lr*w1\n",
    "#     W2 -= lr*w2\n",
    "    W3 -= lr*w3\n",
    "    W4 -= lr*w4\n",
    "    Bi1 -= lr*b1\n",
    "#     Bi2 -= lr*b2\n",
    "    Bi3 -= lr*b3\n",
    "    Bi4 -= lr*b4\n",
    "    "
   ]
  },
  {
   "cell_type": "code",
   "execution_count": 57,
   "metadata": {},
   "outputs": [
    {
     "name": "stderr",
     "output_type": "stream",
     "text": [
      "/home/legion/.local/lib/python2.7/site-packages/ipykernel_launcher.py:13: RuntimeWarning: overflow encountered in exp\n",
      "  del sys.path[0]\n"
     ]
    }
   ],
   "source": [
    "out1 = layer(X,W1,Bi1)\n",
    "z = sigm(out1)\n",
    "# out2 = layer(m1,W2,Bi2)\n",
    "# z  = sigm(out2)\n",
    "out3 = layer(z,W3,Bi3)\n",
    "m2 = sigm(out3)\n",
    "out4 = layer(m2,W4,Bi4)\n",
    "y = sigm(out4)"
   ]
  },
  {
   "cell_type": "code",
   "execution_count": 58,
   "metadata": {},
   "outputs": [
    {
     "data": {
      "text/plain": [
       "<matplotlib.image.AxesImage at 0x7fe51ef59550>"
      ]
     },
     "execution_count": 58,
     "metadata": {},
     "output_type": "execute_result"
    },
    {
     "data": {
      "image/png": "[encoded data removed]",
      "text/plain": [
       "<Figure size 432x288 with 1 Axes>"
      ]
     },
     "metadata": {
      "needs_background": "light"
     },
     "output_type": "display_data"
    }
   ],
   "source": [
    "plt.imshow(X[7].reshape(28,28) , cmap='gray')"
   ]
  },
  {
   "cell_type": "code",
   "execution_count": 59,
   "metadata": {},
   "outputs": [
    {
     "data": {
      "text/plain": [
       "<matplotlib.image.AxesImage at 0x7fe51eedc310>"
      ]
     },
     "execution_count": 59,
     "metadata": {},
     "output_type": "execute_result"
    },
    {
     "data": {
      "image/png": "[encoded data removed]",
      "text/plain": [
       "<Figure size 432x288 with 1 Axes>"
      ]
     },
     "metadata": {
      "needs_background": "light"
     },
     "output_type": "display_data"
    }
   ],
   "source": [
    "y = y*255.0\n",
    "plt.imshow(y[7].reshape(28,28) , cmap='gray' )"
   ]
  },
  {
   "cell_type": "code",
   "execution_count": 60,
   "metadata": {},
   "outputs": [
    {
     "name": "stdout",
     "output_type": "stream",
     "text": [
      "(0, 225)\n",
      "1.4963931016844381e-58\n"
     ]
    }
   ],
   "source": [
    "count = 0\n",
    "for i in range(len(z[1])):\n",
    "    if(z[1][i] > 0.01):\n",
    "        count += 1\n",
    "print(count,len(z[1]))\n",
    "\n",
    "print(np.mean(z[1]))"
   ]
  }
 ],
 "metadata": {
  "kernelspec": {
   "display_name": "Python 3",
   "language": "python",
   "name": "python3"
  },
  "language_info": {
   "codemirror_mode": {
    "name": "ipython",
    "version": 2
   },
   "file_extension": ".py",
   "mimetype": "text/x-python",
   "name": "python",
   "nbconvert_exporter": "python",
   "pygments_lexer": "ipython2",
   "version": "2.7.15rc1"
  }
 },
 "nbformat": 4,
 "nbformat_minor": 2
}
