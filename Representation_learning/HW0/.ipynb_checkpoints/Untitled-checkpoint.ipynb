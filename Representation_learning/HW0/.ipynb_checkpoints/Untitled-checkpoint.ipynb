{
 "cells": [
  {
   "cell_type": "code",
   "execution_count": 248,
   "metadata": {},
   "outputs": [],
   "source": [
    "import numpy as np\n",
    "from PIL import Image\n",
    "import matplotlib.pyplot as plt"
   ]
  },
  {
   "cell_type": "code",
   "execution_count": 249,
   "metadata": {},
   "outputs": [],
   "source": [
    "### Clustering \n",
    "def Clustering(centroids,img):\n",
    "    b = []\n",
    "    c = []\n",
    "    for i in range(len(img)):\n",
    "        for j in range(len(img[0])):\n",
    "            a = []\n",
    "            for k in range(len(centroids)):\n",
    "                a.append(np.linalg.norm(centroids[k]-img[i][j]))\n",
    "            b.append(a.index(min(a)))\n",
    "            c.append(img[i][j])\n",
    "    return b,(np.array(c,dtype=float))"
   ]
  },
  {
   "cell_type": "code",
   "execution_count": 250,
   "metadata": {},
   "outputs": [],
   "source": [
    "def centroid(b,c,K):\n",
    "    cent = 0\n",
    "    cent1 = []\n",
    "    for j in range(K):\n",
    "        for i in np.argwhere(b==j):\n",
    "            cent += c[i]\n",
    "        cent1.append(cent)\n",
    "    return cent1"
   ]
  },
  {
   "cell_type": "code",
   "execution_count": 251,
   "metadata": {},
   "outputs": [],
   "source": [
    "pic = Image.open('Clusters1.jpg')\n",
    "img = np.array(pic)"
   ]
  },
  {
   "cell_type": "code",
   "execution_count": 260,
   "metadata": {},
   "outputs": [
    {
     "name": "stdout",
     "output_type": "stream",
     "text": [
      "Give number of clusters :\n",
      "2\n"
     ]
    },
    {
     "data": {
      "text/plain": [
       "[array([ -2.03103179, -36.39052791, -72.42443325]),\n",
       " array([-156.04351077,  -14.66984531,   70.45190239])]"
      ]
     },
     "execution_count": 260,
     "metadata": {},
     "output_type": "execute_result"
    }
   ],
   "source": [
    "print(\"Give number of clusters :\")\n",
    "K = int(input())\n",
    "\n",
    "### Initialize random centroids\n",
    "Cent = []\n",
    "for i in range(K):\n",
    "    Cent.append(np.random.normal(0,50,(3,)))\n",
    "Cent"
   ]
  },
  {
   "cell_type": "code",
   "execution_count": 261,
   "metadata": {},
   "outputs": [
    {
     "name": "stdout",
     "output_type": "stream",
     "text": [
      "6676 3324\n"
     ]
    }
   ],
   "source": [
    "# b,c = Clustering(Cent,img)\n",
    "# b = np.array(b)\n",
    "# print(np.count_nonzero(b==0),np.count_nonzero(b==1))"
   ]
  },
  {
   "cell_type": "code",
   "execution_count": 262,
   "metadata": {},
   "outputs": [
    {
     "data": {
      "text/plain": [
       "[array([[259.32774116, 293.12822049, 323.45790893]]),\n",
       " array([[520.83995187, 588.72563177, 649.64049338]])]"
      ]
     },
     "execution_count": 262,
     "metadata": {},
     "output_type": "execute_result"
    }
   ],
   "source": [
    "# Cent = centroid(b,c,K)\n",
    "# for i in range(len(Cent)):\n",
    "#     Cent[i] = Cent[i]/np.count_nonzero(b==i)\n",
    "# Cent"
   ]
  },
  {
   "cell_type": "code",
   "execution_count": null,
   "metadata": {},
   "outputs": [],
   "source": [
    "print(\"Give threshold E :\")\n",
    "E = float(input())\n",
    "New_Cent = []\n",
    "diff = E+1\n",
    "while(diff>E):\n",
    "    Cent = New_Cent\n",
    "    b,c = Clustering(Cent,img)\n",
    "    b = np.array(b)\n",
    "    print(np.count_nonzero(b==0),np.count_nonzero(b==1))\n",
    "    New_Cent = centroid(b,c,K)\n",
    "    for i in range(len(Cent)):\n",
    "        New_Cent[i] = New_Cent[i]/np.count_nonzero(b==i)\n",
    "    diff = np.linalg.norm(New_Cent-Cent)"
   ]
  }
 ],
 "metadata": {
  "kernelspec": {
   "display_name": "Python 3",
   "language": "python",
   "name": "python3"
  },
  "language_info": {
   "codemirror_mode": {
    "name": "ipython",
    "version": 3
   },
   "file_extension": ".py",
   "mimetype": "text/x-python",
   "name": "python",
   "nbconvert_exporter": "python",
   "pygments_lexer": "ipython3",
   "version": "3.6.5"
  }
 },
 "nbformat": 4,
 "nbformat_minor": 2
}
