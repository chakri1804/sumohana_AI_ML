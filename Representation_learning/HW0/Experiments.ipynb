{
 "cells": [
  {
   "cell_type": "code",
   "execution_count": 1,
   "metadata": {},
   "outputs": [],
   "source": [
    "import numpy as np\n",
    "import pandas as pd"
   ]
  },
  {
   "cell_type": "code",
   "execution_count": 5,
   "metadata": {},
   "outputs": [
    {
     "data": {
      "text/plain": [
       "<bound method NDFrame.head of        1  0  0.1  0.2  0.3  0.4  0.5  0.6  0.7  0.8  ...    0.677  0.678  \\\n",
       "0      0  0    0    0    0    0    0    0    0    0  ...        0      0   \n",
       "1      1  0    0    0    0    0    0    0    0    0  ...        0      0   \n",
       "2      4  0    0    0    0    0    0    0    0    0  ...        0      0   \n",
       "3      0  0    0    0    0    0    0    0    0    0  ...        0      0   \n",
       "4      0  0    0    0    0    0    0    0    0    0  ...        0      0   \n",
       "5      7  0    0    0    0    0    0    0    0    0  ...        0      0   \n",
       "6      3  0    0    0    0    0    0    0    0    0  ...        0      0   \n",
       "7      5  0    0    0    0    0    0    0    0    0  ...        0      0   \n",
       "8      3  0    0    0    0    0    0    0    0    0  ...        0      0   \n",
       "9      8  0    0    0    0    0    0    0    0    0  ...        0      0   \n",
       "10     9  0    0    0    0    0    0    0    0    0  ...        0      0   \n",
       "11     1  0    0    0    0    0    0    0    0    0  ...        0      0   \n",
       "12     3  0    0    0    0    0    0    0    0    0  ...        0      0   \n",
       "13     3  0    0    0    0    0    0    0    0    0  ...        0      0   \n",
       "14     1  0    0    0    0    0    0    0    0    0  ...        0      0   \n",
       "15     2  0    0    0    0    0    0    0    0    0  ...        0      0   \n",
       "16     0  0    0    0    0    0    0    0    0    0  ...        0      0   \n",
       "17     7  0    0    0    0    0    0    0    0    0  ...        0      0   \n",
       "18     5  0    0    0    0    0    0    0    0    0  ...        0      0   \n",
       "19     8  0    0    0    0    0    0    0    0    0  ...        0      0   \n",
       "20     6  0    0    0    0    0    0    0    0    0  ...        0      0   \n",
       "21     2  0    0    0    0    0    0    0    0    0  ...        0      0   \n",
       "22     0  0    0    0    0    0    0    0    0    0  ...        0      0   \n",
       "23     2  0    0    0    0    0    0    0    0    0  ...        0      0   \n",
       "24     3  0    0    0    0    0    0    0    0    0  ...        0      0   \n",
       "25     6  0    0    0    0    0    0    0    0    0  ...        0      0   \n",
       "26     9  0    0    0    0    0    0    0    0    0  ...        0      0   \n",
       "27     9  0    0    0    0    0    0    0    0    0  ...        0      0   \n",
       "28     7  0    0    0    0    0    0    0    0    0  ...        0      0   \n",
       "29     8  0    0    0    0    0    0    0    0    0  ...        0      0   \n",
       "...   .. ..  ...  ...  ...  ...  ...  ...  ...  ...  ...      ...    ...   \n",
       "41969  2  0    0    0    0    0    0    0    0    0  ...        0      0   \n",
       "41970  3  0    0    0    0    0    0    0    0    0  ...        0      0   \n",
       "41971  4  0    0    0    0    0    0    0    0    0  ...        0      0   \n",
       "41972  4  0    0    0    0    0    0    0    0    0  ...        0      0   \n",
       "41973  3  0    0    0    0    0    0    0    0    0  ...        0      0   \n",
       "41974  9  0    0    0    0    0    0    0    0    0  ...        0      0   \n",
       "41975  2  0    0    0    0    0    0    0    0    0  ...        0      0   \n",
       "41976  4  0    0    0    0    0    0    0    0    0  ...        0      0   \n",
       "41977  4  0    0    0    0    0    0    0    0    0  ...        0      0   \n",
       "41978  4  0    0    0    0    0    0    0    0    0  ...        0      0   \n",
       "41979  7  0    0    0    0    0    0    0    0    0  ...       27    253   \n",
       "41980  2  0    0    0    0    0    0    0    0    0  ...        0      0   \n",
       "41981  8  0    0    0    0    0    0    0    0    0  ...        0      0   \n",
       "41982  7  0    0    0    0    0    0    0    0    0  ...        0      0   \n",
       "41983  3  0    0    0    0    0    0    0    0    0  ...        0      0   \n",
       "41984  3  0    0    0    0    0    0    0    0    0  ...        0      0   \n",
       "41985  0  0    0    0    0    0    0    0    0    0  ...        0      0   \n",
       "41986  5  0    0    0    0    0    0    0    0    0  ...        0      0   \n",
       "41987  0  0    0    0    0    0    0    0    0    0  ...        0      0   \n",
       "41988  5  0    0    0    0    0    0    0    0    0  ...        0      0   \n",
       "41989  3  0    0    0    0    0    0    0    0    0  ...        0      0   \n",
       "41990  1  0    0    0    0    0    0    0    0    0  ...        0      0   \n",
       "41991  9  0    0    0    0    0    0    0    0    0  ...        0      0   \n",
       "41992  6  0    0    0    0    0    0    0    0    0  ...        0      0   \n",
       "41993  4  0    0    0    0    0    0    0    0    0  ...        0      0   \n",
       "41994  0  0    0    0    0    0    0    0    0    0  ...        0      0   \n",
       "41995  1  0    0    0    0    0    0    0    0    0  ...        0      0   \n",
       "41996  7  0    0    0    0    0    0    0    0    0  ...        0      0   \n",
       "41997  6  0    0    0    0    0    0    0    0    0  ...        0      0   \n",
       "41998  9  0    0    0    0    0    0    0    0    0  ...        0      0   \n",
       "\n",
       "       0.679  0.680  0.681  0.682  0.683  0.684  0.685  0.686  \n",
       "0          0      0      0      0      0      0      0      0  \n",
       "1          0      0      0      0      0      0      0      0  \n",
       "2          0      0      0      0      0      0      0      0  \n",
       "3          0      0      0      0      0      0      0      0  \n",
       "4          0      0      0      0      0      0      0      0  \n",
       "5          0      0      0      0      0      0      0      0  \n",
       "6          0      0      0      0      0      0      0      0  \n",
       "7          0      0      0      0      0      0      0      0  \n",
       "8          0      0      0      0      0      0      0      0  \n",
       "9          0      0      0      0      0      0      0      0  \n",
       "10         0      0      0      0      0      0      0      0  \n",
       "11         0      0      0      0      0      0      0      0  \n",
       "12         0      0      0      0      0      0      0      0  \n",
       "13         0      0      0      0      0      0      0      0  \n",
       "14         0      0      0      0      0      0      0      0  \n",
       "15         0      0      0      0      0      0      0      0  \n",
       "16         0      0      0      0      0      0      0      0  \n",
       "17         0      0      0      0      0      0      0      0  \n",
       "18         0      0      0      0      0      0      0      0  \n",
       "19         0      0      0      0      0      0      0      0  \n",
       "20         0      0      0      0      0      0      0      0  \n",
       "21         0      0      0      0      0      0      0      0  \n",
       "22         0      0      0      0      0      0      0      0  \n",
       "23         0      0      0      0      0      0      0      0  \n",
       "24         0      0      0      0      0      0      0      0  \n",
       "25         0      0      0      0      0      0      0      0  \n",
       "26         0      0      0      0      0      0      0      0  \n",
       "27         0      0      0      0      0      0      0      0  \n",
       "28         0      0      0      0      0      0      0      0  \n",
       "29         0      0      0      0      0      0      0      0  \n",
       "...      ...    ...    ...    ...    ...    ...    ...    ...  \n",
       "41969      0      0      0      0      0      0      0      0  \n",
       "41970      0      0      0      0      0      0      0      0  \n",
       "41971      0      0      0      0      0      0      0      0  \n",
       "41972      0      0      0      0      0      0      0      0  \n",
       "41973      0      0      0      0      0      0      0      0  \n",
       "41974      0      0      0      0      0      0      0      0  \n",
       "41975      0      0      0      0      0      0      0      0  \n",
       "41976      0      0      0      0      0      0      0      0  \n",
       "41977      0      0      0      0      0      0      0      0  \n",
       "41978      0      0      0      0      0      0      0      0  \n",
       "41979    110      0      0      0      0      0      0      0  \n",
       "41980      0      0      0      0      0      0      0      0  \n",
       "41981      0      0      0      0      0      0      0      0  \n",
       "41982      0      0      0      0      0      0      0      0  \n",
       "41983      0      0      0      0      0      0      0      0  \n",
       "41984      0      0      0      0      0      0      0      0  \n",
       "41985      0      0      0      0      0      0      0      0  \n",
       "41986      0      0      0      0      0      0      0      0  \n",
       "41987      0      0      0      0      0      0      0      0  \n",
       "41988      0      0      0      0      0      0      0      0  \n",
       "41989      0      0      0      0      0      0      0      0  \n",
       "41990      0      0      0      0      0      0      0      0  \n",
       "41991      0      0      0      0      0      0      0      0  \n",
       "41992      0      0      0      0      0      0      0      0  \n",
       "41993      0      0      0      0      0      0      0      0  \n",
       "41994      0      0      0      0      0      0      0      0  \n",
       "41995      0      0      0      0      0      0      0      0  \n",
       "41996      0      0      0      0      0      0      0      0  \n",
       "41997      0      0      0      0      0      0      0      0  \n",
       "41998      0      0      0      0      0      0      0      0  \n",
       "\n",
       "[41999 rows x 785 columns]>"
      ]
     },
     "execution_count": 5,
     "metadata": {},
     "output_type": "execute_result"
    }
   ],
   "source": [
    "df = pd.read_csv('train.csv',header=1)"
   ]
  },
  {
   "cell_type": "code",
   "execution_count": 15,
   "metadata": {},
   "outputs": [],
   "source": [
    "f = np.array(df)"
   ]
  },
  {
   "cell_type": "code",
   "execution_count": 31,
   "metadata": {},
   "outputs": [
    {
     "name": "stderr",
     "output_type": "stream",
     "text": [
      "IOPub data rate exceeded.\n",
      "The notebook server will temporarily stop sending output\n",
      "to the client in order to avoid crashing it.\n",
      "To change this limit, set the config variable\n",
      "`--NotebookApp.iopub_data_rate_limit`.\n",
      "\n",
      "Current values:\n",
      "NotebookApp.iopub_data_rate_limit=1000000.0 (bytes/sec)\n",
      "NotebookApp.rate_limit_window=3.0 (secs)\n",
      "\n"
     ]
    }
   ],
   "source": [
    "one = []\n",
    "for i in f:\n",
    "    if (i[0] == 1):\n",
    "        one.append(i.T)"
   ]
  },
  {
   "cell_type": "code",
   "execution_count": 43,
   "metadata": {},
   "outputs": [
    {
     "data": {
      "text/plain": [
       "(784, 4682)"
      ]
     },
     "execution_count": 43,
     "metadata": {},
     "output_type": "execute_result"
    }
   ],
   "source": [
    "one = np.array(one)\n",
    "one = one.T\n",
    "one = np.delete(one, 0, axis=1)\n",
    "one.shape"
   ]
  },
  {
   "cell_type": "code",
   "execution_count": 44,
   "metadata": {},
   "outputs": [],
   "source": [
    "def Mean_centering(X):\n",
    "    for i in range(len(X)):\n",
    "        X[i] = X[i] - np.mean(X[i])\n",
    "    return X"
   ]
  },
  {
   "cell_type": "code",
   "execution_count": 45,
   "metadata": {},
   "outputs": [],
   "source": [
    "Flat = Mean_centering(one)"
   ]
  },
  {
   "cell_type": "code",
   "execution_count": 46,
   "metadata": {},
   "outputs": [],
   "source": [
    "Cx = (np.matmul(Flat,Flat.T)/(len(Flat[0])))\n",
    "Lx,Ex = np.linalg.eig(Cx)\n",
    "Y = np.matmul(Ex.T,Flat)"
   ]
  },
  {
   "cell_type": "code",
   "execution_count": 65,
   "metadata": {},
   "outputs": [],
   "source": [
    "Y1 = np.mean(Y,axis = 1)\n",
    "Y1 = Y1.reshape((28,28))"
   ]
  },
  {
   "cell_type": "code",
   "execution_count": 52,
   "metadata": {},
   "outputs": [],
   "source": [
    "import matplotlib.pyplot as plt"
   ]
  },
  {
   "cell_type": "code",
   "execution_count": 57,
   "metadata": {},
   "outputs": [],
   "source": [
    "X1 = f[0]\n",
    "X1 = np.delete(X1, 0, axis=0)"
   ]
  },
  {
   "cell_type": "code",
   "execution_count": 61,
   "metadata": {},
   "outputs": [
    {
     "data": {
      "text/plain": [
       "<matplotlib.image.AxesImage at 0x7f49c81d4588>"
      ]
     },
     "execution_count": 61,
     "metadata": {},
     "output_type": "execute_result"
    },
    {
     "data": {
      "image/png": "[encoded data removed]",
      "text/plain": [
       "<Figure size 432x288 with 1 Axes>"
      ]
     },
     "metadata": {
      "needs_background": "light"
     },
     "output_type": "display_data"
    }
   ],
   "source": [
    "X1 = X1.reshape((28,28))\n",
    "plt.imshow(X1,cmap='gray')"
   ]
  },
  {
   "cell_type": "code",
   "execution_count": null,
   "metadata": {},
   "outputs": [],
   "source": []
  }
 ],
 "metadata": {
  "kernelspec": {
   "display_name": "Python 3",
   "language": "python",
   "name": "python3"
  },
  "language_info": {
   "codemirror_mode": {
    "name": "ipython",
    "version": 3
   },
   "file_extension": ".py",
   "mimetype": "text/x-python",
   "name": "python",
   "nbconvert_exporter": "python",
   "pygments_lexer": "ipython3",
   "version": "3.6.5"
  }
 },
 "nbformat": 4,
 "nbformat_minor": 2
}
