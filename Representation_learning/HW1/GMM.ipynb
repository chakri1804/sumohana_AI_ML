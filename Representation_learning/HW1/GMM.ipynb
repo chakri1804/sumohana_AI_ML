{
 "cells": [
  {
   "cell_type": "code",
   "execution_count": 1,
   "metadata": {},
   "outputs": [],
   "source": [
    "import numpy as np"
   ]
  },
  {
   "cell_type": "code",
   "execution_count": 2,
   "metadata": {},
   "outputs": [],
   "source": [
    "def gaussian_multivariate_pdf_value(mean, covariance, x):\n",
    "    temp = np.matmul((x-mean).T,np.linalg.inv(covariance))\n",
    "    temp = np.matmul(temp,(x-mean))\n",
    "    pdf = ((np.pi*2*np.linalg.det(covariance))**(-0.5))*np.exp(-0.5*temp)\n",
    "    return pdf"
   ]
  },
  {
   "cell_type": "code",
   "execution_count": 3,
   "metadata": {},
   "outputs": [],
   "source": [
    "def gamma(mean,cov,mix,x,i,k):\n",
    "    gam = (mix[k]*gaussian_multivariate_pdf_value(mean,cov,x[i]))\n",
    "    sum_i = np.sum(mix*gaussian_multivariate_pdf_value(mean,cov,x[i]))\n",
    "    gam = gam/sum_i\n",
    "    return gam"
   ]
  },
  {
   "cell_type": "code",
   "execution_count": 10,
   "metadata": {},
   "outputs": [],
   "source": [
    "def Nik(number_of_samples,mean_k,cov_k,mix,i,k):\n",
    "    temp = 0\n",
    "    for i in range(number_of_samples):\n",
    "        temp = temp + gamma(mean_k,cov_k,mix,i,k)\n",
    "    return temp"
   ]
  },
  {
   "cell_type": "code",
   "execution_count": 4,
   "metadata": {},
   "outputs": [],
   "source": [
    "### Global Variables used for entire code\n",
    "### Change here if necessary\n",
    "degree = 2\n",
    "number_of_samples = 1000\n",
    "number_of_modes = 3"
   ]
  },
  {
   "cell_type": "code",
   "execution_count": 5,
   "metadata": {},
   "outputs": [],
   "source": [
    "### Covariance Initializer\n",
    "### Single covariance for the entire data\n",
    "temp = np.random.randint(10,100,(degree,degree))\n",
    "Cov = np.matmul(temp,temp.T)"
   ]
  },
  {
   "cell_type": "code",
   "execution_count": 6,
   "metadata": {},
   "outputs": [],
   "source": [
    "mean = np.linspace(1,1000,degree)"
   ]
  },
  {
   "cell_type": "code",
   "execution_count": 7,
   "metadata": {},
   "outputs": [],
   "source": [
    "data = np.random.multivariate_normal(mean,Cov,number_of_samples)"
   ]
  },
  {
   "cell_type": "code",
   "execution_count": 8,
   "metadata": {},
   "outputs": [],
   "source": [
    "mix = np.full((1,number_of_modes),1/number_of_modes)"
   ]
  },
  {
   "cell_type": "code",
   "execution_count": 9,
   "metadata": {},
   "outputs": [
    {
     "ename": "NameError",
     "evalue": "name 'number_of_s' is not defined",
     "output_type": "error",
     "traceback": [
      "\u001b[0;31m---------------------------------------------------------------------------\u001b[0m",
      "\u001b[0;31mNameError\u001b[0m                                 Traceback (most recent call last)",
      "\u001b[0;32m<ipython-input-9-95742f729aa7>\u001b[0m in \u001b[0;36m<module>\u001b[0;34m()\u001b[0m\n\u001b[1;32m      5\u001b[0m \u001b[0;34m\u001b[0m\u001b[0m\n\u001b[1;32m      6\u001b[0m \u001b[0;32mfor\u001b[0m \u001b[0mi\u001b[0m \u001b[0;32min\u001b[0m \u001b[0mrange\u001b[0m\u001b[0;34m(\u001b[0m\u001b[0mnumber_of_modes\u001b[0m\u001b[0;34m)\u001b[0m\u001b[0;34m:\u001b[0m\u001b[0;34m\u001b[0m\u001b[0m\n\u001b[0;32m----> 7\u001b[0;31m     \u001b[0;32mfor\u001b[0m \u001b[0mj\u001b[0m \u001b[0;32min\u001b[0m \u001b[0mrange\u001b[0m\u001b[0;34m(\u001b[0m\u001b[0mlen\u001b[0m\u001b[0;34m(\u001b[0m\u001b[0mnumber_of_s\u001b[0m\u001b[0;34m)\u001b[0m\u001b[0;34m)\u001b[0m\u001b[0;34m:\u001b[0m\u001b[0;34m\u001b[0m\u001b[0m\n\u001b[0m\u001b[1;32m      8\u001b[0m         \u001b[0mmean_fit\u001b[0m\u001b[0;34m[\u001b[0m\u001b[0mj\u001b[0m\u001b[0;34m]\u001b[0m\u001b[0;34m\u001b[0m\u001b[0m\n",
      "\u001b[0;31mNameError\u001b[0m: name 'number_of_s' is not defined"
     ]
    }
   ],
   "source": [
    "### Fitting the gaussians\n",
    "\n",
    "mean_fit = np.zeros((number_of_modes,degree))\n",
    "Cov_fit = np.zeros((degree,degree,number_of_modes))\n",
    "\n",
    "for i in range(number_of_modes):\n",
    "    temp = 0\n",
    "    for j in range(len(number_of_samples)):\n",
    "        temp = temp + (gamma(mean,Cov,mix,j,i)*data[j])/Nik()\n",
    "        "
   ]
  },
  {
   "cell_type": "code",
   "execution_count": null,
   "metadata": {},
   "outputs": [],
   "source": []
  }
 ],
 "metadata": {
  "kernelspec": {
   "display_name": "Python 3",
   "language": "python",
   "name": "python3"
  },
  "language_info": {
   "codemirror_mode": {
    "name": "ipython",
    "version": 3
   },
   "file_extension": ".py",
   "mimetype": "text/x-python",
   "name": "python",
   "nbconvert_exporter": "python",
   "pygments_lexer": "ipython3",
   "version": "3.7.0"
  }
 },
 "nbformat": 4,
 "nbformat_minor": 2
}
