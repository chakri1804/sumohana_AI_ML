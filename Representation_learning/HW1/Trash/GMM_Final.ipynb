{
 "cells": [
  {
   "cell_type": "code",
   "execution_count": 35,
   "metadata": {},
   "outputs": [],
   "source": [
    "import numpy as np"
   ]
  },
  {
   "cell_type": "code",
   "execution_count": 36,
   "metadata": {},
   "outputs": [
    {
     "name": "stdout",
     "output_type": "stream",
     "text": [
      "For the sake of verification, data was generated from a Gaussian Mixture\n",
      "Give degree of data for generation (in positive integers)\n",
      "1\n",
      "Number of modes for generation\n",
      "3\n",
      "Number of data points\n",
      "500\n"
     ]
    }
   ],
   "source": [
    "print(\"For the sake of verification, data was generated from a Gaussian Mixture\")\n",
    "print(\"Give degree of data for generation (in positive integers)\")\n",
    "deg = int(input())\n",
    "print(\"Number of modes for generation\")\n",
    "Nm = int(input())\n",
    "print(\"Number of data points\")\n",
    "Nspm = int(input())"
   ]
  },
  {
   "cell_type": "code",
   "execution_count": 37,
   "metadata": {},
   "outputs": [
    {
     "name": "stdout",
     "output_type": "stream",
     "text": [
      "[0.06060606060606061, 0.3333333333333333, 0.6060606060606061]\n"
     ]
    }
   ],
   "source": [
    "Ns = Nspm\n",
    "\n",
    "Mean = []\n",
    "Cov = []\n",
    "data = []\n",
    "Mix = np.linspace(1,10,Nm)\n",
    "Mix = Mix/np.sum(Mix)\n",
    "Mix = Mix.tolist()\n",
    "for i in range(Nm):\n",
    "    Mean.append(np.random.randint(1,10,deg))\n",
    "    temp = np.random.randint(1,10,deg)\n",
    "    temp = np.diag(temp)\n",
    "    Cov.append(temp)\n",
    "for i in range(Nspm):\n",
    "    temp1 = 0\n",
    "    for j in range(Nm):\n",
    "        temp1 += Mix[j] * np.random.multivariate_normal(Mean[j],Cov[j],1)\n",
    "    data.append(temp1)\n",
    "data = np.array(data)\n",
    "data = data.reshape(Ns,deg)\n",
    "print(Mix)"
   ]
  },
  {
   "cell_type": "code",
   "execution_count": 38,
   "metadata": {},
   "outputs": [],
   "source": [
    "def gaus_mul_pdf(x,mean,cov,degree):\n",
    "    x = x.reshape((degree,1))\n",
    "    mean = mean.reshape((degree,1))\n",
    "    ph = np.matmul(np.matmul(((x-mean).T),np.linalg.inv(cov)),(x-mean))\n",
    "    temp = (np.exp((-0.5)*ph)) * (np.linalg.det(cov)**(-0.5)) * ((2*np.pi)**(-0.5*degree))\n",
    "    temp = np.asscalar(temp)\n",
    "#     print(temp.shape)\n",
    "    return temp"
   ]
  },
  {
   "cell_type": "code",
   "execution_count": 39,
   "metadata": {},
   "outputs": [],
   "source": [
    "def gam(mix,data_matrix,mean_matrix,cov_matrix,Nm,i,k,degree):\n",
    "    temp = 0\n",
    "    temp1 = 0\n",
    "    for w in range(Nm):\n",
    "        temp += mix[w]*gaus_mul_pdf(data_matrix[i],mean_matrix[w],cov_matrix[w],degree)\n",
    "    temp1 = mix[k]*gaus_mul_pdf(data_matrix[i],mean_matrix[k],cov_matrix[k],degree)/temp\n",
    "    return temp1"
   ]
  },
  {
   "cell_type": "code",
   "execution_count": 40,
   "metadata": {},
   "outputs": [],
   "source": [
    "def Nk(mix,data_matrix,mean_matrix,cov_matrix,Nm,k,Ns,degree):\n",
    "    temp = 0\n",
    "    for w in range(Ns):\n",
    "        temp += gam(mix,data_matrix,mean_matrix,cov_matrix,Nm,w,k,degree)\n",
    "    return temp"
   ]
  },
  {
   "cell_type": "code",
   "execution_count": 41,
   "metadata": {},
   "outputs": [],
   "source": [
    "def log_likelihood(data,mean_matrix,cov_matrix,mix,Nm,Ns,degree):\n",
    "    temp = 0\n",
    "    temp1 = 0\n",
    "    for i in range(Ns):\n",
    "        for j in range(Nm):\n",
    "            temp += mix[j]*gaus_mul_pdf(data[i],mean_matrix[j],cov_matrix[j],degree)\n",
    "        temp1 += np.log(np.array(temp))\n",
    "#     print(temp)\n",
    "    return temp1"
   ]
  },
  {
   "cell_type": "code",
   "execution_count": 42,
   "metadata": {},
   "outputs": [],
   "source": [
    "### Initial Parameter setting\n",
    "# mix = np.full((1,Nm),1/Nm)\n",
    "mix = []\n",
    "cov_matrix = []\n",
    "mean_matrix = []\n",
    "for i in range(Nm):\n",
    "    mean_matrix.append(np.random.randint(1,10,deg))\n",
    "    temp = (np.random.randint(1,10,deg))\n",
    "    temp = np.diag(temp)\n",
    "    cov_matrix.append(np.matmul(temp,temp.T))\n",
    "    mix.append(float(1.0/Nm))"
   ]
  },
  {
   "cell_type": "code",
   "execution_count": 43,
   "metadata": {},
   "outputs": [
    {
     "data": {
      "text/plain": [
       "1156.496430303038"
      ]
     },
     "execution_count": 43,
     "metadata": {},
     "output_type": "execute_result"
    }
   ],
   "source": [
    "# cov_matrix[0]\n",
    "log_likelihood(data,mean_matrix,cov_matrix,mix,Nm,Ns,deg)"
   ]
  },
  {
   "cell_type": "code",
   "execution_count": 44,
   "metadata": {
    "scrolled": true
   },
   "outputs": [
    {
     "name": "stdout",
     "output_type": "stream",
     "text": [
      "Give log error delta\n",
      "1e-5\n",
      "1156.496430303038 1834.7242769888603\n",
      "1834.7242769888603 2001.980786225704\n",
      "2001.980786225704 2001.7198374962309\n",
      "2001.7198374962309 2000.6515364549527\n",
      "2000.6515364549527 1999.9895710580704\n",
      "1999.9895710580704 1999.5755999366397\n",
      "1999.5755999366397 1999.3231652252075\n",
      "1999.3231652252075 1999.1795281454135\n",
      "1999.1795281454135 1999.110544547911\n",
      "1999.110544547911 1999.092924664826\n",
      "1999.092924664826 1999.1100878448253\n",
      "1999.1100878448253 1999.1498605530624\n",
      "1999.1498605530624 1999.2031486573753\n",
      "1999.2031486573753 1999.2631311402934\n",
      "1999.2631311402934 1999.3247338966994\n",
      "1999.3247338966994 1999.3842555269318\n",
      "1999.3842555269318 1999.4390791308097\n",
      "1999.4390791308097 1999.487437846061\n",
      "1999.487437846061 1999.5282193668404\n",
      "1999.5282193668404 1999.5608029181521\n",
      "1999.5608029181521 1999.584925386257\n",
      "1999.584925386257 1999.6005740781516\n",
      "1999.6005740781516 1999.6079033882488\n",
      "1999.6079033882488 1999.6071722655424\n",
      "1999.6071722655424 1999.5986991408984\n",
      "1999.5986991408984 1999.5828309852727\n",
      "1999.5828309852727 1999.5599233966655\n",
      "1999.5599233966655 1999.5303289838546\n",
      "1999.5303289838546 1999.4943917515036\n",
      "1999.4943917515036 1999.4524456340266\n",
      "1999.4524456340266 1999.4048157333038\n",
      "1999.4048157333038 1999.3518211666847\n",
      "1999.3518211666847 1999.2937787188655\n",
      "1999.2937787188655 1999.2310067159247\n",
      "1999.2310067159247 1999.1638287102235\n",
      "1999.1638287102235 1999.0925766901682\n",
      "1999.0925766901682 1999.0175936205403\n",
      "1999.0175936205403 1998.9392351859713\n",
      "1998.9392351859713 1998.85787066123\n",
      "1998.85787066123 1998.773882872971\n",
      "1998.773882872971 1998.6876672535302\n",
      "1998.6876672535302 1998.599630020586\n",
      "1998.599630020586 1998.5101855485455\n",
      "1998.5101855485455 1998.4197530281979\n",
      "1998.4197530281979 1998.3287525392461\n",
      "1998.3287525392461 1998.2376006849274\n",
      "1998.2376006849274 1998.1467059563213\n",
      "1998.1467059563213 1998.0564640052307\n",
      "1998.0564640052307 1997.9672530072012\n",
      "1997.9672530072012 1997.879429289368\n",
      "1997.879429289368 1997.7933233823844\n",
      "1997.7933233823844 1997.7092366317186\n",
      "1997.7092366317186 1997.6274384734743\n",
      "1997.6274384734743 1997.54816444565\n",
      "1997.54816444565 1997.471614969265\n",
      "1997.471614969265 1997.3979548987254\n",
      "1997.3979548987254 1997.3273138080365\n",
      "1997.3273138080365 1997.259786951952\n",
      "1997.259786951952 1997.1954368193421\n",
      "1997.1954368193421 1997.134295181146\n",
      "1997.134295181146 1997.0763655270032\n",
      "1997.0763655270032 1997.0216257825073\n",
      "1997.0216257825073 1996.9700312027012\n"
     ]
    },
    {
     "ename": "KeyboardInterrupt",
     "evalue": "",
     "output_type": "error",
     "traceback": [
      "\u001b[0;31m---------------------------------------------------------------------------\u001b[0m",
      "\u001b[0;31mKeyboardInterrupt\u001b[0m                         Traceback (most recent call last)",
      "\u001b[0;32m<ipython-input-44-7aa7db5008ae>\u001b[0m in \u001b[0;36m<module>\u001b[0;34m()\u001b[0m\n\u001b[1;32m     17\u001b[0m             \u001b[0mtemp1\u001b[0m \u001b[0;34m=\u001b[0m \u001b[0mnp\u001b[0m\u001b[0;34m.\u001b[0m\u001b[0mouter\u001b[0m\u001b[0;34m(\u001b[0m\u001b[0;34m(\u001b[0m\u001b[0mdata\u001b[0m\u001b[0;34m[\u001b[0m\u001b[0mi\u001b[0m\u001b[0;34m]\u001b[0m\u001b[0;34m-\u001b[0m\u001b[0mmean_matrix\u001b[0m\u001b[0;34m[\u001b[0m\u001b[0mk\u001b[0m\u001b[0;34m]\u001b[0m\u001b[0;34m)\u001b[0m\u001b[0;34m,\u001b[0m\u001b[0;34m(\u001b[0m\u001b[0mdata\u001b[0m\u001b[0;34m[\u001b[0m\u001b[0mi\u001b[0m\u001b[0;34m]\u001b[0m\u001b[0;34m-\u001b[0m\u001b[0mmean_matrix\u001b[0m\u001b[0;34m[\u001b[0m\u001b[0mk\u001b[0m\u001b[0;34m]\u001b[0m\u001b[0;34m)\u001b[0m\u001b[0;34m)\u001b[0m\u001b[0;34m\u001b[0m\u001b[0m\n\u001b[1;32m     18\u001b[0m             \u001b[0mtemp2\u001b[0m \u001b[0;34m+=\u001b[0m \u001b[0mgam\u001b[0m\u001b[0;34m(\u001b[0m\u001b[0mmix\u001b[0m\u001b[0;34m,\u001b[0m\u001b[0mdata\u001b[0m\u001b[0;34m,\u001b[0m\u001b[0mmean_matrix\u001b[0m\u001b[0;34m,\u001b[0m\u001b[0mcov_matrix\u001b[0m\u001b[0;34m,\u001b[0m\u001b[0mNm\u001b[0m\u001b[0;34m,\u001b[0m\u001b[0mi\u001b[0m\u001b[0;34m,\u001b[0m\u001b[0mk\u001b[0m\u001b[0;34m,\u001b[0m\u001b[0mdeg\u001b[0m\u001b[0;34m)\u001b[0m\u001b[0;34m*\u001b[0m\u001b[0mtemp1\u001b[0m\u001b[0;34m\u001b[0m\u001b[0m\n\u001b[0;32m---> 19\u001b[0;31m             \u001b[0mtemp3\u001b[0m \u001b[0;34m+=\u001b[0m \u001b[0mgam\u001b[0m\u001b[0;34m(\u001b[0m\u001b[0mmix\u001b[0m\u001b[0;34m,\u001b[0m\u001b[0mdata\u001b[0m\u001b[0;34m,\u001b[0m\u001b[0mmean_matrix\u001b[0m\u001b[0;34m,\u001b[0m\u001b[0mcov_matrix\u001b[0m\u001b[0;34m,\u001b[0m\u001b[0mNm\u001b[0m\u001b[0;34m,\u001b[0m\u001b[0mi\u001b[0m\u001b[0;34m,\u001b[0m\u001b[0mk\u001b[0m\u001b[0;34m,\u001b[0m\u001b[0mdeg\u001b[0m\u001b[0;34m)\u001b[0m\u001b[0;34m*\u001b[0m\u001b[0mdata\u001b[0m\u001b[0;34m[\u001b[0m\u001b[0mi\u001b[0m\u001b[0;34m]\u001b[0m\u001b[0;34m\u001b[0m\u001b[0m\n\u001b[0m\u001b[1;32m     20\u001b[0m         \u001b[0mnew_cov_matrix\u001b[0m\u001b[0;34m.\u001b[0m\u001b[0mappend\u001b[0m\u001b[0;34m(\u001b[0m\u001b[0mtemp2\u001b[0m\u001b[0;34m/\u001b[0m\u001b[0mmeh\u001b[0m\u001b[0;34m)\u001b[0m\u001b[0;34m\u001b[0m\u001b[0m\n\u001b[1;32m     21\u001b[0m         \u001b[0mnew_mean_matrix\u001b[0m\u001b[0;34m.\u001b[0m\u001b[0mappend\u001b[0m\u001b[0;34m(\u001b[0m\u001b[0mtemp3\u001b[0m\u001b[0;34m/\u001b[0m\u001b[0mmeh\u001b[0m\u001b[0;34m)\u001b[0m\u001b[0;34m\u001b[0m\u001b[0m\n",
      "\u001b[0;32m<ipython-input-39-5f449e095dc8>\u001b[0m in \u001b[0;36mgam\u001b[0;34m(mix, data_matrix, mean_matrix, cov_matrix, Nm, i, k, degree)\u001b[0m\n\u001b[1;32m      3\u001b[0m     \u001b[0mtemp1\u001b[0m \u001b[0;34m=\u001b[0m \u001b[0;36m0\u001b[0m\u001b[0;34m\u001b[0m\u001b[0m\n\u001b[1;32m      4\u001b[0m     \u001b[0;32mfor\u001b[0m \u001b[0mw\u001b[0m \u001b[0;32min\u001b[0m \u001b[0mrange\u001b[0m\u001b[0;34m(\u001b[0m\u001b[0mNm\u001b[0m\u001b[0;34m)\u001b[0m\u001b[0;34m:\u001b[0m\u001b[0;34m\u001b[0m\u001b[0m\n\u001b[0;32m----> 5\u001b[0;31m         \u001b[0mtemp\u001b[0m \u001b[0;34m+=\u001b[0m \u001b[0mmix\u001b[0m\u001b[0;34m[\u001b[0m\u001b[0mw\u001b[0m\u001b[0;34m]\u001b[0m\u001b[0;34m*\u001b[0m\u001b[0mgaus_mul_pdf\u001b[0m\u001b[0;34m(\u001b[0m\u001b[0mdata_matrix\u001b[0m\u001b[0;34m[\u001b[0m\u001b[0mi\u001b[0m\u001b[0;34m]\u001b[0m\u001b[0;34m,\u001b[0m\u001b[0mmean_matrix\u001b[0m\u001b[0;34m[\u001b[0m\u001b[0mw\u001b[0m\u001b[0;34m]\u001b[0m\u001b[0;34m,\u001b[0m\u001b[0mcov_matrix\u001b[0m\u001b[0;34m[\u001b[0m\u001b[0mw\u001b[0m\u001b[0;34m]\u001b[0m\u001b[0;34m,\u001b[0m\u001b[0mdegree\u001b[0m\u001b[0;34m)\u001b[0m\u001b[0;34m\u001b[0m\u001b[0m\n\u001b[0m\u001b[1;32m      6\u001b[0m     \u001b[0mtemp1\u001b[0m \u001b[0;34m=\u001b[0m \u001b[0mmix\u001b[0m\u001b[0;34m[\u001b[0m\u001b[0mk\u001b[0m\u001b[0;34m]\u001b[0m\u001b[0;34m*\u001b[0m\u001b[0mgaus_mul_pdf\u001b[0m\u001b[0;34m(\u001b[0m\u001b[0mdata_matrix\u001b[0m\u001b[0;34m[\u001b[0m\u001b[0mi\u001b[0m\u001b[0;34m]\u001b[0m\u001b[0;34m,\u001b[0m\u001b[0mmean_matrix\u001b[0m\u001b[0;34m[\u001b[0m\u001b[0mk\u001b[0m\u001b[0;34m]\u001b[0m\u001b[0;34m,\u001b[0m\u001b[0mcov_matrix\u001b[0m\u001b[0;34m[\u001b[0m\u001b[0mk\u001b[0m\u001b[0;34m]\u001b[0m\u001b[0;34m,\u001b[0m\u001b[0mdegree\u001b[0m\u001b[0;34m)\u001b[0m\u001b[0;34m/\u001b[0m\u001b[0mtemp\u001b[0m\u001b[0;34m\u001b[0m\u001b[0m\n\u001b[1;32m      7\u001b[0m     \u001b[0;32mreturn\u001b[0m \u001b[0mtemp1\u001b[0m\u001b[0;34m\u001b[0m\u001b[0m\n",
      "\u001b[0;32m<ipython-input-38-862a300bbb4f>\u001b[0m in \u001b[0;36mgaus_mul_pdf\u001b[0;34m(x, mean, cov, degree)\u001b[0m\n\u001b[1;32m      3\u001b[0m     \u001b[0mmean\u001b[0m \u001b[0;34m=\u001b[0m \u001b[0mmean\u001b[0m\u001b[0;34m.\u001b[0m\u001b[0mreshape\u001b[0m\u001b[0;34m(\u001b[0m\u001b[0;34m(\u001b[0m\u001b[0mdegree\u001b[0m\u001b[0;34m,\u001b[0m\u001b[0;36m1\u001b[0m\u001b[0;34m)\u001b[0m\u001b[0;34m)\u001b[0m\u001b[0;34m\u001b[0m\u001b[0m\n\u001b[1;32m      4\u001b[0m     \u001b[0mph\u001b[0m \u001b[0;34m=\u001b[0m \u001b[0mnp\u001b[0m\u001b[0;34m.\u001b[0m\u001b[0mmatmul\u001b[0m\u001b[0;34m(\u001b[0m\u001b[0mnp\u001b[0m\u001b[0;34m.\u001b[0m\u001b[0mmatmul\u001b[0m\u001b[0;34m(\u001b[0m\u001b[0;34m(\u001b[0m\u001b[0;34m(\u001b[0m\u001b[0mx\u001b[0m\u001b[0;34m-\u001b[0m\u001b[0mmean\u001b[0m\u001b[0;34m)\u001b[0m\u001b[0;34m.\u001b[0m\u001b[0mT\u001b[0m\u001b[0;34m)\u001b[0m\u001b[0;34m,\u001b[0m\u001b[0mnp\u001b[0m\u001b[0;34m.\u001b[0m\u001b[0mlinalg\u001b[0m\u001b[0;34m.\u001b[0m\u001b[0minv\u001b[0m\u001b[0;34m(\u001b[0m\u001b[0mcov\u001b[0m\u001b[0;34m)\u001b[0m\u001b[0;34m)\u001b[0m\u001b[0;34m,\u001b[0m\u001b[0;34m(\u001b[0m\u001b[0mx\u001b[0m\u001b[0;34m-\u001b[0m\u001b[0mmean\u001b[0m\u001b[0;34m)\u001b[0m\u001b[0;34m)\u001b[0m\u001b[0;34m\u001b[0m\u001b[0m\n\u001b[0;32m----> 5\u001b[0;31m     \u001b[0mtemp\u001b[0m \u001b[0;34m=\u001b[0m \u001b[0;34m(\u001b[0m\u001b[0mnp\u001b[0m\u001b[0;34m.\u001b[0m\u001b[0mexp\u001b[0m\u001b[0;34m(\u001b[0m\u001b[0;34m(\u001b[0m\u001b[0;34m-\u001b[0m\u001b[0;36m0.5\u001b[0m\u001b[0;34m)\u001b[0m\u001b[0;34m*\u001b[0m\u001b[0mph\u001b[0m\u001b[0;34m)\u001b[0m\u001b[0;34m)\u001b[0m \u001b[0;34m*\u001b[0m \u001b[0;34m(\u001b[0m\u001b[0mnp\u001b[0m\u001b[0;34m.\u001b[0m\u001b[0mlinalg\u001b[0m\u001b[0;34m.\u001b[0m\u001b[0mdet\u001b[0m\u001b[0;34m(\u001b[0m\u001b[0mcov\u001b[0m\u001b[0;34m)\u001b[0m\u001b[0;34m**\u001b[0m\u001b[0;34m(\u001b[0m\u001b[0;34m-\u001b[0m\u001b[0;36m0.5\u001b[0m\u001b[0;34m)\u001b[0m\u001b[0;34m)\u001b[0m \u001b[0;34m*\u001b[0m \u001b[0;34m(\u001b[0m\u001b[0;34m(\u001b[0m\u001b[0;36m2\u001b[0m\u001b[0;34m*\u001b[0m\u001b[0mnp\u001b[0m\u001b[0;34m.\u001b[0m\u001b[0mpi\u001b[0m\u001b[0;34m)\u001b[0m\u001b[0;34m**\u001b[0m\u001b[0;34m(\u001b[0m\u001b[0;34m-\u001b[0m\u001b[0;36m0.5\u001b[0m\u001b[0;34m*\u001b[0m\u001b[0mdegree\u001b[0m\u001b[0;34m)\u001b[0m\u001b[0;34m)\u001b[0m\u001b[0;34m\u001b[0m\u001b[0m\n\u001b[0m\u001b[1;32m      6\u001b[0m     \u001b[0mtemp\u001b[0m \u001b[0;34m=\u001b[0m \u001b[0mnp\u001b[0m\u001b[0;34m.\u001b[0m\u001b[0masscalar\u001b[0m\u001b[0;34m(\u001b[0m\u001b[0mtemp\u001b[0m\u001b[0;34m)\u001b[0m\u001b[0;34m\u001b[0m\u001b[0m\n\u001b[1;32m      7\u001b[0m \u001b[0;31m#     print(temp.shape)\u001b[0m\u001b[0;34m\u001b[0m\u001b[0;34m\u001b[0m\u001b[0m\n",
      "\u001b[0;31mKeyboardInterrupt\u001b[0m: "
     ]
    }
   ],
   "source": [
    "print(\"Give log error delta\")\n",
    "error = float(input())\n",
    "itera = 0\n",
    "err_delta = 100.0\n",
    "while(itera<100):\n",
    "    new_mean_matrix = []\n",
    "    new_cov_matrix = []\n",
    "    new_mix = []\n",
    "    log_o = log_likelihood(data,mean_matrix,cov_matrix,mix,Nm,Ns,deg)\n",
    "#     print(mix)\n",
    "    for k in range(Nm):\n",
    "        meh = Nk(mix,data,mean_matrix,cov_matrix,Nm,k,Ns,deg)\n",
    "        temp1 = 0\n",
    "        temp2 = 0\n",
    "        temp3 = 0\n",
    "        for i in range(Ns):\n",
    "            temp1 = np.outer((data[i]-mean_matrix[k]),(data[i]-mean_matrix[k]))\n",
    "            temp2 += gam(mix,data,mean_matrix,cov_matrix,Nm,i,k,deg)*temp1\n",
    "            temp3 += gam(mix,data,mean_matrix,cov_matrix,Nm,i,k,deg)*data[i]\n",
    "        new_cov_matrix.append(temp2/meh)\n",
    "        new_mean_matrix.append(temp3/meh)\n",
    "        new_mix.append(meh/Ns)\n",
    "    mean_matrix = new_mean_matrix\n",
    "    cov_matrix = new_cov_matrix\n",
    "    mix = new_mix\n",
    "    log_n = log_likelihood(data,mean_matrix,cov_matrix,mix,Nm,Ns,deg)\n",
    "    err_delta = np.abs(log_o - log_n)\n",
    "#     print(err_delta)\n",
    "    print(log_o,log_n)\n",
    "    itera += 1\n",
    "    if err_delta<error:\n",
    "        break"
   ]
  },
  {
   "cell_type": "code",
   "execution_count": null,
   "metadata": {},
   "outputs": [],
   "source": [
    "print(mix)\n",
    "print(mean_matrix)\n",
    "print(cov_matrix)"
   ]
  },
  {
   "cell_type": "code",
   "execution_count": null,
   "metadata": {},
   "outputs": [],
   "source": [
    "print(Mix)\n",
    "print(Mean)\n",
    "print(Cov)"
   ]
  }
 ],
 "metadata": {
  "kernelspec": {
   "display_name": "Python 3",
   "language": "python",
   "name": "python3"
  },
  "language_info": {
   "codemirror_mode": {
    "name": "ipython",
    "version": 3
   },
   "file_extension": ".py",
   "mimetype": "text/x-python",
   "name": "python",
   "nbconvert_exporter": "python",
   "pygments_lexer": "ipython3",
   "version": "3.7.0"
  }
 },
 "nbformat": 4,
 "nbformat_minor": 2
}
