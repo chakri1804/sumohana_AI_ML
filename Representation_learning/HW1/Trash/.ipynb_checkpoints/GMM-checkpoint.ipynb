{
 "cells": [
  {
   "cell_type": "code",
   "execution_count": 33,
   "metadata": {},
   "outputs": [],
   "source": [
    "import numpy as np"
   ]
  },
  {
   "cell_type": "code",
   "execution_count": 34,
   "metadata": {},
   "outputs": [],
   "source": [
    "def gaussian_multivariate_pdf_value(mean, covariance, x):\n",
    "    temp = np.matmul((x-mean).T,np.linalg.inv(covariance))\n",
    "    temp = np.matmul(temp,(x-mean))\n",
    "    pdf = ((np.pi*2*np.linalg.det(covariance))**(-0.5))*np.exp(-0.5*temp)\n",
    "    return pdf"
   ]
  },
  {
   "cell_type": "code",
   "execution_count": 44,
   "metadata": {},
   "outputs": [],
   "source": [
    "def gamma(mean,cov,mix,x,i,k):\n",
    "    gam = (mix[k]*gaussian_multivariate_pdf_value(mean,cov,x[i]))\n",
    "    sum_i = np.sum(mix*gaussian_multivariate_pdf_value(mean,cov,x[i]))\n",
    "    gam = gam/sum_i\n",
    "    return gam"
   ]
  },
  {
   "cell_type": "code",
   "execution_count": 35,
   "metadata": {},
   "outputs": [],
   "source": [
    "### Global Variables used for entire code\n",
    "### Change here if necessary\n",
    "degree = 2\n",
    "number_of_samples = 1000\n",
    "number_of_modes = 3"
   ]
  },
  {
   "cell_type": "code",
   "execution_count": 36,
   "metadata": {},
   "outputs": [],
   "source": [
    "### Covariance Initializer\n",
    "### Single covariance for the entire data\n",
    "temp = np.random.randint(10,100,(degree,degree))\n",
    "Cov = np.matmul(temp,temp.T)"
   ]
  },
  {
   "cell_type": "code",
   "execution_count": 37,
   "metadata": {},
   "outputs": [],
   "source": [
    "mean = np.linspace(1,1000,degree)"
   ]
  },
  {
   "cell_type": "code",
   "execution_count": 38,
   "metadata": {},
   "outputs": [],
   "source": [
    "data = np.random.multivariate_normal(mean,Cov,number_of_samples)"
   ]
  },
  {
   "cell_type": "code",
   "execution_count": 41,
   "metadata": {},
   "outputs": [],
   "source": [
    "mix = np.full((1,number_of_modes),1/number_of_modes)"
   ]
  },
  {
   "cell_type": "code",
   "execution_count": 43,
   "metadata": {},
   "outputs": [
    {
     "data": {
      "text/plain": [
       "1000"
      ]
     },
     "execution_count": 43,
     "metadata": {},
     "output_type": "execute_result"
    }
   ],
   "source": [
    "### Fitting the gaussians\n",
    "\n",
    "mean_fit = np.zeros((number_of_modes,degree))\n",
    "Cov_fit = np.zeros((degree,degree,number_of_modes))\n",
    "\n",
    "for i in range(len(data)):\n",
    "    for j in range(number_of_modes):\n",
    "        mean_fit[j]"
   ]
  },
  {
   "cell_type": "code",
   "execution_count": null,
   "metadata": {},
   "outputs": [],
   "source": []
  }
 ],
 "metadata": {
  "kernelspec": {
   "display_name": "Python 3",
   "language": "python",
   "name": "python3"
  },
  "language_info": {
   "codemirror_mode": {
    "name": "ipython",
    "version": 3
   },
   "file_extension": ".py",
   "mimetype": "text/x-python",
   "name": "python",
   "nbconvert_exporter": "python",
   "pygments_lexer": "ipython3",
   "version": "3.7.0"
  }
 },
 "nbformat": 4,
 "nbformat_minor": 2
}
