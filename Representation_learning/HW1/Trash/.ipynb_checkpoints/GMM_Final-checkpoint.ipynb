{
 "cells": [
  {
   "cell_type": "code",
   "execution_count": 115,
   "metadata": {},
   "outputs": [],
   "source": [
    "import numpy as np"
   ]
  },
  {
   "cell_type": "code",
   "execution_count": 116,
   "metadata": {},
   "outputs": [
    {
     "name": "stdout",
     "output_type": "stream",
     "text": [
      "For the sake of verification, data was generated from a Gaussian Mixture\n",
      "Give degree of data for generation (in positive integers)\n",
      "1\n",
      "Number of modes for generation\n",
      "2\n",
      "Number of data points\n",
      "3000\n"
     ]
    }
   ],
   "source": [
    "print(\"For the sake of verification, data was generated from a Gaussian Mixture\")\n",
    "print(\"Give degree of data for generation (in positive integers)\")\n",
    "deg = int(input())\n",
    "print(\"Number of modes for generation\")\n",
    "Nm = int(input())\n",
    "print(\"Number of data points\")\n",
    "Nspm = int(input())"
   ]
  },
  {
   "cell_type": "code",
   "execution_count": 117,
   "metadata": {},
   "outputs": [
    {
     "name": "stdout",
     "output_type": "stream",
     "text": [
      "[0.09090909090909091, 0.9090909090909091]\n"
     ]
    }
   ],
   "source": [
    "Ns = Nspm\n",
    "\n",
    "Mean = []\n",
    "Cov = []\n",
    "data = []\n",
    "Mix = np.linspace(1,10,Nm)\n",
    "Mix = Mix/np.sum(Mix)\n",
    "Mix = Mix.tolist()\n",
    "for i in range(Nm):\n",
    "    Mean.append(np.random.randint(1,10,deg))\n",
    "    temp = np.random.randint(1,10,deg)\n",
    "    temp = np.diag(temp)\n",
    "    Cov.append(temp)\n",
    "for i in range(Nspm):\n",
    "    temp1 = 0\n",
    "    for j in range(Nm):\n",
    "        temp1 += Mix[j] * np.random.multivariate_normal(Mean[j],Cov[j],1)\n",
    "    data.append(temp1)\n",
    "data = np.array(data)\n",
    "data = data.reshape(Ns,deg)\n",
    "print(Mix)"
   ]
  },
  {
   "cell_type": "code",
   "execution_count": 118,
   "metadata": {},
   "outputs": [],
   "source": [
    "def gaus_mul_pdf(x,mean,cov,degree):\n",
    "    x = x.reshape((degree,1))\n",
    "    mean = mean.reshape((degree,1))\n",
    "    ph = np.matmul(np.matmul(((x-mean).T),np.linalg.inv(cov)),(x-mean))\n",
    "    temp = np.exp((-0.5)*ph)/np.sqrt((2*np.pi*np.linalg.det(cov)))\n",
    "    temp = np.asscalar(temp)\n",
    "#     print(temp.shape)\n",
    "    return temp"
   ]
  },
  {
   "cell_type": "code",
   "execution_count": 119,
   "metadata": {},
   "outputs": [],
   "source": [
    "def gam(mix,data_matrix,mean_matrix,cov_matrix,Nm,i,k,degree):\n",
    "    temp = 0\n",
    "    for w in range(Nm):\n",
    "        temp = temp + mix[w]*gaus_mul_pdf(data_matrix[i],mean_matrix[w],cov_matrix[w],degree)\n",
    "    temp1 = mix[k]*gaus_mul_pdf(data_matrix[i],mean_matrix[k],cov_matrix[k],degree)/temp\n",
    "    return temp1"
   ]
  },
  {
   "cell_type": "code",
   "execution_count": 120,
   "metadata": {},
   "outputs": [],
   "source": [
    "def Nk(mix,data_matrix,mean_matrix,cov_matrix,Nm,k,Ns,degree):\n",
    "    temp = 0\n",
    "    for w in range(Ns):\n",
    "        temp = temp + gam(mix,data_matrix,mean_matrix,cov_matrix,Nm,w,k,degree)\n",
    "    return temp"
   ]
  },
  {
   "cell_type": "code",
   "execution_count": 121,
   "metadata": {},
   "outputs": [],
   "source": [
    "def log_likelihood(data,mean_matrix,cov_matrix,mix,Nm,Ns,degree):\n",
    "    temp = 0\n",
    "    temp1 = 0\n",
    "    for i in range(Ns):\n",
    "        for j in range(Nm):\n",
    "            temp += mix[j]*gaus_mul_pdf(data[i],mean_matrix[j],cov_matrix[j],degree)\n",
    "        temp1 += np.log(np.array(temp))\n",
    "#     print(temp1)\n",
    "    return temp1"
   ]
  },
  {
   "cell_type": "code",
   "execution_count": 122,
   "metadata": {},
   "outputs": [],
   "source": [
    "### Initial Parameter setting\n",
    "# mix = np.full((1,Nm),1/Nm)\n",
    "mix = []\n",
    "cov_matrix = []\n",
    "mean_matrix = []\n",
    "for i in range(Nm):\n",
    "    mean_matrix.append(np.random.randint(1,10,deg))\n",
    "    temp = (np.random.randint(1,10,(deg,deg)))\n",
    "    cov_matrix.append(np.matmul(temp,temp.T))\n",
    "    mix.append(float(1.0/Nm))"
   ]
  },
  {
   "cell_type": "code",
   "execution_count": 123,
   "metadata": {},
   "outputs": [
    {
     "data": {
      "text/plain": [
       "12199.487854451878"
      ]
     },
     "execution_count": 123,
     "metadata": {},
     "output_type": "execute_result"
    }
   ],
   "source": [
    "# cov_matrix[0]\n",
    "log_likelihood(data,mean_matrix,cov_matrix,mix,Nm,Ns,deg)"
   ]
  },
  {
   "cell_type": "code",
   "execution_count": 124,
   "metadata": {
    "scrolled": true
   },
   "outputs": [
    {
     "name": "stdout",
     "output_type": "stream",
     "text": [
      "Give log error delta\n",
      "1e-5\n",
      "12199.487854451878\n",
      "12519.863632859575\n",
      "13327.507912159761\n",
      "13326.008765809796\n",
      "13317.18783552032\n",
      "13311.310075804038\n",
      "13307.347157204264\n",
      "13304.616348122683\n",
      "13302.702481448554\n",
      "13301.345518517503\n",
      "13300.377350442554\n",
      "13299.685952096503\n",
      "13299.19457174423\n",
      "13298.849324680128\n",
      "13298.611587291132\n",
      "13298.45320009438\n",
      "13298.353356282245\n",
      "13298.296527738426\n",
      "13298.27104616157\n",
      "13298.268108540919\n",
      "13298.281064550742\n",
      "13298.304895943249\n",
      "13298.335829858586\n",
      "13298.37104765268\n",
      "13298.408463257327\n",
      "13298.446553068807\n",
      "13298.484224610205\n",
      "13298.520714734388\n",
      "13298.555510556891\n",
      "13298.588288007813\n",
      "13298.618864115002\n",
      "13298.647160024713\n",
      "13298.673172436858\n",
      "13298.696951637436\n",
      "13298.71858470279\n",
      "13298.738182750756\n",
      "13298.755871353362\n",
      "13298.771783410284\n",
      "13298.786053931519\n",
      "13298.798816292798\n",
      "13298.81019962195\n",
      "13298.820327046496\n",
      "13298.829314592278\n",
      "13298.837270567925\n",
      "13298.844295308347\n",
      "13298.85048117791\n",
      "13298.8559127569\n",
      "13298.860667154431\n",
      "13298.86481440228\n",
      "13298.868417897842\n",
      "13298.8715348711\n",
      "13298.874216857475\n",
      "13298.876510164866\n",
      "13298.878456324466\n",
      "13298.880092520685\n",
      "13298.881451996009\n",
      "13298.882564428628\n",
      "13298.883456281914\n",
      "13298.884151126847\n",
      "13298.884669936404\n",
      "13298.885031354721\n",
      "13298.88525194115\n",
      "13298.885346391355\n",
      "13298.885327737344\n",
      "13298.885207527104\n",
      "13298.884995986624\n",
      "13298.884702165044\n",
      "13298.884334064902\n",
      "13298.883898758486\n",
      "13298.883402491732\n",
      "13298.882850777623\n",
      "13298.882248478472\n",
      "13298.881599879829\n",
      "13298.88090875639\n",
      "13298.880178430141\n",
      "13298.879411822303\n",
      "13298.87861149955\n",
      "13298.87777971492\n",
      "13298.876918443895\n",
      "13298.876029416773\n",
      "13298.875114147098\n",
      "13298.874173957065\n",
      "13298.873209999661\n",
      "13298.872223278531\n",
      "13298.871214665502\n",
      "13298.870184916\n",
      "13298.869134682871\n"
     ]
    },
    {
     "ename": "KeyboardInterrupt",
     "evalue": "",
     "output_type": "error",
     "traceback": [
      "\u001b[0;31m---------------------------------------------------------------------------\u001b[0m",
      "\u001b[0;31mKeyboardInterrupt\u001b[0m                         Traceback (most recent call last)",
      "\u001b[0;32m<ipython-input-124-0a57a1f6720e>\u001b[0m in \u001b[0;36m<module>\u001b[0;34m()\u001b[0m\n\u001b[1;32m     16\u001b[0m         \u001b[0;32mfor\u001b[0m \u001b[0mi\u001b[0m \u001b[0;32min\u001b[0m \u001b[0mrange\u001b[0m\u001b[0;34m(\u001b[0m\u001b[0mNs\u001b[0m\u001b[0;34m)\u001b[0m\u001b[0;34m:\u001b[0m\u001b[0;34m\u001b[0m\u001b[0m\n\u001b[1;32m     17\u001b[0m             \u001b[0mtemp1\u001b[0m \u001b[0;34m=\u001b[0m \u001b[0mnp\u001b[0m\u001b[0;34m.\u001b[0m\u001b[0mouter\u001b[0m\u001b[0;34m(\u001b[0m\u001b[0;34m(\u001b[0m\u001b[0mdata\u001b[0m\u001b[0;34m[\u001b[0m\u001b[0mi\u001b[0m\u001b[0;34m]\u001b[0m\u001b[0;34m-\u001b[0m\u001b[0mmean_matrix\u001b[0m\u001b[0;34m[\u001b[0m\u001b[0mk\u001b[0m\u001b[0;34m]\u001b[0m\u001b[0;34m)\u001b[0m\u001b[0;34m,\u001b[0m\u001b[0;34m(\u001b[0m\u001b[0mdata\u001b[0m\u001b[0;34m[\u001b[0m\u001b[0mi\u001b[0m\u001b[0;34m]\u001b[0m\u001b[0;34m-\u001b[0m\u001b[0mmean_matrix\u001b[0m\u001b[0;34m[\u001b[0m\u001b[0mk\u001b[0m\u001b[0;34m]\u001b[0m\u001b[0;34m)\u001b[0m\u001b[0;34m)\u001b[0m\u001b[0;34m\u001b[0m\u001b[0m\n\u001b[0;32m---> 18\u001b[0;31m             \u001b[0mtemp2\u001b[0m \u001b[0;34m+=\u001b[0m \u001b[0mgam\u001b[0m\u001b[0;34m(\u001b[0m\u001b[0mmix\u001b[0m\u001b[0;34m,\u001b[0m\u001b[0mdata\u001b[0m\u001b[0;34m,\u001b[0m\u001b[0mmean_matrix\u001b[0m\u001b[0;34m,\u001b[0m\u001b[0mcov_matrix\u001b[0m\u001b[0;34m,\u001b[0m\u001b[0mNm\u001b[0m\u001b[0;34m,\u001b[0m\u001b[0mi\u001b[0m\u001b[0;34m,\u001b[0m\u001b[0mk\u001b[0m\u001b[0;34m,\u001b[0m\u001b[0mdeg\u001b[0m\u001b[0;34m)\u001b[0m\u001b[0;34m*\u001b[0m\u001b[0mtemp1\u001b[0m\u001b[0;34m\u001b[0m\u001b[0m\n\u001b[0m\u001b[1;32m     19\u001b[0m             \u001b[0mtemp3\u001b[0m \u001b[0;34m+=\u001b[0m \u001b[0mgam\u001b[0m\u001b[0;34m(\u001b[0m\u001b[0mmix\u001b[0m\u001b[0;34m,\u001b[0m\u001b[0mdata\u001b[0m\u001b[0;34m,\u001b[0m\u001b[0mmean_matrix\u001b[0m\u001b[0;34m,\u001b[0m\u001b[0mcov_matrix\u001b[0m\u001b[0;34m,\u001b[0m\u001b[0mNm\u001b[0m\u001b[0;34m,\u001b[0m\u001b[0mi\u001b[0m\u001b[0;34m,\u001b[0m\u001b[0mk\u001b[0m\u001b[0;34m,\u001b[0m\u001b[0mdeg\u001b[0m\u001b[0;34m)\u001b[0m\u001b[0;34m*\u001b[0m\u001b[0mdata\u001b[0m\u001b[0;34m[\u001b[0m\u001b[0mi\u001b[0m\u001b[0;34m]\u001b[0m\u001b[0;34m\u001b[0m\u001b[0m\n\u001b[1;32m     20\u001b[0m         \u001b[0mnew_cov_matrix\u001b[0m\u001b[0;34m.\u001b[0m\u001b[0mappend\u001b[0m\u001b[0;34m(\u001b[0m\u001b[0mtemp2\u001b[0m\u001b[0;34m/\u001b[0m\u001b[0mmeh\u001b[0m\u001b[0;34m)\u001b[0m\u001b[0;34m\u001b[0m\u001b[0m\n",
      "\u001b[0;32m<ipython-input-119-12a6c6de7e8f>\u001b[0m in \u001b[0;36mgam\u001b[0;34m(mix, data_matrix, mean_matrix, cov_matrix, Nm, i, k, degree)\u001b[0m\n\u001b[1;32m      2\u001b[0m     \u001b[0mtemp\u001b[0m \u001b[0;34m=\u001b[0m \u001b[0;36m0\u001b[0m\u001b[0;34m\u001b[0m\u001b[0m\n\u001b[1;32m      3\u001b[0m     \u001b[0;32mfor\u001b[0m \u001b[0mw\u001b[0m \u001b[0;32min\u001b[0m \u001b[0mrange\u001b[0m\u001b[0;34m(\u001b[0m\u001b[0mNm\u001b[0m\u001b[0;34m)\u001b[0m\u001b[0;34m:\u001b[0m\u001b[0;34m\u001b[0m\u001b[0m\n\u001b[0;32m----> 4\u001b[0;31m         \u001b[0mtemp\u001b[0m \u001b[0;34m=\u001b[0m \u001b[0mtemp\u001b[0m \u001b[0;34m+\u001b[0m \u001b[0mmix\u001b[0m\u001b[0;34m[\u001b[0m\u001b[0mw\u001b[0m\u001b[0;34m]\u001b[0m\u001b[0;34m*\u001b[0m\u001b[0mgaus_mul_pdf\u001b[0m\u001b[0;34m(\u001b[0m\u001b[0mdata_matrix\u001b[0m\u001b[0;34m[\u001b[0m\u001b[0mi\u001b[0m\u001b[0;34m]\u001b[0m\u001b[0;34m,\u001b[0m\u001b[0mmean_matrix\u001b[0m\u001b[0;34m[\u001b[0m\u001b[0mw\u001b[0m\u001b[0;34m]\u001b[0m\u001b[0;34m,\u001b[0m\u001b[0mcov_matrix\u001b[0m\u001b[0;34m[\u001b[0m\u001b[0mw\u001b[0m\u001b[0;34m]\u001b[0m\u001b[0;34m,\u001b[0m\u001b[0mdegree\u001b[0m\u001b[0;34m)\u001b[0m\u001b[0;34m\u001b[0m\u001b[0m\n\u001b[0m\u001b[1;32m      5\u001b[0m     \u001b[0mtemp1\u001b[0m \u001b[0;34m=\u001b[0m \u001b[0mmix\u001b[0m\u001b[0;34m[\u001b[0m\u001b[0mk\u001b[0m\u001b[0;34m]\u001b[0m\u001b[0;34m*\u001b[0m\u001b[0mgaus_mul_pdf\u001b[0m\u001b[0;34m(\u001b[0m\u001b[0mdata_matrix\u001b[0m\u001b[0;34m[\u001b[0m\u001b[0mi\u001b[0m\u001b[0;34m]\u001b[0m\u001b[0;34m,\u001b[0m\u001b[0mmean_matrix\u001b[0m\u001b[0;34m[\u001b[0m\u001b[0mk\u001b[0m\u001b[0;34m]\u001b[0m\u001b[0;34m,\u001b[0m\u001b[0mcov_matrix\u001b[0m\u001b[0;34m[\u001b[0m\u001b[0mk\u001b[0m\u001b[0;34m]\u001b[0m\u001b[0;34m,\u001b[0m\u001b[0mdegree\u001b[0m\u001b[0;34m)\u001b[0m\u001b[0;34m/\u001b[0m\u001b[0mtemp\u001b[0m\u001b[0;34m\u001b[0m\u001b[0m\n\u001b[1;32m      6\u001b[0m     \u001b[0;32mreturn\u001b[0m \u001b[0mtemp1\u001b[0m\u001b[0;34m\u001b[0m\u001b[0m\n",
      "\u001b[0;32m<ipython-input-118-95b3aa12071d>\u001b[0m in \u001b[0;36mgaus_mul_pdf\u001b[0;34m(x, mean, cov, degree)\u001b[0m\n\u001b[1;32m      3\u001b[0m     \u001b[0mmean\u001b[0m \u001b[0;34m=\u001b[0m \u001b[0mmean\u001b[0m\u001b[0;34m.\u001b[0m\u001b[0mreshape\u001b[0m\u001b[0;34m(\u001b[0m\u001b[0;34m(\u001b[0m\u001b[0mdegree\u001b[0m\u001b[0;34m,\u001b[0m\u001b[0;36m1\u001b[0m\u001b[0;34m)\u001b[0m\u001b[0;34m)\u001b[0m\u001b[0;34m\u001b[0m\u001b[0m\n\u001b[1;32m      4\u001b[0m     \u001b[0mph\u001b[0m \u001b[0;34m=\u001b[0m \u001b[0mnp\u001b[0m\u001b[0;34m.\u001b[0m\u001b[0mmatmul\u001b[0m\u001b[0;34m(\u001b[0m\u001b[0mnp\u001b[0m\u001b[0;34m.\u001b[0m\u001b[0mmatmul\u001b[0m\u001b[0;34m(\u001b[0m\u001b[0;34m(\u001b[0m\u001b[0;34m(\u001b[0m\u001b[0mx\u001b[0m\u001b[0;34m-\u001b[0m\u001b[0mmean\u001b[0m\u001b[0;34m)\u001b[0m\u001b[0;34m.\u001b[0m\u001b[0mT\u001b[0m\u001b[0;34m)\u001b[0m\u001b[0;34m,\u001b[0m\u001b[0mnp\u001b[0m\u001b[0;34m.\u001b[0m\u001b[0mlinalg\u001b[0m\u001b[0;34m.\u001b[0m\u001b[0minv\u001b[0m\u001b[0;34m(\u001b[0m\u001b[0mcov\u001b[0m\u001b[0;34m)\u001b[0m\u001b[0;34m)\u001b[0m\u001b[0;34m,\u001b[0m\u001b[0;34m(\u001b[0m\u001b[0mx\u001b[0m\u001b[0;34m-\u001b[0m\u001b[0mmean\u001b[0m\u001b[0;34m)\u001b[0m\u001b[0;34m)\u001b[0m\u001b[0;34m\u001b[0m\u001b[0m\n\u001b[0;32m----> 5\u001b[0;31m     \u001b[0mtemp\u001b[0m \u001b[0;34m=\u001b[0m \u001b[0mnp\u001b[0m\u001b[0;34m.\u001b[0m\u001b[0mexp\u001b[0m\u001b[0;34m(\u001b[0m\u001b[0;34m(\u001b[0m\u001b[0;34m-\u001b[0m\u001b[0;36m0.5\u001b[0m\u001b[0;34m)\u001b[0m\u001b[0;34m*\u001b[0m\u001b[0mph\u001b[0m\u001b[0;34m)\u001b[0m\u001b[0;34m/\u001b[0m\u001b[0mnp\u001b[0m\u001b[0;34m.\u001b[0m\u001b[0msqrt\u001b[0m\u001b[0;34m(\u001b[0m\u001b[0;34m(\u001b[0m\u001b[0;36m2\u001b[0m\u001b[0;34m*\u001b[0m\u001b[0mnp\u001b[0m\u001b[0;34m.\u001b[0m\u001b[0mpi\u001b[0m\u001b[0;34m*\u001b[0m\u001b[0mnp\u001b[0m\u001b[0;34m.\u001b[0m\u001b[0mlinalg\u001b[0m\u001b[0;34m.\u001b[0m\u001b[0mdet\u001b[0m\u001b[0;34m(\u001b[0m\u001b[0mcov\u001b[0m\u001b[0;34m)\u001b[0m\u001b[0;34m)\u001b[0m\u001b[0;34m)\u001b[0m\u001b[0;34m\u001b[0m\u001b[0m\n\u001b[0m\u001b[1;32m      6\u001b[0m     \u001b[0mtemp\u001b[0m \u001b[0;34m=\u001b[0m \u001b[0mnp\u001b[0m\u001b[0;34m.\u001b[0m\u001b[0masscalar\u001b[0m\u001b[0;34m(\u001b[0m\u001b[0mtemp\u001b[0m\u001b[0;34m)\u001b[0m\u001b[0;34m\u001b[0m\u001b[0m\n\u001b[1;32m      7\u001b[0m \u001b[0;31m#     print(temp.shape)\u001b[0m\u001b[0;34m\u001b[0m\u001b[0;34m\u001b[0m\u001b[0m\n",
      "\u001b[0;32m~/.local/lib/python3.7/site-packages/numpy/linalg/linalg.py\u001b[0m in \u001b[0;36mdet\u001b[0;34m(a)\u001b[0m\n\u001b[1;32m   2016\u001b[0m     \"\"\"\n\u001b[1;32m   2017\u001b[0m     \u001b[0ma\u001b[0m \u001b[0;34m=\u001b[0m \u001b[0masarray\u001b[0m\u001b[0;34m(\u001b[0m\u001b[0ma\u001b[0m\u001b[0;34m)\u001b[0m\u001b[0;34m\u001b[0m\u001b[0m\n\u001b[0;32m-> 2018\u001b[0;31m     \u001b[0m_assertRankAtLeast2\u001b[0m\u001b[0;34m(\u001b[0m\u001b[0ma\u001b[0m\u001b[0;34m)\u001b[0m\u001b[0;34m\u001b[0m\u001b[0m\n\u001b[0m\u001b[1;32m   2019\u001b[0m     \u001b[0m_assertNdSquareness\u001b[0m\u001b[0;34m(\u001b[0m\u001b[0ma\u001b[0m\u001b[0;34m)\u001b[0m\u001b[0;34m\u001b[0m\u001b[0m\n\u001b[1;32m   2020\u001b[0m     \u001b[0mt\u001b[0m\u001b[0;34m,\u001b[0m \u001b[0mresult_t\u001b[0m \u001b[0;34m=\u001b[0m \u001b[0m_commonType\u001b[0m\u001b[0;34m(\u001b[0m\u001b[0ma\u001b[0m\u001b[0;34m)\u001b[0m\u001b[0;34m\u001b[0m\u001b[0m\n",
      "\u001b[0;32m~/.local/lib/python3.7/site-packages/numpy/linalg/linalg.py\u001b[0m in \u001b[0;36m_assertRankAtLeast2\u001b[0;34m(*arrays)\u001b[0m\n\u001b[1;32m    200\u001b[0m \u001b[0;32mdef\u001b[0m \u001b[0m_assertRankAtLeast2\u001b[0m\u001b[0;34m(\u001b[0m\u001b[0;34m*\u001b[0m\u001b[0marrays\u001b[0m\u001b[0;34m)\u001b[0m\u001b[0;34m:\u001b[0m\u001b[0;34m\u001b[0m\u001b[0m\n\u001b[1;32m    201\u001b[0m     \u001b[0;32mfor\u001b[0m \u001b[0ma\u001b[0m \u001b[0;32min\u001b[0m \u001b[0marrays\u001b[0m\u001b[0;34m:\u001b[0m\u001b[0;34m\u001b[0m\u001b[0m\n\u001b[0;32m--> 202\u001b[0;31m         \u001b[0;32mif\u001b[0m \u001b[0ma\u001b[0m\u001b[0;34m.\u001b[0m\u001b[0mndim\u001b[0m \u001b[0;34m<\u001b[0m \u001b[0;36m2\u001b[0m\u001b[0;34m:\u001b[0m\u001b[0;34m\u001b[0m\u001b[0m\n\u001b[0m\u001b[1;32m    203\u001b[0m             raise LinAlgError('%d-dimensional array given. Array must be '\n\u001b[1;32m    204\u001b[0m                     'at least two-dimensional' % a.ndim)\n",
      "\u001b[0;31mKeyboardInterrupt\u001b[0m: "
     ]
    }
   ],
   "source": [
    "print(\"Give log error delta\")\n",
    "error = float(input())\n",
    "itera = 0\n",
    "err_delta = 100.0\n",
    "while(itera<100):\n",
    "    new_mean_matrix = []\n",
    "    new_cov_matrix = []\n",
    "    new_mix = []\n",
    "    log_o = log_likelihood(data,mean_matrix,cov_matrix,mix,Nm,Ns,deg)\n",
    "#     print(mix)\n",
    "    for k in range(Nm):\n",
    "        meh = Nk(mix,data,mean_matrix,cov_matrix,Nm,k,Ns,deg)\n",
    "        temp1 = 0\n",
    "        temp2 = 0\n",
    "        temp3 = 0\n",
    "        for i in range(Ns):\n",
    "            temp1 = np.outer((data[i]-mean_matrix[k]),(data[i]-mean_matrix[k]))\n",
    "            temp2 += gam(mix,data,mean_matrix,cov_matrix,Nm,i,k,deg)*temp1\n",
    "            temp3 += gam(mix,data,mean_matrix,cov_matrix,Nm,i,k,deg)*data[i]\n",
    "        new_cov_matrix.append(temp2/meh)\n",
    "        new_mean_matrix.append(temp3/meh)\n",
    "        new_mix.append(meh/Ns)\n",
    "    mean_matrix = new_mean_matrix\n",
    "    cov_matrix = new_cov_matrix\n",
    "    mix = new_mix\n",
    "    log_n = log_likelihood(data,mean_matrix,cov_matrix,mix,Nm,Ns,deg)\n",
    "    err_delta = np.abs(log_o - log_n)\n",
    "#     print(\"### \",err_delta)\n",
    "    print(log_o)\n",
    "    itera += 1\n",
    "    if err_delta<error:\n",
    "        break"
   ]
  },
  {
   "cell_type": "code",
   "execution_count": null,
   "metadata": {},
   "outputs": [],
   "source": [
    "print(mix)\n",
    "print(mean_matrix)\n",
    "print(cov_matrix)"
   ]
  },
  {
   "cell_type": "code",
   "execution_count": null,
   "metadata": {},
   "outputs": [],
   "source": [
    "print(Mix)\n",
    "print(Mean)\n",
    "print(Cov)"
   ]
  }
 ],
 "metadata": {
  "kernelspec": {
   "display_name": "Python 3",
   "language": "python",
   "name": "python3"
  },
  "language_info": {
   "codemirror_mode": {
    "name": "ipython",
    "version": 3
   },
   "file_extension": ".py",
   "mimetype": "text/x-python",
   "name": "python",
   "nbconvert_exporter": "python",
   "pygments_lexer": "ipython3",
   "version": "3.7.0"
  }
 },
 "nbformat": 4,
 "nbformat_minor": 2
}
