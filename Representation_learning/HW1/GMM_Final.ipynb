{
 "cells": [
  {
   "cell_type": "code",
   "execution_count": 238,
   "metadata": {},
   "outputs": [],
   "source": [
    "import numpy as np"
   ]
  },
  {
   "cell_type": "code",
   "execution_count": 239,
   "metadata": {},
   "outputs": [
    {
     "name": "stdout",
     "output_type": "stream",
     "text": [
      "For the sake of verification, data was generated from a Gaussian Mixture\n",
      "Give degree of data for generation (in positive integers)\n",
      "2\n",
      "Number of modes for generation\n",
      "3\n",
      "Number of data points\n",
      "100\n"
     ]
    }
   ],
   "source": [
    "print(\"For the sake of verification, data was generated from a Gaussian Mixture\")\n",
    "print(\"Give degree of data for generation (in positive integers)\")\n",
    "deg = int(input())\n",
    "print(\"Number of modes for generation\")\n",
    "Nm = int(input())\n",
    "print(\"Number of data points\")\n",
    "Nspm = int(input())"
   ]
  },
  {
   "cell_type": "code",
   "execution_count": 240,
   "metadata": {},
   "outputs": [
    {
     "name": "stdout",
     "output_type": "stream",
     "text": [
      "[0.06060606060606061, 0.3333333333333333, 0.6060606060606061]\n"
     ]
    }
   ],
   "source": [
    "Ns = Nspm\n",
    "\n",
    "Mean = []\n",
    "Cov = []\n",
    "data = []\n",
    "Mix = np.linspace(10,100,Nm)\n",
    "Mix = Mix/np.sum(Mix)\n",
    "Mix = Mix.tolist()\n",
    "for i in range(Nm):\n",
    "    Mean.append(np.random.randint(1,10,deg))\n",
    "    temp = np.random.randint(2,9,(deg,deg))\n",
    "    Cov.append(np.matmul(temp,temp.T))\n",
    "for i in range(Nspm):\n",
    "    temp1 = 0\n",
    "    for j in range(Nm):\n",
    "        temp1 += Mix[j] * np.random.multivariate_normal(Mean[j],Cov[j],1)\n",
    "    data.append(temp1)\n",
    "data = np.array(data)\n",
    "data = data.reshape(Ns,deg)\n",
    "print(Mix)"
   ]
  },
  {
   "cell_type": "code",
   "execution_count": 241,
   "metadata": {},
   "outputs": [],
   "source": [
    "def gaus_mul_pdf(x,mean,cov,degree):\n",
    "    x = x.reshape((degree,1))\n",
    "    mean = mean.reshape((degree,1))\n",
    "    ph = np.matmul(np.matmul(((x-mean).T),np.linalg.inv(cov)),(x-mean))\n",
    "    temp = np.exp((-0.5)*ph)/np.sqrt((2*np.pi*np.linalg.det(cov)))\n",
    "    temp = np.asscalar(temp)\n",
    "#     print(temp.shape)\n",
    "    return temp"
   ]
  },
  {
   "cell_type": "code",
   "execution_count": 242,
   "metadata": {},
   "outputs": [],
   "source": [
    "def gam(mix,data_matrix,mean_matrix,cov_matrix,Nm,i,k,degree):\n",
    "    temp = 0\n",
    "    for w in range(Nm):\n",
    "        temp = temp + mix[w]*gaus_mul_pdf(data_matrix[i],mean_matrix[w],cov_matrix[w],degree)\n",
    "    temp1 = mix[k]*gaus_mul_pdf(data_matrix[i],mean_matrix[k],cov_matrix[k],degree)/temp\n",
    "    return temp1"
   ]
  },
  {
   "cell_type": "code",
   "execution_count": 243,
   "metadata": {},
   "outputs": [],
   "source": [
    "def Nk(mix,data_matrix,mean_matrix,cov_matrix,Nm,k,Ns,degree):\n",
    "    temp = 0\n",
    "    for w in range(Ns):\n",
    "        temp = temp + gam(mix,data_matrix,mean_matrix,cov_matrix,Nm,w,k,degree)\n",
    "    return temp"
   ]
  },
  {
   "cell_type": "code",
   "execution_count": 244,
   "metadata": {},
   "outputs": [],
   "source": [
    "def log_likelihood(data,mean_matrix,cov_matrix,mix,deg,Ns):\n",
    "    temp = 0\n",
    "    temp1 = 0\n",
    "    for i in range(Ns):\n",
    "        for j in range(deg):\n",
    "            temp += mix[j]*gaus_mul_pdf(data[i],mean_matrix[j],cov_matrix[j],deg)\n",
    "        temp1 += np.log(np.array(temp))\n",
    "#     print(temp1)\n",
    "    return temp1"
   ]
  },
  {
   "cell_type": "code",
   "execution_count": 245,
   "metadata": {},
   "outputs": [],
   "source": [
    "### Initial Parameter setting\n",
    "# mix = np.full((1,Nm),1/Nm)\n",
    "mix = []\n",
    "cov_matrix = []\n",
    "mean_matrix = []\n",
    "for i in range(Nm):\n",
    "    mean_matrix.append(np.random.randint(1,10,deg))\n",
    "    temp = (np.random.randint(1,10,(deg,deg)))\n",
    "    cov_matrix.append(np.matmul(temp,temp.T))\n",
    "    mix.append(float(1.0/Nm))"
   ]
  },
  {
   "cell_type": "code",
   "execution_count": 246,
   "metadata": {},
   "outputs": [
    {
     "data": {
      "text/plain": [
       "-197.56241932206342"
      ]
     },
     "execution_count": 246,
     "metadata": {},
     "output_type": "execute_result"
    }
   ],
   "source": [
    "# cov_matrix[0]\n",
    "log_likelihood(data,mean_matrix,cov_matrix,mix,deg,Ns)"
   ]
  },
  {
   "cell_type": "code",
   "execution_count": 247,
   "metadata": {
    "scrolled": true
   },
   "outputs": [
    {
     "name": "stdout",
     "output_type": "stream",
     "text": [
      "Give log error delta\n",
      "1e-6\n",
      "-197.56241932206342\n",
      "-109.75443777620303\n",
      "-101.15617929526474\n",
      "-101.73842785158621\n",
      "-102.33094281173301\n",
      "-102.75881565595036\n",
      "-103.06482806820436\n",
      "-103.2884364633622\n",
      "-103.4576068507747\n",
      "-103.59045654349639\n",
      "-103.69804067369671\n",
      "-103.78660243987039\n",
      "-103.85915689278555\n",
      "-103.9165763279632\n",
      "-103.95834055866445\n",
      "-103.9830632485226\n",
      "-103.98886637070997\n",
      "-103.97365430021802\n",
      "-103.93532981521135\n",
      "-103.87198917240042\n",
      "-103.78212828987617\n",
      "-103.66488502264056\n",
      "-103.52033192041831\n",
      "-103.34981687795512\n",
      "-103.15632186331294\n",
      "-102.94477070393567\n",
      "-102.7221735030671\n",
      "-102.49747422094973\n",
      "-102.28101240649086\n",
      "-102.08364285106714\n",
      "-101.91571677973621\n",
      "-101.78617436502948\n",
      "-101.701871266305\n",
      "-101.66711415273504\n",
      "-101.68338506519977\n",
      "-101.7493177970339\n",
      "-101.860964088508\n",
      "-102.01224549501677\n",
      "-102.19536472883185\n",
      "-102.40092269267988\n",
      "-102.61753144221507\n",
      "-102.83085027680272\n",
      "-103.02252996021394\n",
      "-103.1716147532341\n",
      "-103.26553761510212\n",
      "-103.3235757907342\n",
      "-103.39144118612765\n",
      "-103.4869771755467\n",
      "-103.59020284710942\n",
      "-103.660354824737\n",
      "-103.64295458702368\n",
      "-103.48474760365339\n",
      "-103.38361378157326\n",
      "-103.33596115956252\n",
      "-103.30883919780058\n",
      "-103.29958532321379\n",
      "-103.30073855516918\n",
      "-103.30717974445702\n",
      "-103.31605362772962\n",
      "-103.32580963463596\n",
      "-103.33562713908043\n",
      "-103.34509294397422\n",
      "-103.35402007483866\n",
      "-103.36234545563116\n",
      "-103.37007204808943\n",
      "-103.37723622306959\n",
      "-103.38388949160725\n",
      "-103.3900884125643\n",
      "-103.39588915289366\n",
      "-103.40134469061259\n",
      "-103.40650351306259\n",
      "-103.41140915421319\n",
      "-103.41610019463259\n",
      "-103.42061050755825\n",
      "-103.4249696261787\n",
      "-103.4292031601629\n",
      "-103.4333332203056\n",
      "-103.43737882828054\n",
      "-103.44135629925903\n",
      "-103.44527959157851\n",
      "-103.44916062150082\n",
      "-103.45300954337405\n",
      "-103.45683499684554\n",
      "-103.4606443234795\n",
      "-103.46444375547583\n",
      "-103.46823857929023\n",
      "-103.4720332769047\n",
      "-103.4758316473611\n",
      "-103.47963691098627\n",
      "-103.48345179852372\n",
      "-103.48727862716704\n",
      "-103.49111936527532\n",
      "-103.49497568734544\n",
      "-103.49884902062232\n",
      "-103.50274058455362\n",
      "-103.50665142414009\n",
      "-103.51058243808423\n",
      "-103.51453440252162\n",
      "-103.51850799100193\n",
      "-103.52250379130088\n"
     ]
    }
   ],
   "source": [
    "print(\"Give log error delta\")\n",
    "error = float(input())\n",
    "itera = 0\n",
    "err_delta = 100.0\n",
    "while(itera<100):\n",
    "    new_mean_matrix = []\n",
    "    new_cov_matrix = []\n",
    "    new_mix = []\n",
    "    log_o = log_likelihood(data,mean_matrix,cov_matrix,mix,deg,Ns)\n",
    "#     print(mix)\n",
    "    for k in range(Nm):\n",
    "        meh = Nk(mix,data,mean_matrix,cov_matrix,Nm,k,Ns,deg)\n",
    "        temp1 = 0\n",
    "        temp2 = 0\n",
    "        temp3 = 0\n",
    "        for i in range(Ns):\n",
    "            temp1 = np.outer((data[i]-mean_matrix[k]),(data[i]-mean_matrix[k]))\n",
    "            temp2 += gam(mix,data,mean_matrix,cov_matrix,Nm,i,k,deg)*temp1\n",
    "            temp3 += gam(mix,data,mean_matrix,cov_matrix,Nm,i,k,deg)*data[i]\n",
    "        new_cov_matrix.append(temp2/meh)\n",
    "        new_mean_matrix.append(temp3/meh)\n",
    "        new_mix.append(meh/Ns)\n",
    "    mean_matrix = new_mean_matrix\n",
    "    cov_matrix = new_cov_matrix\n",
    "    mix = new_mix\n",
    "    log_n = log_likelihood(data,mean_matrix,cov_matrix,mix,deg,Ns)\n",
    "    err_delta = np.abs(log_o - log_n)\n",
    "#     print(\"### \",err_delta)\n",
    "    print(log_o)\n",
    "    itera += 1\n",
    "    if err_delta<error:\n",
    "        break"
   ]
  },
  {
   "cell_type": "code",
   "execution_count": 248,
   "metadata": {},
   "outputs": [
    {
     "name": "stdout",
     "output_type": "stream",
     "text": [
      "[0.6118270201556669, 0.0369040641786927, 0.3512689156656401]\n",
      "[array([6.71043249, 9.52124662]), array([ 2.49696351, 12.53103327]), array([-0.38139597,  2.32486415])]\n",
      "[array([[20.65239374, 15.34909121],\n",
      "       [15.34909121, 16.80797957]]), array([[70.88354513, 63.10056258],\n",
      "       [63.10056258, 56.25795188]]), array([[ 9.08349893,  8.03279183],\n",
      "       [ 8.03279183, 13.7800045 ]])]\n"
     ]
    }
   ],
   "source": [
    "print(mix)\n",
    "print(mean_matrix)\n",
    "print(cov_matrix)"
   ]
  }
 ],
 "metadata": {
  "kernelspec": {
   "display_name": "Python 3",
   "language": "python",
   "name": "python3"
  },
  "language_info": {
   "codemirror_mode": {
    "name": "ipython",
    "version": 2
   },
   "file_extension": ".py",
   "mimetype": "text/x-python",
   "name": "python",
   "nbconvert_exporter": "python",
   "pygments_lexer": "ipython2",
   "version": "2.7.15rc1"
  }
 },
 "nbformat": 4,
 "nbformat_minor": 2
}
