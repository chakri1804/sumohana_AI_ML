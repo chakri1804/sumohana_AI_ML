{
 "cells": [
  {
   "cell_type": "code",
   "execution_count": 14,
   "metadata": {},
   "outputs": [],
   "source": [
    "import numpy as np\n",
    "X_train = np.load(\"reshaped_14.npy\")"
   ]
  },
  {
   "cell_type": "code",
   "execution_count": 15,
   "metadata": {},
   "outputs": [],
   "source": [
    "hidden_nodes = 225\n",
    "epochs = 100\n",
    "lr = 1e-4\n",
    "input_size = 196\n",
    "X = X_train.reshape(60000,input_size)\n",
    "X = X/255.0\n",
    "samples = 60000\n",
    "Lambda = 1\n",
    "s = 0.05\n",
    "# defining functions\n",
    "\n",
    "def sigm(x):\n",
    "    return 1/(1+np.exp(-x))\n",
    "\n",
    "def diff_sigm(x):\n",
    "    return (sigm(x)-(sigm(x)**2))\n",
    "\n",
    "def layer(x,W,b):\n",
    "    return (np.matmul(W.T,x.reshape(len(x),1)) + b)\n",
    "\n",
    "W1 = np.random.normal(1e-5,1,(input_size,hidden_nodes))\n",
    "Bi1 = np.random.normal(1e-5,1,(hidden_nodes,1))\n",
    "W2 = np.random.normal(1e-5,1,(hidden_nodes,input_size))\n",
    "Bi2 = np.random.normal(1e-5,1,(input_size,1))"
   ]
  },
  {
   "cell_type": "code",
   "execution_count": 16,
   "metadata": {
    "scrolled": true
   },
   "outputs": [
    {
     "name": "stdout",
     "output_type": "stream",
     "text": [
      "1000157064.2151601\n",
      "561827517.632065\n",
      "517065805.45155793\n",
      "534283455.99885035\n",
      "515498708.1819097\n",
      "515466124.29700696\n",
      "518909092.034063\n",
      "515663914.8071559\n",
      "522035834.63924336\n",
      "506999394.13675886\n",
      "507291128.04871994\n",
      "507015033.0279594\n",
      "507014056.08747447\n",
      "507013086.73815507\n",
      "507011911.76032937\n",
      "507010170.4413524\n",
      "507006943.4297665\n",
      "506998479.8925212\n",
      "506948566.0470452\n",
      "500322302.16788125\n",
      "498317644.2323205\n",
      "498241585.7783126\n",
      "507012003.99948287\n",
      "507009976.32280356\n",
      "507005545.9413815\n",
      "506991128.2662191\n",
      "506847010.2266282\n",
      "498329792.94873554\n",
      "498327168.0844963\n",
      "498314761.8129931\n",
      "499115210.3416957\n",
      "498328852.23254985\n",
      "498323559.1750756\n",
      "498279241.0383174\n",
      "507016721.8984977\n",
      "507016745.11947614\n",
      "507016727.6003462\n",
      "507016687.64711374\n",
      "507016634.67174655\n",
      "507016573.5055355\n",
      "507016506.5604301\n",
      "507016434.9433218\n",
      "507016359.0369493\n",
      "507016278.8014867\n",
      "507016193.92683387\n",
      "507016103.9030355\n",
      "507016008.0437154\n",
      "507015905.47975945\n",
      "507015795.1305777\n",
      "507015675.6542584\n",
      "507015545.3728546\n",
      "507015402.1645307\n",
      "507015243.30742395\n",
      "507015065.25026435\n",
      "507014863.26675695\n",
      "507014630.919296\n",
      "507014359.1962179\n",
      "507014035.0632619\n",
      "507013638.9034735\n",
      "507013139.70023924\n",
      "507012485.2380849\n",
      "507011580.0766336\n",
      "507010229.0422271\n",
      "507007962.9768064\n",
      "507003330.7024151\n",
      "506989285.5833899\n",
      "506863855.5042627\n",
      "498308430.18371373\n",
      "498531048.98762023\n",
      "507000936.8364222\n",
      "506969466.8094837\n",
      "505833050.09386396\n",
      "498332871.6908008\n",
      "498332709.53941953\n",
      "498332600.2863658\n",
      "498332519.111047\n",
      "498332452.4032574\n",
      "498332392.82355183\n",
      "498332336.42510635\n",
      "498332281.06007105\n",
      "498332225.5189898\n",
      "498332169.07082397\n",
      "498332111.2167004\n",
      "498332051.55538005\n",
      "498331989.7058419\n",
      "498331925.25683993\n",
      "498331857.72644466\n",
      "498331786.52026296\n",
      "498331710.878571\n",
      "498331629.80073947\n",
      "498331541.9290699\n",
      "498331445.36034757\n",
      "498331337.3249033\n",
      "498331213.60940176\n",
      "498331067.4499404\n",
      "498330887.23606503\n",
      "498330651.24788254\n",
      "498330313.8931573\n",
      "498329762.4825532\n",
      "498328638.4801077\n"
     ]
    }
   ],
   "source": [
    "for i in range(epochs):\n",
    "    loss = 0\n",
    "    w1 = np.zeros(W1.shape)\n",
    "    b1 = np.zeros(Bi1.shape)\n",
    "    w2 = np.zeros(W2.shape)\n",
    "    b2 = np.zeros(Bi2.shape)\n",
    "    S  = np.zeros(W1.shape)\n",
    "    Zm = Zd = Zdb = 0\n",
    "    ZmM = np.zeros(W1.shape)\n",
    "    for j in range(samples):\n",
    "        #forward path\n",
    "        out1 = layer(X[j],W1,Bi1)\n",
    "        z = sigm(out1)\n",
    "        out2 = layer(z,W2,Bi2)\n",
    "        y = sigm(out2)\n",
    "        # Backprop\n",
    "        temp = 2*(y-X[j].reshape(np.shape(y)))*diff_sigm(out2)\n",
    "        b2 += temp\n",
    "        w2 += np.matmul(z,temp.T)\n",
    "        loss += np.linalg.norm(y-X[j])**2\n",
    "        S = np.random.binomial(1,s,(hidden_nodes,1))\n",
    "        Z = z/samples\n",
    "        ge = (-S/Z + (1-S)/(1-Z))\n",
    "#         print(out1.shape, ge.shape)\n",
    "        temp2 = np.multiply(diff_sigm(out1),((Lambda/samples)*(ge) - np.sum(temp)))\n",
    "        b1 += temp2\n",
    "        w1 += np.matmul(X[j].reshape(input_size,1),temp2.T)\n",
    "    print(loss)\n",
    "    W1 -= lr*w1\n",
    "    W2 -= lr*w2\n",
    "    Bi1 -= lr*b1\n",
    "    Bi2 -= lr*b2\n"
   ]
  },
  {
   "cell_type": "code",
   "execution_count": 4,
   "metadata": {},
   "outputs": [],
   "source": [
    "import matplotlib.pyplot as plt"
   ]
  },
  {
   "cell_type": "code",
   "execution_count": 5,
   "metadata": {},
   "outputs": [
    {
     "data": {
      "text/plain": [
       "<matplotlib.image.AxesImage at 0x7fe7e8b9b3d0>"
      ]
     },
     "execution_count": 5,
     "metadata": {},
     "output_type": "execute_result"
    },
    {
     "data": {
      "image/png": "[encoded data removed]",
      "text/plain": [
       "<Figure size 432x288 with 1 Axes>"
      ]
     },
     "metadata": {
      "needs_background": "light"
     },
     "output_type": "display_data"
    }
   ],
   "source": [
    "plt.imshow(X_train[100])"
   ]
  },
  {
   "cell_type": "code",
   "execution_count": 12,
   "metadata": {},
   "outputs": [
    {
     "data": {
      "text/plain": [
       "<matplotlib.image.AxesImage at 0x7fe7e881db10>"
      ]
     },
     "execution_count": 12,
     "metadata": {},
     "output_type": "execute_result"
    },
    {
     "data": {
      "image/png": "[encoded data removed]",
      "text/plain": [
       "<Figure size 432x288 with 1 Axes>"
      ]
     },
     "metadata": {
      "needs_background": "light"
     },
     "output_type": "display_data"
    }
   ],
   "source": [
    "out1 = layer(X[51],W1,Bi1)\n",
    "z = sigm(out1)\n",
    "out2 = layer(z,W2,Bi2)\n",
    "y1 = sigm(out2)\n",
    "y1 = y.reshape(14,14)\n",
    "plt.imshow(y1)"
   ]
  },
  {
   "cell_type": "code",
   "execution_count": 11,
   "metadata": {},
   "outputs": [
    {
     "data": {
      "text/plain": [
       "<matplotlib.image.AxesImage at 0x7fe7e88293d0>"
      ]
     },
     "execution_count": 11,
     "metadata": {},
     "output_type": "execute_result"
    },
    {
     "data": {
      "image/png": "[encoded data removed]",
      "text/plain": [
       "<Figure size 432x288 with 1 Axes>"
      ]
     },
     "metadata": {
      "needs_background": "light"
     },
     "output_type": "display_data"
    }
   ],
   "source": [
    "out1 = layer(X[551],W1,Bi1)\n",
    "z = sigm(out1)\n",
    "out2 = layer(z,W2,Bi2)\n",
    "y = sigm(out2)\n",
    "y = y.reshape(14,14)\n",
    "plt.imshow(y)"
   ]
  },
  {
   "cell_type": "code",
   "execution_count": 13,
   "metadata": {},
   "outputs": [
    {
     "data": {
      "text/plain": [
       "<matplotlib.image.AxesImage at 0x7fe7e8790950>"
      ]
     },
     "execution_count": 13,
     "metadata": {},
     "output_type": "execute_result"
    },
    {
     "data": {
      "image/png": "[encoded data removed]",
      "text/plain": [
       "<Figure size 432x288 with 1 Axes>"
      ]
     },
     "metadata": {
      "needs_background": "light"
     },
     "output_type": "display_data"
    }
   ],
   "source": [
    "plt.imshow(y-y1)"
   ]
  }
 ],
 "metadata": {
  "kernelspec": {
   "display_name": "Python 3",
   "language": "python",
   "name": "python3"
  },
  "language_info": {
   "codemirror_mode": {
    "name": "ipython",
    "version": 2
   },
   "file_extension": ".py",
   "mimetype": "text/x-python",
   "name": "python",
   "nbconvert_exporter": "python",
   "pygments_lexer": "ipython2",
   "version": "2.7.15rc1"
  }
 },
 "nbformat": 4,
 "nbformat_minor": 2
}
